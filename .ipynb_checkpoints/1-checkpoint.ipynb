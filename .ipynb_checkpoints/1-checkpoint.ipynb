{
 "cells": [
  {
   "cell_type": "markdown",
   "id": "3b304630-00f8-4046-a170-e74faafccf44",
   "metadata": {},
   "source": [
    "<h1 style=\"text-align:center; color:#005bbd; font-size:20px; font-family:Sans-serif; font-style: oblique; text-shadow: 0 0 3px white, 0 0 1px Black;\">\n",
    "   What is Statistics?\n",
    "</h1>"
   ]
  },
  {
   "cell_type": "markdown",
   "id": "7a8dd01d-bc54-4566-9c28-5d672df97f1a",
   "metadata": {},
   "source": [
    "<img src=\"./images/1.jpg\" style=\"width: 75%; display: block; margin-left: auto; margin-right: auto;\">"
   ]
  },
  {
   "cell_type": "markdown",
   "id": "f3fe2fe5-2788-4485-956f-0479ff7063e5",
   "metadata": {},
   "source": [
    "<body style=\"font-family: Sans-serif;\">\n",
    "    <div style=\"color: black; font-size: 18px; font-style: oblique; text-shadow: 0 0 3px white, 0 0 1px black; padding: 20px;\">\n",
    "       <p>Statistics ek branch of mathematics hai jo data ki collection, analysis, interpretation, presentation, aur organization se deal karti hai.<br>Iska basic maqsad data ko samajhna, patterns identify karna, aur us se meaningful conclusions draw karna hota hai.\n",
    "</div>\n",
    "</body>"
   ]
  },
  {
   "cell_type": "markdown",
   "id": "c67a46b9-6a35-4ce0-9c42-dbc8016e156c",
   "metadata": {
    "tags": []
   },
   "source": [
    "<h1 style=\"text-align:center; color:#005bbd; font-size:20px; font-family:Sans-serif; font-style: oblique; text-shadow: 0 0 3px white, 0 0 1px Black;\">\n",
    "   Pillars of Statistics\n",
    "</h1>"
   ]
  },
  {
   "cell_type": "markdown",
   "id": "b73a7bf0-3f79-4512-8a76-c3f8056e79b6",
   "metadata": {},
   "source": [
    "<body style=\"font-family: Sans-serif;\">\n",
    "    <div style=\"color: black; font-size: 18px; font-style: oblique; text-shadow: 0 0 3px white, 0 0 1px black; padding: 20px;\">\n",
    "       <p>Statistics ke 4 main pillars hain jo data analysis aur decision-making me madad detay hain\n"
   ]
  },
  {
   "cell_type": "markdown",
   "id": "fe4363ea-14d3-4412-8dcc-3d698ea663bf",
   "metadata": {
    "tags": []
   },
   "source": [
    "<body style=\"font-family: Sans-serif;\">\n",
    "    <div style=\"color: black; font-size: 18px; font-style: oblique; text-shadow: 0 0 3px white, 0 0 1px black; padding: 20px;\">\n",
    "            <u>1 Data Collection:</u>\n",
    "        <ul><img src=\"./images/2.jpg\" style=\"width: 100%; display: block; margin-left: auto; margin-right: auto;\"><br>\n",
    "               <ul>\n",
    "                   Accurate aur reliable statistics ke liye data ka sahi collection zaroori hota hai.<br>Methods: Surveys, experiments, observations, interviews, etc.<br>Example: Kisi sheher me logon ki income ka survey karna"
   ]
  },
  {
   "cell_type": "markdown",
   "id": "7818028b-2267-41f9-b856-7b1588ab5059",
   "metadata": {},
   "source": [
    "<body style=\"font-family: Sans-serif;\">\n",
    "    <div style=\"color: black; font-size: 18px; font-style: oblique; text-shadow: 0 0 3px white, 0 0 1px black; padding: 20px;\">\n",
    "            <u>2 Data Organization & Presentation</u>\n",
    "            <ul><img src=\"./images/3.jpg\" style=\"width: 100%; display: block; margin-left: auto; margin-right: auto;\"><br>\n",
    "                Raw data ko understandable format me convert karna.<br>\n",
    "                Techniques: Tables, graphs (histograms, pie charts, bar graphs), aur frequency distributions.<br>\n",
    "Example: School ke students ke marks ko ek table ya graph ki form me dikhana.<br><br>\n",
    "            </ul>"
   ]
  },
  {
   "cell_type": "markdown",
   "id": "7b67dd44-c782-4b0a-8c2d-3643ba3b7ea8",
   "metadata": {},
   "source": [
    "<body style=\"font-family: Sans-serif;\">\n",
    "    <div style=\"color: black; font-size: 18px; font-style: oblique; text-shadow: 0 0 3px white, 0 0 1px black; padding: 20px;\">\n",
    "            <u>3 Data Analysis</u>\n",
    "            <ul><img src=\"./images/4.jpg\" style=\"width: 100%; display: block; margin-left: auto; margin-right: auto;\"><br>\n",
    "            Data ka study karna aur patterns ya trends find karna.<br>\n",
    "            Types:<ul>\n",
    "                <li>Descriptive Statistics (Mean, Median, Mode, Standard Deviation, etc)</li>\n",
    "                <li>Inferential Statistics (Hypothesis Testing, Confidence Intervals, etc)</li>\n",
    "                </ul>\n",
    "            Example: Kisi restaurant ka monthly customer flow analyze karna aur future me uska trend predict karna.\n",
    "            </ul>"
   ]
  },
  {
   "cell_type": "markdown",
   "id": "d218ae85-3670-45ec-9d7e-164294da9115",
   "metadata": {
    "tags": []
   },
   "source": [
    "<body style=\"font-family: Sans-serif;\">\n",
    "    <div style=\"color: black; font-size: 18px; font-style: oblique; text-shadow: 0 0 3px white, 0 0 1px black; padding: 20px;\">\n",
    "             <u>4 Data Interpretation & Decision-Making</u>\n",
    "            <ul><img src=\"./images/5.jpg\" style=\"width: 100%; display: block; margin-left: auto; margin-right: auto;\"><br>\n",
    "                Jo analysis (result) hota hai us se Mazeed Result nikalna.<br>\n",
    "                Use Cases:<ul>\n",
    "                <li>Business me marketing strategy banane ke liye.</li>\n",
    "                <li>Science me experiments ka conclusion draw karne ke liye.</li>\n",
    "                <li>Finance me stock market ka risk assess karne ke liye.</li>\n",
    "                </ul>\n",
    "            Example: Cricket team ka performance data analyze karke next match ki strategy banani.</ul>"
   ]
  },
  {
   "cell_type": "markdown",
   "id": "f02dd7f7-128d-47dc-bd6f-ae7b080eb802",
   "metadata": {},
   "source": [
    "<h1 style=\"text-align:center; color:#005bbd; font-size:20px; font-family:Sans-serif; font-style: oblique; text-shadow: 0 0 3px white, 0 0 1px Black;\">\n",
    "   Level / Scales of Measurement\n",
    "</h1>"
   ]
  },
  {
   "cell_type": "markdown",
   "id": "a22204d3-ce46-4d02-96d2-7d24bcfadee5",
   "metadata": {},
   "source": [
    "<body style=\"font-family: Sans-serif;\">\n",
    "    <div style=\"color: black; font-size: 18px; font-style: oblique; text-shadow: 0 0 3px white, 0 0 1px black; padding: 20px;\">\n",
    "        <p>Scales of Measurement ka matlab hota hai data kis tareeke se measure kiya jata hai</p> \n",
    "        <ul>Statistics me 4 types ke measurement scales hote hain:<br><br>\n"
   ]
  },
  {
   "cell_type": "markdown",
   "id": "eef67943-f2a2-4cfe-b51a-83f14d9cfad0",
   "metadata": {},
   "source": [
    "<body style=\"font-family: Sans-serif;\">\n",
    "    <div style=\"color: black; font-size: 18px; font-style: oblique; text-shadow: 0 0 3px white, 0 0 1px black; padding: 20px;\">\n",
    "        <ul>1 Nominal Scale:\n",
    "            <ul><img src=\"./images/6.jpg\" style=\"width: 80%; display: block; margin-left: auto; margin-right: auto;\"><br>\n",
    "            <ul>Sirf Categories, Koi Order Nahi\n",
    "            <ul>Red, Blue, Green → Koi order nahi, ye sirf colors hain</ul></li><br>\n"
   ]
  },
  {
   "cell_type": "markdown",
   "id": "162bd5ef-f98e-4750-887c-6f50fd1b86d5",
   "metadata": {},
   "source": [
    "<body style=\"font-family: Sans-serif;\">\n",
    "    <div style=\"color: black; font-size: 18px; font-style: oblique; text-shadow: 0 0 3px white, 0 0 1px black; padding: 20px;\">\n",
    "        <ul>2 Ordinal Scale:\n",
    "            <ul><img src=\"./images/7.jpg\" style=\"width: 80%; display: block; margin-left: auto; margin-right: auto;\"><br>\n",
    "            <ul>Order Hai, Magar Differences Meaningful Nahi\n",
    "            <ul>Poor aur Excellent ka difference number me nahi bata sakte.<br>Ranking to hai lekin unka numerical difference properly define nahi hai<br>Lekin ye sure hai ke Excellent rating, Poor se better hai</ul><br>\n",
    "                </li>\n"
   ]
  },
  {
   "cell_type": "markdown",
   "id": "438a0995-9303-4ea4-8b31-95156f78d47f",
   "metadata": {},
   "source": [
    "<body style=\"font-family: Sans-serif;\">\n",
    "    <div style=\"color: black; font-size: 18px; font-style: oblique; text-shadow: 0 0 3px white, 0 0 1px black; padding: 20px;\">\n",
    "        <ul>3 Interval Scale:\n",
    "            <ul><img src=\"./images/8.jpg\" style=\"width: 80%; display: block; margin-left: auto; margin-right: auto;\"><br>\n",
    "            <ul>Order + Meaningful Difference Hai, Magar True Zero Nahi\n",
    "            <ul>Order (Data ko chhota ya bada arrange kar sakte hain)<br>Meaningful difference (Categories ke darmiyan numerical difference proper hota hai)<br>True Zero nahi hota (Zero ka matlab \"nothing\" nahi hota, balki wo bas ek reference point hota hai) </ul><br>\n",
    "                </li>\n"
   ]
  },
  {
   "cell_type": "markdown",
   "id": "026ea41d-2ac1-40e4-9c38-01c3eedc7994",
   "metadata": {},
   "source": [
    "<body style=\"font-family: Sans-serif;\">\n",
    "    <div style=\"color: black; font-size: 18px; font-style: oblique; text-shadow: 0 0 3px white, 0 0 1px black; padding: 20px;\">\n",
    "        <ul>4 Ratio Scale:\n",
    "            <ul><img src=\"./images/9.jpg\" style=\"width: 80%; display: block; margin-left: auto; margin-right: auto;\"><br>\n",
    "            <ul>Order hota hai → Chhota ya bada arrange kar sakte hain.\n",
    "            <ul>Meaningful Difference hota hai → Difference ka proper mathematical meaning hota hai.<br>True Zero hota hai → Zero ka matlab bilkul kuch bhi nahi (nothingness) hota hai. </ul><br>\n",
    "                </li>\n"
   ]
  },
  {
   "cell_type": "markdown",
   "id": "d9e89930-e462-4d4e-82ef-096cd4355fba",
   "metadata": {
    "tags": []
   },
   "source": [
    "<body style=\"font-family: Sans-serif;\">\n",
    "    <div style=\"color: black; font-size: 18px; font-style: oblique; text-shadow: 0 0 3px white, 0 0 1px black; padding: 20px;\">\n",
    "        <p>Scales of Measurement ka matlab hota hai data kis tareeke se measure kiya jata hai</p> \n",
    "        <ul>Statistics me 4 types ke measurement scales hote hain:<br><br>\n",
    "            <ol>\n",
    "        <li>Nominal Scale → Sirf Categories, Koi Order Nahi\n",
    "            <ul><li>Red, Blue, Green\" → Koi order nahi, ye sirf colors hain</ul></li><br>\n",
    "        <li>Ordinal Scale → Order Hai, Magar Differences Meaningful Nahi\n",
    "            <ul><li>Poor aur Excellent ka difference number me nahi bata sakte.<br><li>Ranking to hai lekin unka numerical difference properly define nahi hai<br><li>Lekin ye sure hai ke Excellent rating, Poor se better hai</ul><br>\n",
    "                </li>\n",
    "        <li>Interval Scale → Order + Meaningful Difference Hai, Magar True Zero Nahi\n",
    "            <ul><li>Order (Data ko chhota ya bada arrange kar sakte hain)<br>\n",
    "                <li>Meaningful difference (Categories ke darmiyan numerical difference proper hota hai)<br><li>True Zero nahi hota (Zero ka matlab \"nothing\" nahi hota, balki wo bas ek reference point hota hai)\n",
    "            </ul>\n",
    "                </li><br>\n",
    "    <li>Ratio Scale → Order + Meaningful Difference + True Zero Bhi Hai\n",
    "        <ul>\n",
    "            <li>Order hota hai → Chhota ya bada arrange kar sakte hain.<br>\n",
    "                <li>Meaningful Difference hota hai → Difference ka proper mathematical meaning hota hai.<br>\n",
    "            <li>True Zero hota hai → Zero ka matlab bilkul kuch bhi nahi (nothingness) hota hai.\n",
    "        </ul></li>\n",
    "            </ol>\n",
    "        </ul>\n",
    "\n",
    "</div>\n",
    "</body>"
   ]
  },
  {
   "cell_type": "markdown",
   "id": "a99c85e1-7b80-4409-adda-f40a981e4e07",
   "metadata": {},
   "source": [
    "<h1 style=\"text-align:center; color:#005bbd; font-size:20px; font-family:Sans-serif; font-style: oblique; text-shadow: 0 0 3px white, 0 0 1px Black;\">\n",
    "   Data Types\n",
    "</h1>"
   ]
  },
  {
   "cell_type": "markdown",
   "id": "1892e7a1-9ab2-44ac-b837-5024a2f00d82",
   "metadata": {},
   "source": [
    "<body style=\"font-family: Sans-serif;\">\n",
    "    <div style=\"color: black; font-size: 18px; font-style: oblique; text-shadow: 0 0 3px white, 0 0 1px black; padding: 20px;\">\n",
    "        <h4>Qualitative Data (Categorical Data)</h4>\n",
    "        <ul>\n",
    "            <li>Yeh numbers nahi balki categories hoti hain.</li>\n",
    "            <li>Isko count kiya ja sakta hai, magar mathematical operations (addition, subtraction) nahi kar sakte.</li>\n",
    "            <li>Sirf labels ya groups define karta hai.</li>\n",
    "            <br>\n",
    "            Subtypes of Qualitative Data:\n",
    "            <ul><img src=\"./images/10.jpg\" style=\"width: 80%; display: block; margin-left: auto; margin-right: auto;\"><br>\n",
    "            <ul><hr>\n",
    "                <b>Nominal Scale (Sirf Categories, Koi Order Nahi)</b>\n",
    "                <ul>\n",
    "                    Yeh wo data hota hai jisme categories ka koi specific order nahi hota.<br>Mathematical Operations (comparison) nahi ho sakta\n",
    "        Examples:<ul>\n",
    "                    Colors: (Red, Blue, Green)<br>\n",
    "                    Cities: (Lahore, Karachi, Islamabad)<br>\n",
    "                    Fruits: (Apple, Banana, Mango)\n",
    "                </ul>\n",
    "            </ul><hr>\n",
    "                <b>Ordinal Scale (Order Hai, Magar Differences Meaningful Nahi)</b>\n",
    "                <ul>Isme ranking ya order hota hai, magar exact difference ka pata nahi chalta.<br>\n",
    "                    Mathematical Operations (Comparison) possible hy (e.g., Excellent > Poor) but Arithmetic operations not possible\n",
    "                    Example:<ul>\n",
    "    Education Level: (Primary, Secondary, Bachelor’s, Master’s, PhD)<br>\n",
    "    Ratings: (Poor, Average, Good, Excellent)<br>\n",
    "    Military Ranks: (Lieutenant, Captain, Major, Colonel)<br>\n",
    "                    </ul></ul><hr>\n",
    "        </ul>\n",
    "    </div>\n",
    "</body>\n"
   ]
  },
  {
   "cell_type": "code",
   "execution_count": 13,
   "id": "cdab12ad-23fc-4345-a5c1-dbf07d4b7200",
   "metadata": {
    "tags": []
   },
   "outputs": [
    {
     "data": {
      "text/html": [
       "<div>\n",
       "<style scoped>\n",
       "    .dataframe tbody tr th:only-of-type {\n",
       "        vertical-align: middle;\n",
       "    }\n",
       "\n",
       "    .dataframe tbody tr th {\n",
       "        vertical-align: top;\n",
       "    }\n",
       "\n",
       "    .dataframe thead th {\n",
       "        text-align: right;\n",
       "    }\n",
       "</style>\n",
       "<table border=\"1\" class=\"dataframe\">\n",
       "  <thead>\n",
       "    <tr style=\"text-align: right;\">\n",
       "      <th></th>\n",
       "      <th>Data</th>\n",
       "      <th>Type</th>\n",
       "      <th>Scale</th>\n",
       "      <th>Example</th>\n",
       "    </tr>\n",
       "  </thead>\n",
       "  <tbody>\n",
       "    <tr>\n",
       "      <th>0</th>\n",
       "      <td>Color</td>\n",
       "      <td>Nominal</td>\n",
       "      <td>No Order</td>\n",
       "      <td>Red Blue Green</td>\n",
       "    </tr>\n",
       "    <tr>\n",
       "      <th>1</th>\n",
       "      <td>Name</td>\n",
       "      <td>Nominal</td>\n",
       "      <td>No Order</td>\n",
       "      <td>Ali Sara John</td>\n",
       "    </tr>\n",
       "    <tr>\n",
       "      <th>2</th>\n",
       "      <td>City</td>\n",
       "      <td>Nominal</td>\n",
       "      <td>No Order</td>\n",
       "      <td>Lahore Karachi Paris</td>\n",
       "    </tr>\n",
       "    <tr>\n",
       "      <th>3</th>\n",
       "      <td>Education</td>\n",
       "      <td>Ordinal</td>\n",
       "      <td>Ordered</td>\n",
       "      <td>Primary Master PhD</td>\n",
       "    </tr>\n",
       "    <tr>\n",
       "      <th>4</th>\n",
       "      <td>Rating</td>\n",
       "      <td>Ordinal</td>\n",
       "      <td>Ordered</td>\n",
       "      <td>Good Bad Excellent</td>\n",
       "    </tr>\n",
       "    <tr>\n",
       "      <th>5</th>\n",
       "      <td>Rank</td>\n",
       "      <td>Ordinal</td>\n",
       "      <td>Ordered</td>\n",
       "      <td>Captain Major Colonel</td>\n",
       "    </tr>\n",
       "  </tbody>\n",
       "</table>\n",
       "</div>"
      ],
      "text/plain": [
       "        Data     Type     Scale                Example\n",
       "0      Color  Nominal  No Order         Red Blue Green\n",
       "1       Name  Nominal  No Order          Ali Sara John\n",
       "2       City  Nominal  No Order   Lahore Karachi Paris\n",
       "3  Education  Ordinal   Ordered     Primary Master PhD\n",
       "4     Rating  Ordinal   Ordered     Good Bad Excellent\n",
       "5       Rank  Ordinal   Ordered  Captain Major Colonel"
      ]
     },
     "execution_count": 13,
     "metadata": {},
     "output_type": "execute_result"
    }
   ],
   "source": [
    "import pandas as pd\n",
    "\n",
    "data = {\n",
    "    \"Data\": [\"Color\", \"Name\", \"City\", \"Education\", \"Rating\", \"Rank\"],\n",
    "    \"Type\": [\"Nominal\", \"Nominal\", \"Nominal\", \"Ordinal\", \"Ordinal\", \"Ordinal\"],\n",
    "    \"Scale\": [\"No Order\", \"No Order\", \"No Order\", \"Ordered\", \"Ordered\", \"Ordered\"],\n",
    "    \"Example\": [\"Red Blue Green\", \"Ali Sara John\", \"Lahore Karachi Paris\", \"Primary Master PhD\", \"Good Bad Excellent\", \"Captain Major Colonel\"]\n",
    "}\n",
    "\n",
    "df = pd.DataFrame(data)\n",
    "\n",
    "df"
   ]
  },
  {
   "cell_type": "code",
   "execution_count": 2,
   "id": "53072da4-5222-446f-b3d3-a46d23d55e7d",
   "metadata": {
    "tags": []
   },
   "outputs": [
    {
     "data": {
      "text/html": [
       "<div>\n",
       "<style scoped>\n",
       "    .dataframe tbody tr th:only-of-type {\n",
       "        vertical-align: middle;\n",
       "    }\n",
       "\n",
       "    .dataframe tbody tr th {\n",
       "        vertical-align: top;\n",
       "    }\n",
       "\n",
       "    .dataframe thead th {\n",
       "        text-align: right;\n",
       "    }\n",
       "</style>\n",
       "<table border=\"1\" class=\"dataframe\">\n",
       "  <thead>\n",
       "    <tr style=\"text-align: right;\">\n",
       "      <th></th>\n",
       "      <th>Education Level</th>\n",
       "      <th>Rating</th>\n",
       "      <th>Size</th>\n",
       "    </tr>\n",
       "  </thead>\n",
       "  <tbody>\n",
       "    <tr>\n",
       "      <th>0</th>\n",
       "      <td>Bachelor's</td>\n",
       "      <td>Good</td>\n",
       "      <td>Medium</td>\n",
       "    </tr>\n",
       "    <tr>\n",
       "      <th>1</th>\n",
       "      <td>PhD</td>\n",
       "      <td>Poor</td>\n",
       "      <td>Large</td>\n",
       "    </tr>\n",
       "    <tr>\n",
       "      <th>2</th>\n",
       "      <td>Master's</td>\n",
       "      <td>Excellent</td>\n",
       "      <td>Small</td>\n",
       "    </tr>\n",
       "    <tr>\n",
       "      <th>3</th>\n",
       "      <td>High School</td>\n",
       "      <td>Average</td>\n",
       "      <td>Medium</td>\n",
       "    </tr>\n",
       "  </tbody>\n",
       "</table>\n",
       "</div>"
      ],
      "text/plain": [
       "  Education Level     Rating    Size\n",
       "0      Bachelor's       Good  Medium\n",
       "1             PhD       Poor   Large\n",
       "2        Master's  Excellent   Small\n",
       "3     High School    Average  Medium"
      ]
     },
     "execution_count": 2,
     "metadata": {},
     "output_type": "execute_result"
    }
   ],
   "source": [
    "# Ordinal Data\n",
    "education_order = [\"High School\", \"Bachelor's\", \"Master's\", \"PhD\"]\n",
    "rating_order = [\"Poor\", \"Average\", \"Good\", \"Excellent\"]\n",
    "size_order = [\"Small\", \"Medium\", \"Large\"]\n",
    "\n",
    "data_ordinal = {\n",
    "    \"Education Level\": pd.Categorical([\"Bachelor's\", \"PhD\", \"Master's\", \"High School\"], categories=education_order, ordered=True),\n",
    "    \"Rating\": pd.Categorical([\"Good\", \"Poor\", \"Excellent\", \"Average\"], categories=rating_order, ordered=True),\n",
    "    \"Size\": pd.Categorical([\"Medium\", \"Large\", \"Small\", \"Medium\"], categories=size_order, ordered=True)\n",
    "}\n",
    "\n",
    "df_ordinal = pd.DataFrame(data_ordinal)\n",
    "df_ordinal"
   ]
  },
  {
   "attachments": {
    "bc88ea81-6926-4687-8c81-6546755fe3fb.png": {
     "image/png": "[encoded data removed]"
    }
   },
   "cell_type": "markdown",
   "id": "72c10422-7ad5-45bb-91d3-bc5052f4c9b5",
   "metadata": {},
   "source": [
    "![image.png](attachment:bc88ea81-6926-4687-8c81-6546755fe3fb.png)"
   ]
  },
  {
   "cell_type": "markdown",
   "id": "7b732f76-5f8b-460c-8d3f-1a81ec255a11",
   "metadata": {},
   "source": [
    "<body style=\"font-family: Sans-serif; background-color: #f8f9fa;\">\n",
    "    <div style=\"color: black; font-size: 18px; font-style: oblique; text-shadow: 0 0 3px white, 0 0 1px black; padding: 20px;\">\n",
    "        <h4 style=\"padding-bottom: 5px;\">Numerical Data (Quantitative) Data</h4>\n",
    "        <ul>\n",
    "            <li>Numerical data wo hota hai jo numbers aur measurable values hota hai.</li>\n",
    "            <br>\n",
    "            Subtypes of Quantitative Data:\n",
    "            <ul>\n",
    "                <hr>\n",
    "                <b>Discrete Data (Countable Integers)</b>\n",
    "                <ul><img src=\"./images/11.jpg\" style=\"width: 80%; display: block; margin-left: auto; margin-right: auto;\"><br>\n",
    "                <ul style=\"margin-left: 20px;\">\n",
    "                    <li>Whole numbers (integers) jo count kiye ja sakte hain, decimals nahi hotay.</li>\n",
    "                    <li>Mathematical Operations Allowed (Addition, Subtraction, etc)</li>\n",
    "                    <br>\n",
    "                    <b>Examples:</b>\n",
    "                    <ul style=\"margin-left: 20px;\">\n",
    "                        <li>Students in a class: (30, 40, 50)</li>\n",
    "                        <li>Goals in a football match: (1, 2, 3, 4)</li>\n",
    "                        <li>Cars in a parking lot: (10, 15, 20)</li>\n",
    "                    </ul>\n",
    "                    <br>\n",
    "                    <li>Interval Scale (Order + Meaningful Difference, Magar True Zero Nahi)</li>\n",
    "                    <li>Ratio Scale (Order + Meaningful Difference + True Zero)</li>\n",
    "                </ul>\n",
    "                <hr>\n",
    "                <b>Continuous Data (Measurable Values)</b>\n",
    "                    <ul><img src=\"./images/12.jpg\" style=\"width: 80%; display: block; margin-left: auto; margin-right: auto;\"><br>\n",
    "                <ul style=\"margin-left: 20px;\">\n",
    "                    <li>Infinite precision possible, decimals hotay hain, measurements hamesha approximate hoti hain.</li>\n",
    "                    <li>Mathematical Operations Allowed (Addition, Subtraction, etc)</li>\n",
    "                    <br>\n",
    "                    <b>Examples:</b>\n",
    "                    <ul style=\"margin-left: 20px;\">\n",
    "                        <li>Temperature: (36.6°C, 98.4°F)</li>\n",
    "                        <li>Height: (5.7 feet, 170.5 cm)</li>\n",
    "                        <li>Weight: (55.3 kg, 78.9 kg)</li>\n",
    "                        <li>Time: (2.45 seconds, 10.75 hours)</li>\n",
    "                    </ul>\n",
    "                    <br>\n",
    "                    <li>Interval Scale (Order + Meaningful Difference, Magar True Zero Nahi)</li>\n",
    "                    <li>Ratio Scale (Order + Meaningful Difference + True Zero)</li>\n",
    "                </ul>\n",
    "                <hr>\n",
    "            </ul>\n",
    "        </ul>\n",
    "    </div>\n",
    "</body>"
   ]
  },
  {
   "cell_type": "code",
   "execution_count": 14,
   "id": "74d18971-833f-40d7-a706-0483a64cb308",
   "metadata": {
    "tags": []
   },
   "outputs": [
    {
     "data": {
      "text/html": [
       "<div>\n",
       "<style scoped>\n",
       "    .dataframe tbody tr th:only-of-type {\n",
       "        vertical-align: middle;\n",
       "    }\n",
       "\n",
       "    .dataframe tbody tr th {\n",
       "        vertical-align: top;\n",
       "    }\n",
       "\n",
       "    .dataframe thead th {\n",
       "        text-align: right;\n",
       "    }\n",
       "</style>\n",
       "<table border=\"1\" class=\"dataframe\">\n",
       "  <thead>\n",
       "    <tr style=\"text-align: right;\">\n",
       "      <th></th>\n",
       "      <th>Data</th>\n",
       "      <th>Type</th>\n",
       "      <th>Scale</th>\n",
       "      <th>Example</th>\n",
       "    </tr>\n",
       "  </thead>\n",
       "  <tbody>\n",
       "    <tr>\n",
       "      <th>0</th>\n",
       "      <td>Students</td>\n",
       "      <td>Discrete</td>\n",
       "      <td>Ratio</td>\n",
       "      <td>30 40 50</td>\n",
       "    </tr>\n",
       "    <tr>\n",
       "      <th>1</th>\n",
       "      <td>Goals</td>\n",
       "      <td>Discrete</td>\n",
       "      <td>Ratio</td>\n",
       "      <td>1 2 3</td>\n",
       "    </tr>\n",
       "    <tr>\n",
       "      <th>2</th>\n",
       "      <td>Cars</td>\n",
       "      <td>Discrete</td>\n",
       "      <td>Ratio</td>\n",
       "      <td>10 15 20</td>\n",
       "    </tr>\n",
       "    <tr>\n",
       "      <th>3</th>\n",
       "      <td>Temp</td>\n",
       "      <td>Continuous</td>\n",
       "      <td>Interval</td>\n",
       "      <td>36.6 98.4</td>\n",
       "    </tr>\n",
       "    <tr>\n",
       "      <th>4</th>\n",
       "      <td>Height</td>\n",
       "      <td>Continuous</td>\n",
       "      <td>Ratio</td>\n",
       "      <td>5.7 170.5</td>\n",
       "    </tr>\n",
       "    <tr>\n",
       "      <th>5</th>\n",
       "      <td>Weight</td>\n",
       "      <td>Continuous</td>\n",
       "      <td>Ratio</td>\n",
       "      <td>55.3 78.9</td>\n",
       "    </tr>\n",
       "  </tbody>\n",
       "</table>\n",
       "</div>"
      ],
      "text/plain": [
       "       Data        Type     Scale    Example\n",
       "0  Students    Discrete     Ratio   30 40 50\n",
       "1     Goals    Discrete     Ratio      1 2 3\n",
       "2      Cars    Discrete     Ratio   10 15 20\n",
       "3      Temp  Continuous  Interval  36.6 98.4\n",
       "4    Height  Continuous     Ratio  5.7 170.5\n",
       "5    Weight  Continuous     Ratio  55.3 78.9"
      ]
     },
     "execution_count": 14,
     "metadata": {},
     "output_type": "execute_result"
    }
   ],
   "source": [
    "data = {\n",
    "    \"Data\": [\"Students\", \"Goals\", \"Cars\", \"Temp\", \"Height\", \"Weight\"],\n",
    "    \"Type\": [\"Discrete\", \"Discrete\", \"Discrete\", \"Continuous\", \"Continuous\", \"Continuous\"],\n",
    "    \"Scale\": [\"Ratio\", \"Ratio\", \"Ratio\", \"Interval\", \"Ratio\", \"Ratio\"],\n",
    "    \"Example\": [\"30 40 50\", \"1 2 3\", \"10 15 20\", \"36.6 98.4\", \"5.7 170.5\", \"55.3 78.9\"]\n",
    "}\n",
    "\n",
    "df = pd.DataFrame(data)\n",
    "df"
   ]
  },
  {
   "cell_type": "markdown",
   "id": "dde21943-fc71-40d6-92b2-1eb099ed6913",
   "metadata": {},
   "source": [
    "<body style=\"font-family: Sans-serif;\">\n",
    "    <div style=\"color: black; font-size: 18px; font-style: oblique; text-shadow: 0 0 3px white, 0 0 1px black; padding: 20px; text-align:center; border:4px double black;\">\n",
    "        <h4>Difference</h4>\n",
    "            \n",
    "| **Category**  | **Sub-Type**  | **Examples**  | **Scale** |\n",
    "|--------------|-------------|-----------------|-----------|\n",
    "| **Qualitative (Categorical) Data** | **Nominal** | Gender (Male, Female), Colour (Red, Blue), Nationality (Pakistani, Indian) | Koi Order Nahi |\n",
    "| **Qualitative (Categorical) Data** | **Ordinal** | Education Level (High School, Bachelor, Master), Customer Reviews (Poor, Good, Excellent) | Order Hai, Magar Differences Meaningful Nahi |\n",
    "| **Quantitative (Numerical) Data** | **Discrete (Ginny Jane Wale Integers)** | Class me students (30, 40), Parking me Cars (10, 20), Football goals (1, 2, 3) | **Ratio Scale** (True Zero Hai) |\n",
    "| **Quantitative (Numerical) Data** | **Continuous (Measurable Wali Cheezein)** | Height (5.7 feet), Weight (55.3 kg), Time (2.45 sec), Hear (98.4°F) | **Interval ya Ratio Scale** (Zero ho bhi sakta hai aur nahi bhi) |\n",
    "        \n",
    "<img src=\"./old/images/scale.png\" style=\"width: 60%; display: block; margin-left: auto; margin-right: auto;\">\n",
    "\n"
   ]
  }
 ],
 "metadata": {
  "kernelspec": {
   "display_name": "Python 3 (ipykernel)",
   "language": "python",
   "name": "python3"
  },
  "language_info": {
   "codemirror_mode": {
    "name": "ipython",
    "version": 3
   },
   "file_extension": ".py",
   "mimetype": "text/x-python",
   "name": "python",
   "nbconvert_exporter": "python",
   "pygments_lexer": "ipython3",
   "version": "3.10.12"
  }
 },
 "nbformat": 4,
 "nbformat_minor": 5
}
