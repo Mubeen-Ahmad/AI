import pandas as pd

data = {
    "Data": ["Color", "Name", "City", "Education", "Rating", "Rank"],
    "Type": ["Nominal", "Nominal", "Nominal", "Ordinal", "Ordinal", "Ordinal"],
    "Scale": ["No Order", "No Order", "No Order", "Ordered", "Ordered", "Ordered"],
    "Example": ["Red Blue Green", "Ali Sara John", "Lahore Karachi Paris", "Primary Master PhD", "Good Bad Excellent", "Captain Major Colonel"]
}

df = pd.DataFrame(data)

df


# Ordinal Data
education_order = ["High School", "Bachelor's", "Master's", "PhD"]
rating_order = ["Poor", "Average", "Good", "Excellent"]
size_order = ["Small", "Medium", "Large"]

data_ordinal = {
    "Education Level": pd.Categorical(["Bachelor's", "PhD", "Master's", "High School"], categories=education_order, ordered=True),
    "Rating": pd.Categorical(["Good", "Poor", "Excellent", "Average"], categories=rating_order, ordered=True),
    "Size": pd.Categorical(["Medium", "Large", "Small", "Medium"], categories=size_order, ordered=True)
}

df_ordinal = pd.DataFrame(data_ordinal)
df_ordinal


data = {
    "Data": ["Students", "Goals", "Cars", "Temp", "Height", "Weight"],
    "Type": ["Discrete", "Discrete", "Discrete", "Continuous", "Continuous", "Continuous"],
    "Scale": ["Ratio", "Ratio", "Ratio", "Interval", "Ratio", "Ratio"],
    "Example": ["30 40 50", "1 2 3", "10 15 20", "36.6 98.4", "5.7 170.5", "55.3 78.9"]
}

df = pd.DataFrame(data)
df
