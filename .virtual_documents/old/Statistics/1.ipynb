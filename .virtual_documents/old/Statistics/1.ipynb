import numpy as np
import pandas as pd


marks = [45, 55, 50, 50, 60, 70, 75, 45, 65]
ungroup_df = pd.DataFrame(marks,columns=["Marks"])
ungroup_df


marks_intervals = [(0, 10), (10, 20), (20, 30), (30, 40), (40, 50)]  # (low, high) intervals
frequencies = [3, 7, 5, 8, 4]

data = {
    "marks_intervals":marks_intervals,
    "frequencies":frequencies
}
df = pd.DataFrame(data)
df


df


ungroup_df


raw = ungroup_df["Marks"].to_list()
R = max(raw) - min(raw)
R


class_ = round(1+3.322 * np.log10(9))
class_


class_width = round(R/4)
class_width


ungroup_df


print("Range",R)
print("Class",class_)
print("Class Width",class_width)


raw = ungroup_df["Marks"].to_list()


bins = list(range(min(raw), max(raw) + class_width, class_width))
bins


labels = [f"{bins[i]} - {bins[i+1]}" for i in range(len(bins)-1)]
labels


ungroup_df["Marks"].value_counts()


group_data = {
    "Class Interval":labels}
group_df = pd.DataFrame(group_data)
group_df


import numpy as np
import pandas as pd

def ungroup_to_group(df, col):
    lst = df[col].tolist()
    
    # Automatic bin selection using Freedman-Diaconis Rule
    bins = np.histogram_bin_edges(lst, bins="fd")  # "fd" auto-calculates best bin size
    labels = [f"{round(bins[i], 2)} - {round(bins[i+1], 2)}" for i in range(len(bins)-1)]

    tmp = df.copy()
    tmp["Intervals"] = pd.cut(tmp[col], bins=bins, labels=labels, include_lowest=True)

    return tmp["Intervals"].value_counts().sort_index().to_frame(name="frequencies").reset_index()




ungroup_df


ungroup_to_group(ungroup_df,"Marks")



df = pd.DataFrame({
    "intervals": [
        (1, 150),   # Normal interval
        (300, 2),   # Reverse order (Issue)
        (5, 8),     # Normal interval
        (4, 90),    # Overlapping
        (200, 500), # Large gap
    ]
})
df





points = []
for i in df[col]:
    points.extend(i)
points.sort()

new = [points[0]]

for i in range(1,round(len(points)/2)+1):
    p1 = points[i]
    p2 = points[i+1]

    p = (max(p1,p2)-min(p1,p2))/2

    new.append(min(p1,p2)+p)
    new.append(max(p1,p2)-p)

new.append(points[-1])
new = list(set(new))
new_int = pd.DataFrame({"intervals":new})
new_int


ungroup_to_group(new_int,"intervals")


def arrange(df,col):
    points = []
    for i in df[col]:
        points.extend(i)
    points.sort()

    new = [points[0]]

    for i in range(1,round(len(points)/2)+1):
        p1 = points[i]
        p2 = points[i+1]

        p = (max(p1,p2)-min(p1,p2))/2

        new.append(min(p1,p2)+p)
        new.append(max(p1,p2)-p)

    new.append(points[-1])

    final = []
    for i in range(len(new)):
        if i%2 == 0:
            final.append((new[i],new[i+1]))

    return pd.DataFrame({col:final})


df


arrange(df,"intervals")


# def arrange(df, col):
#     points = []
    
#     # Original Intervals Collect Karo (Without Sorting)
#     original_intervals = list(df[col])

#     # Har interval ke points store karo
#     for i in original_intervals:
#         points.append(i[0])
#         points.append(i[1])

#     # Sorting ki jagah, pehle valid intervals identify karo
#     new_intervals = []
    
#     for i in range(len(original_intervals)):
#         p1, p2 = original_intervals[i]
        
#         # Agar next interval available hai toh midpoint lo
#         if i < len(original_intervals) - 1:
#             next_p1, next_p2 = original_intervals[i + 1]
            
#             # Agar gap zyada hai, toh midpoint logic apply mat karo
#             if abs(next_p1 - p2) > 20:  # Threshold for discontinuity
#                 new_intervals.append((p1, p2))
#                 continue

#             mid = (p1 + p2) / 2
#             new_intervals.append((p1, mid))
#             new_intervals.append((mid, p2))
#         else:
#             new_intervals.append((p1, p2))

#     return pd.DataFrame({col: new_intervals})

# # Example Data
# df = pd.DataFrame({
#     "intervals": [(1, 150), (300, 2), (5, 8), (4, 90), (200, 500)]
# })

# # Function Call
# arrange(df, "intervals")



# first = points.pop(0)
# last = points.pop()


points


# def arange(df,col):
#     dt = []
    
#     x = [i[0] for i in df[col]]
#     y = [i[1] for i in df[col]]
    
#     dt.append(x.pop(0))
    

#     for i in zip(x,y):
#         p = (max(i)-min(i))/2

#         dt.append(min(i)+p)
#         dt.append(max(i)-p)

#     dt.append(y.pop())
    
    
#     print(dt)
#     x1 = []
#     y1 = []
    
#     for i in range(0,len(dt)):
#         if i%2 == 1:
#             x1.append(dt[i])
#         else:
#             y1.append(dt[i])
    
#     return pd.DataFrame({col:list(zip(y1,x1))})

# arange(pd.DataFrame({"intervals":[(1,2),(300,4),(8,90)]}),"intervals")


pd.DataFrame({"intervals":[(1,2),(300,4),(8,90)]})





group_d


group_data = ungroup_to_group(ungroup_df,"Marks")
group_data


mid_points = [( int(i.split()[0]) + int(i.split()[-1]) ) / 2 for i in group_data['Intervals'].tolist()]
group_data["mid_point"] = mid_points
group_data


count = 0
data = ungroup_df["Marks"].tolist()
for i in data:
    count += i
    
mean = count / len(data)
mean


ungroup_df


group_data["fx"] = group_data["frequencies"] * group_data["mid_point"]
group_data


# mean of group data
sum(group_data["fx"].tolist()) / sum(group_data["frequencies"].tolist()) 


def median(x):
    x = sorted(x)
    
    if len(x)%2 == 1:
        return x[int((len(x)+1)/2) - 1]

    else:    
        index_1 = int(len(x)/2) -1
        index_2 = int((len(x)/2) + 1) -1
        return (x[index_1] + x[index_2]) / 2


median([1,2,3,4,5]) # odd length


median([1,2,3,4,5,6]) # even length


ungroup_df


median(ungroup_df["Marks"])





19-10


39-30


grp = ungroup_to_group(ungroup_df,"Marks")
grp


cumulative_frequency = []
total_frequency = 0
freq = group_data["frequencies"].tolist()
for i in freq:
    total_frequency += i
    cumulative_frequency.append(total_frequency)
cumulative_frequency


total_frequency


grp["cf"] = cumulative_frequency
grp


total_f = grp["frequencies"].sum()
total_f


current_class = grp[grp["cf"] > (total_f/2)].head(1)
f = current_class["frequencies"].to_list()[0]
f


x,_,y = current_class["Intervals"].to_list()[0].split()
L = min(int(x),int(y))
L


CF = grp[~(grp["cf"] > (total_f/2))].head(1)["cf"].to_list()[0]
CF


x = set([max(k,v) - min(k,v) for k,v in [(int(i.split()[0]),int(i.split()[-1])) for i in grp["Intervals"].to_list()]])
if len(x) == 1:
    h = list(x)[0]
h


L + (total_f/2 - CF) / f * h





df


class_boundary = [((i[0] - 0.5),i[1]+0.5) for  i in df['marks_intervals'].tolist()]

df["cb"] = class_boundary


df


df


cumulative_frequency = []
first = 0
freq = df["frequencies"].tolist()
for i in freq:
    first += i
    cumulative_frequency.append(first)
cumulative_frequency


df["cf"] = cumulative_frequency


df


import pandas as pd
import numpy as np
import matplotlib.pyplot as plt
import seaborn as sns


data = {
    "Student": ["Ali", "Ayesha", "Bilal", "Fatima", "Hassan", "Imran", "Maria", "Omer", "Sara", "Usman"],
    "Marks": [85, 88, 90, 92, 87, 89, 84, 91, 10, 86]  # Note: "10" is an outlier
}

df = pd.DataFrame(data)
df


count = 0
data = df["Marks"].tolist()
for i in data:
    count += i
    
mean = count / len(data)
print(mean)


# pandas mean function
df["Marks"].mean()


plt.figure(figsize=(6,4))
sns.boxplot(x=df["Marks"], color="orange")

plt.title("Outliers Detection using Boxplot")
plt.xlabel("Marks")
plt.show()


mean_with_outlier = df["Marks"].mean() 

df_cleaned = df[df["Marks"] > 20]
mean_without_outlier = df_cleaned["Marks"].mean()

print(f"Mean (With Outlier): {mean_with_outlier}")
print(f"Mean (Without Outlier): {mean_without_outlier}")


df[df["Marks"] > 20]


Q1 = df["Marks"].quantile(0.25)
Q3 = df["Marks"].quantile(0.75)

IQR = Q3 - Q1

lower_bound = Q1 - 1.5 * IQR
upper_bound = Q3 + 1.5 * IQR

df_filtered = df[(df["Marks"] >= lower_bound) & (df["Marks"] <= upper_bound)]
df_filtered


mean_with_outlier = df["Marks"].mean()

# Outlier remove karna (IQR Method)
Q1 = df["Marks"].quantile(0.25)
Q3 = df["Marks"].quantile(0.75)
IQR = Q3 - Q1
lower_bound = Q1 - 1.5 * IQR
upper_bound = Q3 + 1.5 * IQR

df_filtered = df[(df["Marks"] >= lower_bound) & (df["Marks"] <= upper_bound)]
mean_without_outlier = df_filtered["Marks"].mean()

# Bar Chart Plot
plt.figure(figsize=(5, 4))
plt.bar(["With Outliers", "Without Outliers"], [mean_with_outlier, mean_without_outlier], color=["red", "green"])

plt.title("Effect of Outliers on Mean")
plt.ylabel("Mean Marks")
plt.ylim(0, 100)
plt.show()









np.median(x) # numpy median function


np.random.seed(42)
data = np.random.randint(40, 100, 50).tolist()
data.extend([10, 5, 150, 200])  # Outliers
df = pd.DataFrame({"Marks": data})
df


mean_with_outlier = df["Marks"].mean()
median_value = df["Marks"].median()

print("Mean",mean_with_outlier)
print("Median",median_value)


mean_value = df["Marks"].mean()
median_value = df["Marks"].median()

plt.figure(figsize=(6, 4))
sns.boxplot(y=df["Marks"], color="lightblue", width=0.3)

# Mean aur Median ko plot karo
plt.axhline(mean_value, color='red', linestyle='dashed', linewidth=2, label="Mean")
plt.axhline(median_value, color='green', linestyle='dashed', linewidth=2, label="Median")

# Labels aur Title
plt.legend()
plt.title("Box Plot: Mean vs Median with Outliers")
plt.ylabel("Marks")
plt.show()


import matplotlib.patches as mpatches


mean_with_outlier = df["Marks"].mean()
median_with_outlier = df["Marks"].median()

Q1 = df["Marks"].quantile(0.25)
Q3 = df["Marks"].quantile(0.75)
IQR = Q3 - Q1
lower_bound = Q1 - 1.5 * IQR
upper_bound = Q3 + 1.5 * IQR

df_mean_filtered = df[(df["Marks"] >= lower_bound) & (df["Marks"] <= upper_bound)]

mean_without_outlier = df_mean_filtered["Marks"].mean()
median_without_outlier_mean_filtered = df_mean_filtered["Marks"].median()

median = df["Marks"].median()
MAD = np.median(np.abs(df["Marks"] - median))  # Median Absolute Deviation
threshold = 3  # Common MAD threshold for outliers

lower_bound_mad = median - (threshold * MAD)
upper_bound_mad = median + (threshold * MAD)

df_median_filtered = df[(df["Marks"] >= lower_bound_mad) & (df["Marks"] <= upper_bound_mad)]
mean_without_outlier_median_filtered = df_median_filtered["Marks"].mean()
median_without_outlier = df_median_filtered["Marks"].median()

### 📊 Bar Chart for Comparison
plt.figure(figsize=(10, 6))
bar_width = 0.3

# Bar Plot
plt.bar([0, 1, 2], [mean_with_outlier, mean_without_outlier, mean_without_outlier_median_filtered], 
        width=bar_width, color=["red", "green", "purple"], label="Mean")

plt.bar([0 + bar_width, 1 + bar_width, 2 + bar_width], 
        [median_with_outlier, median_without_outlier_mean_filtered, median_without_outlier], 
        width=bar_width, color=["blue", "orange", "brown"], label="Median")

# Bars ke upar values likhne ke liye
for i, v in enumerate([mean_with_outlier, mean_without_outlier, mean_without_outlier_median_filtered]):
    plt.text(i, v + 1, f"{v:.2f}", ha="center", fontsize=10, color="black", fontweight="bold")

for i, v in enumerate([median_with_outlier, median_without_outlier_mean_filtered, median_without_outlier]):
    plt.text(i + bar_width, v + 1, f"{v:.2f}", ha="center", fontsize=10, color="black", fontweight="bold")

# Labels aur Title
plt.title("Comparison: Mean vs Median (Outlier Removal Techniques)")
plt.ylabel("Marks")
plt.xticks([0.25, 1.25, 2.25], ["With Outliers", "IQR Filtered", "MAD Filtered"])
plt.ylim(min(df_median_filtered["Marks"]) - 5, max(df["Marks"]) + 10)  

# Custom Legend
red_patch = mpatches.Patch(color='red', label='Mean (With Outliers)')
green_patch = mpatches.Patch(color='green', label='Mean (IQR Filtered)')
purple_patch = mpatches.Patch(color='purple', label='Mean (MAD Filtered)')
blue_patch = mpatches.Patch(color='blue', label='Median (With Outliers)')
orange_patch = mpatches.Patch(color='orange', label='Median (IQR Filtered)')
brown_patch = mpatches.Patch(color='brown', label='Median (MAD Filtered)')
plt.legend(handles=[red_patch, green_patch, purple_patch, blue_patch, orange_patch, brown_patch])

# Show Chart
plt.show()



x = [1,2,3,4]
sns.histplot(x, kde=True, bins=len(x), color='red')  # Histogram + KDE
plt.show()


np.mean(x)


np.median(x)


x = [6,1,2,3]
sns.histplot(x, kde=True, bins=len(x), color='red')  # Histogram + KDE
plt.show()


np.mean(x)


np.median(x)


data = pd.Series([10, 20, 20, 30, 40, 40, 40, 50])
data


mode_value = data.mode()
print("Mode:", mode_value.tolist())


data = pd.Series([5, 10, 10, 15, 15, 20, 25])
data


mode_value = data.mode()
print("Modes:", mode_value.tolist())  # Output: [10, 15]


data = pd.Series([5, 8, 11, 14, 17])
data


mode_value = data.mode()
print("Mode:", mode_value.tolist())


df = pd.DataFrame({
    'Student': ['Ali', 'Sara', 'Ali', 'Fatima', 'Usman', 'Ayesha'],
    'Marks': [85, 90, 85, 92, 90, 85]  # 85 sabse zyada repeat ho raha hai
})

df


mode_value = df[['Marks','Student']].mode()
print("Most Frequent Marks:", mode_value)


def P_numpy_like(data, p):
    sorted_data = sorted(data)
    n = len(sorted_data)  # N+1 ki jagah sirf N lenge
    index = (p / 100) * (n - 1)  # Change N+1 to N-1 (like NumPy)

    lower_index = int(index)
    upper_index = lower_index + 1

    if upper_index >= n:  # If index is out of range, return last value
        return sorted_data[lower_index]

    lower_value = sorted_data[lower_index]
    upper_value = sorted_data[upper_index]

    return lower_value + (index - lower_index) * (upper_value - lower_value)

data = [10, 20, 30, 40, 50, 60, 70, 80, 90, 100]

print(P_numpy_like(data, 25))  # 32.5 (Same as NumPy)
print(P_numpy_like(data, 50))  # 55.0
print(P_numpy_like(data, 75))  # 77.5



def P(data,p):
    
    sorted_data = sorted(data)

    n = len(sorted_data)
    index = (p/100) * n

    if index.is_integer():
        return sorted_data[int(index) - 1]

    else:
        lower_index = int(index)
        upper_index = lower_index + 1

        lower_value = sorted_data[lower_index]
        upper_value = sorted_data[upper_index]

        return lower_value + (index - (lower_index+1)) * (upper_value - lower_value)
    


print(P(data,25))
print(P(data,50))
print(P(data,75))


p25 = np.percentile(data, 25)
p50 = np.percentile(data, 50)
p75 = np.percentile(data, 75)

print("25th Percentile (Q1)    :", p25)
print("50th Percentile (Median):", p50)
print("75th Percentile (Q3)    :", p75)



np.random.seed(42)
data = np.random.randint(40, 100, 50).tolist()
data.extend([10, 5, 150, 200])  # Outliers
df = pd.DataFrame({"Marks": data})
df


Q1 = df["Marks"].quantile(0.25)
Q1


Q3 = df["Marks"].quantile(0.75)
Q3


IQR = Q3 - Q1
IQR


lower_bound = Q1 - 1.5 * IQR
upper_bound = Q3 + 1.5 * IQR

print("Minimum Outlier",lower_bound)
print("Maximum Outlier",upper_bound)


plt.figure(figsize=(8, 6))
sns.boxplot(x=df["Marks"])

plt.title('Boxplot of Marks with Outliers')
plt.show()



