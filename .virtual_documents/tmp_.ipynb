import json, base64
from PIL import Image
from io import BytesIO
import os

notebook_name = "4.ipynb"
target_filename = "48d9a825-0ec8-4794-976d-58092e548bce.png"
output_dir = "./images"

os.makedirs(output_dir, exist_ok=True)

with open(notebook_name, "r", encoding="utf-8") as f:
    notebook = json.load(f)

found = False
for cell in notebook.get("cells", []):
    attachments = cell.get("attachments", {})
    if target_filename in attachments:
        for mime, data in attachments[target_filename].items():
            try:
                img_data = base64.b64decode(data)
                img = Image.open(BytesIO(img_data))

                # Handle alpha channel safely
                if img.mode in ("RGBA", "LA") or (img.mode == "P" and "transparency" in img.info):
                    background = Image.new("RGB", img.size, (255, 255, 255))
                    background.paste(img, mask=img.split()[-1])
                    img = background
                else:
                    img = img.convert("RGB")

                # Show image before saving
                # img.show()

                # Save to next number
                existing = [int(f.split(".")[0]) for f in os.listdir(output_dir) if f.endswith(".jpg") and f.split(".")[0].isdigit()]
                name = max(existing) + 1 if existing else 1
                img.save(f"{output_dir}/{name}.jpg", "JPEG", quality=95)
                print(f"✅ Saved as {name}.jpg")
                found = True
                break
            except Exception as e:
                print("❌ Error during image decode/save:", e)
                break
    if found:
        break

if not found:
    print("❌ Attachment not found.")

