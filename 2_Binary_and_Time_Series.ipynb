{
 "cells": [
  {
   "cell_type": "markdown",
   "id": "19d979d1-94d0-4abd-b797-7eb0c98a6178",
   "metadata": {},
   "source": [
    "<h1 style=\"text-align:center; color:#005bbd; font-size:20px; font-family:Sans-serif; font-style: oblique; text-shadow: 0 0 3px white, 0 0 1px Black;\">\n",
    "   Binary Data (Two Possible Values)\n",
    "</h1>"
   ]
  },
  {
   "cell_type": "markdown",
   "id": "3bca97e1-44e8-40db-a006-bad0a8838bde",
   "metadata": {},
   "source": [
    "<body style=\"font-family: Sans-serif;\">\n",
    "    <div style=\"color: black; font-size: 18px; font-style: oblique; text-shadow: 0 0 3px white, 0 0 1px black; padding: 20px;\">\n",
    "       Binary data ka matlab hota hai sirf 2 possible values hona. \n",
    "    <br>Yeh yes/no, on/off, true/false type ki values hoti hain. \n",
    "    <br>Isko 0 aur 1 se bhi represent kiya jata hai.\n",
    "    <ul>Examples Binary Data:<br>\n",
    "        <ul>Gender: (Male, Female):\n",
    "            <ul>Gender ek binary categorical variable hai jo sirf 2 states le sakta hai. (1,0)</ul>\n",
    "        </ul><br>\n",
    "        <ul>Switch State: (On, Off):\n",
    "            <ul>Switch ya kisi bhi device ka binary state hota hai.(1,0)</ul>\n",
    "        </ul><br>\n",
    "        <ul>Switch State: (On, Off):\n",
    "            <ul>Switch ya kisi bhi device ka binary state hota hai.(1,0)</ul><br>\n",
    "        Boolean: (True, False):\n",
    "            <ul>Boolean data sirf True (1) ya False(0) values store karta hai.</ul>\n",
    "        </ul>\n",
    "</div>\n",
    "</body>"
   ]
  },
  {
   "cell_type": "markdown",
   "id": "4a395ebe-16b6-4884-bd09-ffb787c985c2",
   "metadata": {},
   "source": [
    "<body style=\"font-family: Sans-serif;\">\n",
    "    <div style=\"color: black; font-size: 18px; font-style: oblique; text-shadow: 0 0 3px white, 0 0 1px black; padding: 20px;\">\n",
    "       <p>\n",
    "           Jab hamare paas sirf 2 possible values hoti hain, to us data ko Binary Data consider kiya jata hai.<br>Jaise agar hum Gender ka example lein, to \"Male\" aur \"Female\" 2 categories hain jo Qualitative Data (Categorical Data) ke andar Nominal type mein aati hain. <br><br>Ab agar hum inko numerically represent karna chahein, jaise \"Male\" ko 0 aur \"Female\" ko 1 assign kar dein, to yeh sirf representation ki ek tareeqa hoga, lekin asal data Nominal hi rahega.<br><br>Binary Data ka concept sirf is wajah se hota hai kyunki isme sirf do hi possible values hoti hain, isliye hum isko Binary Data keh dete hain, chahe wo categorical ho ya numerical.<br><br>Isi tarah agar hum kisi aur example ko dekhein, jaise \"On\" aur \"Off\", \"Pass\" aur \"Fail\" ya \"True\" aur \"False\", to inko bhi Binary Data kaha jata hai kyunki ye sirf do states ko represent karte hain.<br><br>Lekin inka asli data type unki nature par depend karega, jaise Boolean values 1 aur 0 hoti hain jo logical binary data hota hai, jabke \"Pass\" aur \"Fail\" ek ordinal scale ka binary representation ho sakta hai.\n",
    "        </p>\n",
    "</div>\n",
    "</body>"
   ]
  },
  {
   "cell_type": "code",
   "execution_count": 1,
   "id": "1cbe1b7b-ea44-43b9-8e2d-aeea4a1e8d4a",
   "metadata": {
    "tags": []
   },
   "outputs": [
    {
     "data": {
      "text/html": [
       "<div>\n",
       "<style scoped>\n",
       "    .dataframe tbody tr th:only-of-type {\n",
       "        vertical-align: middle;\n",
       "    }\n",
       "\n",
       "    .dataframe tbody tr th {\n",
       "        vertical-align: top;\n",
       "    }\n",
       "\n",
       "    .dataframe thead th {\n",
       "        text-align: right;\n",
       "    }\n",
       "</style>\n",
       "<table border=\"1\" class=\"dataframe\">\n",
       "  <thead>\n",
       "    <tr style=\"text-align: right;\">\n",
       "      <th></th>\n",
       "      <th>Gender</th>\n",
       "      <th>Switch_State</th>\n",
       "      <th>Test_Result</th>\n",
       "    </tr>\n",
       "  </thead>\n",
       "  <tbody>\n",
       "    <tr>\n",
       "      <th>0</th>\n",
       "      <td>Male</td>\n",
       "      <td>On</td>\n",
       "      <td>Pass</td>\n",
       "    </tr>\n",
       "    <tr>\n",
       "      <th>1</th>\n",
       "      <td>Female</td>\n",
       "      <td>Off</td>\n",
       "      <td>Fail</td>\n",
       "    </tr>\n",
       "    <tr>\n",
       "      <th>2</th>\n",
       "      <td>Female</td>\n",
       "      <td>On</td>\n",
       "      <td>Pass</td>\n",
       "    </tr>\n",
       "    <tr>\n",
       "      <th>3</th>\n",
       "      <td>Male</td>\n",
       "      <td>Off</td>\n",
       "      <td>Pass</td>\n",
       "    </tr>\n",
       "    <tr>\n",
       "      <th>4</th>\n",
       "      <td>Male</td>\n",
       "      <td>On</td>\n",
       "      <td>Fail</td>\n",
       "    </tr>\n",
       "  </tbody>\n",
       "</table>\n",
       "</div>"
      ],
      "text/plain": [
       "   Gender Switch_State Test_Result\n",
       "0    Male           On        Pass\n",
       "1  Female          Off        Fail\n",
       "2  Female           On        Pass\n",
       "3    Male          Off        Pass\n",
       "4    Male           On        Fail"
      ]
     },
     "execution_count": 1,
     "metadata": {},
     "output_type": "execute_result"
    }
   ],
   "source": [
    "import pandas as pd\n",
    "\n",
    "data = {\n",
    "    \"Gender\": [\"Male\", \"Female\", \"Female\", \"Male\", \"Male\"],\n",
    "    \"Switch_State\": [\"On\", \"Off\", \"On\", \"Off\", \"On\"],\n",
    "    \"Test_Result\": [\"Pass\", \"Fail\", \"Pass\", \"Pass\", \"Fail\"]\n",
    "}\n",
    "\n",
    "df = pd.DataFrame(data)\n",
    "df"
   ]
  },
  {
   "cell_type": "markdown",
   "id": "3edc33e1-014c-4ae9-93ab-9057219046e3",
   "metadata": {},
   "source": [
    "<body style=\"font-family: Sans-serif;\">\n",
    "    <div style=\"color: black; font-size: 18px; font-style: oblique; text-shadow: 0 0 3px white, 0 0 1px black; padding: 20px;\">\n",
    "     Now Convert Into Binary\n",
    "</div>\n",
    "</body>"
   ]
  },
  {
   "cell_type": "code",
   "execution_count": 2,
   "id": "74672aef-9107-4bed-8f10-b807b878b44d",
   "metadata": {
    "tags": []
   },
   "outputs": [
    {
     "data": {
      "text/html": [
       "<div>\n",
       "<style scoped>\n",
       "    .dataframe tbody tr th:only-of-type {\n",
       "        vertical-align: middle;\n",
       "    }\n",
       "\n",
       "    .dataframe tbody tr th {\n",
       "        vertical-align: top;\n",
       "    }\n",
       "\n",
       "    .dataframe thead th {\n",
       "        text-align: right;\n",
       "    }\n",
       "</style>\n",
       "<table border=\"1\" class=\"dataframe\">\n",
       "  <thead>\n",
       "    <tr style=\"text-align: right;\">\n",
       "      <th></th>\n",
       "      <th>Gender</th>\n",
       "      <th>Switch_State</th>\n",
       "      <th>Test_Result</th>\n",
       "    </tr>\n",
       "  </thead>\n",
       "  <tbody>\n",
       "    <tr>\n",
       "      <th>0</th>\n",
       "      <td>0</td>\n",
       "      <td>1</td>\n",
       "      <td>1</td>\n",
       "    </tr>\n",
       "    <tr>\n",
       "      <th>1</th>\n",
       "      <td>1</td>\n",
       "      <td>0</td>\n",
       "      <td>0</td>\n",
       "    </tr>\n",
       "    <tr>\n",
       "      <th>2</th>\n",
       "      <td>1</td>\n",
       "      <td>1</td>\n",
       "      <td>1</td>\n",
       "    </tr>\n",
       "    <tr>\n",
       "      <th>3</th>\n",
       "      <td>0</td>\n",
       "      <td>0</td>\n",
       "      <td>1</td>\n",
       "    </tr>\n",
       "    <tr>\n",
       "      <th>4</th>\n",
       "      <td>0</td>\n",
       "      <td>1</td>\n",
       "      <td>0</td>\n",
       "    </tr>\n",
       "  </tbody>\n",
       "</table>\n",
       "</div>"
      ],
      "text/plain": [
       "   Gender  Switch_State  Test_Result\n",
       "0       0             1            1\n",
       "1       1             0            0\n",
       "2       1             1            1\n",
       "3       0             0            1\n",
       "4       0             1            0"
      ]
     },
     "execution_count": 2,
     "metadata": {},
     "output_type": "execute_result"
    }
   ],
   "source": [
    "df[\"Gender\"] = df[\"Gender\"].map({\"Male\": 0, \"Female\": 1})\n",
    "df[\"Switch_State\"] = df[\"Switch_State\"].map({\"Off\": 0, \"On\": 1})\n",
    "df[\"Test_Result\"] = df[\"Test_Result\"].map({\"Fail\": 0, \"Pass\": 1})\n",
    "df"
   ]
  },
  {
   "cell_type": "markdown",
   "id": "f8e18c82-8d54-4cf0-be6d-d2161be22fbe",
   "metadata": {},
   "source": [
    "<h1 style=\"text-align:center; color:#005bbd; font-size:20px; font-family:Sans-serif; font-style: oblique; text-shadow: 0 0 3px white, 0 0 1px Black;\">\n",
    "   Time Series Data\n",
    "</h1>"
   ]
  },
  {
   "cell_type": "markdown",
   "id": "ed638cdf-8e65-4782-b049-87853204a4a1",
   "metadata": {},
   "source": [
    "<body style=\"font-family: Sans-serif;\">\n",
    "    <div style=\"color: black; font-size: 18px; font-style: oblique; text-shadow: 0 0 3px white, 0 0 1px black; padding: 20px;\">\n",
    "        Time Series Data wo data hota hai jo time ke intervals par collect kiya jata hai, yani yeh ek aise dataset hota hai jo kisi specific waqt ke mutabiq change hota rehta hai.<br><br>Yeh data Numerical Data (Quantitative) ka hissa hota hai aur Continuous Data ke category mein aata hai, kyunki isme time ek important factor hota hai aur values ek smooth transition ke sath badalti hain.\n",
    "<br><br>\n",
    "Lekin sirf yeh keh dena ke yeh Continuous Data hai kaafi nahi hai, kyunki Time Series Data ka ek alag identity hota hai. <br><br>Jab hum kisi bhi data ko time ke sath analyze karte hain aur dekhte hain ke wo waqt ke sath kis tarah change ho raha hai, tab hum usko Time Series Data kehte hain.<br><br>Jaise temperature ka record jo har ghante update hota hai, stock market prices jo har second change hoti hain, ya kisi sheher ka daily rainfall record – yeh sab Time Series Data hain.\n",
    "</div>\n",
    "</body>"
   ]
  },
  {
   "cell_type": "markdown",
   "id": "ba0de039-f018-40f5-86cf-74cffd982293",
   "metadata": {},
   "source": [
    "<body style=\"font-family: Sans-serif;\">\n",
    "    <div style=\"color: black; font-size: 18px; font-style: oblique; text-shadow: 0 0 3px white, 0 0 1px black; padding: 20px;\">\n",
    "        Time Interval Data (Timestamped Data, but NOT Time Series)\n",
    "<ul>Agar time sirf ek reference ke liye diya gaya hai, lekin data ka time ke sath koi relation nahi hai, to ye time-interval data hoga, time series nahi.\n",
    "</div>\n",
    "</body>"
   ]
  },
  {
   "cell_type": "code",
   "execution_count": 3,
   "id": "7d6b2c72-6af0-45ca-b61f-101292bac154",
   "metadata": {
    "tags": []
   },
   "outputs": [
    {
     "data": {
      "text/html": [
       "<div>\n",
       "<style scoped>\n",
       "    .dataframe tbody tr th:only-of-type {\n",
       "        vertical-align: middle;\n",
       "    }\n",
       "\n",
       "    .dataframe tbody tr th {\n",
       "        vertical-align: top;\n",
       "    }\n",
       "\n",
       "    .dataframe thead th {\n",
       "        text-align: right;\n",
       "    }\n",
       "</style>\n",
       "<table border=\"1\" class=\"dataframe\">\n",
       "  <thead>\n",
       "    <tr style=\"text-align: right;\">\n",
       "      <th></th>\n",
       "      <th>User_ID</th>\n",
       "      <th>Signup_Date</th>\n",
       "    </tr>\n",
       "  </thead>\n",
       "  <tbody>\n",
       "    <tr>\n",
       "      <th>0</th>\n",
       "      <td>101</td>\n",
       "      <td>2023-01-01</td>\n",
       "    </tr>\n",
       "    <tr>\n",
       "      <th>1</th>\n",
       "      <td>102</td>\n",
       "      <td>2023-03-15</td>\n",
       "    </tr>\n",
       "    <tr>\n",
       "      <th>2</th>\n",
       "      <td>103</td>\n",
       "      <td>2023-07-22</td>\n",
       "    </tr>\n",
       "    <tr>\n",
       "      <th>3</th>\n",
       "      <td>104</td>\n",
       "      <td>2023-11-05</td>\n",
       "    </tr>\n",
       "    <tr>\n",
       "      <th>4</th>\n",
       "      <td>105</td>\n",
       "      <td>2023-12-30</td>\n",
       "    </tr>\n",
       "  </tbody>\n",
       "</table>\n",
       "</div>"
      ],
      "text/plain": [
       "   User_ID Signup_Date\n",
       "0      101  2023-01-01\n",
       "1      102  2023-03-15\n",
       "2      103  2023-07-22\n",
       "3      104  2023-11-05\n",
       "4      105  2023-12-30"
      ]
     },
     "execution_count": 3,
     "metadata": {},
     "output_type": "execute_result"
    }
   ],
   "source": [
    "data = {\n",
    "    \"User_ID\": [101, 102, 103, 104, 105],\n",
    "    \"Signup_Date\": [\"2023-01-01\", \"2023-03-15\", \"2023-07-22\", \"2023-11-05\", \"2023-12-30\"]\n",
    "}\n",
    "\n",
    "df = pd.DataFrame(data)\n",
    "df"
   ]
  },
  {
   "cell_type": "markdown",
   "id": "0b7de286-7e47-4d5c-9933-8dde6f5fd1fd",
   "metadata": {},
   "source": [
    "<body style=\"font-family: Sans-serif;\">\n",
    "    <div style=\"color: black; font-size: 18px; font-style: oblique; text-shadow: 0 0 3px white, 0 0 1px black; padding: 20px;\">\n",
    "        Time Series Data (Time-Dependent Data)\n",
    "        <ul>Agar data ka order important hai aur ek observation ka doosri observations ke sath relation hai, to ye time series data hoga.\n",
    "</div>\n",
    "</body>"
   ]
  },
  {
   "cell_type": "code",
   "execution_count": 4,
   "id": "5b8238e2-b76e-4fe2-9945-d6b86aea1f24",
   "metadata": {
    "tags": []
   },
   "outputs": [
    {
     "data": {
      "text/html": [
       "<div>\n",
       "<style scoped>\n",
       "    .dataframe tbody tr th:only-of-type {\n",
       "        vertical-align: middle;\n",
       "    }\n",
       "\n",
       "    .dataframe tbody tr th {\n",
       "        vertical-align: top;\n",
       "    }\n",
       "\n",
       "    .dataframe thead th {\n",
       "        text-align: right;\n",
       "    }\n",
       "</style>\n",
       "<table border=\"1\" class=\"dataframe\">\n",
       "  <thead>\n",
       "    <tr style=\"text-align: right;\">\n",
       "      <th></th>\n",
       "      <th>Temperature</th>\n",
       "    </tr>\n",
       "    <tr>\n",
       "      <th>Date</th>\n",
       "      <th></th>\n",
       "    </tr>\n",
       "  </thead>\n",
       "  <tbody>\n",
       "    <tr>\n",
       "      <th>2024-02-01</th>\n",
       "      <td>18.248217</td>\n",
       "    </tr>\n",
       "    <tr>\n",
       "      <th>2024-02-02</th>\n",
       "      <td>18.098755</td>\n",
       "    </tr>\n",
       "    <tr>\n",
       "      <th>2024-02-03</th>\n",
       "      <td>22.276151</td>\n",
       "    </tr>\n",
       "    <tr>\n",
       "      <th>2024-02-04</th>\n",
       "      <td>14.486712</td>\n",
       "    </tr>\n",
       "    <tr>\n",
       "      <th>2024-02-05</th>\n",
       "      <td>28.418685</td>\n",
       "    </tr>\n",
       "    <tr>\n",
       "      <th>2024-02-06</th>\n",
       "      <td>17.268933</td>\n",
       "    </tr>\n",
       "    <tr>\n",
       "      <th>2024-02-07</th>\n",
       "      <td>26.280540</td>\n",
       "    </tr>\n",
       "    <tr>\n",
       "      <th>2024-02-08</th>\n",
       "      <td>25.435693</td>\n",
       "    </tr>\n",
       "    <tr>\n",
       "      <th>2024-02-09</th>\n",
       "      <td>22.250996</td>\n",
       "    </tr>\n",
       "    <tr>\n",
       "      <th>2024-02-10</th>\n",
       "      <td>28.556936</td>\n",
       "    </tr>\n",
       "  </tbody>\n",
       "</table>\n",
       "</div>"
      ],
      "text/plain": [
       "            Temperature\n",
       "Date                   \n",
       "2024-02-01    18.248217\n",
       "2024-02-02    18.098755\n",
       "2024-02-03    22.276151\n",
       "2024-02-04    14.486712\n",
       "2024-02-05    28.418685\n",
       "2024-02-06    17.268933\n",
       "2024-02-07    26.280540\n",
       "2024-02-08    25.435693\n",
       "2024-02-09    22.250996\n",
       "2024-02-10    28.556936"
      ]
     },
     "execution_count": 4,
     "metadata": {},
     "output_type": "execute_result"
    }
   ],
   "source": [
    "import numpy as np\n",
    "\n",
    "date_range = pd.date_range(start=\"2024-02-01\", periods=10, freq=\"D\")  # 10 days\n",
    "temperature_values = np.random.uniform(10, 30, size=10)  # Temperature between 10°C and 30°C\n",
    "\n",
    "df = pd.DataFrame({\"Date\": date_range, \"Temperature\": temperature_values})\n",
    "df.set_index(\"Date\", inplace=True)\n",
    "\n",
    "df"
   ]
  },
  {
   "cell_type": "markdown",
   "id": "7a0bd346-ee06-41eb-980a-5715b108757e",
   "metadata": {},
   "source": [
    "<h1 style=\"text-align:center; color:#005bbd; font-size:20px; font-family:Sans-serif; font-style: oblique; text-shadow: 0 0 3px white, 0 0 1px Black;\">\n",
    "   Spatial Data (Geospatial Data)\n",
    "</h1>"
   ]
  },
  {
   "cell_type": "markdown",
   "id": "fed7672f-5f0a-4946-bc18-202c67a37ec0",
   "metadata": {},
   "source": [
    "<body style=\"font-family: Sans-serif;\">\n",
    "    <div style=\"color: black; font-size: 18px; font-style: oblique; text-shadow: 0 0 3px white, 0 0 1px black; padding: 20px;\">\n",
    "       Spatial Data, jise Geospatial Data bhi kehte hain, wo data hai jo kisi specific location ya position se related hota hai.<br>Yeh data earth ke surface ke points, objects ya areas ko represent karta hai aur latitude, longitude, elevation, ya address ki madad se define hota hai.\n",
    "</div>\n",
    "</body>"
   ]
  },
  {
   "cell_type": "markdown",
   "id": "e080e2c3-fc54-4abf-a896-764f664c2f54",
   "metadata": {},
   "source": [
    "<body style=\"font-family: Sans-serif;\">\n",
    "    <div style=\"color: black; font-size: 18px; font-style: oblique; text-shadow: 0 0 3px white, 0 0 1px black; padding: 20px;\">\n",
    "       Spatial Data 2 major types mein divide hota hai:<ul>\n",
    "        Vector Data aur Raster Data\n",
    "</div>\n",
    "</body>"
   ]
  },
  {
   "cell_type": "markdown",
   "id": "640ea2ca-98c4-462d-9ec9-9d034bf5fdd0",
   "metadata": {},
   "source": [
    "<body style=\"font-family: Sans-serif;\">\n",
    "    <div style=\"color: black; font-size: 18px; font-style: oblique; text-shadow: 0 0 3px white, 0 0 1px black; padding: 20px;\">\n",
    "       <ul><li> 1 Vector Data<ul>\n",
    "           Vector Data ko Points, Lines, aur Polygons ke zariye represent kiya jata hai.\n",
    "</div>\n",
    "</body>"
   ]
  },
  {
   "cell_type": "markdown",
   "id": "66e98a89-f91d-4a26-aef4-ee108c77296a",
   "metadata": {},
   "source": [
    "<body style=\"font-family: Sans-serif;\">\n",
    "    <div style=\"color: black; font-size: 18px; font-style: oblique; text-shadow: 0 0 3px white, 0 0 1px black; padding: 20px;\">\n",
    "       <ul><ul>1.1 Point Data (City Locations Example)<ul>\n",
    "           Point Data kisi ek specific location ko represent karta hai, jaise ek city ka latitude/longitude.\n",
    "</div>\n",
    "</body>"
   ]
  },
  {
   "cell_type": "code",
   "execution_count": 5,
   "id": "2f843dca-a07d-4900-a32a-6936e784f8ad",
   "metadata": {
    "tags": []
   },
   "outputs": [
    {
     "data": {
      "text/html": [
       "<div>\n",
       "<style scoped>\n",
       "    .dataframe tbody tr th:only-of-type {\n",
       "        vertical-align: middle;\n",
       "    }\n",
       "\n",
       "    .dataframe tbody tr th {\n",
       "        vertical-align: top;\n",
       "    }\n",
       "\n",
       "    .dataframe thead th {\n",
       "        text-align: right;\n",
       "    }\n",
       "</style>\n",
       "<table border=\"1\" class=\"dataframe\">\n",
       "  <thead>\n",
       "    <tr style=\"text-align: right;\">\n",
       "      <th></th>\n",
       "      <th>City</th>\n",
       "      <th>Latitude</th>\n",
       "      <th>Longitude</th>\n",
       "    </tr>\n",
       "  </thead>\n",
       "  <tbody>\n",
       "    <tr>\n",
       "      <th>0</th>\n",
       "      <td>Lahore</td>\n",
       "      <td>31.5497</td>\n",
       "      <td>74.3436</td>\n",
       "    </tr>\n",
       "    <tr>\n",
       "      <th>1</th>\n",
       "      <td>Karachi</td>\n",
       "      <td>24.8607</td>\n",
       "      <td>67.0011</td>\n",
       "    </tr>\n",
       "    <tr>\n",
       "      <th>2</th>\n",
       "      <td>Islamabad</td>\n",
       "      <td>33.6844</td>\n",
       "      <td>73.0479</td>\n",
       "    </tr>\n",
       "  </tbody>\n",
       "</table>\n",
       "</div>"
      ],
      "text/plain": [
       "        City  Latitude  Longitude\n",
       "0     Lahore   31.5497    74.3436\n",
       "1    Karachi   24.8607    67.0011\n",
       "2  Islamabad   33.6844    73.0479"
      ]
     },
     "execution_count": 5,
     "metadata": {},
     "output_type": "execute_result"
    }
   ],
   "source": [
    "point_data = {\n",
    "    \"City\": [\"Lahore\", \"Karachi\", \"Islamabad\"],\n",
    "    \"Latitude\": [31.5497, 24.8607, 33.6844],\n",
    "    \"Longitude\": [74.3436, 67.0011, 73.0479]\n",
    "}\n",
    "\n",
    "df_point = pd.DataFrame(point_data)\n",
    "df_point"
   ]
  },
  {
   "cell_type": "code",
   "execution_count": 9,
   "id": "44f4eb89-7be2-4637-88f6-def69e6d9a76",
   "metadata": {
    "tags": []
   },
   "outputs": [],
   "source": [
    "import matplotlib.pyplot as plt"
   ]
  },
  {
   "cell_type": "code",
   "execution_count": 10,
   "id": "e8dada9d-10ba-4243-a082-d53a2cd6f8d5",
   "metadata": {
    "tags": []
   },
   "outputs": [
    {
     "data": {
      "image/png": "[encoded data removed]",
      "text/plain": [
       "<Figure size 600x600 with 1 Axes>"
      ]
     },
     "metadata": {},
     "output_type": "display_data"
    }
   ],
   "source": [
    "plt.figure(figsize=(6, 6))\n",
    "plt.scatter(df_point[\"Longitude\"], df_point[\"Latitude\"], color='red', marker='o', s=100)\n",
    "\n",
    "# City Labels\n",
    "for i, city in enumerate(df_point[\"City\"]):\n",
    "    plt.text(df_point[\"Longitude\"][i] + 0.2, df_point[\"Latitude\"][i], city, fontsize=12)\n",
    "\n",
    "# Labels and Title\n",
    "plt.xlabel(\"Longitude\")\n",
    "plt.ylabel(\"Latitude\")\n",
    "plt.title(\"City Locations (Point Data)\")\n",
    "plt.grid(True)\n",
    "plt.show()"
   ]
  },
  {
   "cell_type": "markdown",
   "id": "1db4fd15-afc1-47cd-bf6e-d0106bdd1675",
   "metadata": {},
   "source": [
    "<body style=\"font-family: Sans-serif;\">\n",
    "    <div style=\"color: black; font-size: 18px; font-style: oblique; text-shadow: 0 0 3px white, 0 0 1px black; padding: 20px;\">\n",
    "       <ul><ul>1.2 Line Data (Roads Example)<ul>\n",
    "           Line Data roads, rivers, ya railway tracks ko represent karta hai.\n",
    "</div>\n",
    "</body>"
   ]
  },
  {
   "cell_type": "code",
   "execution_count": 6,
   "id": "77821b31-fba2-4b4b-9cf6-565dc3299698",
   "metadata": {
    "tags": []
   },
   "outputs": [
    {
     "data": {
      "text/html": [
       "<div>\n",
       "<style scoped>\n",
       "    .dataframe tbody tr th:only-of-type {\n",
       "        vertical-align: middle;\n",
       "    }\n",
       "\n",
       "    .dataframe tbody tr th {\n",
       "        vertical-align: top;\n",
       "    }\n",
       "\n",
       "    .dataframe thead th {\n",
       "        text-align: right;\n",
       "    }\n",
       "</style>\n",
       "<table border=\"1\" class=\"dataframe\">\n",
       "  <thead>\n",
       "    <tr style=\"text-align: right;\">\n",
       "      <th></th>\n",
       "      <th>Road</th>\n",
       "      <th>Start_Lat</th>\n",
       "      <th>Start_Lon</th>\n",
       "      <th>End_Lat</th>\n",
       "      <th>End_Lon</th>\n",
       "    </tr>\n",
       "  </thead>\n",
       "  <tbody>\n",
       "    <tr>\n",
       "      <th>0</th>\n",
       "      <td>Motorway M1</td>\n",
       "      <td>33.6844</td>\n",
       "      <td>73.0479</td>\n",
       "      <td>34.0151</td>\n",
       "      <td>71.5805</td>\n",
       "    </tr>\n",
       "    <tr>\n",
       "      <th>1</th>\n",
       "      <td>Motorway M2</td>\n",
       "      <td>31.5497</td>\n",
       "      <td>74.3436</td>\n",
       "      <td>32.6100</td>\n",
       "      <td>73.1234</td>\n",
       "    </tr>\n",
       "    <tr>\n",
       "      <th>2</th>\n",
       "      <td>National Highway N5</td>\n",
       "      <td>24.8607</td>\n",
       "      <td>67.0011</td>\n",
       "      <td>25.3946</td>\n",
       "      <td>68.3744</td>\n",
       "    </tr>\n",
       "  </tbody>\n",
       "</table>\n",
       "</div>"
      ],
      "text/plain": [
       "                  Road  Start_Lat  Start_Lon  End_Lat  End_Lon\n",
       "0          Motorway M1    33.6844    73.0479  34.0151  71.5805\n",
       "1          Motorway M2    31.5497    74.3436  32.6100  73.1234\n",
       "2  National Highway N5    24.8607    67.0011  25.3946  68.3744"
      ]
     },
     "execution_count": 6,
     "metadata": {},
     "output_type": "execute_result"
    }
   ],
   "source": [
    "line_data = {\n",
    "    \"Road\": [\"Motorway M1\", \"Motorway M2\", \"National Highway N5\"],\n",
    "    \"Start_Lat\": [33.6844, 31.5497, 24.8607],\n",
    "    \"Start_Lon\": [73.0479, 74.3436, 67.0011],\n",
    "    \"End_Lat\": [34.0151, 32.6100, 25.3946],\n",
    "    \"End_Lon\": [71.5805, 73.1234, 68.3744]\n",
    "}\n",
    "\n",
    "df_line = pd.DataFrame(line_data)\n",
    "df_line"
   ]
  },
  {
   "cell_type": "code",
   "execution_count": 11,
   "id": "9c1261fa-a193-4d9e-a2d6-ce773d947789",
   "metadata": {
    "tags": []
   },
   "outputs": [
    {
     "data": {
      "image/png": "[encoded data removed]",
      "text/plain": [
       "<Figure size 600x600 with 1 Axes>"
      ]
     },
     "metadata": {},
     "output_type": "display_data"
    }
   ],
   "source": [
    "plt.figure(figsize=(6, 6))\n",
    "\n",
    "# Har road ke liye line plot\n",
    "for i in range(len(df_line)):\n",
    "    plt.plot([df_line[\"Start_Lon\"][i], df_line[\"End_Lon\"][i]], \n",
    "             [df_line[\"Start_Lat\"][i], df_line[\"End_Lat\"][i]], \n",
    "             marker='o', label=df_line[\"Road\"][i])\n",
    "\n",
    "# Labels aur Titles\n",
    "plt.xlabel(\"Longitude\")\n",
    "plt.ylabel(\"Latitude\")\n",
    "plt.title(\"Roads Representation (Line Data)\")\n",
    "plt.legend()\n",
    "plt.grid(True)\n",
    "\n",
    "plt.show()\n"
   ]
  },
  {
   "cell_type": "markdown",
   "id": "aa9fed5d-2deb-4779-bf6b-a10a90f85e25",
   "metadata": {},
   "source": [
    "<body style=\"font-family: Sans-serif;\">\n",
    "    <div style=\"color: black; font-size: 18px; font-style: oblique; text-shadow: 0 0 3px white, 0 0 1px black; padding: 20px;\">\n",
    "       <ul><ul>1.3 Polygon Data (Country Boundaries Example)<ul>\n",
    "Polygon Data kisi jagah ka boundary represent karta hai, jaise cities, countries, buildings.\n",
    "</div>\n",
    "</body>"
   ]
  },
  {
   "cell_type": "code",
   "execution_count": 7,
   "id": "c14ca348-250a-440f-910a-e7b0b175ae80",
   "metadata": {
    "tags": []
   },
   "outputs": [
    {
     "data": {
      "text/html": [
       "<div>\n",
       "<style scoped>\n",
       "    .dataframe tbody tr th:only-of-type {\n",
       "        vertical-align: middle;\n",
       "    }\n",
       "\n",
       "    .dataframe tbody tr th {\n",
       "        vertical-align: top;\n",
       "    }\n",
       "\n",
       "    .dataframe thead th {\n",
       "        text-align: right;\n",
       "    }\n",
       "</style>\n",
       "<table border=\"1\" class=\"dataframe\">\n",
       "  <thead>\n",
       "    <tr style=\"text-align: right;\">\n",
       "      <th></th>\n",
       "      <th>Region</th>\n",
       "      <th>Boundary_Coordinates</th>\n",
       "    </tr>\n",
       "  </thead>\n",
       "  <tbody>\n",
       "    <tr>\n",
       "      <th>0</th>\n",
       "      <td>Punjab</td>\n",
       "      <td>[(31.5, 74.3), (32.0, 75.0), (31.7, 74.5)]</td>\n",
       "    </tr>\n",
       "    <tr>\n",
       "      <th>1</th>\n",
       "      <td>Sindh</td>\n",
       "      <td>[(24.8, 67.0), (25.5, 67.5), (24.9, 67.4)]</td>\n",
       "    </tr>\n",
       "    <tr>\n",
       "      <th>2</th>\n",
       "      <td>KPK</td>\n",
       "      <td>[(34.0, 71.5), (35.0, 72.0), (34.5, 71.7)]</td>\n",
       "    </tr>\n",
       "  </tbody>\n",
       "</table>\n",
       "</div>"
      ],
      "text/plain": [
       "   Region                        Boundary_Coordinates\n",
       "0  Punjab  [(31.5, 74.3), (32.0, 75.0), (31.7, 74.5)]\n",
       "1   Sindh  [(24.8, 67.0), (25.5, 67.5), (24.9, 67.4)]\n",
       "2     KPK  [(34.0, 71.5), (35.0, 72.0), (34.5, 71.7)]"
      ]
     },
     "execution_count": 7,
     "metadata": {},
     "output_type": "execute_result"
    }
   ],
   "source": [
    "polygon_data = {\n",
    "    \"Region\": [\"Punjab\", \"Sindh\", \"KPK\"],\n",
    "    \"Boundary_Coordinates\": [\n",
    "        [(31.5, 74.3), (32.0, 75.0), (31.7, 74.5)],  # Punjab\n",
    "        [(24.8, 67.0), (25.5, 67.5), (24.9, 67.4)],  # Sindh\n",
    "        [(34.0, 71.5), (35.0, 72.0), (34.5, 71.7)]   # KPK\n",
    "    ]\n",
    "}\n",
    "\n",
    "df_polygon = pd.DataFrame(polygon_data)\n",
    "df_polygon"
   ]
  },
  {
   "cell_type": "code",
   "execution_count": 12,
   "id": "c11dd69c-1800-483d-a21d-08a2f17ade97",
   "metadata": {
    "tags": []
   },
   "outputs": [],
   "source": [
    "from shapely.geometry import Polygon"
   ]
  },
  {
   "cell_type": "code",
   "execution_count": 13,
   "id": "bd10b402-5ade-40af-9822-cc51b6f486d3",
   "metadata": {
    "tags": []
   },
   "outputs": [
    {
     "data": {
      "image/png": "[encoded data removed]",
      "text/plain": [
       "<Figure size 600x600 with 1 Axes>"
      ]
     },
     "metadata": {},
     "output_type": "display_data"
    }
   ],
   "source": [
    "plt.figure(figsize=(6, 6))\n",
    "\n",
    "for i in range(len(df_polygon)):\n",
    "    coords = df_polygon[\"Boundary_Coordinates\"][i]  # Boundary coordinates\n",
    "    poly = Polygon(coords)  # Shapely Polygon object\n",
    "    x, y = poly.exterior.xy  # X, Y coordinates extract karna\n",
    "\n",
    "    plt.fill(x, y, alpha=0.4, label=df_polygon[\"Region\"][i])  # Polygon fill\n",
    "    plt.plot(x, y, marker='o', linestyle='-', color=np.random.rand(3,))  # Boundary lines\n",
    "\n",
    "plt.xlabel(\"Longitude\")\n",
    "plt.ylabel(\"Latitude\")\n",
    "plt.title(\"Regions Representation (Polygon Data)\")\n",
    "plt.legend()\n",
    "plt.grid(True)\n",
    "\n",
    "plt.show()"
   ]
  },
  {
   "cell_type": "markdown",
   "id": "c3d70a4f-7cb5-4d50-8237-461d91d1c3e7",
   "metadata": {},
   "source": [
    "<body style=\"font-family: Sans-serif;\">\n",
    "    <div style=\"color: black; font-size: 18px; font-style: oblique; text-shadow: 0 0 3px white, 0 0 1px black; padding: 20px;\">\n",
    "       <ul><li> 2 Raster Data<ul>\n",
    "           Raster Data grid-based hota hai, jo images, elevation models ya heatmaps ko represent karta hai.\n",
    "</div>\n",
    "</body>"
   ]
  },
  {
   "cell_type": "code",
   "execution_count": 8,
   "id": "002b501a-80ad-4cb3-86aa-0db8cadec28c",
   "metadata": {
    "tags": []
   },
   "outputs": [
    {
     "data": {
      "text/html": [
       "<div>\n",
       "<style scoped>\n",
       "    .dataframe tbody tr th:only-of-type {\n",
       "        vertical-align: middle;\n",
       "    }\n",
       "\n",
       "    .dataframe tbody tr th {\n",
       "        vertical-align: top;\n",
       "    }\n",
       "\n",
       "    .dataframe thead th {\n",
       "        text-align: right;\n",
       "    }\n",
       "</style>\n",
       "<table border=\"1\" class=\"dataframe\">\n",
       "  <thead>\n",
       "    <tr style=\"text-align: right;\">\n",
       "      <th></th>\n",
       "      <th>X</th>\n",
       "      <th>Y</th>\n",
       "      <th>Elevation</th>\n",
       "    </tr>\n",
       "  </thead>\n",
       "  <tbody>\n",
       "    <tr>\n",
       "      <th>0</th>\n",
       "      <td>0</td>\n",
       "      <td>0</td>\n",
       "      <td>423</td>\n",
       "    </tr>\n",
       "    <tr>\n",
       "      <th>1</th>\n",
       "      <td>1</td>\n",
       "      <td>1</td>\n",
       "      <td>484</td>\n",
       "    </tr>\n",
       "    <tr>\n",
       "      <th>2</th>\n",
       "      <td>2</td>\n",
       "      <td>2</td>\n",
       "      <td>283</td>\n",
       "    </tr>\n",
       "    <tr>\n",
       "      <th>3</th>\n",
       "      <td>3</td>\n",
       "      <td>3</td>\n",
       "      <td>435</td>\n",
       "    </tr>\n",
       "    <tr>\n",
       "      <th>4</th>\n",
       "      <td>4</td>\n",
       "      <td>4</td>\n",
       "      <td>324</td>\n",
       "    </tr>\n",
       "  </tbody>\n",
       "</table>\n",
       "</div>"
      ],
      "text/plain": [
       "   X  Y  Elevation\n",
       "0  0  0        423\n",
       "1  1  1        484\n",
       "2  2  2        283\n",
       "3  3  3        435\n",
       "4  4  4        324"
      ]
     },
     "execution_count": 8,
     "metadata": {},
     "output_type": "execute_result"
    }
   ],
   "source": [
    "raster_data = {\n",
    "    \"X\": [0, 1, 2, 3, 4],\n",
    "    \"Y\": [0, 1, 2, 3, 4],\n",
    "    \"Elevation\": np.random.randint(100, 500, size=5)  # Random elevation values\n",
    "}\n",
    "\n",
    "df_raster = pd.DataFrame(raster_data)\n",
    "df_raster"
   ]
  },
  {
   "cell_type": "code",
   "execution_count": 14,
   "id": "9cf4f12d-110e-4849-9ff2-60a759bc1e78",
   "metadata": {
    "tags": []
   },
   "outputs": [
    {
     "data": {
      "image/png": "[encoded data removed]",
      "text/plain": [
       "<Figure size 600x500 with 2 Axes>"
      ]
     },
     "metadata": {},
     "output_type": "display_data"
    }
   ],
   "source": [
    "x = np.array(df_raster[\"X\"])\n",
    "y = np.array(df_raster[\"Y\"])\n",
    "z = np.array(df_raster[\"Elevation\"])\n",
    "\n",
    "# Create a 2D Grid for plotting\n",
    "X, Y = np.meshgrid(x, y)\n",
    "Z = np.random.randint(100, 500, size=(5, 5))  # Generate a random elevation grid\n",
    "\n",
    "# Plot Raster Data using imshow\n",
    "plt.figure(figsize=(6, 5))\n",
    "plt.imshow(Z, cmap=\"terrain\", origin=\"lower\", extent=[0, 4, 0, 4])\n",
    "plt.colorbar(label=\"Elevation (m)\")\n",
    "plt.xlabel(\"X Coordinate\")\n",
    "plt.ylabel(\"Y Coordinate\")\n",
    "plt.title(\"Raster Data Visualization (Elevation Map)\")\n",
    "\n",
    "plt.show()\n"
   ]
  },
  {
   "cell_type": "markdown",
   "id": "21658a80-d021-46be-81b5-37e4c370b70d",
   "metadata": {},
   "source": [
    "<body style=\"font-family: Sans-serif;\">\n",
    "    <div style=\"color: black; font-size: 18px; font-style: oblique; text-shadow: 0 0 3px white, 0 0 1px black; padding: 20px;\">\n",
    "       Time Series vs Spatial Data\n",
    "        <ul>Time Series Data: \n",
    "            <ul>Time ke basis par change hone wala data (e.g., temperature, stock market).</ul>\n",
    "            <ul>Spatial Data: Location ke basis par change hone wala data (e.g., cities, elevation, land use).</ul>\n",
    "</ul>\n",
    "Spatial Data ka focus location hota hai, jabke Time Series Data ka focus time hota hai\n",
    "</div>\n",
    "</body>"
   ]
  },
  {
   "cell_type": "markdown",
   "id": "3cbdb65b-6a78-45b7-9f7b-786605b822bd",
   "metadata": {},
   "source": [
    "\n"
   ]
  }
 ],
 "metadata": {
  "kernelspec": {
   "display_name": "Python 3 (ipykernel)",
   "language": "python",
   "name": "python3"
  },
  "language_info": {
   "codemirror_mode": {
    "name": "ipython",
    "version": 3
   },
   "file_extension": ".py",
   "mimetype": "text/x-python",
   "name": "python",
   "nbconvert_exporter": "python",
   "pygments_lexer": "ipython3",
   "version": "3.10.12"
  }
 },
 "nbformat": 4,
 "nbformat_minor": 5
}
