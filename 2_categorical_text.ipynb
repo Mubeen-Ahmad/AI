{
 "cells": [
  {
   "cell_type": "markdown",
   "id": "aca3585c-b585-4773-ad09-4b8f537e7319",
   "metadata": {},
   "source": [
    "<h1 style=\"text-align:center; color:#005bbd; font-size:20px; font-family:Sans-serif; font-style: oblique; text-shadow: 0 0 3px white, 0 0 1px Black;\">\n",
    "   Categorical Data \n",
    "</h1>"
   ]
  },
  {
   "cell_type": "markdown",
   "id": "f6f06894-9dbb-4c68-ad4c-0b7afce553ae",
   "metadata": {},
   "source": [
    "<body style=\"font-family: Sans-serif;\">\n",
    "    <div style=\"color: black; font-size: 18px; font-style: oblique; text-shadow: 0 0 3px white, 0 0 1px black; padding: 20px;\">\n",
    "       <p>Categorical data wo data hota hai jo specific categories ko represent karta hai.<br>Categorical data ko usually labels ya tags ke form mein store kiya jata hai</p>\n",
    "        <ul>Types of Categorical Data:\n",
    "            <hr>\n",
    "            <ul>Nominal Data: \n",
    "                <ul>Yeh wo data hota hai jisme categories ka koi specific order nahi hota. \n",
    "                    <br><br>Examples:<br><br>\n",
    "                        <ul>\n",
    "                            <li>Colors: \n",
    "                                <ul>\n",
    "                                    Red, Blue, Green</ul>\n",
    "                        <li>\n",
    "                            Cities: \n",
    "                            <ul>Lahore, Karachi, Islamabad</ul>\n",
    "                        <li>\n",
    "                            Fruits:\n",
    "                            <ul>Apple, Banana, Mango</ul></ul></ul></ul>\n",
    "                <hr>\n",
    "                <ul>Ordinal Data\n",
    "                <ul>Isme categories ka ek natural order hota hai, lekin unke beech ka difference equal nahi hota\n",
    "                    <br><br>Examples:<br><br>\n",
    "                        <ul>\n",
    "                            <li>Education Level: \n",
    "                                <ul>\n",
    "                                   High School -> Bachelor's -> Master's -> PhD</ul>\n",
    "                        <li>\n",
    "                            Rating: \n",
    "                            <ul>Poor -> Average -> Good -> Excellent</ul>\n",
    "                        <li>\n",
    "                            Size:\n",
    "                            <ul>Small -> Medium -> Large</ul>\n",
    "                    </div>\n",
    "</body>"
   ]
  },
  {
   "cell_type": "code",
   "execution_count": 12,
   "id": "85c3f6db-b392-489e-acb0-add2209536a9",
   "metadata": {
    "tags": []
   },
   "outputs": [
    {
     "data": {
      "text/html": [
       "<div>\n",
       "<style scoped>\n",
       "    .dataframe tbody tr th:only-of-type {\n",
       "        vertical-align: middle;\n",
       "    }\n",
       "\n",
       "    .dataframe tbody tr th {\n",
       "        vertical-align: top;\n",
       "    }\n",
       "\n",
       "    .dataframe thead th {\n",
       "        text-align: right;\n",
       "    }\n",
       "</style>\n",
       "<table border=\"1\" class=\"dataframe\">\n",
       "  <thead>\n",
       "    <tr style=\"text-align: right;\">\n",
       "      <th></th>\n",
       "      <th>Colors</th>\n",
       "      <th>Cities</th>\n",
       "      <th>Fruits</th>\n",
       "    </tr>\n",
       "  </thead>\n",
       "  <tbody>\n",
       "    <tr>\n",
       "      <th>0</th>\n",
       "      <td>Red</td>\n",
       "      <td>Lahore</td>\n",
       "      <td>Apple</td>\n",
       "    </tr>\n",
       "    <tr>\n",
       "      <th>1</th>\n",
       "      <td>Blue</td>\n",
       "      <td>Karachi</td>\n",
       "      <td>Banana</td>\n",
       "    </tr>\n",
       "    <tr>\n",
       "      <th>2</th>\n",
       "      <td>Green</td>\n",
       "      <td>Islamabad</td>\n",
       "      <td>Mango</td>\n",
       "    </tr>\n",
       "    <tr>\n",
       "      <th>3</th>\n",
       "      <td>Blue</td>\n",
       "      <td>Lahore</td>\n",
       "      <td>Apple</td>\n",
       "    </tr>\n",
       "    <tr>\n",
       "      <th>4</th>\n",
       "      <td>Red</td>\n",
       "      <td>Karachi</td>\n",
       "      <td>Mango</td>\n",
       "    </tr>\n",
       "  </tbody>\n",
       "</table>\n",
       "</div>"
      ],
      "text/plain": [
       "  Colors     Cities  Fruits\n",
       "0    Red     Lahore   Apple\n",
       "1   Blue    Karachi  Banana\n",
       "2  Green  Islamabad   Mango\n",
       "3   Blue     Lahore   Apple\n",
       "4    Red    Karachi   Mango"
      ]
     },
     "execution_count": 12,
     "metadata": {},
     "output_type": "execute_result"
    }
   ],
   "source": [
    "import pandas as pd\n",
    "\n",
    "# Nominal Data\n",
    "data = {\n",
    "    \"Colors\": pd.Categorical([\"Red\", \"Blue\", \"Green\", \"Blue\", \"Red\"]),\n",
    "    \"Cities\": pd.Categorical([\"Lahore\", \"Karachi\", \"Islamabad\", \"Lahore\", \"Karachi\"]),\n",
    "    \"Fruits\": pd.Categorical([\"Apple\", \"Banana\", \"Mango\", \"Apple\", \"Mango\"])\n",
    "}\n",
    "\n",
    "\n",
    "df_nominal = pd.DataFrame(data)\n",
    "df_nominal "
   ]
  },
  {
   "cell_type": "code",
   "execution_count": 13,
   "id": "566edd02-eefd-4c37-8bcf-f05655157895",
   "metadata": {
    "tags": []
   },
   "outputs": [
    {
     "data": {
      "text/html": [
       "<div>\n",
       "<style scoped>\n",
       "    .dataframe tbody tr th:only-of-type {\n",
       "        vertical-align: middle;\n",
       "    }\n",
       "\n",
       "    .dataframe tbody tr th {\n",
       "        vertical-align: top;\n",
       "    }\n",
       "\n",
       "    .dataframe thead th {\n",
       "        text-align: right;\n",
       "    }\n",
       "</style>\n",
       "<table border=\"1\" class=\"dataframe\">\n",
       "  <thead>\n",
       "    <tr style=\"text-align: right;\">\n",
       "      <th></th>\n",
       "      <th>Education Level</th>\n",
       "      <th>Rating</th>\n",
       "      <th>Size</th>\n",
       "    </tr>\n",
       "  </thead>\n",
       "  <tbody>\n",
       "    <tr>\n",
       "      <th>0</th>\n",
       "      <td>Bachelor's</td>\n",
       "      <td>Good</td>\n",
       "      <td>Medium</td>\n",
       "    </tr>\n",
       "    <tr>\n",
       "      <th>1</th>\n",
       "      <td>PhD</td>\n",
       "      <td>Poor</td>\n",
       "      <td>Large</td>\n",
       "    </tr>\n",
       "    <tr>\n",
       "      <th>2</th>\n",
       "      <td>Master's</td>\n",
       "      <td>Excellent</td>\n",
       "      <td>Small</td>\n",
       "    </tr>\n",
       "    <tr>\n",
       "      <th>3</th>\n",
       "      <td>High School</td>\n",
       "      <td>Average</td>\n",
       "      <td>Medium</td>\n",
       "    </tr>\n",
       "  </tbody>\n",
       "</table>\n",
       "</div>"
      ],
      "text/plain": [
       "  Education Level     Rating    Size\n",
       "0      Bachelor's       Good  Medium\n",
       "1             PhD       Poor   Large\n",
       "2        Master's  Excellent   Small\n",
       "3     High School    Average  Medium"
      ]
     },
     "execution_count": 13,
     "metadata": {},
     "output_type": "execute_result"
    }
   ],
   "source": [
    "education_order = [\"High School\", \"Bachelor's\", \"Master's\", \"PhD\"]\n",
    "rating_order = [\"Poor\", \"Average\", \"Good\", \"Excellent\"]\n",
    "size_order = [\"Small\", \"Medium\", \"Large\"]\n",
    "\n",
    "# Creating Ordered Categorical Data\n",
    "data_ordinal = {\n",
    "    \"Education Level\": pd.Categorical([\"Bachelor's\", \"PhD\", \"Master's\", \"High School\"], categories=education_order, ordered=True),\n",
    "    \"Rating\": pd.Categorical([\"Good\", \"Poor\", \"Excellent\", \"Average\"], categories=rating_order, ordered=True),\n",
    "    \"Size\": pd.Categorical([\"Medium\", \"Large\", \"Small\", \"Medium\"], categories=size_order, ordered=True)\n",
    "}\n",
    "\n",
    "df_ordinal = pd.DataFrame(data_ordinal)\n",
    "df_ordinal"
   ]
  },
  {
   "cell_type": "markdown",
   "id": "8975461e-84c7-4fac-a402-c4377f749fb2",
   "metadata": {},
   "source": [
    "<h1 style=\"text-align:center; color:#005bbd; font-size:20px; font-family:Sans-serif; font-style: oblique; text-shadow: 0 0 3px white, 0 0 1px Black;\">\n",
    "   Text Data \n",
    "</h1>"
   ]
  },
  {
   "cell_type": "markdown",
   "id": "f62a1364-d5b8-4f7b-867e-d482749a3c79",
   "metadata": {},
   "source": [
    "<body style=\"font-family: Sans-serif;\">\n",
    "    <div style=\"color: black; font-size: 18px; font-style: oblique; text-shadow: 0 0 3px white, 0 0 1px black; padding: 20px;\">\n",
    "       <p>Text data wo data hota hai jo human-readable text ke form mein hota hai.<br>\n",
    "           Yeh usually long strings of text hote hain, jaise reviews, tweets, or any free-text content. <br>Text data ko natural language processing (NLP) tasks mein use kiya jata hai.\n",
    "           <ul>Examples of Text Data:\n",
    "               <ul><li>Reviews: \"The movie was amazing, I really enjoyed it!\"</ul>\n",
    "               <ul><li>Tweets: \"Loving the new phone I bought today!\"</ul>\n",
    "               <ul><li>Comments: \"Great product, will recommend to others!\"</ul>\n",
    "        </ul></div>\n",
    "</body>"
   ]
  }
 ],
 "metadata": {
  "kernelspec": {
   "display_name": "Python 3 (ipykernel)",
   "language": "python",
   "name": "python3"
  },
  "language_info": {
   "codemirror_mode": {
    "name": "ipython",
    "version": 3
   },
   "file_extension": ".py",
   "mimetype": "text/x-python",
   "name": "python",
   "nbconvert_exporter": "python",
   "pygments_lexer": "ipython3",
   "version": "3.10.12"
  }
 },
 "nbformat": 4,
 "nbformat_minor": 5
}
