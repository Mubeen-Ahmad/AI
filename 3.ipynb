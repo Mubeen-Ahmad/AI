{
 "cells": [
  {
   "cell_type": "markdown",
   "id": "dfa4f56b-e673-4fcc-9d0a-1afe81401552",
   "metadata": {},
   "source": [
    "<h1 style=\"text-align:center; color:#005bbd; font-size:20px; font-family:Sans-serif; font-style: oblique; text-shadow: 0 0 3px white, 0 0 1px Black;\">\n",
    "   Un Group Data\n",
    "</h1>"
   ]
  },
  {
   "cell_type": "markdown",
   "id": "bbc17092-502f-48d3-8866-f20961bed61d",
   "metadata": {},
   "source": [
    "<body style=\"font-family: Sans-serif;\">\n",
    "    <div style=\"color: black; font-size: 18px; font-style: oblique; text-shadow: 0 0 3px white, 0 0 1px black; padding: 20px;\">\n",
    "<p>Ungrouped data woh hota hai jisme har individual value alag alag hoti hai, bina kisi group ya class ke.</p>\n",
    "\n",
    "```\n",
    "Marks of 6 students = [56, 72, 64, 64, 90, 72]\n",
    "```\n",
    "</div>\n",
    "</body>"
   ]
  },
  {
   "cell_type": "code",
   "execution_count": 4,
   "id": "3bc3e2de-75ad-4a8c-aa41-0f6ac503a06d",
   "metadata": {},
   "outputs": [],
   "source": [
    "import pandas as pd"
   ]
  },
  {
   "cell_type": "code",
   "execution_count": 10,
   "id": "669e1f57-24a6-4345-9eb7-e79247263d72",
   "metadata": {},
   "outputs": [
    {
     "data": {
      "text/html": [
       "<div>\n",
       "<style scoped>\n",
       "    .dataframe tbody tr th:only-of-type {\n",
       "        vertical-align: middle;\n",
       "    }\n",
       "\n",
       "    .dataframe tbody tr th {\n",
       "        vertical-align: top;\n",
       "    }\n",
       "\n",
       "    .dataframe thead th {\n",
       "        text-align: right;\n",
       "    }\n",
       "</style>\n",
       "<table border=\"1\" class=\"dataframe\">\n",
       "  <thead>\n",
       "    <tr style=\"text-align: right;\">\n",
       "      <th></th>\n",
       "      <th>Students</th>\n",
       "    </tr>\n",
       "  </thead>\n",
       "  <tbody>\n",
       "    <tr>\n",
       "      <th>0</th>\n",
       "      <td>56</td>\n",
       "    </tr>\n",
       "    <tr>\n",
       "      <th>1</th>\n",
       "      <td>72</td>\n",
       "    </tr>\n",
       "    <tr>\n",
       "      <th>2</th>\n",
       "      <td>64</td>\n",
       "    </tr>\n",
       "    <tr>\n",
       "      <th>3</th>\n",
       "      <td>64</td>\n",
       "    </tr>\n",
       "    <tr>\n",
       "      <th>4</th>\n",
       "      <td>90</td>\n",
       "    </tr>\n",
       "    <tr>\n",
       "      <th>5</th>\n",
       "      <td>72</td>\n",
       "    </tr>\n",
       "  </tbody>\n",
       "</table>\n",
       "</div>"
      ],
      "text/plain": [
       "   Students\n",
       "0        56\n",
       "1        72\n",
       "2        64\n",
       "3        64\n",
       "4        90\n",
       "5        72"
      ]
     },
     "execution_count": 10,
     "metadata": {},
     "output_type": "execute_result"
    }
   ],
   "source": [
    "pd.DataFrame({\"Students\": [56, 72, 64, 64, 90, 72]})"
   ]
  },
  {
   "cell_type": "markdown",
   "id": "73310cf7-0538-4487-ad30-db0b65923a17",
   "metadata": {},
   "source": [
    "<h1 style=\"text-align:center; color:#005bbd; font-size:20px; font-family:Sans-serif; font-style: oblique; text-shadow: 0 0 3px white, 0 0 1px Black;\">\n",
    "   Un Group Data\n",
    "</h1>"
   ]
  },
  {
   "cell_type": "markdown",
   "id": "64aef878-9795-41f6-8f7a-57f4d536dd1d",
   "metadata": {},
   "source": [
    "<body style=\"font-family: Sans-serif;\">\n",
    "    <div style=\"color: black; font-size: 18px; font-style: oblique; text-shadow: 0 0 3px white, 0 0 1px black; padding: 20px;\">\n",
    "\n",
    "- #### Grouped data woh hota hai jahan raw data ko classes ya intervals mein group kiya jata hai.\n",
    "- Har class ke sath frequency hoti hai (kitni dafa value ayi)\n",
    "\n",
    "</div>\n",
    "</body>"
   ]
  },
  {
   "cell_type": "code",
   "execution_count": 7,
   "id": "1210be04-0a0a-4948-afcc-fec0af8c22b9",
   "metadata": {},
   "outputs": [
    {
     "data": {
      "text/html": [
       "<div>\n",
       "<style scoped>\n",
       "    .dataframe tbody tr th:only-of-type {\n",
       "        vertical-align: middle;\n",
       "    }\n",
       "\n",
       "    .dataframe tbody tr th {\n",
       "        vertical-align: top;\n",
       "    }\n",
       "\n",
       "    .dataframe thead th {\n",
       "        text-align: right;\n",
       "    }\n",
       "</style>\n",
       "<table border=\"1\" class=\"dataframe\">\n",
       "  <thead>\n",
       "    <tr style=\"text-align: right;\">\n",
       "      <th></th>\n",
       "      <th>Marks</th>\n",
       "      <th>Frequency</th>\n",
       "    </tr>\n",
       "  </thead>\n",
       "  <tbody>\n",
       "    <tr>\n",
       "      <th>0</th>\n",
       "      <td>0 - 10</td>\n",
       "      <td>2</td>\n",
       "    </tr>\n",
       "    <tr>\n",
       "      <th>1</th>\n",
       "      <td>10 - 20</td>\n",
       "      <td>3</td>\n",
       "    </tr>\n",
       "    <tr>\n",
       "      <th>2</th>\n",
       "      <td>20 - 30</td>\n",
       "      <td>5</td>\n",
       "    </tr>\n",
       "    <tr>\n",
       "      <th>3</th>\n",
       "      <td>30 - 40</td>\n",
       "      <td>4</td>\n",
       "    </tr>\n",
       "  </tbody>\n",
       "</table>\n",
       "</div>"
      ],
      "text/plain": [
       "     Marks  Frequency\n",
       "0   0 - 10          2\n",
       "1  10 - 20          3\n",
       "2  20 - 30          5\n",
       "3  30 - 40          4"
      ]
     },
     "execution_count": 7,
     "metadata": {},
     "output_type": "execute_result"
    }
   ],
   "source": [
    "data = {\n",
    "    \"Marks\": [\n",
    "        \"0 - 10\",\n",
    "        \"10 - 20\",\n",
    "        \"20 - 30\",\n",
    "        \"30 - 40\"\n",
    "    ],\n",
    "    \"Frequency\":[2,3,5,4]\n",
    "}\n",
    "pd.DataFrame(data)"
   ]
  },
  {
   "cell_type": "markdown",
   "id": "cac45244-910c-4618-8d4c-a09c98fedc80",
   "metadata": {},
   "source": [
    "<body style=\"font-family: Sans-serif;\">\n",
    "    <div style=\"color: black; font-size: 18px; font-style: oblique; text-shadow: 0 0 3px white, 0 0 1px black; padding: 20px;\">\n",
    "<p>Yahan 0-10, 10-20 etc groups hain, aur har group mein kitni values hain (frequency).</p>\n",
    "</div>\n",
    "</body>\n"
   ]
  },
  {
   "cell_type": "markdown",
   "id": "aea673d6-4ab2-4e29-ad6d-63be8ed8abaa",
   "metadata": {},
   "source": [
    "<body style=\"font-family: Sans-serif;\">\n",
    "    <div style=\"color: black; font-size: 18px; font-style: oblique; text-shadow: 0 0 3px white, 0 0 1px black; padding: 20px;\">\n",
    "        \n",
    "| # | Advantages                                                                                                                                                  |\n",
    "| ------ | ---------------------------------------------------------------------------------------------------------------------------------------------------------- |\n",
    "| 1    | **Data ko summarize karna asaan ho jata hai** – bohat saari values ko few classes mein divide kar k analysis simple hota hai.                              |\n",
    "| 2    | **Large datasets ko handle karna easy hota hai** – jab data bohat zyada ho (1000s of records), grouping se readability aur visualization improve hoti hai. |\n",
    "| 3️    | **Visual representation possible hota hai** – histograms, ogives, frequency polygons waghera sirf grouped data pe banaye jate hain.                        |\n",
    "| 4    | **Trends easily dikhai dete hain** – jese kis range mein zyada values aa rahi hain, kis interval mein kam.                                                 |\n",
    "| 5    | **Statistical analysis scalable hota hai** – grouped data se efficient algorithms bana sakte hain (e.g., decision trees, binning in ML).                   |\n",
    "</div>"
   ]
  },
  {
   "cell_type": "markdown",
   "id": "d851ce13-03de-4e47-ad39-760121d1762a",
   "metadata": {},
   "source": [
    "<body style=\"font-family: Sans-serif;\">\n",
    "    <div style=\"color: black; font-size: 18px; font-style: oblique; text-shadow: 0 0 3px white, 0 0 1px black; padding: 20px;\">\n",
    "        \n",
    "\n",
    "\n",
    "| # | Disadvantages                                                                                                              |\n",
    "| ------ | --------------------------------------------------------------------------------------------------------------------- |\n",
    "|1    | **Data loss hota hai (accuracy loose hoti hai)** – actual values chhup jati hain, sirf intervals bachte hain.         |\n",
    "|2    | **Har class mein exact value ka pata nahi hota** – sirf midpoint assume karte hain, jo approximation hota hai.        |\n",
    "|3    | **Wrong grouping misleading ho sakti hai** – agar class width sahi select na ho to patterns galat lag sakte hain.     |\n",
    "|4    | **Manual grouping time-consuming ho sakta hai** – agar automatic binning use na ho to grouping mein effort lagta hai. |\n"
   ]
  },
  {
   "cell_type": "markdown",
   "id": "b654898c-dcfe-4fcb-9686-38a6d7dbedfa",
   "metadata": {},
   "source": [
    "<body style=\"font-family: Sans-serif;\">\n",
    "    <div style=\"color: black; font-size: 18px; font-style: oblique; text-shadow: 0 0 3px white, 0 0 1px black; padding: 20px;\">\n",
    "        \n",
    "Example :\n",
    "- Suppose aap ek ML model train kar rahe ho jo bataye ga:\n",
    "- Kis age group ke log zyada shopping karte hain?"
   ]
  },
  {
   "cell_type": "code",
   "execution_count": 15,
   "id": "de44e7d7-ecb5-44d4-9bf2-d6a9349510b0",
   "metadata": {},
   "outputs": [
    {
     "data": {
      "text/html": [
       "<div>\n",
       "<style scoped>\n",
       "    .dataframe tbody tr th:only-of-type {\n",
       "        vertical-align: middle;\n",
       "    }\n",
       "\n",
       "    .dataframe tbody tr th {\n",
       "        vertical-align: top;\n",
       "    }\n",
       "\n",
       "    .dataframe thead th {\n",
       "        text-align: right;\n",
       "    }\n",
       "</style>\n",
       "<table border=\"1\" class=\"dataframe\">\n",
       "  <thead>\n",
       "    <tr style=\"text-align: right;\">\n",
       "      <th></th>\n",
       "      <th>Customer Ages</th>\n",
       "    </tr>\n",
       "  </thead>\n",
       "  <tbody>\n",
       "    <tr>\n",
       "      <th>0</th>\n",
       "      <td>18</td>\n",
       "    </tr>\n",
       "    <tr>\n",
       "      <th>1</th>\n",
       "      <td>22</td>\n",
       "    </tr>\n",
       "    <tr>\n",
       "      <th>2</th>\n",
       "      <td>25</td>\n",
       "    </tr>\n",
       "    <tr>\n",
       "      <th>3</th>\n",
       "      <td>30</td>\n",
       "    </tr>\n",
       "    <tr>\n",
       "      <th>4</th>\n",
       "      <td>34</td>\n",
       "    </tr>\n",
       "    <tr>\n",
       "      <th>5</th>\n",
       "      <td>36</td>\n",
       "    </tr>\n",
       "    <tr>\n",
       "      <th>6</th>\n",
       "      <td>37</td>\n",
       "    </tr>\n",
       "    <tr>\n",
       "      <th>7</th>\n",
       "      <td>40</td>\n",
       "    </tr>\n",
       "    <tr>\n",
       "      <th>8</th>\n",
       "      <td>43</td>\n",
       "    </tr>\n",
       "    <tr>\n",
       "      <th>9</th>\n",
       "      <td>50</td>\n",
       "    </tr>\n",
       "    <tr>\n",
       "      <th>10</th>\n",
       "      <td>52</td>\n",
       "    </tr>\n",
       "    <tr>\n",
       "      <th>11</th>\n",
       "      <td>55</td>\n",
       "    </tr>\n",
       "  </tbody>\n",
       "</table>\n",
       "</div>"
      ],
      "text/plain": [
       "    Customer Ages\n",
       "0              18\n",
       "1              22\n",
       "2              25\n",
       "3              30\n",
       "4              34\n",
       "5              36\n",
       "6              37\n",
       "7              40\n",
       "8              43\n",
       "9              50\n",
       "10             52\n",
       "11             55"
      ]
     },
     "execution_count": 15,
     "metadata": {},
     "output_type": "execute_result"
    }
   ],
   "source": [
    "ungroup_data = [18, 22, 25, 30, 34, 36, 37, 40, 43, 50, 52, 55]\n",
    "\n",
    "df = pd.DataFrame(ungroup_data,columns=[\"Customer Ages\"])\n",
    "df"
   ]
  },
  {
   "cell_type": "markdown",
   "id": "d229e301-4274-44ac-8be0-e69a3eb3550d",
   "metadata": {},
   "source": [
    "<body style=\"font-family: Sans-serif;\">\n",
    "    <div style=\"color: black; font-size: 18px; font-style: oblique; text-shadow: 0 0 3px white, 0 0 1px black; padding: 20px;\">\n",
    "\n",
    "Grouped data ko feature engineering mein use karte hain like (binning):"
   ]
  },
  {
   "cell_type": "code",
   "execution_count": 18,
   "id": "8cd1c69d-c635-4013-ab28-8a5a8c4bb206",
   "metadata": {},
   "outputs": [
    {
     "data": {
      "text/html": [
       "<div>\n",
       "<style scoped>\n",
       "    .dataframe tbody tr th:only-of-type {\n",
       "        vertical-align: middle;\n",
       "    }\n",
       "\n",
       "    .dataframe tbody tr th {\n",
       "        vertical-align: top;\n",
       "    }\n",
       "\n",
       "    .dataframe thead th {\n",
       "        text-align: right;\n",
       "    }\n",
       "</style>\n",
       "<table border=\"1\" class=\"dataframe\">\n",
       "  <thead>\n",
       "    <tr style=\"text-align: right;\">\n",
       "      <th></th>\n",
       "      <th>Customer Ages</th>\n",
       "      <th>AgeGroup</th>\n",
       "    </tr>\n",
       "  </thead>\n",
       "  <tbody>\n",
       "    <tr>\n",
       "      <th>0</th>\n",
       "      <td>18</td>\n",
       "      <td>18-25</td>\n",
       "    </tr>\n",
       "    <tr>\n",
       "      <th>1</th>\n",
       "      <td>22</td>\n",
       "      <td>18-25</td>\n",
       "    </tr>\n",
       "    <tr>\n",
       "      <th>2</th>\n",
       "      <td>25</td>\n",
       "      <td>18-25</td>\n",
       "    </tr>\n",
       "    <tr>\n",
       "      <th>3</th>\n",
       "      <td>30</td>\n",
       "      <td>26-35</td>\n",
       "    </tr>\n",
       "    <tr>\n",
       "      <th>4</th>\n",
       "      <td>34</td>\n",
       "      <td>26-35</td>\n",
       "    </tr>\n",
       "    <tr>\n",
       "      <th>5</th>\n",
       "      <td>36</td>\n",
       "      <td>36-45</td>\n",
       "    </tr>\n",
       "    <tr>\n",
       "      <th>6</th>\n",
       "      <td>37</td>\n",
       "      <td>36-45</td>\n",
       "    </tr>\n",
       "    <tr>\n",
       "      <th>7</th>\n",
       "      <td>40</td>\n",
       "      <td>36-45</td>\n",
       "    </tr>\n",
       "    <tr>\n",
       "      <th>8</th>\n",
       "      <td>43</td>\n",
       "      <td>36-45</td>\n",
       "    </tr>\n",
       "    <tr>\n",
       "      <th>9</th>\n",
       "      <td>50</td>\n",
       "      <td>46-60</td>\n",
       "    </tr>\n",
       "    <tr>\n",
       "      <th>10</th>\n",
       "      <td>52</td>\n",
       "      <td>46-60</td>\n",
       "    </tr>\n",
       "    <tr>\n",
       "      <th>11</th>\n",
       "      <td>55</td>\n",
       "      <td>46-60</td>\n",
       "    </tr>\n",
       "  </tbody>\n",
       "</table>\n",
       "</div>"
      ],
      "text/plain": [
       "    Customer Ages AgeGroup\n",
       "0              18    18-25\n",
       "1              22    18-25\n",
       "2              25    18-25\n",
       "3              30    26-35\n",
       "4              34    26-35\n",
       "5              36    36-45\n",
       "6              37    36-45\n",
       "7              40    36-45\n",
       "8              43    36-45\n",
       "9              50    46-60\n",
       "10             52    46-60\n",
       "11             55    46-60"
      ]
     },
     "execution_count": 18,
     "metadata": {},
     "output_type": "execute_result"
    }
   ],
   "source": [
    "bins = [17, 25, 35, 45, 60]\n",
    "labels = ['18-25', '26-35', '36-45', '46-60']\n",
    "df['AgeGroup'] = pd.cut(df['Customer Ages'], bins=bins, labels=labels)\n",
    "df"
   ]
  },
  {
   "cell_type": "markdown",
   "id": "4578e3cc-3d9a-453d-9091-e9a121234855",
   "metadata": {},
   "source": [
    "<body style=\"font-family: Sans-serif;\">\n",
    "    <div style=\"color: black; font-size: 18px; font-style: oblique; text-shadow: 0 0 3px white, 0 0 1px black; padding: 20px;\">\n",
    "\n",
    "| **Use Case**                          | **Grouped Data**                                                                                                                                                        | **Ungrouped Data**                                                                                                                                               |\n",
    "| ------------------------------------- | ----------------------------------------------------------------------------------------------------------------------------------------------------------------------- | ---------------------------------------------------------------------------------------------------------------------------------------------------------------- |\n",
    "| **1. Data Size**                      | **Large Datasets**<br>Jab data bohot zyada ho aur individual values ko track karna mushkil ho.                                                                          | **Small Datasets**<br>Jab data ka size chhota ho, har individual value ko track kiya ja sakta hai.                                                               |\n",
    "| **2. Trend Analysis**                 | **Trend Identification**<br>Jab aapko data ka **general trend** ya pattern dekhna ho (e.g., sales, temperature).                                                        | **Exact Pattern**<br>Agar aapko kisi specific pattern ka **exact analysis** chahiye ho, jaise fraud detection ya anomaly detection.                              |\n",
    "| **3. Data Visualization**             | **Visualization**<br>Jab aapko **histograms, bar charts, frequency polygons** banani ho.                                                                                | **Raw Data Visualizations**<br>Individual values ki **scatter plots** ya time series graphs banani ho.                                                           |\n",
    "| **4. Noise Reduction**                | **Noise Reduction**<br>Grouped data se **random fluctuations** ya noise ko reduce kiya jata hai (e.g., averaging over bins).                                            | **High Variability**<br>Jab data mein **high variability** ho aur har value ka impact samajhna ho.                                                               |\n",
    "| **5. Model Training**                 | **Feature Engineering**<br>Jab aapko **classification** ya **regression models** ke liye features binning (e.g., age groups, salary ranges) create karni ho.            | **Detailed Learning**<br>Jab aap **deep learning models** train kar rahe ho, jisme har data point ka individual importance ho (e.g., image classification, NLP). |\n",
    "| **6. Time-Series or Sequential Data** | **Aggregated Time Data**<br>Jab aapko time intervals mein data ko **bin** karna ho (e.g., daily average temperature, weekly sales).                                     | **High-Resolution Time-Series**<br>Agar aapko **exact timestamps** track karne ho (e.g., stock market prices, IoT sensor readings).                              |\n",
    "| **7. Anomaly or Fraud Detection**     | **Not Ideal**<br>Grouped data may miss anomalies due to grouping (approximation).                                                                                       | **Ideal for Anomalies**<br>Individual points (e.g., transaction amount, time of occurrence) are crucial to detect outliers in fraud detection.                   |\n",
    "| **8. Regression Models**              | **Binning for Regression**<br>Grouped data ko use karke **predictive models** mein class intervals ka use kiya jata hai (e.g., logistic regression with age intervals). | **Precise Predictions**<br>Jab aapko **precise predictions** chahiye ho based on exact data points (e.g., house price prediction based on exact square footage). |\n",
    "| **9. Machine Learning Algorithms**    | **Decision Trees / Random Forest**<br>**Binned Features** use hoti hain grouped data mein, jese \"age group\" ko ek feature ke tor pe treat kiya jata hai.                | **Deep Learning**<br>**Neural Networks** mein exact data points ka analysis hota hai, jese **image pixel data** ya **text embeddings**.                          |\n",
    "| **10. Feature Extraction in AI**      | **Feature Binning**<br>Group data ko **features** ke tor pe use kiya jata hai (e.g., grouping income into categories).                                                  | **Fine-grained Features**<br>Jab **fine-grained** features chahiye ho, jese **individual sentence embedding** for NLP tasks.                                     |\n"
   ]
  },
  {
   "cell_type": "code",
   "execution_count": null,
   "id": "f248dc7a-0211-4757-84f3-20d4e8060406",
   "metadata": {},
   "outputs": [],
   "source": [
    "<h1 style=\"text-align:center; color:#005bbd; font-size:20px; font-family:Sans-serif; font-style: oblique; text-shadow: 0 0 3px white, 0 0 1px Black;\">\n",
    "   Un Group Data\n",
    "</h1>"
   ]
  }
 ],
 "metadata": {
  "kernelspec": {
   "display_name": "Python 3 (ipykernel)",
   "language": "python",
   "name": "python3"
  },
  "language_info": {
   "codemirror_mode": {
    "name": "ipython",
    "version": 3
   },
   "file_extension": ".py",
   "mimetype": "text/x-python",
   "name": "python",
   "nbconvert_exporter": "python",
   "pygments_lexer": "ipython3",
   "version": "3.12.11"
  },
  "widgets": {
   "application/vnd.jupyter.widget-state+json": {
    "state": {},
    "version_major": 2,
    "version_minor": 0
   }
  }
 },
 "nbformat": 4,
 "nbformat_minor": 5
}
