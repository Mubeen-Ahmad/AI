{
 "cells": [
  {
   "cell_type": "markdown",
   "id": "66d8a019-04cf-42be-a628-de49abc5af05",
   "metadata": {},
   "source": [
    "<h1 style=\"text-align:center; color:#005bbd; font-size:20px; font-family:Sans-serif; font-style: oblique; text-shadow: 0 0 3px white, 0 0 1px Black;\">\n",
    "   Measures of Dispersion\n",
    "</h1>"
   ]
  },
  {
   "cell_type": "markdown",
   "id": "e04a49e3-421c-486e-95eb-eac109c3723a",
   "metadata": {},
   "source": [
    "<body style=\"font-family: Sans-serif;\">\n",
    "    <div style=\"color: black; font-size: 18px; font-style: oblique; text-shadow: 0 0 3px white, 0 0 1px black; padding: 20px;\">\n",
    "\n",
    "Measures of dispersion se hum data ki spread ya variability samajhte hain.\n",
    "- Iska matlab hai ke data kitna spread out hai apne mean ke around. \n",
    "- Yeh data ke variability ko measure karte hain."
   ]
  },
  {
   "cell_type": "markdown",
   "id": "ba9fbe6c-825f-4fa2-93ea-fe5691cdc8bc",
   "metadata": {},
   "source": [
    "<body style=\"font-family: Sans-serif;\">\n",
    "    <div style=\"color: black; font-size: 18px; font-style: oblique; text-shadow: 0 0 3px white, 0 0 1px black; padding: 20px;\">\n",
    "\n",
    "1 Range:\n",
    "- Range batata hai ke data kitna spread hai:\n",
    "  <img src=\"./images/20.jpg\" style=\"width: 60%; display: block; margin-left: auto; margin-right: auto;\">"
   ]
  },
  {
   "cell_type": "code",
   "execution_count": 53,
   "id": "e0ef59b7-9939-405d-af19-a4c14f11b80f",
   "metadata": {},
   "outputs": [
    {
     "data": {
      "text/plain": [
       "[4, 7, 2, 12]"
      ]
     },
     "execution_count": 53,
     "metadata": {},
     "output_type": "execute_result"
    }
   ],
   "source": [
    "data = [4,7,2,12]\n",
    "data"
   ]
  },
  {
   "cell_type": "code",
   "execution_count": 54,
   "id": "ce14370d-dfa4-45b8-92ba-e8bea689b064",
   "metadata": {},
   "outputs": [
    {
     "data": {
      "text/plain": [
       "10"
      ]
     },
     "execution_count": 54,
     "metadata": {},
     "output_type": "execute_result"
    }
   ],
   "source": [
    "Range = max(data) - min(data) \n",
    "Range"
   ]
  },
  {
   "cell_type": "markdown",
   "id": "c31e39bc-85b1-4202-8193-5ae72d63824e",
   "metadata": {},
   "source": [
    "<body style=\"font-family: Sans-serif;\">\n",
    "    <div style=\"color: black; font-size: 18px; font-style: oblique; text-shadow: 0 0 3px white, 0 0 1px black; padding: 20px;\">\n",
    "\n",
    "Range For Group Data:\n",
    "  <img src=\"./images/21.jpg\" style=\"width: 60%; display: block; margin-left: auto; margin-right: auto;\">"
   ]
  },
  {
   "cell_type": "code",
   "execution_count": 50,
   "id": "5628b4ff-b330-40ae-8ac5-84261846827a",
   "metadata": {},
   "outputs": [
    {
     "data": {
      "text/html": [
       "<div>\n",
       "<style scoped>\n",
       "    .dataframe tbody tr th:only-of-type {\n",
       "        vertical-align: middle;\n",
       "    }\n",
       "\n",
       "    .dataframe tbody tr th {\n",
       "        vertical-align: top;\n",
       "    }\n",
       "\n",
       "    .dataframe thead th {\n",
       "        text-align: right;\n",
       "    }\n",
       "</style>\n",
       "<table border=\"1\" class=\"dataframe\">\n",
       "  <thead>\n",
       "    <tr style=\"text-align: right;\">\n",
       "      <th></th>\n",
       "      <th>class</th>\n",
       "      <th>f</th>\n",
       "    </tr>\n",
       "  </thead>\n",
       "  <tbody>\n",
       "    <tr>\n",
       "      <th>0</th>\n",
       "      <td>0-10</td>\n",
       "      <td>5</td>\n",
       "    </tr>\n",
       "    <tr>\n",
       "      <th>1</th>\n",
       "      <td>10-20</td>\n",
       "      <td>3</td>\n",
       "    </tr>\n",
       "    <tr>\n",
       "      <th>2</th>\n",
       "      <td>20-30</td>\n",
       "      <td>2</td>\n",
       "    </tr>\n",
       "  </tbody>\n",
       "</table>\n",
       "</div>"
      ],
      "text/plain": [
       "   class  f\n",
       "0   0-10  5\n",
       "1  10-20  3\n",
       "2  20-30  2"
      ]
     },
     "execution_count": 50,
     "metadata": {},
     "output_type": "execute_result"
    }
   ],
   "source": [
    "import pandas as pd\n",
    "class_ = [\"0-10\",\"10-20\",\"20-30\"]\n",
    "f = [5,3,2]\n",
    "df = pd.DataFrame({\"class\":class_,\"f\":f})\n",
    "df"
   ]
  },
  {
   "cell_type": "code",
   "execution_count": 51,
   "id": "a39fcbaf-a26c-455e-9176-ec96dec5cfe0",
   "metadata": {},
   "outputs": [
    {
     "data": {
      "text/plain": [
       "30"
      ]
     },
     "execution_count": 51,
     "metadata": {},
     "output_type": "execute_result"
    }
   ],
   "source": [
    "min_value = min([int(i) for i in class_[0].split('-')])\n",
    "max_value = max([int(i) for i in class_[-1].split('-')])\n",
    "Range = max_value - min_value\n",
    "Range"
   ]
  },
  {
   "cell_type": "markdown",
   "id": "75d810f1-5d88-4868-a658-5305c100b2bf",
   "metadata": {},
   "source": [
    "<body style=\"font-family: Sans-serif;\">\n",
    "    <div style=\"color: black; font-size: 18px; font-style: oblique; text-shadow: 0 0 3px white, 0 0 1px black; padding: 20px;\">\n",
    "\n",
    "## -> Range Examples "
   ]
  },
  {
   "cell_type": "markdown",
   "id": "fab0d657-c5fc-45fa-8978-782d506d4ad6",
   "metadata": {},
   "source": [
    "<body style=\"font-family: Sans-serif;\">\n",
    "    <div style=\"color: black; font-size: 18px; font-style: oblique; text-shadow: 0 0 3px white, 0 0 1px black; padding: 20px;\">\n",
    "\n",
    "- Ye batata hai ke data kitna faila hua (spread out) hai."
   ]
  },
  {
   "cell_type": "code",
   "execution_count": 1,
   "id": "9e71bfdd-05cb-461f-85ae-dcab77c48558",
   "metadata": {},
   "outputs": [
    {
     "data": {
      "text/plain": [
       "[45, 50, 55, 60, 65, 70, 75]"
      ]
     },
     "execution_count": 1,
     "metadata": {},
     "output_type": "execute_result"
    }
   ],
   "source": [
    "scores = [45, 50, 55, 60, 65, 70, 75]\n",
    "scores"
   ]
  },
  {
   "cell_type": "code",
   "execution_count": 2,
   "id": "b90c9393-b16a-4ac3-b6c6-964c672819d2",
   "metadata": {},
   "outputs": [
    {
     "data": {
      "text/plain": [
       "30"
      ]
     },
     "execution_count": 2,
     "metadata": {},
     "output_type": "execute_result"
    }
   ],
   "source": [
    "max(scores) - min(scores)"
   ]
  },
  {
   "cell_type": "markdown",
   "id": "19dd94cb-092e-40ca-a94c-4adf9aa356e8",
   "metadata": {},
   "source": [
    "<body style=\"font-family: Sans-serif;\">\n",
    "    <div style=\"color: black; font-size: 18px; font-style: oblique; text-shadow: 0 0 3px white, 0 0 1px black; padding: 20px;\">\n",
    "\n",
    "- Min = 45\n",
    "- Max = 75\n",
    "- Range = 75 − 45 = 30\n",
    "- Yani test scores 30 marks ke andar hi ghoom rahe hain → spread kam hai, data stable hai"
   ]
  },
  {
   "cell_type": "code",
   "execution_count": 3,
   "id": "2656bbf7-65a8-4379-bce8-3cdd956104b2",
   "metadata": {},
   "outputs": [
    {
     "data": {
      "text/plain": [
       "[10, 20, 30, 40, 90]"
      ]
     },
     "execution_count": 3,
     "metadata": {},
     "output_type": "execute_result"
    }
   ],
   "source": [
    "scores = [10, 20, 30, 40, 90]\n",
    "scores"
   ]
  },
  {
   "cell_type": "code",
   "execution_count": 4,
   "id": "c17c7328-b784-4523-8b68-ea54f59c697e",
   "metadata": {},
   "outputs": [
    {
     "data": {
      "text/plain": [
       "80"
      ]
     },
     "execution_count": 4,
     "metadata": {},
     "output_type": "execute_result"
    }
   ],
   "source": [
    "max(scores) - min(scores)"
   ]
  },
  {
   "cell_type": "markdown",
   "id": "6f566ec5-0094-461d-81ae-4fb8a8014cdf",
   "metadata": {},
   "source": [
    "<body style=\"font-family: Sans-serif;\">\n",
    "    <div style=\"color: black; font-size: 18px; font-style: oblique; text-shadow: 0 0 3px white, 0 0 1px black; padding: 20px;\">\n",
    "\n",
    "- Min = 10\n",
    "- Max = 90\n",
    "- Range = 90 − 10 = 80\n",
    "- Yani kuch students bohot kam marks le rahe, kuch bohot zyada → data uneven hai, variability zyada hai"
   ]
  },
  {
   "cell_type": "code",
   "execution_count": 5,
   "id": "a9796811-5b88-451c-9d28-4d76ea0d8d5a",
   "metadata": {},
   "outputs": [
    {
     "data": {
      "image/png": "[encoded data removed]",
      "text/plain": [
       "<Figure size 1200x400 with 2 Axes>"
      ]
     },
     "metadata": {},
     "output_type": "display_data"
    }
   ],
   "source": [
    "import matplotlib.pyplot as plt\n",
    "\n",
    "scores_balanced = [45, 50, 55, 60, 65, 70, 75]\n",
    "scores_spread = [10, 20, 30, 40, 90]\n",
    "\n",
    "# Range calculate\n",
    "range_bal = max(scores_balanced) - min(scores_balanced)\n",
    "range_spread = max(scores_spread) - min(scores_spread)\n",
    "\n",
    "# Plot\n",
    "fig, axs = plt.subplots(1, 2, figsize=(12, 4))\n",
    "\n",
    "axs[0].plot(scores_balanced, 'o-', color='green')\n",
    "axs[0].axhline(min(scores_balanced), color='blue', linestyle='--', label=f\"Min = {min(scores_balanced)}\")\n",
    "axs[0].axhline(max(scores_balanced), color='red', linestyle='--', label=f\"Max = {max(scores_balanced)}\")\n",
    "axs[0].set_title(f\"Balanced Spread (Range = {range_bal})\")\n",
    "axs[0].legend()\n",
    "axs[0].grid()\n",
    "\n",
    "axs[1].plot(scores_spread, 'o-', color='orange')\n",
    "axs[1].axhline(min(scores_spread), color='blue', linestyle='--', label=f\"Min = {min(scores_spread)}\")\n",
    "axs[1].axhline(max(scores_spread), color='red', linestyle='--', label=f\"Max = {max(scores_spread)}\")\n",
    "axs[1].set_title(f\"High Spread (Range = {range_spread})\")\n",
    "axs[1].legend()\n",
    "axs[1].grid()\n",
    "\n",
    "plt.suptitle(\"Range Visualization: Low vs High Spread\", fontsize=14)\n",
    "plt.tight_layout()\n",
    "plt.show()\n"
   ]
  },
  {
   "cell_type": "markdown",
   "id": "8d8029a4-867b-499a-88e2-78763bf6898d",
   "metadata": {},
   "source": [
    "<body style=\"font-family: Sans-serif;\">\n",
    "    <div style=\"color: black; font-size: 18px; font-style: oblique; text-shadow: 0 0 3px white, 0 0 1px black; padding: 20px;\">\n",
    "\n",
    "| Use-case                        | Explanation                               |\n",
    "| ------------------------------- | ----------------------------------------- |\n",
    "| 🎓 **Student performance**      | Range kam ho → sab ka level same hai      |\n",
    "| 📈 **Stock price variation**    | Range zyada → stock volatile hai          |\n",
    "| ⚙️ **Sensor reading stability** | Range kam → system stable hai             |\n",
    "| 🤖 **ML data normalization**    | Range help karta hai min-max scaling mein |\n",
    "| ⚠️ **Outlier detect karna**     | Range zyada ho to possible outlier hai    |\n"
   ]
  },
  {
   "cell_type": "markdown",
   "id": "d42a69e0-2a45-4271-ae3b-3d25aff19b63",
   "metadata": {},
   "source": [
    "<body style=\"font-family: Sans-serif;\">\n",
    "    <div style=\"color: black; font-size: 18px; font-style: oblique; text-shadow: 0 0 3px white, 0 0 1px black; padding: 20px;\">\n",
    "<p style=\"text-align:center;\">Use Case</p>\n",
    "        \n",
    "| Scenario                           | How Range Helps                                     |\n",
    "| ---------------------------------- | --------------------------------------------------- |\n",
    "| **Feature Scaling (MinMaxScaler)** | Range use hota hai: $(x - min)/(max - min)$         |\n",
    "| **Feature Selection**              | Low-range features might be dropped                 |\n",
    "| **Outlier Alert**                  | Jab Range bohot zyada ho, outliers detect hote hain |\n",
    "\n",
    "<br>\n",
    "\n",
    "---"
   ]
  },
  {
   "cell_type": "markdown",
   "id": "653d2c05-6d17-4171-9318-a73126cbff91",
   "metadata": {},
   "source": [
    "<body style=\"font-family: Sans-serif;\">\n",
    "    <div style=\"color: black; font-size: 18px; font-style: oblique; text-shadow: 0 0 3px white, 0 0 1px black; padding: 20px;\">\n",
    "\n",
    "- 2 Mean / Median Deviation\n",
    "  - Mean / Median Deviation ek technique hai jo yeh batata hai ke:\n",
    "  - \"Har data point apne mean ya median se kitna door hai on average (absolute distance).\"\n",
    "    \n",
    "<br>\n",
    "\n",
    "  <img src=\"./images/29.jpg\" style=\"width: 60%; display: block; margin-left: auto; margin-right: auto;\">"
   ]
  },
  {
   "cell_type": "code",
   "execution_count": 8,
   "id": "15541396-8046-4a27-916d-5ed7a8db0a5d",
   "metadata": {},
   "outputs": [
    {
     "data": {
      "text/plain": [
       "[2, 4, 6, 8, 100]"
      ]
     },
     "execution_count": 8,
     "metadata": {},
     "output_type": "execute_result"
    }
   ],
   "source": [
    "import numpy as np\n",
    "\n",
    "data = [2, 4, 6, 8, 100]\n",
    "data"
   ]
  },
  {
   "cell_type": "code",
   "execution_count": 11,
   "id": "6e406a69-c56f-4420-9f6a-cf744feaf29c",
   "metadata": {},
   "outputs": [
    {
     "data": {
      "text/plain": [
       "5"
      ]
     },
     "execution_count": 11,
     "metadata": {},
     "output_type": "execute_result"
    }
   ],
   "source": [
    "n = len(data)\n",
    "n"
   ]
  },
  {
   "cell_type": "code",
   "execution_count": 10,
   "id": "ee0e6607-dd8f-4d1b-9a63-668533ed1800",
   "metadata": {},
   "outputs": [
    {
     "name": "stdout",
     "output_type": "stream",
     "text": [
      "24.0\n",
      "6.0\n"
     ]
    }
   ],
   "source": [
    "mean = np.mean(data)\n",
    "median = np.median(data)\n",
    "\n",
    "print(mean)\n",
    "print(median)"
   ]
  },
  {
   "cell_type": "code",
   "execution_count": 20,
   "id": "f0025cfa-419c-4e31-974d-5894e3495c95",
   "metadata": {},
   "outputs": [
    {
     "name": "stdout",
     "output_type": "stream",
     "text": [
      "30.4\n",
      "20.4\n"
     ]
    }
   ],
   "source": [
    "md_mean = np.sum(np.abs(np.array(data) - mean)) / n\n",
    "md_median = np.sum(np.abs(np.array(data) - median)) / n\n",
    "\n",
    "print(md_mean)\n",
    "print(md_median)"
   ]
  },
  {
   "cell_type": "markdown",
   "id": "4e44cbb5-8863-47c8-a9f1-88e77fa722c8",
   "metadata": {},
   "source": [
    "<body style=\"font-family: Sans-serif;\">\n",
    "    <div style=\"color: black; font-size: 18px; font-style: oblique; text-shadow: 0 0 3px white, 0 0 1px black; padding: 20px;\">\n",
    "\n",
    "## -> Mean / Median Deviation Example"
   ]
  },
  {
   "cell_type": "code",
   "execution_count": 22,
   "id": "102ecd32-8f80-4c34-a31e-c79d994d665d",
   "metadata": {},
   "outputs": [],
   "source": [
    "import matplotlib.pyplot as plt"
   ]
  },
  {
   "cell_type": "code",
   "execution_count": 26,
   "id": "9bbdde2a-48a2-4d5c-a4aa-cfc30cbbf56f",
   "metadata": {},
   "outputs": [
    {
     "data": {
      "image/png": "[encoded data removed]",
      "text/plain": [
       "<Figure size 1200x600 with 2 Axes>"
      ]
     },
     "metadata": {},
     "output_type": "display_data"
    }
   ],
   "source": [
    "# Bar height for visualization\n",
    "bar_height = 0.5\n",
    "\n",
    "# Setup figure\n",
    "fig, axs = plt.subplots(2, 1, figsize=(12, 6))\n",
    "\n",
    "# --- Plot 1: Mean with MD (as bars) ---\n",
    "axs[0].barh(y='Mean', width=2*md_mean, left=mean - md_mean, height=bar_height, color='orange', alpha=0.3, edgecolor='orange')\n",
    "axs[0].scatter(mean, 'Mean', color='orange', label=f\"Mean = {mean:.1f}\", zorder=5)\n",
    "axs[0].set_xlim(0, max(data) + 10)\n",
    "axs[0].set_title(\"Mean and Mean Deviation (MD about Mean)\")\n",
    "axs[0].legend()\n",
    "axs[0].grid(axis='x', linestyle='--', alpha=0.5)\n",
    "\n",
    "# --- Plot 2: Median with MD (as bars) ---\n",
    "axs[1].barh(y='Median', width=2*md_median, left=median - md_median, height=bar_height, color='purple', alpha=0.3, edgecolor='purple')\n",
    "axs[1].scatter(median, 'Median', color='purple', label=f\"Median = {median:.1f}\", zorder=5)\n",
    "axs[1].set_xlim(0, max(data) + 10)\n",
    "axs[1].set_title(\"Median and Median Deviation (MD about Median)\")\n",
    "axs[1].legend()\n",
    "axs[1].grid(axis='x', linestyle='--', alpha=0.5)\n",
    "\n",
    "plt.tight_layout()\n",
    "plt.show()"
   ]
  },
  {
   "cell_type": "markdown",
   "id": "9d3ddb99-dea8-452a-9021-9c15083bf78b",
   "metadata": {},
   "source": [
    "<body style=\"font-family: Sans-serif;\">\n",
    "    <div style=\"color: black; font-size: 18px; font-style: oblique; text-shadow: 0 0 3px white, 0 0 1px black; padding: 20px;\">\n",
    "\n",
    "Agar data clean ho, jisme outliers na hon, to Mean aur MD about Mean best hain. Lekin agar data skewed ho ya outlier ho, to Median aur MD about Median ka use karna chahiye, kyunke wo outlier se effect nahi hote aur data ka behtar central tendency aur spread dikhate hain.\n",
    "\n",
    "---"
   ]
  },
  {
   "cell_type": "markdown",
   "id": "d717b25d-0cb2-4196-aab8-1d8e371afbd3",
   "metadata": {},
   "source": [
    "<body style=\"font-family: Sans-serif;\">\n",
    "    <div style=\"color: black; font-size: 18px; font-style: oblique; text-shadow: 0 0 3px white, 0 0 1px black; padding: 20px;\">\n",
    "\n",
    "2 Variance:\n",
    "- Variance batata hai ke data values mean ke around kitni spread hui hain.\n",
    "- Ye measure karta hai \"average squared deviation\" from the mean."
   ]
  },
  {
   "cell_type": "markdown",
   "id": "a29db9dc-e46c-4a2f-be3a-27c211bd2424",
   "metadata": {},
   "source": [
    "<body style=\"font-family: Sans-serif;\">\n",
    "    <div style=\"color: black; font-size: 18px; font-style: oblique; text-shadow: 0 0 3px white, 0 0 1px black; padding: 20px;\">\n",
    "        \n",
    "Population Variance (σ²):\n",
    "- Population mein `variance` kam hota hai kyunki `mean` accurate hota hai\n",
    "\n",
    "<img src=\"./images/22.jpg\" style=\"width: 60%; display: block; margin-left: auto; margin-right: auto;\">"
   ]
  },
  {
   "cell_type": "code",
   "execution_count": 55,
   "id": "c6177c35-50ee-4f90-ba63-f1a6571fe894",
   "metadata": {},
   "outputs": [
    {
     "data": {
      "text/html": [
       "<div>\n",
       "<style scoped>\n",
       "    .dataframe tbody tr th:only-of-type {\n",
       "        vertical-align: middle;\n",
       "    }\n",
       "\n",
       "    .dataframe tbody tr th {\n",
       "        vertical-align: top;\n",
       "    }\n",
       "\n",
       "    .dataframe thead th {\n",
       "        text-align: right;\n",
       "    }\n",
       "</style>\n",
       "<table border=\"1\" class=\"dataframe\">\n",
       "  <thead>\n",
       "    <tr style=\"text-align: right;\">\n",
       "      <th></th>\n",
       "      <th>x</th>\n",
       "    </tr>\n",
       "  </thead>\n",
       "  <tbody>\n",
       "    <tr>\n",
       "      <th>0</th>\n",
       "      <td>4</td>\n",
       "    </tr>\n",
       "    <tr>\n",
       "      <th>1</th>\n",
       "      <td>7</td>\n",
       "    </tr>\n",
       "    <tr>\n",
       "      <th>2</th>\n",
       "      <td>2</td>\n",
       "    </tr>\n",
       "    <tr>\n",
       "      <th>3</th>\n",
       "      <td>9</td>\n",
       "    </tr>\n",
       "    <tr>\n",
       "      <th>4</th>\n",
       "      <td>12</td>\n",
       "    </tr>\n",
       "  </tbody>\n",
       "</table>\n",
       "</div>"
      ],
      "text/plain": [
       "    x\n",
       "0   4\n",
       "1   7\n",
       "2   2\n",
       "3   9\n",
       "4  12"
      ]
     },
     "execution_count": 55,
     "metadata": {},
     "output_type": "execute_result"
    }
   ],
   "source": [
    "data = [4,7,2,9,12]\n",
    "df = pd.DataFrame(data,columns=[\"x\"])\n",
    "df"
   ]
  },
  {
   "cell_type": "code",
   "execution_count": 56,
   "id": "cc7df5e8-0a85-4a1d-b725-54974468c673",
   "metadata": {},
   "outputs": [
    {
     "data": {
      "text/html": [
       "<div>\n",
       "<style scoped>\n",
       "    .dataframe tbody tr th:only-of-type {\n",
       "        vertical-align: middle;\n",
       "    }\n",
       "\n",
       "    .dataframe tbody tr th {\n",
       "        vertical-align: top;\n",
       "    }\n",
       "\n",
       "    .dataframe thead th {\n",
       "        text-align: right;\n",
       "    }\n",
       "</style>\n",
       "<table border=\"1\" class=\"dataframe\">\n",
       "  <thead>\n",
       "    <tr style=\"text-align: right;\">\n",
       "      <th></th>\n",
       "      <th>x</th>\n",
       "    </tr>\n",
       "  </thead>\n",
       "  <tbody>\n",
       "    <tr>\n",
       "      <th>0</th>\n",
       "      <td>4</td>\n",
       "    </tr>\n",
       "    <tr>\n",
       "      <th>1</th>\n",
       "      <td>7</td>\n",
       "    </tr>\n",
       "    <tr>\n",
       "      <th>2</th>\n",
       "      <td>2</td>\n",
       "    </tr>\n",
       "    <tr>\n",
       "      <th>3</th>\n",
       "      <td>9</td>\n",
       "    </tr>\n",
       "    <tr>\n",
       "      <th>4</th>\n",
       "      <td>12</td>\n",
       "    </tr>\n",
       "  </tbody>\n",
       "</table>\n",
       "</div>"
      ],
      "text/plain": [
       "    x\n",
       "0   4\n",
       "1   7\n",
       "2   2\n",
       "3   9\n",
       "4  12"
      ]
     },
     "execution_count": 56,
     "metadata": {},
     "output_type": "execute_result"
    }
   ],
   "source": [
    "# find x bar\n",
    "df"
   ]
  },
  {
   "cell_type": "code",
   "execution_count": 57,
   "id": "9a038072-7ebd-4205-a7af-6c53883741b3",
   "metadata": {},
   "outputs": [
    {
     "data": {
      "text/plain": [
       "6.8"
      ]
     },
     "execution_count": 57,
     "metadata": {},
     "output_type": "execute_result"
    }
   ],
   "source": [
    "s = 0\n",
    "for i in data:\n",
    "    s += i\n",
    "mean = s / len(data)\n",
    "mean"
   ]
  },
  {
   "cell_type": "code",
   "execution_count": 58,
   "id": "1a745147-9be3-4cfe-be15-e57f87dedb5f",
   "metadata": {},
   "outputs": [],
   "source": [
    "x = []\n",
    "for i in data:\n",
    "    x.append(round(i-mean,2))\n",
    "\n",
    "y = []\n",
    "for i in x:\n",
    "    y.append(round(i**2,2))"
   ]
  },
  {
   "cell_type": "code",
   "execution_count": 59,
   "id": "f6c869a6-191c-4004-afbe-cba43075ebe5",
   "metadata": {},
   "outputs": [
    {
     "data": {
      "text/html": [
       "<div>\n",
       "<style scoped>\n",
       "    .dataframe tbody tr th:only-of-type {\n",
       "        vertical-align: middle;\n",
       "    }\n",
       "\n",
       "    .dataframe tbody tr th {\n",
       "        vertical-align: top;\n",
       "    }\n",
       "\n",
       "    .dataframe thead th {\n",
       "        text-align: right;\n",
       "    }\n",
       "</style>\n",
       "<table border=\"1\" class=\"dataframe\">\n",
       "  <thead>\n",
       "    <tr style=\"text-align: right;\">\n",
       "      <th></th>\n",
       "      <th>x</th>\n",
       "      <th>x-mean</th>\n",
       "      <th>(x-mean)^2</th>\n",
       "    </tr>\n",
       "  </thead>\n",
       "  <tbody>\n",
       "    <tr>\n",
       "      <th>0</th>\n",
       "      <td>4</td>\n",
       "      <td>-2.8</td>\n",
       "      <td>7.84</td>\n",
       "    </tr>\n",
       "    <tr>\n",
       "      <th>1</th>\n",
       "      <td>7</td>\n",
       "      <td>0.2</td>\n",
       "      <td>0.04</td>\n",
       "    </tr>\n",
       "    <tr>\n",
       "      <th>2</th>\n",
       "      <td>2</td>\n",
       "      <td>-4.8</td>\n",
       "      <td>23.04</td>\n",
       "    </tr>\n",
       "    <tr>\n",
       "      <th>3</th>\n",
       "      <td>9</td>\n",
       "      <td>2.2</td>\n",
       "      <td>4.84</td>\n",
       "    </tr>\n",
       "    <tr>\n",
       "      <th>4</th>\n",
       "      <td>12</td>\n",
       "      <td>5.2</td>\n",
       "      <td>27.04</td>\n",
       "    </tr>\n",
       "  </tbody>\n",
       "</table>\n",
       "</div>"
      ],
      "text/plain": [
       "    x  x-mean  (x-mean)^2\n",
       "0   4    -2.8        7.84\n",
       "1   7     0.2        0.04\n",
       "2   2    -4.8       23.04\n",
       "3   9     2.2        4.84\n",
       "4  12     5.2       27.04"
      ]
     },
     "execution_count": 59,
     "metadata": {},
     "output_type": "execute_result"
    }
   ],
   "source": [
    "df['x-mean'] = x\n",
    "df['(x-mean)^2'] = y\n",
    "df"
   ]
  },
  {
   "cell_type": "code",
   "execution_count": 60,
   "id": "512b012f-ae6a-4896-9807-4debeeb5e904",
   "metadata": {},
   "outputs": [
    {
     "data": {
      "text/plain": [
       "62.8"
      ]
     },
     "execution_count": 60,
     "metadata": {},
     "output_type": "execute_result"
    }
   ],
   "source": [
    "sum_ = 0\n",
    "for i in df['(x-mean)^2'].tolist():\n",
    "    sum_ += i\n",
    "sum_"
   ]
  },
  {
   "cell_type": "code",
   "execution_count": 61,
   "id": "7e683692-082b-4009-8265-52804306521d",
   "metadata": {},
   "outputs": [
    {
     "data": {
      "text/plain": [
       "12.56"
      ]
     },
     "execution_count": 61,
     "metadata": {},
     "output_type": "execute_result"
    }
   ],
   "source": [
    "round(sum_ / len(data),2)"
   ]
  },
  {
   "cell_type": "markdown",
   "id": "712bedb3-1aba-4bf4-aa10-14559cd7964c",
   "metadata": {},
   "source": [
    "<body style=\"font-family: Sans-serif;\">\n",
    "    <div style=\"color: black; font-size: 18px; font-style: oblique; text-shadow: 0 0 3px white, 0 0 1px black; padding: 20px;\">\n",
    "        \n",
    "Population Variance (σ²) for Group Data:\n",
    "- Jab data grouped ho (jaise frequency table), toh variance nikalne ke liye har class ka midpoint lete hain, aur use frequency ke sath multiply karke mean aur variance nikalte hain.\n",
    "  \n",
    "<img src=\"./images/23.jpg\" style=\"width: 60%; display: block; margin-left: auto; margin-right: auto;\">"
   ]
  },
  {
   "cell_type": "code",
   "execution_count": 18,
   "id": "bd331d53-4b3b-43b7-a3d6-a5a7ef33626c",
   "metadata": {},
   "outputs": [
    {
     "data": {
      "text/html": [
       "<div>\n",
       "<style scoped>\n",
       "    .dataframe tbody tr th:only-of-type {\n",
       "        vertical-align: middle;\n",
       "    }\n",
       "\n",
       "    .dataframe tbody tr th {\n",
       "        vertical-align: top;\n",
       "    }\n",
       "\n",
       "    .dataframe thead th {\n",
       "        text-align: right;\n",
       "    }\n",
       "</style>\n",
       "<table border=\"1\" class=\"dataframe\">\n",
       "  <thead>\n",
       "    <tr style=\"text-align: right;\">\n",
       "      <th></th>\n",
       "      <th>class</th>\n",
       "      <th>f</th>\n",
       "    </tr>\n",
       "  </thead>\n",
       "  <tbody>\n",
       "    <tr>\n",
       "      <th>0</th>\n",
       "      <td>0-10</td>\n",
       "      <td>3</td>\n",
       "    </tr>\n",
       "    <tr>\n",
       "      <th>1</th>\n",
       "      <td>10-20</td>\n",
       "      <td>4</td>\n",
       "    </tr>\n",
       "    <tr>\n",
       "      <th>2</th>\n",
       "      <td>20-30</td>\n",
       "      <td>3</td>\n",
       "    </tr>\n",
       "  </tbody>\n",
       "</table>\n",
       "</div>"
      ],
      "text/plain": [
       "   class  f\n",
       "0   0-10  3\n",
       "1  10-20  4\n",
       "2  20-30  3"
      ]
     },
     "execution_count": 18,
     "metadata": {},
     "output_type": "execute_result"
    }
   ],
   "source": [
    "class_ = [\"0-10\",\"10-20\",\"20-30\"]\n",
    "f = [3,4,3]\n",
    "df = pd.DataFrame({\"class\":class_,\"f\":f})\n",
    "dfc"
   ]
  },
  {
   "cell_type": "code",
   "execution_count": 19,
   "id": "d011dcb8-4a1c-4993-a74b-e138b22ffe3b",
   "metadata": {},
   "outputs": [
    {
     "data": {
      "text/html": [
       "<div>\n",
       "<style scoped>\n",
       "    .dataframe tbody tr th:only-of-type {\n",
       "        vertical-align: middle;\n",
       "    }\n",
       "\n",
       "    .dataframe tbody tr th {\n",
       "        vertical-align: top;\n",
       "    }\n",
       "\n",
       "    .dataframe thead th {\n",
       "        text-align: right;\n",
       "    }\n",
       "</style>\n",
       "<table border=\"1\" class=\"dataframe\">\n",
       "  <thead>\n",
       "    <tr style=\"text-align: right;\">\n",
       "      <th></th>\n",
       "      <th>class</th>\n",
       "      <th>f</th>\n",
       "      <th>x</th>\n",
       "    </tr>\n",
       "  </thead>\n",
       "  <tbody>\n",
       "    <tr>\n",
       "      <th>0</th>\n",
       "      <td>0-10</td>\n",
       "      <td>3</td>\n",
       "      <td>5</td>\n",
       "    </tr>\n",
       "    <tr>\n",
       "      <th>1</th>\n",
       "      <td>10-20</td>\n",
       "      <td>4</td>\n",
       "      <td>15</td>\n",
       "    </tr>\n",
       "    <tr>\n",
       "      <th>2</th>\n",
       "      <td>20-30</td>\n",
       "      <td>3</td>\n",
       "      <td>25</td>\n",
       "    </tr>\n",
       "  </tbody>\n",
       "</table>\n",
       "</div>"
      ],
      "text/plain": [
       "   class  f   x\n",
       "0   0-10  3   5\n",
       "1  10-20  4  15\n",
       "2  20-30  3  25"
      ]
     },
     "execution_count": 19,
     "metadata": {},
     "output_type": "execute_result"
    }
   ],
   "source": [
    "# x mind point\n",
    "mid_point = [(int(i.split(\"-\")[0])+int(i.split(\"-\")[-1]))//2 for i in class_]\n",
    "df[\"x\"] = mid_point\n",
    "df"
   ]
  },
  {
   "cell_type": "code",
   "execution_count": 20,
   "id": "1de2e677-99fb-44ec-8f29-a97ee734241f",
   "metadata": {},
   "outputs": [
    {
     "data": {
      "text/html": [
       "<div>\n",
       "<style scoped>\n",
       "    .dataframe tbody tr th:only-of-type {\n",
       "        vertical-align: middle;\n",
       "    }\n",
       "\n",
       "    .dataframe tbody tr th {\n",
       "        vertical-align: top;\n",
       "    }\n",
       "\n",
       "    .dataframe thead th {\n",
       "        text-align: right;\n",
       "    }\n",
       "</style>\n",
       "<table border=\"1\" class=\"dataframe\">\n",
       "  <thead>\n",
       "    <tr style=\"text-align: right;\">\n",
       "      <th></th>\n",
       "      <th>class</th>\n",
       "      <th>f</th>\n",
       "      <th>x</th>\n",
       "      <th>fx</th>\n",
       "    </tr>\n",
       "  </thead>\n",
       "  <tbody>\n",
       "    <tr>\n",
       "      <th>0</th>\n",
       "      <td>0-10</td>\n",
       "      <td>3</td>\n",
       "      <td>5</td>\n",
       "      <td>15</td>\n",
       "    </tr>\n",
       "    <tr>\n",
       "      <th>1</th>\n",
       "      <td>10-20</td>\n",
       "      <td>4</td>\n",
       "      <td>15</td>\n",
       "      <td>60</td>\n",
       "    </tr>\n",
       "    <tr>\n",
       "      <th>2</th>\n",
       "      <td>20-30</td>\n",
       "      <td>3</td>\n",
       "      <td>25</td>\n",
       "      <td>75</td>\n",
       "    </tr>\n",
       "  </tbody>\n",
       "</table>\n",
       "</div>"
      ],
      "text/plain": [
       "   class  f   x  fx\n",
       "0   0-10  3   5  15\n",
       "1  10-20  4  15  60\n",
       "2  20-30  3  25  75"
      ]
     },
     "execution_count": 20,
     "metadata": {},
     "output_type": "execute_result"
    }
   ],
   "source": [
    "# fx\n",
    "df['fx'] = df['f'] * df['x']\n",
    "df"
   ]
  },
  {
   "cell_type": "code",
   "execution_count": 25,
   "id": "b7ee7b22-8833-472e-8b38-827226615b80",
   "metadata": {},
   "outputs": [
    {
     "data": {
      "text/html": [
       "<div>\n",
       "<style scoped>\n",
       "    .dataframe tbody tr th:only-of-type {\n",
       "        vertical-align: middle;\n",
       "    }\n",
       "\n",
       "    .dataframe tbody tr th {\n",
       "        vertical-align: top;\n",
       "    }\n",
       "\n",
       "    .dataframe thead th {\n",
       "        text-align: right;\n",
       "    }\n",
       "</style>\n",
       "<table border=\"1\" class=\"dataframe\">\n",
       "  <thead>\n",
       "    <tr style=\"text-align: right;\">\n",
       "      <th></th>\n",
       "      <th>class</th>\n",
       "      <th>f</th>\n",
       "      <th>x</th>\n",
       "      <th>fx</th>\n",
       "      <th>fx^2</th>\n",
       "    </tr>\n",
       "  </thead>\n",
       "  <tbody>\n",
       "    <tr>\n",
       "      <th>0</th>\n",
       "      <td>0-10</td>\n",
       "      <td>3</td>\n",
       "      <td>5</td>\n",
       "      <td>15</td>\n",
       "      <td>75</td>\n",
       "    </tr>\n",
       "    <tr>\n",
       "      <th>1</th>\n",
       "      <td>10-20</td>\n",
       "      <td>4</td>\n",
       "      <td>15</td>\n",
       "      <td>60</td>\n",
       "      <td>900</td>\n",
       "    </tr>\n",
       "    <tr>\n",
       "      <th>2</th>\n",
       "      <td>20-30</td>\n",
       "      <td>3</td>\n",
       "      <td>25</td>\n",
       "      <td>75</td>\n",
       "      <td>1875</td>\n",
       "    </tr>\n",
       "  </tbody>\n",
       "</table>\n",
       "</div>"
      ],
      "text/plain": [
       "   class  f   x  fx  fx^2\n",
       "0   0-10  3   5  15    75\n",
       "1  10-20  4  15  60   900\n",
       "2  20-30  3  25  75  1875"
      ]
     },
     "execution_count": 25,
     "metadata": {},
     "output_type": "execute_result"
    }
   ],
   "source": [
    "# f * (x)2\n",
    "df['fx^2'] = df['f'] * (df['x'] ** 2)\n",
    "df"
   ]
  },
  {
   "cell_type": "code",
   "execution_count": 45,
   "id": "bcbc6d82-e5b8-404f-aa15-071b25f3c1a3",
   "metadata": {},
   "outputs": [
    {
     "data": {
      "text/plain": [
       "225"
      ]
     },
     "execution_count": 45,
     "metadata": {},
     "output_type": "execute_result"
    }
   ],
   "source": [
    "# x bar square\n",
    "\n",
    "x_bar_square = (int(df['x'].sum()) // len(df['x'].tolist())) ** 2\n",
    "x_bar_square"
   ]
  },
  {
   "cell_type": "code",
   "execution_count": 46,
   "id": "e0a82277-9222-45bd-ac83-6d5f05b88c70",
   "metadata": {},
   "outputs": [
    {
     "data": {
      "text/plain": [
       "10"
      ]
     },
     "execution_count": 46,
     "metadata": {},
     "output_type": "execute_result"
    }
   ],
   "source": [
    "f = int(df['f'].sum())\n",
    "f"
   ]
  },
  {
   "cell_type": "code",
   "execution_count": 48,
   "id": "c9430e1d-8cd0-4a94-b1f7-74c9439ecd9d",
   "metadata": {},
   "outputs": [
    {
     "data": {
      "text/plain": [
       "60"
      ]
     },
     "execution_count": 48,
     "metadata": {},
     "output_type": "execute_result"
    }
   ],
   "source": [
    "var = int(df['fx^2'].sum() / f) - x_bar_square\n",
    "var"
   ]
  },
  {
   "cell_type": "markdown",
   "id": "fb9f0842-af8b-4cee-84a8-4c81dda599a4",
   "metadata": {},
   "source": [
    "<body style=\"font-family: Sans-serif;\">\n",
    "    <div style=\"color: black; font-size: 18px; font-style: oblique; text-shadow: 0 0 3px white, 0 0 1px black; padding: 20px;\">\n",
    "        \n",
    "Sample Variance:\n",
    "- Jab aapke paas poora population data nahi hota Aur aap chhota sample use karke population ke baare mein idea lena chahte ho.\n",
    "- Toh aap sample variance nikalte ho; jo thoda adjusted hota hai taake woh real variance ke close ho.\n",
    "\n",
    "| Scenario                           | Use Sample Variance?         |\n",
    "| ---------------------------------- | ---------------------------- |\n",
    "| 1000 students ka poora result ho   | ❌ Nahi (Population use karo) |\n",
    "| Sirf 50 students ka random test ho | ✅ Haan (Sample Variance)     |\n",
    "\n",
    "<img src=\"./images/24.jpg\" style=\"width: 60%; display: block; margin-left: auto; margin-right: auto;\">\n"
   ]
  },
  {
   "cell_type": "code",
   "execution_count": 67,
   "id": "181993d8-6e34-4bcf-b2ce-efb212864a01",
   "metadata": {},
   "outputs": [
    {
     "data": {
      "text/plain": [
       "[4, 7, 2, 9, 12]"
      ]
     },
     "execution_count": 67,
     "metadata": {},
     "output_type": "execute_result"
    }
   ],
   "source": [
    "data = [4, 7, 2, 9, 12]\n",
    "data"
   ]
  },
  {
   "cell_type": "code",
   "execution_count": 69,
   "id": "9b3df957-75b7-4283-ae91-039773596939",
   "metadata": {},
   "outputs": [
    {
     "data": {
      "text/plain": [
       "6.8"
      ]
     },
     "execution_count": 69,
     "metadata": {},
     "output_type": "execute_result"
    }
   ],
   "source": [
    "sum_ = 0\n",
    "for i in data:\n",
    "    sum_+= i\n",
    "mean = sum_ / len(data)\n",
    "mean"
   ]
  },
  {
   "cell_type": "code",
   "execution_count": 70,
   "id": "0e30b110-5c39-4727-a0a6-6992e1ed67f6",
   "metadata": {},
   "outputs": [
    {
     "data": {
      "text/html": [
       "<div>\n",
       "<style scoped>\n",
       "    .dataframe tbody tr th:only-of-type {\n",
       "        vertical-align: middle;\n",
       "    }\n",
       "\n",
       "    .dataframe tbody tr th {\n",
       "        vertical-align: top;\n",
       "    }\n",
       "\n",
       "    .dataframe thead th {\n",
       "        text-align: right;\n",
       "    }\n",
       "</style>\n",
       "<table border=\"1\" class=\"dataframe\">\n",
       "  <thead>\n",
       "    <tr style=\"text-align: right;\">\n",
       "      <th></th>\n",
       "      <th>x</th>\n",
       "    </tr>\n",
       "  </thead>\n",
       "  <tbody>\n",
       "    <tr>\n",
       "      <th>0</th>\n",
       "      <td>4</td>\n",
       "    </tr>\n",
       "    <tr>\n",
       "      <th>1</th>\n",
       "      <td>7</td>\n",
       "    </tr>\n",
       "    <tr>\n",
       "      <th>2</th>\n",
       "      <td>2</td>\n",
       "    </tr>\n",
       "    <tr>\n",
       "      <th>3</th>\n",
       "      <td>9</td>\n",
       "    </tr>\n",
       "    <tr>\n",
       "      <th>4</th>\n",
       "      <td>12</td>\n",
       "    </tr>\n",
       "  </tbody>\n",
       "</table>\n",
       "</div>"
      ],
      "text/plain": [
       "    x\n",
       "0   4\n",
       "1   7\n",
       "2   2\n",
       "3   9\n",
       "4  12"
      ]
     },
     "execution_count": 70,
     "metadata": {},
     "output_type": "execute_result"
    }
   ],
   "source": [
    "df = pd.DataFrame(data,columns=['x'])\n",
    "df"
   ]
  },
  {
   "cell_type": "code",
   "execution_count": 71,
   "id": "72d18804-0462-4b8d-834a-49a13a2e5f7b",
   "metadata": {},
   "outputs": [
    {
     "data": {
      "text/html": [
       "<div>\n",
       "<style scoped>\n",
       "    .dataframe tbody tr th:only-of-type {\n",
       "        vertical-align: middle;\n",
       "    }\n",
       "\n",
       "    .dataframe tbody tr th {\n",
       "        vertical-align: top;\n",
       "    }\n",
       "\n",
       "    .dataframe thead th {\n",
       "        text-align: right;\n",
       "    }\n",
       "</style>\n",
       "<table border=\"1\" class=\"dataframe\">\n",
       "  <thead>\n",
       "    <tr style=\"text-align: right;\">\n",
       "      <th></th>\n",
       "      <th>x</th>\n",
       "      <th>xbar</th>\n",
       "    </tr>\n",
       "  </thead>\n",
       "  <tbody>\n",
       "    <tr>\n",
       "      <th>0</th>\n",
       "      <td>4</td>\n",
       "      <td>-2.8</td>\n",
       "    </tr>\n",
       "    <tr>\n",
       "      <th>1</th>\n",
       "      <td>7</td>\n",
       "      <td>0.2</td>\n",
       "    </tr>\n",
       "    <tr>\n",
       "      <th>2</th>\n",
       "      <td>2</td>\n",
       "      <td>-4.8</td>\n",
       "    </tr>\n",
       "    <tr>\n",
       "      <th>3</th>\n",
       "      <td>9</td>\n",
       "      <td>2.2</td>\n",
       "    </tr>\n",
       "    <tr>\n",
       "      <th>4</th>\n",
       "      <td>12</td>\n",
       "      <td>5.2</td>\n",
       "    </tr>\n",
       "  </tbody>\n",
       "</table>\n",
       "</div>"
      ],
      "text/plain": [
       "    x  xbar\n",
       "0   4  -2.8\n",
       "1   7   0.2\n",
       "2   2  -4.8\n",
       "3   9   2.2\n",
       "4  12   5.2"
      ]
     },
     "execution_count": 71,
     "metadata": {},
     "output_type": "execute_result"
    }
   ],
   "source": [
    "df['xbar'] = df['x'] - mean\n",
    "df"
   ]
  },
  {
   "cell_type": "code",
   "execution_count": 72,
   "id": "de13764c-8e1d-40f8-bb83-a81071855c3d",
   "metadata": {},
   "outputs": [
    {
     "data": {
      "text/html": [
       "<div>\n",
       "<style scoped>\n",
       "    .dataframe tbody tr th:only-of-type {\n",
       "        vertical-align: middle;\n",
       "    }\n",
       "\n",
       "    .dataframe tbody tr th {\n",
       "        vertical-align: top;\n",
       "    }\n",
       "\n",
       "    .dataframe thead th {\n",
       "        text-align: right;\n",
       "    }\n",
       "</style>\n",
       "<table border=\"1\" class=\"dataframe\">\n",
       "  <thead>\n",
       "    <tr style=\"text-align: right;\">\n",
       "      <th></th>\n",
       "      <th>x</th>\n",
       "      <th>xbar</th>\n",
       "      <th>xbar_square</th>\n",
       "    </tr>\n",
       "  </thead>\n",
       "  <tbody>\n",
       "    <tr>\n",
       "      <th>0</th>\n",
       "      <td>4</td>\n",
       "      <td>-2.8</td>\n",
       "      <td>7.84</td>\n",
       "    </tr>\n",
       "    <tr>\n",
       "      <th>1</th>\n",
       "      <td>7</td>\n",
       "      <td>0.2</td>\n",
       "      <td>0.04</td>\n",
       "    </tr>\n",
       "    <tr>\n",
       "      <th>2</th>\n",
       "      <td>2</td>\n",
       "      <td>-4.8</td>\n",
       "      <td>23.04</td>\n",
       "    </tr>\n",
       "    <tr>\n",
       "      <th>3</th>\n",
       "      <td>9</td>\n",
       "      <td>2.2</td>\n",
       "      <td>4.84</td>\n",
       "    </tr>\n",
       "    <tr>\n",
       "      <th>4</th>\n",
       "      <td>12</td>\n",
       "      <td>5.2</td>\n",
       "      <td>27.04</td>\n",
       "    </tr>\n",
       "  </tbody>\n",
       "</table>\n",
       "</div>"
      ],
      "text/plain": [
       "    x  xbar  xbar_square\n",
       "0   4  -2.8         7.84\n",
       "1   7   0.2         0.04\n",
       "2   2  -4.8        23.04\n",
       "3   9   2.2         4.84\n",
       "4  12   5.2        27.04"
      ]
     },
     "execution_count": 72,
     "metadata": {},
     "output_type": "execute_result"
    }
   ],
   "source": [
    "df['xbar_square'] = df['xbar'] ** 2\n",
    "df"
   ]
  },
  {
   "cell_type": "code",
   "execution_count": 77,
   "id": "1623e36f-20d8-4fba-9bf4-37943ddefb35",
   "metadata": {},
   "outputs": [
    {
     "data": {
      "text/plain": [
       "15.7"
      ]
     },
     "execution_count": 77,
     "metadata": {},
     "output_type": "execute_result"
    }
   ],
   "source": [
    "float(df['xbar_square'].sum()) / (len(data) - 1)"
   ]
  },
  {
   "cell_type": "markdown",
   "id": "5976166d-1337-4490-85c4-ce26374481fd",
   "metadata": {},
   "source": [
    "<body style=\"font-family: Sans-serif;\">\n",
    "    <div style=\"color: black; font-size: 18px; font-style: oblique; text-shadow: 0 0 3px white, 0 0 1px black; padding: 20px;\">\n",
    "        \n",
    "Sample Variance For Group Data:\n",
    "\n",
    "<img src=\"./images/25.jpg\" style=\"width: 60%; display: block; margin-left: auto; margin-right: auto;\">\n"
   ]
  },
  {
   "cell_type": "code",
   "execution_count": 79,
   "id": "25bc4494-f74c-4b5a-b6ff-a83e0a8d3255",
   "metadata": {},
   "outputs": [
    {
     "data": {
      "text/html": [
       "<div>\n",
       "<style scoped>\n",
       "    .dataframe tbody tr th:only-of-type {\n",
       "        vertical-align: middle;\n",
       "    }\n",
       "\n",
       "    .dataframe tbody tr th {\n",
       "        vertical-align: top;\n",
       "    }\n",
       "\n",
       "    .dataframe thead th {\n",
       "        text-align: right;\n",
       "    }\n",
       "</style>\n",
       "<table border=\"1\" class=\"dataframe\">\n",
       "  <thead>\n",
       "    <tr style=\"text-align: right;\">\n",
       "      <th></th>\n",
       "      <th>class</th>\n",
       "      <th>f</th>\n",
       "    </tr>\n",
       "  </thead>\n",
       "  <tbody>\n",
       "    <tr>\n",
       "      <th>0</th>\n",
       "      <td>0-10</td>\n",
       "      <td>3</td>\n",
       "    </tr>\n",
       "    <tr>\n",
       "      <th>1</th>\n",
       "      <td>10-20</td>\n",
       "      <td>4</td>\n",
       "    </tr>\n",
       "    <tr>\n",
       "      <th>2</th>\n",
       "      <td>20-30</td>\n",
       "      <td>3</td>\n",
       "    </tr>\n",
       "  </tbody>\n",
       "</table>\n",
       "</div>"
      ],
      "text/plain": [
       "   class  f\n",
       "0   0-10  3\n",
       "1  10-20  4\n",
       "2  20-30  3"
      ]
     },
     "execution_count": 79,
     "metadata": {},
     "output_type": "execute_result"
    }
   ],
   "source": [
    "class_ = [\"0-10\",\"10-20\",\"20-30\"]\n",
    "f = [3,4,3]\n",
    "df = pd.DataFrame({\"class\":class_,\"f\":f})\n",
    "df"
   ]
  },
  {
   "cell_type": "code",
   "execution_count": 80,
   "id": "8a5833ab-47c2-4419-bb0b-96bfc94a10e2",
   "metadata": {},
   "outputs": [
    {
     "data": {
      "text/html": [
       "<div>\n",
       "<style scoped>\n",
       "    .dataframe tbody tr th:only-of-type {\n",
       "        vertical-align: middle;\n",
       "    }\n",
       "\n",
       "    .dataframe tbody tr th {\n",
       "        vertical-align: top;\n",
       "    }\n",
       "\n",
       "    .dataframe thead th {\n",
       "        text-align: right;\n",
       "    }\n",
       "</style>\n",
       "<table border=\"1\" class=\"dataframe\">\n",
       "  <thead>\n",
       "    <tr style=\"text-align: right;\">\n",
       "      <th></th>\n",
       "      <th>class</th>\n",
       "      <th>f</th>\n",
       "      <th>x</th>\n",
       "    </tr>\n",
       "  </thead>\n",
       "  <tbody>\n",
       "    <tr>\n",
       "      <th>0</th>\n",
       "      <td>0-10</td>\n",
       "      <td>3</td>\n",
       "      <td>5</td>\n",
       "    </tr>\n",
       "    <tr>\n",
       "      <th>1</th>\n",
       "      <td>10-20</td>\n",
       "      <td>4</td>\n",
       "      <td>15</td>\n",
       "    </tr>\n",
       "    <tr>\n",
       "      <th>2</th>\n",
       "      <td>20-30</td>\n",
       "      <td>3</td>\n",
       "      <td>25</td>\n",
       "    </tr>\n",
       "  </tbody>\n",
       "</table>\n",
       "</div>"
      ],
      "text/plain": [
       "   class  f   x\n",
       "0   0-10  3   5\n",
       "1  10-20  4  15\n",
       "2  20-30  3  25"
      ]
     },
     "execution_count": 80,
     "metadata": {},
     "output_type": "execute_result"
    }
   ],
   "source": [
    "# x mind point\n",
    "mid_point = [(int(i.split(\"-\")[0])+int(i.split(\"-\")[-1]))//2 for i in class_]\n",
    "df[\"x\"] = mid_point\n",
    "df"
   ]
  },
  {
   "cell_type": "code",
   "execution_count": 81,
   "id": "cf9aaffc-90b8-4c8c-aa6b-e4bb0f46f2a7",
   "metadata": {},
   "outputs": [
    {
     "data": {
      "text/html": [
       "<div>\n",
       "<style scoped>\n",
       "    .dataframe tbody tr th:only-of-type {\n",
       "        vertical-align: middle;\n",
       "    }\n",
       "\n",
       "    .dataframe tbody tr th {\n",
       "        vertical-align: top;\n",
       "    }\n",
       "\n",
       "    .dataframe thead th {\n",
       "        text-align: right;\n",
       "    }\n",
       "</style>\n",
       "<table border=\"1\" class=\"dataframe\">\n",
       "  <thead>\n",
       "    <tr style=\"text-align: right;\">\n",
       "      <th></th>\n",
       "      <th>class</th>\n",
       "      <th>f</th>\n",
       "      <th>x</th>\n",
       "      <th>fx</th>\n",
       "    </tr>\n",
       "  </thead>\n",
       "  <tbody>\n",
       "    <tr>\n",
       "      <th>0</th>\n",
       "      <td>0-10</td>\n",
       "      <td>3</td>\n",
       "      <td>5</td>\n",
       "      <td>15</td>\n",
       "    </tr>\n",
       "    <tr>\n",
       "      <th>1</th>\n",
       "      <td>10-20</td>\n",
       "      <td>4</td>\n",
       "      <td>15</td>\n",
       "      <td>60</td>\n",
       "    </tr>\n",
       "    <tr>\n",
       "      <th>2</th>\n",
       "      <td>20-30</td>\n",
       "      <td>3</td>\n",
       "      <td>25</td>\n",
       "      <td>75</td>\n",
       "    </tr>\n",
       "  </tbody>\n",
       "</table>\n",
       "</div>"
      ],
      "text/plain": [
       "   class  f   x  fx\n",
       "0   0-10  3   5  15\n",
       "1  10-20  4  15  60\n",
       "2  20-30  3  25  75"
      ]
     },
     "execution_count": 81,
     "metadata": {},
     "output_type": "execute_result"
    }
   ],
   "source": [
    "# fx\n",
    "df['fx'] = df['f'] * df['x']\n",
    "df"
   ]
  },
  {
   "cell_type": "code",
   "execution_count": 82,
   "id": "0fc406ee-792a-4e9a-9de4-f05995123cdb",
   "metadata": {},
   "outputs": [
    {
     "data": {
      "text/html": [
       "<div>\n",
       "<style scoped>\n",
       "    .dataframe tbody tr th:only-of-type {\n",
       "        vertical-align: middle;\n",
       "    }\n",
       "\n",
       "    .dataframe tbody tr th {\n",
       "        vertical-align: top;\n",
       "    }\n",
       "\n",
       "    .dataframe thead th {\n",
       "        text-align: right;\n",
       "    }\n",
       "</style>\n",
       "<table border=\"1\" class=\"dataframe\">\n",
       "  <thead>\n",
       "    <tr style=\"text-align: right;\">\n",
       "      <th></th>\n",
       "      <th>class</th>\n",
       "      <th>f</th>\n",
       "      <th>x</th>\n",
       "      <th>fx</th>\n",
       "      <th>fx^2</th>\n",
       "    </tr>\n",
       "  </thead>\n",
       "  <tbody>\n",
       "    <tr>\n",
       "      <th>0</th>\n",
       "      <td>0-10</td>\n",
       "      <td>3</td>\n",
       "      <td>5</td>\n",
       "      <td>15</td>\n",
       "      <td>75</td>\n",
       "    </tr>\n",
       "    <tr>\n",
       "      <th>1</th>\n",
       "      <td>10-20</td>\n",
       "      <td>4</td>\n",
       "      <td>15</td>\n",
       "      <td>60</td>\n",
       "      <td>900</td>\n",
       "    </tr>\n",
       "    <tr>\n",
       "      <th>2</th>\n",
       "      <td>20-30</td>\n",
       "      <td>3</td>\n",
       "      <td>25</td>\n",
       "      <td>75</td>\n",
       "      <td>1875</td>\n",
       "    </tr>\n",
       "  </tbody>\n",
       "</table>\n",
       "</div>"
      ],
      "text/plain": [
       "   class  f   x  fx  fx^2\n",
       "0   0-10  3   5  15    75\n",
       "1  10-20  4  15  60   900\n",
       "2  20-30  3  25  75  1875"
      ]
     },
     "execution_count": 82,
     "metadata": {},
     "output_type": "execute_result"
    }
   ],
   "source": [
    "# f * (x)2\n",
    "df['fx^2'] = df['f'] * (df['x'] ** 2)\n",
    "df"
   ]
  },
  {
   "cell_type": "code",
   "execution_count": 83,
   "id": "6cdb1758-6be3-4c18-9e70-8492acddbbfd",
   "metadata": {},
   "outputs": [
    {
     "data": {
      "text/plain": [
       "225"
      ]
     },
     "execution_count": 83,
     "metadata": {},
     "output_type": "execute_result"
    }
   ],
   "source": [
    "# x bar square\n",
    "x_bar_square = (int(df['x'].sum()) // len(df['x'].tolist())) ** 2\n",
    "x_bar_square\n"
   ]
  },
  {
   "cell_type": "code",
   "execution_count": 84,
   "id": "b2d2c46f-eddc-45ed-a265-65fd7c180995",
   "metadata": {},
   "outputs": [
    {
     "data": {
      "text/plain": [
       "10"
      ]
     },
     "execution_count": 84,
     "metadata": {},
     "output_type": "execute_result"
    }
   ],
   "source": [
    "f = int(df['f'].sum())\n",
    "f"
   ]
  },
  {
   "cell_type": "code",
   "execution_count": 85,
   "id": "ab0541ea-2d5a-400e-8066-e703ef2b22d0",
   "metadata": {},
   "outputs": [
    {
     "data": {
      "text/plain": [
       "60"
      ]
     },
     "execution_count": 85,
     "metadata": {},
     "output_type": "execute_result"
    }
   ],
   "source": [
    "var = int(df['fx^2'].sum() / f) - x_bar_square\n",
    "var"
   ]
  },
  {
   "cell_type": "code",
   "execution_count": 86,
   "id": "74e200c3-2bd2-4f3a-b6b9-b3ee23197616",
   "metadata": {},
   "outputs": [
    {
     "data": {
      "text/plain": [
       "66.66666666666667"
      ]
     },
     "execution_count": 86,
     "metadata": {},
     "output_type": "execute_result"
    }
   ],
   "source": [
    "# now perform n/n-1\n",
    "var * f/(f-1)"
   ]
  },
  {
   "cell_type": "markdown",
   "id": "873e4a5c-3ca5-447a-91b1-d08667e07321",
   "metadata": {},
   "source": [
    "<body style=\"font-family: Sans-serif;\">\n",
    "    <div style=\"color: black; font-size: 18px; font-style: oblique; text-shadow: 0 0 3px white, 0 0 1px black; padding: 20px;\">\n",
    "\n",
    "## -> Variance Example"
   ]
  },
  {
   "cell_type": "code",
   "execution_count": 32,
   "id": "69a95c67-4853-403b-af25-793c5ca5a57b",
   "metadata": {},
   "outputs": [],
   "source": [
    "# Datasets: Class A (stable), Class B (mixed)\n",
    "scores_A = [68, 70, 72, 69, 71]\n",
    "scores_B = [30, 45, 70, 90, 100]"
   ]
  },
  {
   "cell_type": "code",
   "execution_count": 33,
   "id": "addefb8f-5036-4a88-b847-4cd1ce86cb5e",
   "metadata": {},
   "outputs": [
    {
     "name": "stdout",
     "output_type": "stream",
     "text": [
      "mean_A 70.0\n",
      "mean_B 67.0\n"
     ]
    }
   ],
   "source": [
    "mean_A = np.mean(scores_A)\n",
    "mean_B = np.mean(scores_B)\n",
    "\n",
    "print(\"mean_A\",mean_A)\n",
    "print(\"mean_B\",mean_B)"
   ]
  },
  {
   "cell_type": "code",
   "execution_count": 34,
   "id": "ad71728c-c273-4dd4-8971-4b8f2c3a10a8",
   "metadata": {},
   "outputs": [
    {
     "name": "stdout",
     "output_type": "stream",
     "text": [
      "var_A 2.5\n",
      "var_B 870.0\n"
     ]
    }
   ],
   "source": [
    "var_A = np.var(scores_A, ddof=1)\n",
    "var_B = np.var(scores_B, ddof=1)\n",
    "\n",
    "print(\"var_A\",var_A)\n",
    "print(\"var_B\",var_B)"
   ]
  },
  {
   "cell_type": "code",
   "execution_count": 35,
   "id": "ec9401ff-9bf6-46cc-88a6-f885e8aa79c8",
   "metadata": {},
   "outputs": [
    {
     "data": {
      "image/png": "[encoded data removed]",
      "text/plain": [
       "<Figure size 1200x400 with 2 Axes>"
      ]
     },
     "metadata": {},
     "output_type": "display_data"
    }
   ],
   "source": [
    "# Plotting\n",
    "fig, axs = plt.subplots(1, 2, figsize=(12, 4))\n",
    "\n",
    "# Class A - Low Variance\n",
    "axs[0].scatter(range(len(scores_A)), scores_A, color='green', s=100)\n",
    "axs[0].axhline(mean_A, color='blue', linestyle='--', label=f\"Mean = {mean_A:.1f}\")\n",
    "axs[0].set_title(f\"Class A (Low Variance = {var_A:.2f})\")\n",
    "axs[0].set_ylabel(\"Score\")\n",
    "axs[0].set_xticks(range(len(scores_A)))\n",
    "axs[0].set_xticklabels([f\"Student {i+1}\" for i in range(len(scores_A))])\n",
    "axs[0].legend()\n",
    "axs[0].grid()\n",
    "\n",
    "# Class B - High Variance\n",
    "axs[1].scatter(range(len(scores_B)), scores_B, color='red', s=100)\n",
    "axs[1].axhline(mean_B, color='blue', linestyle='--', label=f\"Mean = {mean_B:.1f}\")\n",
    "axs[1].set_title(f\"Class B (High Variance = {var_B:.2f})\")\n",
    "axs[1].set_ylabel(\"Score\")\n",
    "axs[1].set_xticks(range(len(scores_B)))\n",
    "axs[1].set_xticklabels([f\"Student {i+1}\" for i in range(len(scores_B))])\n",
    "axs[1].legend()\n",
    "axs[1].grid()\n",
    "\n",
    "plt.suptitle(\"Variance Visualization: Class A vs Class B\", fontsize=16)\n",
    "plt.tight_layout()\n",
    "plt.show()\n"
   ]
  },
  {
   "cell_type": "markdown",
   "id": "29af7bdb-1a95-4379-8d2c-8ef23720c12f",
   "metadata": {},
   "source": [
    "<body style=\"font-family: Sans-serif;\">\n",
    "    <div style=\"color: black; font-size: 18px; font-style: oblique; text-shadow: 0 0 3px white, 0 0 1px black; padding: 20px;\">\n",
    "\n",
    "- Variance ka matlab hota hai ke data values apne mean (average) ke ird gird kitni spread hui hain\n",
    "- agar sab values ek dusre ke qareeb hoon to variance low hota hai (matlab data stable hai),\n",
    "- aur agar values mean se door door hoon to variance high hota hai (data inconsistent ya bikhra hua hai).\n",
    "\n",
    "- Low variance tab acha hota hai jab tum consistent result chahte ho — jaise students ka test score similar ho, sensor stable reading de, ya product size uniform ho.\n",
    "\n",
    "- Lekin machine learning mein kabhi high variance bhi useful hoti hai — jaise feature selection mein (PCA), jahan zyada variation wale features model ke liye informative hote hain.\n",
    "\n",
    "-   Agar model predictions bohot fluctuate karein to high variance harmful hoti hai (overfitting ka signal)\n",
    "\n",
    "---"
   ]
  },
  {
   "cell_type": "markdown",
   "id": "2e38d7a0-cf8b-45cc-ae2e-c0eb1efe07d3",
   "metadata": {},
   "source": [
    "<body style=\"font-family: Sans-serif;\">\n",
    "    <div style=\"color: black; font-size: 18px; font-style: oblique; text-shadow: 0 0 3px white, 0 0 1px black; padding: 20px;\">\n",
    "\n",
    "3 Standard Deviation (“Variance ka square root”):\n",
    "-  Ye batata hai ke data average se kitna spread out hai; original units mein\n",
    "\n",
    "<img src=\"./images/26.jpg\" style=\"width: 60%; display: block; margin-left: auto; margin-right: auto;\">\n"
   ]
  },
  {
   "cell_type": "code",
   "execution_count": 93,
   "id": "03de1218-988c-4675-9638-5e07ade1926a",
   "metadata": {},
   "outputs": [
    {
     "data": {
      "text/plain": [
       "[4, 7, 2, 9, 12]"
      ]
     },
     "execution_count": 93,
     "metadata": {},
     "output_type": "execute_result"
    }
   ],
   "source": [
    "data = [4, 7, 2, 9, 12]\n",
    "data"
   ]
  },
  {
   "cell_type": "code",
   "execution_count": 99,
   "id": "39cc5c96-79a5-4a87-8a17-ab295555366b",
   "metadata": {},
   "outputs": [
    {
     "data": {
      "text/plain": [
       "6.8"
      ]
     },
     "execution_count": 99,
     "metadata": {},
     "output_type": "execute_result"
    }
   ],
   "source": [
    "x = 0\n",
    "for i in data:\n",
    "    x += i\n",
    "\n",
    "mean = x / len(data)\n",
    "mean"
   ]
  },
  {
   "cell_type": "code",
   "execution_count": 100,
   "id": "ec1460a2-5bdf-46ee-a580-9ca04dedc01a",
   "metadata": {},
   "outputs": [
    {
     "data": {
      "text/plain": [
       "62.8"
      ]
     },
     "execution_count": 100,
     "metadata": {},
     "output_type": "execute_result"
    }
   ],
   "source": [
    "x = 0\n",
    "for i in data:\n",
    "    x += (i-mean)**2\n",
    "x"
   ]
  },
  {
   "cell_type": "code",
   "execution_count": 102,
   "id": "b5dc8707-098b-42f6-8643-268b3df455e2",
   "metadata": {},
   "outputs": [
    {
     "data": {
      "text/plain": [
       "3.54400902933387"
      ]
     },
     "execution_count": 102,
     "metadata": {},
     "output_type": "execute_result"
    }
   ],
   "source": [
    "pop_sd = (1/len(data) * x) ** 0.5\n",
    "pop_sd"
   ]
  },
  {
   "cell_type": "code",
   "execution_count": 104,
   "id": "6e8b75eb-515e-489f-acea-371a13a79c41",
   "metadata": {},
   "outputs": [
    {
     "data": {
      "text/plain": [
       "3.96232255123179"
      ]
     },
     "execution_count": 104,
     "metadata": {},
     "output_type": "execute_result"
    }
   ],
   "source": [
    "sample_sd = (1/(len(data)-1) * x) ** 0.5\n",
    "sample_sd"
   ]
  },
  {
   "cell_type": "markdown",
   "id": "12b5d0b3-d6e0-46ab-8b0c-1d32b0b997c8",
   "metadata": {},
   "source": [
    "<body style=\"font-family: Sans-serif;\">\n",
    "    <div style=\"color: black; font-size: 18px; font-style: oblique; text-shadow: 0 0 3px white, 0 0 1px black; padding: 20px;\">\n",
    "\n",
    "Standard Deviation for Group Data\n",
    "\n",
    "<img src=\"./images/27.jpg\" style=\"width: 60%; display: block; margin-left: auto; margin-right: auto;\">\n"
   ]
  },
  {
   "cell_type": "code",
   "execution_count": 106,
   "id": "f5a548b5-d2d6-4a31-bb2f-14f6920df967",
   "metadata": {},
   "outputs": [
    {
     "data": {
      "text/html": [
       "<div>\n",
       "<style scoped>\n",
       "    .dataframe tbody tr th:only-of-type {\n",
       "        vertical-align: middle;\n",
       "    }\n",
       "\n",
       "    .dataframe tbody tr th {\n",
       "        vertical-align: top;\n",
       "    }\n",
       "\n",
       "    .dataframe thead th {\n",
       "        text-align: right;\n",
       "    }\n",
       "</style>\n",
       "<table border=\"1\" class=\"dataframe\">\n",
       "  <thead>\n",
       "    <tr style=\"text-align: right;\">\n",
       "      <th></th>\n",
       "      <th>f</th>\n",
       "      <th>x</th>\n",
       "      <th>fx</th>\n",
       "      <th>fx2</th>\n",
       "    </tr>\n",
       "  </thead>\n",
       "  <tbody>\n",
       "    <tr>\n",
       "      <th>0</th>\n",
       "      <td>3</td>\n",
       "      <td>5</td>\n",
       "      <td>15</td>\n",
       "      <td>75</td>\n",
       "    </tr>\n",
       "    <tr>\n",
       "      <th>1</th>\n",
       "      <td>4</td>\n",
       "      <td>15</td>\n",
       "      <td>60</td>\n",
       "      <td>900</td>\n",
       "    </tr>\n",
       "    <tr>\n",
       "      <th>2</th>\n",
       "      <td>3</td>\n",
       "      <td>25</td>\n",
       "      <td>75</td>\n",
       "      <td>1875</td>\n",
       "    </tr>\n",
       "  </tbody>\n",
       "</table>\n",
       "</div>"
      ],
      "text/plain": [
       "   f   x  fx   fx2\n",
       "0  3   5  15    75\n",
       "1  4  15  60   900\n",
       "2  3  25  75  1875"
      ]
     },
     "execution_count": 106,
     "metadata": {},
     "output_type": "execute_result"
    }
   ],
   "source": [
    "import pandas as pd\n",
    "import numpy as np\n",
    "\n",
    "df = pd.DataFrame({\n",
    "    \"f\": [3, 4, 3],\n",
    "    \"x\": [5, 15, 25]\n",
    "})\n",
    "\n",
    "df[\"fx\"] = df[\"f\"] * df[\"x\"]\n",
    "df[\"fx2\"] = df[\"f\"] * df[\"x\"]**2\n",
    "\n",
    "df"
   ]
  },
  {
   "cell_type": "code",
   "execution_count": 110,
   "id": "a408144a-227e-418f-9095-4bbc2ac43d62",
   "metadata": {},
   "outputs": [
    {
     "name": "stdout",
     "output_type": "stream",
     "text": [
      "10\n"
     ]
    }
   ],
   "source": [
    "n = df[\"f\"].sum()\n",
    "print(n)"
   ]
  },
  {
   "cell_type": "code",
   "execution_count": 111,
   "id": "23c11dc2-d0f2-4f18-abb3-5d58247c01c8",
   "metadata": {},
   "outputs": [
    {
     "name": "stdout",
     "output_type": "stream",
     "text": [
      "15.0\n"
     ]
    }
   ],
   "source": [
    "mean = df[\"fx\"].sum() / n\n",
    "print(mean)"
   ]
  },
  {
   "cell_type": "code",
   "execution_count": 112,
   "id": "d5f2ee41-da41-4aeb-b2a9-df34cc0c9d71",
   "metadata": {},
   "outputs": [
    {
     "name": "stdout",
     "output_type": "stream",
     "text": [
      "60.0\n"
     ]
    }
   ],
   "source": [
    "pop_var = df[\"fx2\"].sum() / n - mean**2\n",
    "print(pop_var)"
   ]
  },
  {
   "cell_type": "code",
   "execution_count": 113,
   "id": "5d036081-6ca8-40a6-808d-dca319f5e8cd",
   "metadata": {},
   "outputs": [
    {
     "name": "stdout",
     "output_type": "stream",
     "text": [
      "7.745966692414834\n"
     ]
    }
   ],
   "source": [
    "pop_sd = np.sqrt(pop_var)\n",
    "print(pop_sd)"
   ]
  },
  {
   "cell_type": "code",
   "execution_count": 115,
   "id": "236e9fcf-4277-4c48-8a32-84396099d34e",
   "metadata": {},
   "outputs": [
    {
     "name": "stdout",
     "output_type": "stream",
     "text": [
      "66.66666666666667\n"
     ]
    }
   ],
   "source": [
    "sample_var = (n / (n - 1)) * pop_var\n",
    "print(sample_var)"
   ]
  },
  {
   "cell_type": "code",
   "execution_count": 117,
   "id": "b7e85062-4a79-4165-844b-f39e6defb84c",
   "metadata": {},
   "outputs": [
    {
     "name": "stdout",
     "output_type": "stream",
     "text": [
      "8.16496580927726\n"
     ]
    }
   ],
   "source": [
    "sample_sd = np.sqrt(sample_var)\n",
    "print(sample_sd)"
   ]
  },
  {
   "cell_type": "markdown",
   "id": "325e5fb5-6581-4f9a-b326-b52a2ce8fa3b",
   "metadata": {},
   "source": [
    "<body style=\"font-family: Sans-serif;\">\n",
    "    <div style=\"color: black; font-size: 18px; font-style: oblique; text-shadow: 0 0 3px white, 0 0 1px black; padding: 20px;\">\n",
    "\n",
    "## -> Standard Deviation Example"
   ]
  },
  {
   "cell_type": "code",
   "execution_count": 36,
   "id": "0d8fb125-0626-453e-b961-679154e786aa",
   "metadata": {},
   "outputs": [],
   "source": [
    "scores_low_sd = [48, 49, 50, 51, 52]\n",
    "scores_high_sd = [20, 35, 50, 65, 80]\n",
    "\n",
    "mean_low = np.mean(scores_low_sd)\n",
    "mean_high = np.mean(scores_high_sd)\n",
    "\n",
    "std_low = np.std(scores_low_sd, ddof=1)\n",
    "std_high = np.std(scores_high_sd, ddof=1)"
   ]
  },
  {
   "cell_type": "code",
   "execution_count": 37,
   "id": "05ec1bf6-c4f2-4480-995f-28375c0a34c6",
   "metadata": {},
   "outputs": [
    {
     "data": {
      "image/png": "[encoded data removed]",
      "text/plain": [
       "<Figure size 1200x400 with 2 Axes>"
      ]
     },
     "metadata": {},
     "output_type": "display_data"
    }
   ],
   "source": [
    "# Plotting\n",
    "fig, axs = plt.subplots(1, 2, figsize=(12, 4))\n",
    "\n",
    "# Low SD\n",
    "axs[0].scatter(range(len(scores_low_sd)), scores_low_sd, color='green', s=100)\n",
    "axs[0].axhline(mean_low, color='blue', linestyle='--', label=f\"Mean = {mean_low:.1f}\")\n",
    "axs[0].fill_between([-0.5, 4.5], mean_low - std_low, mean_low + std_low, color='green', alpha=0.2, label=f\"±1 SD = {std_low:.1f}\")\n",
    "axs[0].set_title(f\"Low Standard Deviation\\n(SD = {std_low:.2f})\")\n",
    "axs[0].set_ylabel(\"Scores\")\n",
    "axs[0].set_xticks(range(len(scores_low_sd)))\n",
    "axs[0].set_xticklabels([f\"S{i+1}\" for i in range(len(scores_low_sd))])\n",
    "axs[0].legend()\n",
    "axs[0].grid()\n",
    "\n",
    "# High SD\n",
    "axs[1].scatter(range(len(scores_high_sd)), scores_high_sd, color='red', s=100)\n",
    "axs[1].axhline(mean_high, color='blue', linestyle='--', label=f\"Mean = {mean_high:.1f}\")\n",
    "axs[1].fill_between([-0.5, 4.5], mean_high - std_high, mean_high + std_high, color='red', alpha=0.2, label=f\"±1 SD = {std_high:.1f}\")\n",
    "axs[1].set_title(f\"High Standard Deviation\\n(SD = {std_high:.2f})\")\n",
    "axs[1].set_ylabel(\"Scores\")\n",
    "axs[1].set_xticks(range(len(scores_high_sd)))\n",
    "axs[1].set_xticklabels([f\"S{i+1}\" for i in range(len(scores_high_sd))])\n",
    "axs[1].legend()\n",
    "axs[1].grid()\n",
    "\n",
    "plt.suptitle(\"Standard Deviation Visualization: Low vs High Spread\", fontsize=16)\n",
    "plt.tight_layout()\n",
    "plt.show()"
   ]
  },
  {
   "cell_type": "markdown",
   "id": "bb751e62-d882-483d-9a66-95f8e1e32b8d",
   "metadata": {},
   "source": [
    "<body style=\"font-family: Sans-serif;\">\n",
    "    <div style=\"color: black; font-size: 18px; font-style: oblique; text-shadow: 0 0 3px white, 0 0 1px black; padding: 20px;\">\n",
    "\n",
    "**Standard Deviation (SD)** ek measure hai jo batata hai ke data values apne average (mean) se \"kitni door\" hain \n",
    "- agar SD low ho to matlab sab values mean ke pass hain (data stable aur consistent),\n",
    "- aur agar SD high ho to values mean se door door hain (data spread zyada, inconsistent).\n",
    "  \n",
    "- Jaise agar ek class mein students ke marks `[48, 49, 50, 51, 52]` hon to mean 50 hoga aur SD low (≈1.58), matlab sab students ne same jese perform kiya.\n",
    "- Lekin agar marks `[20, 35, 50, 65, 80]` hon to mean to 50 hi hoga, lekin SD high (≈24.49) hoga, matlab kisi ne fail kia, kisi ne full marks liye\n",
    "\n",
    "- Real life mein SD ka use hota hai product quality control mein (size variation), sensors ki reading ka stability check karne mein, aur ML models mein predictions ka consistency analyze karne ke liye.\n",
    "\n",
    "  \n",
    "- **Low SD** ka matlab hota hai system stable hai, jabke **high SD** ka matlab hota hai data unpredictable ya inconsistent hai.\n"
   ]
  },
  {
   "cell_type": "markdown",
   "id": "2f88c643-5f11-4a60-b889-972a6b30c05d",
   "metadata": {},
   "source": [
    "<body style=\"font-family: Sans-serif;\">\n",
    "    <div style=\"color: black; font-size: 18px; font-style: oblique; text-shadow: 0 0 3px white, 0 0 1px black; padding: 20px;\">\n",
    "\n",
    "4 Coefficient of Variation:\n",
    "-  Coefficient of Variation batata hai ke standard deviation mean ke comparison mein kitni zyada ya kam hai\n",
    "-  Yeh ek relative measure hota hai — % form mein express hota ha\n",
    "\n",
    "| Scenario                                                     |\n",
    "| ------------------------------------------------------------ | \n",
    "| Jab 2 alag-alag datasets ka **spread compare** karna ho      |    \n",
    "| Jab values **different units** ya **scales** mein hon        |   \n",
    "| Machine Learning mein **feature variability** check karni ho |   \n"
   ]
  },
  {
   "cell_type": "code",
   "execution_count": 118,
   "id": "5f70a9a2-7e44-42a3-94dc-115231a9ea5c",
   "metadata": {},
   "outputs": [
    {
     "data": {
      "text/plain": [
       "[4, 7, 2, 9, 12]"
      ]
     },
     "execution_count": 118,
     "metadata": {},
     "output_type": "execute_result"
    }
   ],
   "source": [
    "data = [4, 7, 2, 9, 12]\n",
    "data"
   ]
  },
  {
   "cell_type": "code",
   "execution_count": 119,
   "id": "9120ab5f-8a9c-497f-b0e4-16bb3cb1ca37",
   "metadata": {},
   "outputs": [
    {
     "data": {
      "text/plain": [
       "6.8"
      ]
     },
     "execution_count": 119,
     "metadata": {},
     "output_type": "execute_result"
    }
   ],
   "source": [
    "x = 0\n",
    "for i in data:\n",
    "    x += i\n",
    "\n",
    "mean = x / len(data)\n",
    "mean"
   ]
  },
  {
   "cell_type": "code",
   "execution_count": 120,
   "id": "70ab5e46-4138-439c-9d45-50d4ff49ef37",
   "metadata": {},
   "outputs": [
    {
     "data": {
      "text/plain": [
       "62.8"
      ]
     },
     "execution_count": 120,
     "metadata": {},
     "output_type": "execute_result"
    }
   ],
   "source": [
    "x = 0\n",
    "for i in data:\n",
    "    x += (i-mean)**2\n",
    "x"
   ]
  },
  {
   "cell_type": "code",
   "execution_count": 124,
   "id": "cd6b46d2-b888-4765-a8df-60d073d78f14",
   "metadata": {},
   "outputs": [
    {
     "data": {
      "text/plain": [
       "3.96232255123179"
      ]
     },
     "execution_count": 124,
     "metadata": {},
     "output_type": "execute_result"
    }
   ],
   "source": [
    "sd = (1/(len(data)-1) * x) ** 0.5\n",
    "sd"
   ]
  },
  {
   "cell_type": "code",
   "execution_count": 125,
   "id": "74ecc6b9-1488-4e9c-9943-a41fd8f2e97e",
   "metadata": {},
   "outputs": [
    {
     "data": {
      "text/plain": [
       "58.26944928282044"
      ]
     },
     "execution_count": 125,
     "metadata": {},
     "output_type": "execute_result"
    }
   ],
   "source": [
    "cv = sd/mean * 100\n",
    "cv"
   ]
  },
  {
   "cell_type": "markdown",
   "id": "a4ecbfcb-7d1a-4be0-b39e-8422660eaa80",
   "metadata": {},
   "source": [
    "<body style=\"font-family: Sans-serif;\">\n",
    "    <div style=\"color: black; font-size: 18px; font-style: oblique; text-shadow: 0 0 3px white, 0 0 1px black; padding: 20px;\">\n",
    "\n",
    "Coefficient of Variation of group Data\n",
    "\n",
    "<img src=\"./images/28.jpg\" style=\"width: 60%; display: block; margin-left: auto; margin-right: auto;\">\n"
   ]
  },
  {
   "cell_type": "code",
   "execution_count": 129,
   "id": "bf352a29-c348-4051-8f9f-c732bf307444",
   "metadata": {},
   "outputs": [
    {
     "data": {
      "text/html": [
       "<div>\n",
       "<style scoped>\n",
       "    .dataframe tbody tr th:only-of-type {\n",
       "        vertical-align: middle;\n",
       "    }\n",
       "\n",
       "    .dataframe tbody tr th {\n",
       "        vertical-align: top;\n",
       "    }\n",
       "\n",
       "    .dataframe thead th {\n",
       "        text-align: right;\n",
       "    }\n",
       "</style>\n",
       "<table border=\"1\" class=\"dataframe\">\n",
       "  <thead>\n",
       "    <tr style=\"text-align: right;\">\n",
       "      <th></th>\n",
       "      <th>f</th>\n",
       "      <th>x</th>\n",
       "      <th>fx</th>\n",
       "      <th>fx2</th>\n",
       "    </tr>\n",
       "  </thead>\n",
       "  <tbody>\n",
       "    <tr>\n",
       "      <th>0</th>\n",
       "      <td>3</td>\n",
       "      <td>5</td>\n",
       "      <td>15</td>\n",
       "      <td>75</td>\n",
       "    </tr>\n",
       "    <tr>\n",
       "      <th>1</th>\n",
       "      <td>4</td>\n",
       "      <td>15</td>\n",
       "      <td>60</td>\n",
       "      <td>900</td>\n",
       "    </tr>\n",
       "    <tr>\n",
       "      <th>2</th>\n",
       "      <td>3</td>\n",
       "      <td>25</td>\n",
       "      <td>75</td>\n",
       "      <td>1875</td>\n",
       "    </tr>\n",
       "  </tbody>\n",
       "</table>\n",
       "</div>"
      ],
      "text/plain": [
       "   f   x  fx   fx2\n",
       "0  3   5  15    75\n",
       "1  4  15  60   900\n",
       "2  3  25  75  1875"
      ]
     },
     "execution_count": 129,
     "metadata": {},
     "output_type": "execute_result"
    }
   ],
   "source": [
    "df = pd.DataFrame({\n",
    "    \"f\": [3, 4, 3],\n",
    "    \"x\": [5, 15, 25]\n",
    "})\n",
    "\n",
    "df[\"fx\"] = df[\"f\"] * df[\"x\"]\n",
    "df[\"fx2\"] = df[\"f\"] * df[\"x\"]**2\n",
    "\n",
    "df"
   ]
  },
  {
   "cell_type": "code",
   "execution_count": 131,
   "id": "244cd416-f37c-4d09-b2c6-76f0ed85e0cd",
   "metadata": {},
   "outputs": [
    {
     "name": "stdout",
     "output_type": "stream",
     "text": [
      "10\n"
     ]
    }
   ],
   "source": [
    "n = df[\"f\"].sum()\n",
    "print(n)"
   ]
  },
  {
   "cell_type": "code",
   "execution_count": 132,
   "id": "c90bc204-4faf-4b5d-a6fc-48b429594d01",
   "metadata": {},
   "outputs": [
    {
     "name": "stdout",
     "output_type": "stream",
     "text": [
      "15.0\n"
     ]
    }
   ],
   "source": [
    "mean = df[\"fx\"].sum() / n\n",
    "print(mean)"
   ]
  },
  {
   "cell_type": "code",
   "execution_count": 133,
   "id": "8c5a3cf0-df35-427e-bfc8-a84924ebd5dc",
   "metadata": {},
   "outputs": [
    {
     "name": "stdout",
     "output_type": "stream",
     "text": [
      "60.0\n"
     ]
    }
   ],
   "source": [
    "pop_var = df[\"fx2\"].sum() / n - mean**2\n",
    "print(pop_var)"
   ]
  },
  {
   "cell_type": "code",
   "execution_count": 134,
   "id": "47dccc5f-0524-4e25-9d66-34c7138791c2",
   "metadata": {},
   "outputs": [
    {
     "name": "stdout",
     "output_type": "stream",
     "text": [
      "66.66666666666667\n"
     ]
    }
   ],
   "source": [
    "sample_var = (n / (n - 1)) * pop_var\n",
    "print(sample_var)"
   ]
  },
  {
   "cell_type": "code",
   "execution_count": 135,
   "id": "9e9c583f-8aca-4b48-8862-2b49e4ab1911",
   "metadata": {},
   "outputs": [
    {
     "name": "stdout",
     "output_type": "stream",
     "text": [
      "8.16496580927726\n"
     ]
    }
   ],
   "source": [
    "sample_sd = np.sqrt(sample_var)\n",
    "print(sample_sd)"
   ]
  },
  {
   "cell_type": "code",
   "execution_count": 136,
   "id": "2fe57ca2-c90d-4725-b50b-df77a442fe48",
   "metadata": {},
   "outputs": [
    {
     "name": "stdout",
     "output_type": "stream",
     "text": [
      "54.433105395181734\n"
     ]
    }
   ],
   "source": [
    "cv = (sample_sd / mean) * 100\n",
    "print(cv)"
   ]
  },
  {
   "cell_type": "markdown",
   "id": "85de5f14-d42b-4c6f-935c-6986b862186f",
   "metadata": {},
   "source": [
    "<body style=\"font-family: Sans-serif;\">\n",
    "    <div style=\"color: black; font-size: 18px; font-style: oblique; text-shadow: 0 0 3px white, 0 0 1px black; padding: 20px;\">\n",
    "\n",
    "## -> Coefficient of Variation Example"
   ]
  },
  {
   "cell_type": "code",
   "execution_count": 38,
   "id": "052c7691-9b9e-4245-8cb0-ec7cc60f4674",
   "metadata": {},
   "outputs": [],
   "source": [
    "scores_class1 = [40, 50, 60, 50, 50]  # Mean ≈ 50\n",
    "scores_class2 = [70, 80, 90, 80, 80]  # Mean ≈ 80\n",
    "\n",
    "# Mean & Standard Deviation\n",
    "mean1 = np.mean(scores_class1)\n",
    "mean2 = np.mean(scores_class2)\n",
    "std1 = np.std(scores_class1, ddof=1)\n",
    "std2 = np.std(scores_class2, ddof=1)\n",
    "\n",
    "# Coefficient of Variation (CV)\n",
    "cv1 = (std1 / mean1) * 100\n",
    "cv2 = (std2 / mean2) * 100"
   ]
  },
  {
   "cell_type": "code",
   "execution_count": 39,
   "id": "8fc2d62d-b544-495c-a48d-cd8efad1cf7f",
   "metadata": {},
   "outputs": [
    {
     "data": {
      "image/png": "[encoded data removed]",
      "text/plain": [
       "<Figure size 600x400 with 1 Axes>"
      ]
     },
     "metadata": {},
     "output_type": "display_data"
    }
   ],
   "source": [
    "# Plot CV Comparison using bar chart\n",
    "fig, ax = plt.subplots(figsize=(6, 4))\n",
    "bars = ax.bar([\"Class 1\", \"Class 2\"], [cv1, cv2], color=[\"purple\", \"orange\"])\n",
    "\n",
    "# Annotate bars with CV%\n",
    "for bar in bars:\n",
    "    height = bar.get_height()\n",
    "    ax.annotate(f\"{height:.2f}%\",\n",
    "                xy=(bar.get_x() + bar.get_width() / 2, height),\n",
    "                xytext=(0, 5),\n",
    "                textcoords=\"offset points\",\n",
    "                ha='center', va='bottom', fontsize=12)\n",
    "\n",
    "# Axis labels and title\n",
    "ax.set_title(\"Coefficient of Variation (CV%) Comparison\", fontsize=14)\n",
    "ax.set_ylabel(\"CV (%)\")\n",
    "ax.grid(True, axis='y', linestyle='--', alpha=0.7)\n",
    "\n",
    "plt.tight_layout()\n",
    "plt.show()"
   ]
  },
  {
   "cell_type": "markdown",
   "id": "73b62ab3-6b6e-4bb7-9768-03d3ce4afc4a",
   "metadata": {},
   "source": [
    "<body style=\"font-family: Sans-serif;\">\n",
    "    <div style=\"color: black; font-size: 18px; font-style: oblique; text-shadow: 0 0 3px white, 0 0 1px black; padding: 20px;\">\n",
    "\n",
    "- Bar chart ne clearly dikhaya ke **Class 1 ka Coefficient of Variation (CV) 14.14%** tha\n",
    "- jabke **Class 2 ka sirf 8.84%**. Dono classes ka standard deviation lagbhag same tha (≈7.07), lekin unka **mean alag tha**\n",
    "- Class 1 ka mean 50 tha aur Class 2 ka mean 80.\n",
    "\n",
    "- CV isliye important hai kyunke ye batata hai ke **data mean ke muqablay mein kitna vary karta hai**, yani **relative variation**.\n",
    "- Yahan Class 1 ka CV zyada aaya, iska matlab hai ke uske scores mean ke muqablay mein **zyada spread** hain (inconsistent performance).\n",
    "- Class 2 ka CV kam hai, matlab **uske scores zyada stable aur mean ke qareeb hain**.\n",
    "\n",
    "- Graph visually yeh batata hai ke **CV ka use tab zaroori hota hai jab hum alag means ke datasets compare karte hain**, kyunke sirf standard deviation dekhna misleading ho sakta hai.\n"
   ]
  }
 ],
 "metadata": {
  "kernelspec": {
   "display_name": "Python 3 (ipykernel)",
   "language": "python",
   "name": "python3"
  },
  "language_info": {
   "codemirror_mode": {
    "name": "ipython",
    "version": 3
   },
   "file_extension": ".py",
   "mimetype": "text/x-python",
   "name": "python",
   "nbconvert_exporter": "python",
   "pygments_lexer": "ipython3",
   "version": "3.12.11"
  },
  "widgets": {
   "application/vnd.jupyter.widget-state+json": {
    "state": {},
    "version_major": 2,
    "version_minor": 0
   }
  }
 },
 "nbformat": 4,
 "nbformat_minor": 5
}
