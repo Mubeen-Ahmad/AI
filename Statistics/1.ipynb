{
 "cells": [
  {
   "cell_type": "markdown",
   "id": "a91f9d5c-3c7c-435a-aa3a-80d3936fc878",
   "metadata": {},
   "source": [
    "<h1 style=\"text-align:center; color:#005bbd; font-size:20px; font-family:Sans-serif; font-style: oblique; text-shadow: 0 0 3px white, 0 0 1px Black;\">\n",
    "   What is Descriptive Statistics?\n",
    "</h1>"
   ]
  },
  {
   "cell_type": "markdown",
   "id": "ed3d711f-b731-4ebc-a503-04be69e7d058",
   "metadata": {},
   "source": [
    "<body style=\"font-family: Sans-serif;\">\n",
    "    <div style=\"color: black; font-size: 18px; font-style: oblique; text-shadow: 0 0 3px white, 0 0 1px black; padding: 20px;\">\n",
    "       <p>Descriptive Statistics ek aisi technique hai jo data ko summarize, organize aur analyze karne ke liye use hoti hai.<br>Iska basic maqsad data ko asaan aur samajhne layak form me represent karna hota hai, taake hum uska overall trend dekh saken.\n",
    "</div>\n",
    "</body>"
   ]
  },
  {
   "cell_type": "markdown",
   "id": "ae6e8518-41b4-4dbd-85fd-39a308c3bbf4",
   "metadata": {},
   "source": [
    "<h1 style=\"text-align:center; color:#005bbd; font-size:20px; font-family:Sans-serif; font-style: oblique; text-shadow: 0 0 3px white, 0 0 1px Black;\">\n",
    "   Ungrouped Data vs Grouped Data\n",
    "</h1>"
   ]
  },
  {
   "cell_type": "markdown",
   "id": "790f0a31-c6c0-4b5e-8c8d-bc799b75cd40",
   "metadata": {},
   "source": [
    "<body style=\"font-family: Sans-serif;\">\n",
    "    <div style=\"color: black; font-size: 18px; font-style: oblique; text-shadow: 0 0 3px white, 0 0 1px black; padding: 20px;\">\n",
    "        Jab bhi hum data analysis karte hain, to data ko 2 tareeqon se represent kar sakte hain:\n",
    "        <ul>Ungrouped Data (Raw Data):\n",
    "                <ul>→ Bilkul scattered/random values, jo kisi bhi category ya interval mein nahi hoti.\n",
    "            </ul><br>\n",
    "            Grouped Data (Organized Data): \n",
    "                <ul>→ Jab ungrouped data ko range-based intervals mein convert kar dete hain, taake analysis easy ho sake.\n",
    "            </ul>\n",
    "</div>\n",
    "</body>"
   ]
  },
  {
   "cell_type": "markdown",
   "id": "f11ffe33-af02-4fa8-984b-7cec69d83f9f",
   "metadata": {
    "tags": []
   },
   "source": [
    "<h1 style=\"text-align:center; color:#005bbd; font-size:20px; font-family:Sans-serif; font-style: oblique; text-shadow: 0 0 3px white, 0 0 1px Black;\">\n",
    "   Ungroup Data\n",
    "</h1>"
   ]
  },
  {
   "cell_type": "markdown",
   "id": "a2627a53-3c11-44b7-b915-4486df5780ee",
   "metadata": {},
   "source": [
    "<body style=\"font-family: Sans-serif;\">\n",
    "    <div style=\"color: black; font-size: 18px; font-style: oblique; text-shadow: 0 0 3px white, 0 0 1px black; padding: 20px;\">\n",
    "       <p>Ungrouped data wo data hota hai jo ki individual values ke form mein hota hai, aur isay group karne ka koi step nahi liya jata. Yani, har ek observation apni jaga pe hoti hai.\n",
    "</div>\n",
    "</body>"
   ]
  },
  {
   "cell_type": "code",
   "execution_count": 1,
   "id": "ac7aadb1-dc9b-40cd-971b-956856464be5",
   "metadata": {
    "tags": []
   },
   "outputs": [],
   "source": [
    "import numpy as np\n",
    "import pandas as pd"
   ]
  },
  {
   "cell_type": "code",
   "execution_count": 571,
   "id": "6d43feee-ac63-44fb-97a3-08ba4224888e",
   "metadata": {
    "tags": []
   },
   "outputs": [
    {
     "data": {
      "text/html": [
       "<div>\n",
       "<style scoped>\n",
       "    .dataframe tbody tr th:only-of-type {\n",
       "        vertical-align: middle;\n",
       "    }\n",
       "\n",
       "    .dataframe tbody tr th {\n",
       "        vertical-align: top;\n",
       "    }\n",
       "\n",
       "    .dataframe thead th {\n",
       "        text-align: right;\n",
       "    }\n",
       "</style>\n",
       "<table border=\"1\" class=\"dataframe\">\n",
       "  <thead>\n",
       "    <tr style=\"text-align: right;\">\n",
       "      <th></th>\n",
       "      <th>Marks</th>\n",
       "    </tr>\n",
       "  </thead>\n",
       "  <tbody>\n",
       "    <tr>\n",
       "      <th>0</th>\n",
       "      <td>45</td>\n",
       "    </tr>\n",
       "    <tr>\n",
       "      <th>1</th>\n",
       "      <td>55</td>\n",
       "    </tr>\n",
       "    <tr>\n",
       "      <th>2</th>\n",
       "      <td>50</td>\n",
       "    </tr>\n",
       "    <tr>\n",
       "      <th>3</th>\n",
       "      <td>50</td>\n",
       "    </tr>\n",
       "    <tr>\n",
       "      <th>4</th>\n",
       "      <td>60</td>\n",
       "    </tr>\n",
       "    <tr>\n",
       "      <th>5</th>\n",
       "      <td>70</td>\n",
       "    </tr>\n",
       "    <tr>\n",
       "      <th>6</th>\n",
       "      <td>75</td>\n",
       "    </tr>\n",
       "    <tr>\n",
       "      <th>7</th>\n",
       "      <td>45</td>\n",
       "    </tr>\n",
       "    <tr>\n",
       "      <th>8</th>\n",
       "      <td>65</td>\n",
       "    </tr>\n",
       "  </tbody>\n",
       "</table>\n",
       "</div>"
      ],
      "text/plain": [
       "   Marks\n",
       "0     45\n",
       "1     55\n",
       "2     50\n",
       "3     50\n",
       "4     60\n",
       "5     70\n",
       "6     75\n",
       "7     45\n",
       "8     65"
      ]
     },
     "execution_count": 571,
     "metadata": {},
     "output_type": "execute_result"
    }
   ],
   "source": [
    "marks = [45, 55, 50, 50, 60, 70, 75, 45, 65]\n",
    "ungroup_df = pd.DataFrame(marks,columns=[\"Marks\"])\n",
    "ungroup_df"
   ]
  },
  {
   "cell_type": "markdown",
   "id": "0f0c3f3b-ae06-4521-9173-441cba1dcc5c",
   "metadata": {},
   "source": [
    "<h1 style=\"text-align:center; color:#005bbd; font-size:20px; font-family:Sans-serif; font-style: oblique; text-shadow: 0 0 3px white, 0 0 1px Black;\">\n",
    "   Group Data\n",
    "</h1>"
   ]
  },
  {
   "cell_type": "markdown",
   "id": "d6f1f583-f094-4951-8a77-0607ea2a99ca",
   "metadata": {},
   "source": [
    "<body style=\"font-family: Sans-serif;\">\n",
    "    <div style=\"color: black; font-size: 18px; font-style: oblique; text-shadow: 0 0 3px white, 0 0 1px black; padding: 20px;\">\n",
    "      <p>Grouped data wo data hota hai jisme observations ko specific intervals ya classes mein divide kiya jata hai. Har interval ko class interval kaha jata hai, aur har class ke andar multiple values ho sakti hain.<br>Grouped data zyada tar frequency distribution mein hota hai.<ul>    \n",
    "</div>\n",
    "</body>"
   ]
  },
  {
   "cell_type": "code",
   "execution_count": 3,
   "id": "310e4f43-1c81-4219-97af-d3aa34a98084",
   "metadata": {
    "tags": []
   },
   "outputs": [
    {
     "data": {
      "text/html": [
       "<div>\n",
       "<style scoped>\n",
       "    .dataframe tbody tr th:only-of-type {\n",
       "        vertical-align: middle;\n",
       "    }\n",
       "\n",
       "    .dataframe tbody tr th {\n",
       "        vertical-align: top;\n",
       "    }\n",
       "\n",
       "    .dataframe thead th {\n",
       "        text-align: right;\n",
       "    }\n",
       "</style>\n",
       "<table border=\"1\" class=\"dataframe\">\n",
       "  <thead>\n",
       "    <tr style=\"text-align: right;\">\n",
       "      <th></th>\n",
       "      <th>marks_intervals</th>\n",
       "      <th>frequencies</th>\n",
       "    </tr>\n",
       "  </thead>\n",
       "  <tbody>\n",
       "    <tr>\n",
       "      <th>0</th>\n",
       "      <td>(0, 10)</td>\n",
       "      <td>3</td>\n",
       "    </tr>\n",
       "    <tr>\n",
       "      <th>1</th>\n",
       "      <td>(10, 20)</td>\n",
       "      <td>7</td>\n",
       "    </tr>\n",
       "    <tr>\n",
       "      <th>2</th>\n",
       "      <td>(20, 30)</td>\n",
       "      <td>5</td>\n",
       "    </tr>\n",
       "    <tr>\n",
       "      <th>3</th>\n",
       "      <td>(30, 40)</td>\n",
       "      <td>8</td>\n",
       "    </tr>\n",
       "    <tr>\n",
       "      <th>4</th>\n",
       "      <td>(40, 50)</td>\n",
       "      <td>4</td>\n",
       "    </tr>\n",
       "  </tbody>\n",
       "</table>\n",
       "</div>"
      ],
      "text/plain": [
       "  marks_intervals  frequencies\n",
       "0         (0, 10)            3\n",
       "1        (10, 20)            7\n",
       "2        (20, 30)            5\n",
       "3        (30, 40)            8\n",
       "4        (40, 50)            4"
      ]
     },
     "execution_count": 3,
     "metadata": {},
     "output_type": "execute_result"
    }
   ],
   "source": [
    "marks_intervals = [(0, 10), (10, 20), (20, 30), (30, 40), (40, 50)]  # (low, high) intervals\n",
    "frequencies = [3, 7, 5, 8, 4]\n",
    "\n",
    "data = {\n",
    "    \"marks_intervals\":marks_intervals,\n",
    "    \"frequencies\":frequencies\n",
    "}\n",
    "df = pd.DataFrame(data)\n",
    "df"
   ]
  },
  {
   "cell_type": "markdown",
   "id": "8381faf5-39f7-4eb0-bfff-47bb99de6fac",
   "metadata": {},
   "source": [
    "<body style=\"font-family: Sans-serif;\">\n",
    "    <div style=\"color: black; font-size: 18px; font-style: oblique; text-shadow: 0 0 3px white, 0 0 1px black; padding: 20px;\">\n",
    "        <b>Interval</b> ka matlab hai range (interval) jisme data divide hota hai.<br>\n",
    "    Ye 2 numbers ka ek range hota hai (Start-End), jo data ko categories mein split karta hai.<br>\n",
    "        E.g: (0 - 10) ka matlab yaha 10 intervals (Students) hn\n",
    "</div>\n",
    "</body>"
   ]
  },
  {
   "cell_type": "markdown",
   "id": "8511a3c2-c414-48d9-be70-2cad4eeb90e1",
   "metadata": {},
   "source": [
    "<body style=\"font-family: Sans-serif;\">\n",
    "    <div style=\"color: black; font-size: 18px; font-style: oblique; text-shadow: 0 0 3px white, 0 0 1px black; padding: 20px;\">\n",
    "        <b>Frequencies</b> ka matlab hai har class interval mein kitne elements (data points) aa rahe hain.<br>\n",
    "        <ul>(0, 10) ek class interval hai, aur frequency 3 ka matlab hai ke 3 students ke marks is range mein hain. \n",
    "\n",
    "</div>\n",
    "</body>"
   ]
  },
  {
   "cell_type": "code",
   "execution_count": 4,
   "id": "12b1b525-81e3-493c-b34e-156ab767e11f",
   "metadata": {
    "tags": []
   },
   "outputs": [
    {
     "data": {
      "text/html": [
       "<div>\n",
       "<style scoped>\n",
       "    .dataframe tbody tr th:only-of-type {\n",
       "        vertical-align: middle;\n",
       "    }\n",
       "\n",
       "    .dataframe tbody tr th {\n",
       "        vertical-align: top;\n",
       "    }\n",
       "\n",
       "    .dataframe thead th {\n",
       "        text-align: right;\n",
       "    }\n",
       "</style>\n",
       "<table border=\"1\" class=\"dataframe\">\n",
       "  <thead>\n",
       "    <tr style=\"text-align: right;\">\n",
       "      <th></th>\n",
       "      <th>marks_intervals</th>\n",
       "      <th>frequencies</th>\n",
       "    </tr>\n",
       "  </thead>\n",
       "  <tbody>\n",
       "    <tr>\n",
       "      <th>0</th>\n",
       "      <td>(0, 10)</td>\n",
       "      <td>3</td>\n",
       "    </tr>\n",
       "    <tr>\n",
       "      <th>1</th>\n",
       "      <td>(10, 20)</td>\n",
       "      <td>7</td>\n",
       "    </tr>\n",
       "    <tr>\n",
       "      <th>2</th>\n",
       "      <td>(20, 30)</td>\n",
       "      <td>5</td>\n",
       "    </tr>\n",
       "    <tr>\n",
       "      <th>3</th>\n",
       "      <td>(30, 40)</td>\n",
       "      <td>8</td>\n",
       "    </tr>\n",
       "    <tr>\n",
       "      <th>4</th>\n",
       "      <td>(40, 50)</td>\n",
       "      <td>4</td>\n",
       "    </tr>\n",
       "  </tbody>\n",
       "</table>\n",
       "</div>"
      ],
      "text/plain": [
       "  marks_intervals  frequencies\n",
       "0         (0, 10)            3\n",
       "1        (10, 20)            7\n",
       "2        (20, 30)            5\n",
       "3        (30, 40)            8\n",
       "4        (40, 50)            4"
      ]
     },
     "execution_count": 4,
     "metadata": {},
     "output_type": "execute_result"
    }
   ],
   "source": [
    "df"
   ]
  },
  {
   "cell_type": "markdown",
   "id": "fbe45dd5-1c7c-462f-adbb-0a0f0f0c3e00",
   "metadata": {},
   "source": [
    "<body style=\"font-family: Sans-serif;\">\n",
    "    <div style=\"color: black; font-size: 18px; font-style: oblique; text-shadow: 0 0 3px white, 0 0 1px black; padding: 20px;\">\n",
    "        Agar data bohot zyada ho toh usko samajhna, analyze karna aur conclusions draw karna mushkil ho jata hai. <br>Isi wajah se ungrouped data ko grouped data mein convert kiya jata hai. Yeh grouping statistics aur data analysis ke liye bohot zaroori hoti hai.\n",
    "</div>\n",
    "</body>"
   ]
  },
  {
   "cell_type": "code",
   "execution_count": 5,
   "id": "d2f073ca-a001-4a84-abc8-59ec739fdd43",
   "metadata": {
    "tags": []
   },
   "outputs": [
    {
     "data": {
      "text/html": [
       "<div>\n",
       "<style scoped>\n",
       "    .dataframe tbody tr th:only-of-type {\n",
       "        vertical-align: middle;\n",
       "    }\n",
       "\n",
       "    .dataframe tbody tr th {\n",
       "        vertical-align: top;\n",
       "    }\n",
       "\n",
       "    .dataframe thead th {\n",
       "        text-align: right;\n",
       "    }\n",
       "</style>\n",
       "<table border=\"1\" class=\"dataframe\">\n",
       "  <thead>\n",
       "    <tr style=\"text-align: right;\">\n",
       "      <th></th>\n",
       "      <th>Marks</th>\n",
       "    </tr>\n",
       "  </thead>\n",
       "  <tbody>\n",
       "    <tr>\n",
       "      <th>0</th>\n",
       "      <td>45</td>\n",
       "    </tr>\n",
       "    <tr>\n",
       "      <th>1</th>\n",
       "      <td>55</td>\n",
       "    </tr>\n",
       "    <tr>\n",
       "      <th>2</th>\n",
       "      <td>50</td>\n",
       "    </tr>\n",
       "    <tr>\n",
       "      <th>3</th>\n",
       "      <td>50</td>\n",
       "    </tr>\n",
       "    <tr>\n",
       "      <th>4</th>\n",
       "      <td>60</td>\n",
       "    </tr>\n",
       "    <tr>\n",
       "      <th>5</th>\n",
       "      <td>70</td>\n",
       "    </tr>\n",
       "    <tr>\n",
       "      <th>6</th>\n",
       "      <td>75</td>\n",
       "    </tr>\n",
       "    <tr>\n",
       "      <th>7</th>\n",
       "      <td>45</td>\n",
       "    </tr>\n",
       "    <tr>\n",
       "      <th>8</th>\n",
       "      <td>65</td>\n",
       "    </tr>\n",
       "  </tbody>\n",
       "</table>\n",
       "</div>"
      ],
      "text/plain": [
       "   Marks\n",
       "0     45\n",
       "1     55\n",
       "2     50\n",
       "3     50\n",
       "4     60\n",
       "5     70\n",
       "6     75\n",
       "7     45\n",
       "8     65"
      ]
     },
     "execution_count": 5,
     "metadata": {},
     "output_type": "execute_result"
    }
   ],
   "source": [
    "ungroup_df"
   ]
  },
  {
   "cell_type": "markdown",
   "id": "68821d78-8a69-4ac4-a5c5-3c8d65dfa270",
   "metadata": {
    "tags": []
   },
   "source": [
    "<body style=\"font-family: Sans-serif;\">\n",
    "    <div style=\"color: black; font-size: 18px; font-style: oblique; text-shadow: 0 0 3px white, 0 0 1px black; padding: 20px;\">\n",
    "        <li>Convert Ungroup Data into Group<br><br>\n",
    "            Step 1: Range Calculate Karo\n",
    "\\[\\text{Range} = \\text{Max Value} - \\text{Min Value}\\]\\[= 75 - 45 = 30\n",
    "\\]\n",
    "</div>\n",
    "</body>"
   ]
  },
  {
   "cell_type": "code",
   "execution_count": 6,
   "id": "54aa7ffe-a701-47e0-8bcc-1d290b80bea4",
   "metadata": {
    "tags": []
   },
   "outputs": [
    {
     "data": {
      "text/plain": [
       "30"
      ]
     },
     "execution_count": 6,
     "metadata": {},
     "output_type": "execute_result"
    }
   ],
   "source": [
    "raw = ungroup_df[\"Marks\"].to_list()\n",
    "R = max(raw) - min(raw)\n",
    "R"
   ]
  },
  {
   "cell_type": "markdown",
   "id": "a43479a8-a7ec-42da-bd68-b3c9e32ac634",
   "metadata": {},
   "source": [
    "<body style=\"font-family: Sans-serif;\">\n",
    "    <div style=\"color: black; font-size: 18px; font-style: oblique; text-shadow: 0 0 3px white, 0 0 1px black; padding: 20px;\">\n",
    "            Step 2: No of Classes Calculate Karo<br> \n",
    "Sturges Formula: \n",
    "        \\[\\text{Number of Classes} = 1 + 3.322 \\log N\\]<br><br>Yaha Data Mein 9 data points  hain:  \n",
    "\\[\\text{Marks} = [45, 55, 50, 50, 60, 70, 75, 45, 65]\\]<br><br>\n",
    "\\[\\text{Number of Classes} = 1 + 3.322 \\log (9)\\]\n",
    "\\[= 1 + 3.322 \\times 0.954\\]\n",
    "\\[= 1 + 3.17 = 4.17 \\approx 4 \\text{ (Round Off)}\\]<br>\n",
    "4 classes best hain!\n",
    "</div>\n",
    "</body>"
   ]
  },
  {
   "cell_type": "code",
   "execution_count": 7,
   "id": "ffbc0584-adbc-4436-a8b5-186df5bfb042",
   "metadata": {
    "tags": []
   },
   "outputs": [
    {
     "data": {
      "text/plain": [
       "4"
      ]
     },
     "execution_count": 7,
     "metadata": {},
     "output_type": "execute_result"
    }
   ],
   "source": [
    "class_ = round(1+3.322 * np.log10(9))\n",
    "class_"
   ]
  },
  {
   "cell_type": "markdown",
   "id": "49e029ac-c31a-4361-9a00-33e910d6abbb",
   "metadata": {},
   "source": [
    "<body style=\"font-family: Sans-serif;\">\n",
    "    <div style=\"color: black; font-size: 18px; font-style: oblique; text-shadow: 0 0 3px white, 0 0 1px black; padding: 20px;\">\n",
    "        Step 3: Ab hume class width nikalni hai jo har interval ki range define karegi.<br><br>\n",
    "Formula:\n",
    "\\[\n",
    "\\text{Class Width} = \\frac{\\text{Min Value} - \\text{Max Value}}{\\text{Number of Classes}}\n",
    "\\]\n",
    "Max Value = 75<br>\n",
    "Min Value = 45  <br>\n",
    "Number of Classes = 4 <br>\n",
    "\\[\\text{Class Width} = \\frac{75 - 45}{4} = \\frac{30}{4} = 7.5 \\approx 8\\]\n",
    "Class width = 8 lenge\n",
    "</div>\n",
    "</body>"
   ]
  },
  {
   "cell_type": "code",
   "execution_count": 8,
   "id": "09bed4cb-39f2-4d26-bc10-9a830e3041d2",
   "metadata": {
    "tags": []
   },
   "outputs": [
    {
     "data": {
      "text/plain": [
       "8"
      ]
     },
     "execution_count": 8,
     "metadata": {},
     "output_type": "execute_result"
    }
   ],
   "source": [
    "class_width = round(R/4)\n",
    "class_width"
   ]
  },
  {
   "cell_type": "code",
   "execution_count": 570,
   "id": "9aa6ae35-e78b-41c7-9af4-a671981bd51c",
   "metadata": {
    "tags": []
   },
   "outputs": [
    {
     "data": {
      "text/html": [
       "<div>\n",
       "<style scoped>\n",
       "    .dataframe tbody tr th:only-of-type {\n",
       "        vertical-align: middle;\n",
       "    }\n",
       "\n",
       "    .dataframe tbody tr th {\n",
       "        vertical-align: top;\n",
       "    }\n",
       "\n",
       "    .dataframe thead th {\n",
       "        text-align: right;\n",
       "    }\n",
       "</style>\n",
       "<table border=\"1\" class=\"dataframe\">\n",
       "  <thead>\n",
       "    <tr style=\"text-align: right;\">\n",
       "      <th></th>\n",
       "      <th>Marks</th>\n",
       "      <th>Intervals</th>\n",
       "    </tr>\n",
       "  </thead>\n",
       "  <tbody>\n",
       "    <tr>\n",
       "      <th>0</th>\n",
       "      <td>45</td>\n",
       "      <td>45 - 53</td>\n",
       "    </tr>\n",
       "    <tr>\n",
       "      <th>1</th>\n",
       "      <td>55</td>\n",
       "      <td>53 - 61</td>\n",
       "    </tr>\n",
       "    <tr>\n",
       "      <th>2</th>\n",
       "      <td>50</td>\n",
       "      <td>45 - 53</td>\n",
       "    </tr>\n",
       "    <tr>\n",
       "      <th>3</th>\n",
       "      <td>50</td>\n",
       "      <td>45 - 53</td>\n",
       "    </tr>\n",
       "    <tr>\n",
       "      <th>4</th>\n",
       "      <td>60</td>\n",
       "      <td>53 - 61</td>\n",
       "    </tr>\n",
       "    <tr>\n",
       "      <th>5</th>\n",
       "      <td>70</td>\n",
       "      <td>69 - 77</td>\n",
       "    </tr>\n",
       "    <tr>\n",
       "      <th>6</th>\n",
       "      <td>75</td>\n",
       "      <td>69 - 77</td>\n",
       "    </tr>\n",
       "    <tr>\n",
       "      <th>7</th>\n",
       "      <td>45</td>\n",
       "      <td>45 - 53</td>\n",
       "    </tr>\n",
       "    <tr>\n",
       "      <th>8</th>\n",
       "      <td>65</td>\n",
       "      <td>61 - 69</td>\n",
       "    </tr>\n",
       "  </tbody>\n",
       "</table>\n",
       "</div>"
      ],
      "text/plain": [
       "   Marks Intervals\n",
       "0     45   45 - 53\n",
       "1     55   53 - 61\n",
       "2     50   45 - 53\n",
       "3     50   45 - 53\n",
       "4     60   53 - 61\n",
       "5     70   69 - 77\n",
       "6     75   69 - 77\n",
       "7     45   45 - 53\n",
       "8     65   61 - 69"
      ]
     },
     "execution_count": 570,
     "metadata": {},
     "output_type": "execute_result"
    }
   ],
   "source": [
    "ungroup_df"
   ]
  },
  {
   "cell_type": "code",
   "execution_count": 10,
   "id": "3b869215-e388-490b-a274-5853917a1193",
   "metadata": {
    "tags": []
   },
   "outputs": [
    {
     "name": "stdout",
     "output_type": "stream",
     "text": [
      "Range 30\n",
      "Class 4\n",
      "Class Width 8\n"
     ]
    }
   ],
   "source": [
    "print(\"Range\",R)\n",
    "print(\"Class\",class_)\n",
    "print(\"Class Width\",class_width)"
   ]
  },
  {
   "cell_type": "markdown",
   "id": "35da6fdc-495a-4a33-a59f-e9e6dc40f66f",
   "metadata": {},
   "source": [
    "<body style=\"font-family: Sans-serif;\">\n",
    "    <div style=\"color: black; font-size: 18px; font-style: oblique; text-shadow: 0 0 3px white, 0 0 1px black; padding: 20px;\">\n",
    "       Step 4: Class Intervals Banane Hain<br>  \n",
    "Ab hume starting point (Min Value = 45)  se class width = 8 ka use karke 4 class intervals banane hain.<br><br>\n",
    "\n",
    "| **Class Interval** |\n",
    "|------------------|\n",
    "| 45 - 53         | \n",
    "| 53 - 61         |\n",
    "| 61 - 69         | \n",
    "| 69 - 77         | \n",
    "</div>\n",
    "</body>"
   ]
  },
  {
   "cell_type": "markdown",
   "id": "a525f785-2ccd-4c25-bb25-5ecd0acd27a3",
   "metadata": {
    "tags": []
   },
   "source": [
    "<body style=\"font-family: Sans-serif;\">\n",
    "    <div style=\"color: black; font-size: 18px; font-style: oblique; text-shadow: 0 0 3px white, 0 0 1px black; padding: 20px;\">\n",
    "       Step 5 : Count Frequency\n",
    "        \\[ f_i = \\sum_{x \\in I} 1 \\]\n",
    "Explanation:\n",
    "\\( f_i \\) = Frequency of class interval \\( I \\)  <br>\n",
    "\\( x \\in I \\) = Number of values that fall within interval \\( I \\)  <br>\n",
    "\\( \\sum \\) = Summation (Matlab count karna)  <br>\n",
    "<br>\n",
    "Example<br>\n",
    "Agar data diya gaya hai: <br> \n",
    "\\[\\text{Marks} = [45, 55, 50, 50, 60, 70, 75, 45, 65]\\]<br>\n",
    "Aur class intervals hain:\n",
    "\n",
    "| Class Interval | Formula Applied |\n",
    "|---------------|----------------|\n",
    "| **45 - 53**   | \\( f_1 = 1+1+1+1 = 4 \\) |\n",
    "| **53 - 61**   | \\( f_2 = 1+1 = 2 \\) |\n",
    "| **61 - 69**   | \\( f_3 = 1 = 1 \\) |\n",
    "| **69 - 77**   | \\( f_4 = 1+1 = 2 \\) |\n",
    "</div>\n",
    "</body>"
   ]
  },
  {
   "cell_type": "code",
   "execution_count": 11,
   "id": "43da3cb9-43f2-42de-86d0-5ed783c54f25",
   "metadata": {
    "tags": []
   },
   "outputs": [],
   "source": [
    "raw = ungroup_df[\"Marks\"].to_list()"
   ]
  },
  {
   "cell_type": "code",
   "execution_count": 12,
   "id": "96cf6509-3be3-4ee6-9178-596ad7f251ac",
   "metadata": {
    "tags": []
   },
   "outputs": [
    {
     "data": {
      "text/plain": [
       "[45, 53, 61, 69, 77]"
      ]
     },
     "execution_count": 12,
     "metadata": {},
     "output_type": "execute_result"
    }
   ],
   "source": [
    "bins = list(range(min(raw), max(raw) + class_width, class_width))\n",
    "bins"
   ]
  },
  {
   "cell_type": "code",
   "execution_count": 13,
   "id": "51b75d27-3cc5-496f-bbdc-6ba592303a63",
   "metadata": {
    "tags": []
   },
   "outputs": [
    {
     "data": {
      "text/plain": [
       "['45 - 53', '53 - 61', '61 - 69', '69 - 77']"
      ]
     },
     "execution_count": 13,
     "metadata": {},
     "output_type": "execute_result"
    }
   ],
   "source": [
    "labels = [f\"{bins[i]} - {bins[i+1]}\" for i in range(len(bins)-1)]\n",
    "labels"
   ]
  },
  {
   "cell_type": "code",
   "execution_count": 14,
   "id": "c66952ee-4c5a-4283-b823-3d100e279996",
   "metadata": {
    "tags": []
   },
   "outputs": [
    {
     "data": {
      "text/plain": [
       "Marks\n",
       "45    2\n",
       "50    2\n",
       "55    1\n",
       "60    1\n",
       "70    1\n",
       "75    1\n",
       "65    1\n",
       "Name: count, dtype: int64"
      ]
     },
     "execution_count": 14,
     "metadata": {},
     "output_type": "execute_result"
    }
   ],
   "source": [
    "ungroup_df[\"Marks\"].value_counts()"
   ]
  },
  {
   "cell_type": "code",
   "execution_count": 15,
   "id": "4e5cd679-bbc7-4478-8468-526d5033d048",
   "metadata": {
    "tags": []
   },
   "outputs": [
    {
     "data": {
      "text/html": [
       "<div>\n",
       "<style scoped>\n",
       "    .dataframe tbody tr th:only-of-type {\n",
       "        vertical-align: middle;\n",
       "    }\n",
       "\n",
       "    .dataframe tbody tr th {\n",
       "        vertical-align: top;\n",
       "    }\n",
       "\n",
       "    .dataframe thead th {\n",
       "        text-align: right;\n",
       "    }\n",
       "</style>\n",
       "<table border=\"1\" class=\"dataframe\">\n",
       "  <thead>\n",
       "    <tr style=\"text-align: right;\">\n",
       "      <th></th>\n",
       "      <th>Class Interval</th>\n",
       "    </tr>\n",
       "  </thead>\n",
       "  <tbody>\n",
       "    <tr>\n",
       "      <th>0</th>\n",
       "      <td>45 - 53</td>\n",
       "    </tr>\n",
       "    <tr>\n",
       "      <th>1</th>\n",
       "      <td>53 - 61</td>\n",
       "    </tr>\n",
       "    <tr>\n",
       "      <th>2</th>\n",
       "      <td>61 - 69</td>\n",
       "    </tr>\n",
       "    <tr>\n",
       "      <th>3</th>\n",
       "      <td>69 - 77</td>\n",
       "    </tr>\n",
       "  </tbody>\n",
       "</table>\n",
       "</div>"
      ],
      "text/plain": [
       "  Class Interval\n",
       "0        45 - 53\n",
       "1        53 - 61\n",
       "2        61 - 69\n",
       "3        69 - 77"
      ]
     },
     "execution_count": 15,
     "metadata": {},
     "output_type": "execute_result"
    }
   ],
   "source": [
    "group_data = {\n",
    "    \"Class Interval\":labels}\n",
    "group_df = pd.DataFrame(group_data)\n",
    "group_df"
   ]
  },
  {
   "cell_type": "markdown",
   "id": "1f7d908b-4e43-4037-bc06-e091a342940a",
   "metadata": {},
   "source": [
    "<body style=\"font-family: Sans-serif;\">\n",
    "    <div style=\"color: black; font-size: 18px; font-style: oblique; text-shadow: 0 0 3px white, 0 0 1px black; padding: 20px;\">\n",
    "    Create a function\n",
    "</div>\n",
    "</body>"
   ]
  },
  {
   "cell_type": "code",
   "execution_count": 577,
   "id": "62dccec7-f5d7-40c1-adfd-3f13f979d024",
   "metadata": {
    "tags": []
   },
   "outputs": [],
   "source": [
    "import numpy as np\n",
    "import pandas as pd\n",
    "\n",
    "def ungroup_to_group(df, col):\n",
    "    lst = df[col].tolist()\n",
    "    \n",
    "    # Automatic bin selection using Freedman-Diaconis Rule\n",
    "    bins = np.histogram_bin_edges(lst, bins=\"fd\")  # \"fd\" auto-calculates best bin size\n",
    "    labels = [f\"{round(bins[i], 2)} - {round(bins[i+1], 2)}\" for i in range(len(bins)-1)]\n",
    "\n",
    "    tmp = df.copy()\n",
    "    tmp[\"Intervals\"] = pd.cut(tmp[col], bins=bins, labels=labels, include_lowest=True)\n",
    "\n",
    "    return tmp[\"Intervals\"].value_counts().sort_index().to_frame(name=\"frequencies\").reset_index()\n",
    "\n"
   ]
  },
  {
   "cell_type": "code",
   "execution_count": 578,
   "id": "83e4a711-4393-4432-9739-b02b0be76b1b",
   "metadata": {
    "tags": []
   },
   "outputs": [
    {
     "data": {
      "text/html": [
       "<div>\n",
       "<style scoped>\n",
       "    .dataframe tbody tr th:only-of-type {\n",
       "        vertical-align: middle;\n",
       "    }\n",
       "\n",
       "    .dataframe tbody tr th {\n",
       "        vertical-align: top;\n",
       "    }\n",
       "\n",
       "    .dataframe thead th {\n",
       "        text-align: right;\n",
       "    }\n",
       "</style>\n",
       "<table border=\"1\" class=\"dataframe\">\n",
       "  <thead>\n",
       "    <tr style=\"text-align: right;\">\n",
       "      <th></th>\n",
       "      <th>Marks</th>\n",
       "    </tr>\n",
       "  </thead>\n",
       "  <tbody>\n",
       "    <tr>\n",
       "      <th>0</th>\n",
       "      <td>45</td>\n",
       "    </tr>\n",
       "    <tr>\n",
       "      <th>1</th>\n",
       "      <td>55</td>\n",
       "    </tr>\n",
       "    <tr>\n",
       "      <th>2</th>\n",
       "      <td>50</td>\n",
       "    </tr>\n",
       "    <tr>\n",
       "      <th>3</th>\n",
       "      <td>50</td>\n",
       "    </tr>\n",
       "    <tr>\n",
       "      <th>4</th>\n",
       "      <td>60</td>\n",
       "    </tr>\n",
       "    <tr>\n",
       "      <th>5</th>\n",
       "      <td>70</td>\n",
       "    </tr>\n",
       "    <tr>\n",
       "      <th>6</th>\n",
       "      <td>75</td>\n",
       "    </tr>\n",
       "    <tr>\n",
       "      <th>7</th>\n",
       "      <td>45</td>\n",
       "    </tr>\n",
       "    <tr>\n",
       "      <th>8</th>\n",
       "      <td>65</td>\n",
       "    </tr>\n",
       "  </tbody>\n",
       "</table>\n",
       "</div>"
      ],
      "text/plain": [
       "   Marks\n",
       "0     45\n",
       "1     55\n",
       "2     50\n",
       "3     50\n",
       "4     60\n",
       "5     70\n",
       "6     75\n",
       "7     45\n",
       "8     65"
      ]
     },
     "execution_count": 578,
     "metadata": {},
     "output_type": "execute_result"
    }
   ],
   "source": [
    "ungroup_df"
   ]
  },
  {
   "cell_type": "code",
   "execution_count": 579,
   "id": "34533ba3-6a56-4a2b-bdff-5f8c9a41c734",
   "metadata": {
    "tags": []
   },
   "outputs": [
    {
     "data": {
      "text/html": [
       "<div>\n",
       "<style scoped>\n",
       "    .dataframe tbody tr th:only-of-type {\n",
       "        vertical-align: middle;\n",
       "    }\n",
       "\n",
       "    .dataframe tbody tr th {\n",
       "        vertical-align: top;\n",
       "    }\n",
       "\n",
       "    .dataframe thead th {\n",
       "        text-align: right;\n",
       "    }\n",
       "</style>\n",
       "<table border=\"1\" class=\"dataframe\">\n",
       "  <thead>\n",
       "    <tr style=\"text-align: right;\">\n",
       "      <th></th>\n",
       "      <th>Intervals</th>\n",
       "      <th>frequencies</th>\n",
       "    </tr>\n",
       "  </thead>\n",
       "  <tbody>\n",
       "    <tr>\n",
       "      <th>0</th>\n",
       "      <td>45.0 - 55.0</td>\n",
       "      <td>5</td>\n",
       "    </tr>\n",
       "    <tr>\n",
       "      <th>1</th>\n",
       "      <td>55.0 - 65.0</td>\n",
       "      <td>2</td>\n",
       "    </tr>\n",
       "    <tr>\n",
       "      <th>2</th>\n",
       "      <td>65.0 - 75.0</td>\n",
       "      <td>2</td>\n",
       "    </tr>\n",
       "  </tbody>\n",
       "</table>\n",
       "</div>"
      ],
      "text/plain": [
       "     Intervals  frequencies\n",
       "0  45.0 - 55.0            5\n",
       "1  55.0 - 65.0            2\n",
       "2  65.0 - 75.0            2"
      ]
     },
     "execution_count": 579,
     "metadata": {},
     "output_type": "execute_result"
    }
   ],
   "source": [
    "ungroup_to_group(ungroup_df,\"Marks\")"
   ]
  },
  {
   "cell_type": "markdown",
   "id": "db464454-514c-462e-98ea-1c043bf41ea9",
   "metadata": {},
   "source": [
    "<body style=\"font-family: Sans-serif;\">\n",
    "    <div style=\"color: black; font-size: 18px; font-style: oblique; text-shadow: 0 0 3px white, 0 0 1px black; padding: 20px;\">\n",
    "     Agar class intervals discontinuous hain, to meain,median ya koi bhi statistical measure sahi tareeke se calculate nahi hoga. <br>Isko solve karne ke liye humein continuous interval banana hoga.<br><br>\n",
    "      \\[\n",
    "(10, 19), (20, 29), (40, 45)\n",
    "\\]\n",
    "        \n",
    "<br>\n",
    "        \n",
    "| Interval | Lower Bound | Upper Bound |\n",
    "|----------|------------|------------|\n",
    "| 1st | **10** | **19** |\n",
    "| 2nd | **20** | **29** |\n",
    "| 3rd | **40** | **45** |\n",
    "\n",
    "#### Step 1: Identify Gaps \n",
    "- **Gap between (19 → 20)** = \\( 20 - 19 = 1 \\)  \n",
    "- **Gap between (29 → 40)** = \\( 40 - 29 = 11 \\)  \n",
    "\n",
    "<h4>Adjust First Gap (19 → 20)**  </h4>\n",
    "\\[\n",
    "\\text{Adjustment} = \\frac{1}{2} = 0.5\n",
    "\\]\n",
    "\\[\n",
    "\\text{New Upper Bound}_1 = 19 + 0.5 = 19.5\n",
    "\\]\n",
    "\\[\n",
    "\\text{New Lower Bound}_2 = 20 - 0.5 = 19.5\n",
    "\\]\n",
    "\n",
    "<h4>Updated Intervals</h4>\n",
    "\\[\n",
    "(10, 19.5), (19.5, 29), (40, 45)\n",
    "\\]\n",
    "<h4>Adjust Second Gap (29 → 40)</h4>\n",
    "\\[\n",
    "\\text{Adjustment} = \\frac{11}{2} = 5.5\n",
    "\\]\n",
    "\\[\n",
    "\\text{New Upper Bound}_2 = 29 + 5.5 = 34.5\n",
    "\\]\n",
    "\\[\n",
    "\\text{New Lower Bound}_3 = 40 - 5.5 = 34.5\n",
    "\\]\n",
    "<h4>Final Adjusted Continuous Intervals:</h4>\n",
    "\\[\n",
    "(10, 19.5), (19.5, 34.5), (34.5, 45)\n",
    "\\]\n",
    "\n",
    "\n",
    "</div>\n",
    "</body>"
   ]
  },
  {
   "cell_type": "code",
   "execution_count": 580,
   "id": "6db3f13a-0467-4219-8fdd-595c3886e058",
   "metadata": {
    "tags": []
   },
   "outputs": [
    {
     "data": {
      "text/html": [
       "<div>\n",
       "<style scoped>\n",
       "    .dataframe tbody tr th:only-of-type {\n",
       "        vertical-align: middle;\n",
       "    }\n",
       "\n",
       "    .dataframe tbody tr th {\n",
       "        vertical-align: top;\n",
       "    }\n",
       "\n",
       "    .dataframe thead th {\n",
       "        text-align: right;\n",
       "    }\n",
       "</style>\n",
       "<table border=\"1\" class=\"dataframe\">\n",
       "  <thead>\n",
       "    <tr style=\"text-align: right;\">\n",
       "      <th></th>\n",
       "      <th>intervals</th>\n",
       "    </tr>\n",
       "  </thead>\n",
       "  <tbody>\n",
       "    <tr>\n",
       "      <th>0</th>\n",
       "      <td>(1, 150)</td>\n",
       "    </tr>\n",
       "    <tr>\n",
       "      <th>1</th>\n",
       "      <td>(300, 2)</td>\n",
       "    </tr>\n",
       "    <tr>\n",
       "      <th>2</th>\n",
       "      <td>(5, 8)</td>\n",
       "    </tr>\n",
       "    <tr>\n",
       "      <th>3</th>\n",
       "      <td>(4, 90)</td>\n",
       "    </tr>\n",
       "    <tr>\n",
       "      <th>4</th>\n",
       "      <td>(200, 500)</td>\n",
       "    </tr>\n",
       "  </tbody>\n",
       "</table>\n",
       "</div>"
      ],
      "text/plain": [
       "    intervals\n",
       "0    (1, 150)\n",
       "1    (300, 2)\n",
       "2      (5, 8)\n",
       "3     (4, 90)\n",
       "4  (200, 500)"
      ]
     },
     "execution_count": 580,
     "metadata": {},
     "output_type": "execute_result"
    }
   ],
   "source": [
    "\n",
    "df = pd.DataFrame({\n",
    "    \"intervals\": [\n",
    "        (1, 150),   # Normal interval\n",
    "        (300, 2),   # Reverse order (Issue)\n",
    "        (5, 8),     # Normal interval\n",
    "        (4, 90),    # Overlapping\n",
    "        (200, 500), # Large gap\n",
    "    ]\n",
    "})\n",
    "df"
   ]
  },
  {
   "cell_type": "code",
   "execution_count": null,
   "id": "a37fdece-ac1e-4cbe-a7eb-5ffd41a15457",
   "metadata": {},
   "outputs": [],
   "source": []
  },
  {
   "cell_type": "code",
   "execution_count": 581,
   "id": "ac2541cd-e156-4d37-91b3-b84f1f850d97",
   "metadata": {
    "tags": []
   },
   "outputs": [
    {
     "data": {
      "text/html": [
       "<div>\n",
       "<style scoped>\n",
       "    .dataframe tbody tr th:only-of-type {\n",
       "        vertical-align: middle;\n",
       "    }\n",
       "\n",
       "    .dataframe tbody tr th {\n",
       "        vertical-align: top;\n",
       "    }\n",
       "\n",
       "    .dataframe thead th {\n",
       "        text-align: right;\n",
       "    }\n",
       "</style>\n",
       "<table border=\"1\" class=\"dataframe\">\n",
       "  <thead>\n",
       "    <tr style=\"text-align: right;\">\n",
       "      <th></th>\n",
       "      <th>intervals</th>\n",
       "    </tr>\n",
       "  </thead>\n",
       "  <tbody>\n",
       "    <tr>\n",
       "      <th>0</th>\n",
       "      <td>1.0</td>\n",
       "    </tr>\n",
       "    <tr>\n",
       "      <th>1</th>\n",
       "      <td>3.0</td>\n",
       "    </tr>\n",
       "    <tr>\n",
       "      <th>2</th>\n",
       "      <td>4.5</td>\n",
       "    </tr>\n",
       "    <tr>\n",
       "      <th>3</th>\n",
       "      <td>6.5</td>\n",
       "    </tr>\n",
       "    <tr>\n",
       "      <th>4</th>\n",
       "      <td>49.0</td>\n",
       "    </tr>\n",
       "    <tr>\n",
       "      <th>5</th>\n",
       "      <td>500.0</td>\n",
       "    </tr>\n",
       "    <tr>\n",
       "      <th>6</th>\n",
       "      <td>120.0</td>\n",
       "    </tr>\n",
       "  </tbody>\n",
       "</table>\n",
       "</div>"
      ],
      "text/plain": [
       "   intervals\n",
       "0        1.0\n",
       "1        3.0\n",
       "2        4.5\n",
       "3        6.5\n",
       "4       49.0\n",
       "5      500.0\n",
       "6      120.0"
      ]
     },
     "execution_count": 581,
     "metadata": {},
     "output_type": "execute_result"
    }
   ],
   "source": [
    "points = []\n",
    "for i in df[col]:\n",
    "    points.extend(i)\n",
    "points.sort()\n",
    "\n",
    "new = [points[0]]\n",
    "\n",
    "for i in range(1,round(len(points)/2)+1):\n",
    "    p1 = points[i]\n",
    "    p2 = points[i+1]\n",
    "\n",
    "    p = (max(p1,p2)-min(p1,p2))/2\n",
    "\n",
    "    new.append(min(p1,p2)+p)\n",
    "    new.append(max(p1,p2)-p)\n",
    "\n",
    "new.append(points[-1])\n",
    "new = list(set(new))\n",
    "new_int = pd.DataFrame({\"intervals\":new})\n",
    "new_int"
   ]
  },
  {
   "cell_type": "code",
   "execution_count": 582,
   "id": "c38809a7-2fc1-4ab5-b63b-ebb2c40d7923",
   "metadata": {
    "tags": []
   },
   "outputs": [
    {
     "data": {
      "text/html": [
       "<div>\n",
       "<style scoped>\n",
       "    .dataframe tbody tr th:only-of-type {\n",
       "        vertical-align: middle;\n",
       "    }\n",
       "\n",
       "    .dataframe tbody tr th {\n",
       "        vertical-align: top;\n",
       "    }\n",
       "\n",
       "    .dataframe thead th {\n",
       "        text-align: right;\n",
       "    }\n",
       "</style>\n",
       "<table border=\"1\" class=\"dataframe\">\n",
       "  <thead>\n",
       "    <tr style=\"text-align: right;\">\n",
       "      <th></th>\n",
       "      <th>Intervals</th>\n",
       "      <th>frequencies</th>\n",
       "    </tr>\n",
       "  </thead>\n",
       "  <tbody>\n",
       "    <tr>\n",
       "      <th>0</th>\n",
       "      <td>1.0 - 84.17</td>\n",
       "      <td>5</td>\n",
       "    </tr>\n",
       "    <tr>\n",
       "      <th>1</th>\n",
       "      <td>84.17 - 167.33</td>\n",
       "      <td>1</td>\n",
       "    </tr>\n",
       "    <tr>\n",
       "      <th>2</th>\n",
       "      <td>167.33 - 250.5</td>\n",
       "      <td>0</td>\n",
       "    </tr>\n",
       "    <tr>\n",
       "      <th>3</th>\n",
       "      <td>250.5 - 333.67</td>\n",
       "      <td>0</td>\n",
       "    </tr>\n",
       "    <tr>\n",
       "      <th>4</th>\n",
       "      <td>333.67 - 416.83</td>\n",
       "      <td>0</td>\n",
       "    </tr>\n",
       "    <tr>\n",
       "      <th>5</th>\n",
       "      <td>416.83 - 500.0</td>\n",
       "      <td>1</td>\n",
       "    </tr>\n",
       "  </tbody>\n",
       "</table>\n",
       "</div>"
      ],
      "text/plain": [
       "         Intervals  frequencies\n",
       "0      1.0 - 84.17            5\n",
       "1   84.17 - 167.33            1\n",
       "2   167.33 - 250.5            0\n",
       "3   250.5 - 333.67            0\n",
       "4  333.67 - 416.83            0\n",
       "5   416.83 - 500.0            1"
      ]
     },
     "execution_count": 582,
     "metadata": {},
     "output_type": "execute_result"
    }
   ],
   "source": [
    "ungroup_to_group(new_int,\"intervals\")"
   ]
  },
  {
   "cell_type": "code",
   "execution_count": 526,
   "id": "551c4285-e516-45d1-9ff9-00e5a3d40184",
   "metadata": {},
   "outputs": [],
   "source": [
    "def arrange(df,col):\n",
    "    points = []\n",
    "    for i in df[col]:\n",
    "        points.extend(i)\n",
    "    points.sort()\n",
    "\n",
    "    new = [points[0]]\n",
    "\n",
    "    for i in range(1,round(len(points)/2)+1):\n",
    "        p1 = points[i]\n",
    "        p2 = points[i+1]\n",
    "\n",
    "        p = (max(p1,p2)-min(p1,p2))/2\n",
    "\n",
    "        new.append(min(p1,p2)+p)\n",
    "        new.append(max(p1,p2)-p)\n",
    "\n",
    "    new.append(points[-1])\n",
    "\n",
    "    final = []\n",
    "    for i in range(len(new)):\n",
    "        if i%2 == 0:\n",
    "            final.append((new[i],new[i+1]))\n",
    "\n",
    "    return pd.DataFrame({col:final})"
   ]
  },
  {
   "cell_type": "code",
   "execution_count": 562,
   "id": "a5d4b141-15cb-4280-bfbc-a81372868fc8",
   "metadata": {
    "tags": []
   },
   "outputs": [
    {
     "data": {
      "text/html": [
       "<div>\n",
       "<style scoped>\n",
       "    .dataframe tbody tr th:only-of-type {\n",
       "        vertical-align: middle;\n",
       "    }\n",
       "\n",
       "    .dataframe tbody tr th {\n",
       "        vertical-align: top;\n",
       "    }\n",
       "\n",
       "    .dataframe thead th {\n",
       "        text-align: right;\n",
       "    }\n",
       "</style>\n",
       "<table border=\"1\" class=\"dataframe\">\n",
       "  <thead>\n",
       "    <tr style=\"text-align: right;\">\n",
       "      <th></th>\n",
       "      <th>intervals</th>\n",
       "    </tr>\n",
       "  </thead>\n",
       "  <tbody>\n",
       "    <tr>\n",
       "      <th>0</th>\n",
       "      <td>(1, 150)</td>\n",
       "    </tr>\n",
       "    <tr>\n",
       "      <th>1</th>\n",
       "      <td>(300, 2)</td>\n",
       "    </tr>\n",
       "    <tr>\n",
       "      <th>2</th>\n",
       "      <td>(5, 8)</td>\n",
       "    </tr>\n",
       "    <tr>\n",
       "      <th>3</th>\n",
       "      <td>(4, 90)</td>\n",
       "    </tr>\n",
       "    <tr>\n",
       "      <th>4</th>\n",
       "      <td>(200, 500)</td>\n",
       "    </tr>\n",
       "  </tbody>\n",
       "</table>\n",
       "</div>"
      ],
      "text/plain": [
       "    intervals\n",
       "0    (1, 150)\n",
       "1    (300, 2)\n",
       "2      (5, 8)\n",
       "3     (4, 90)\n",
       "4  (200, 500)"
      ]
     },
     "execution_count": 562,
     "metadata": {},
     "output_type": "execute_result"
    }
   ],
   "source": [
    "df"
   ]
  },
  {
   "cell_type": "code",
   "execution_count": 528,
   "id": "228cf7da-e712-4970-a1cf-146aa032b6d0",
   "metadata": {
    "tags": []
   },
   "outputs": [
    {
     "data": {
      "text/html": [
       "<div>\n",
       "<style scoped>\n",
       "    .dataframe tbody tr th:only-of-type {\n",
       "        vertical-align: middle;\n",
       "    }\n",
       "\n",
       "    .dataframe tbody tr th {\n",
       "        vertical-align: top;\n",
       "    }\n",
       "\n",
       "    .dataframe thead th {\n",
       "        text-align: right;\n",
       "    }\n",
       "</style>\n",
       "<table border=\"1\" class=\"dataframe\">\n",
       "  <thead>\n",
       "    <tr style=\"text-align: right;\">\n",
       "      <th></th>\n",
       "      <th>intervals</th>\n",
       "    </tr>\n",
       "  </thead>\n",
       "  <tbody>\n",
       "    <tr>\n",
       "      <th>0</th>\n",
       "      <td>(1, 3.0)</td>\n",
       "    </tr>\n",
       "    <tr>\n",
       "      <th>1</th>\n",
       "      <td>(3.0, 4.5)</td>\n",
       "    </tr>\n",
       "    <tr>\n",
       "      <th>2</th>\n",
       "      <td>(4.5, 6.5)</td>\n",
       "    </tr>\n",
       "    <tr>\n",
       "      <th>3</th>\n",
       "      <td>(6.5, 49.0)</td>\n",
       "    </tr>\n",
       "    <tr>\n",
       "      <th>4</th>\n",
       "      <td>(49.0, 120.0)</td>\n",
       "    </tr>\n",
       "    <tr>\n",
       "      <th>5</th>\n",
       "      <td>(120.0, 500)</td>\n",
       "    </tr>\n",
       "  </tbody>\n",
       "</table>\n",
       "</div>"
      ],
      "text/plain": [
       "       intervals\n",
       "0       (1, 3.0)\n",
       "1     (3.0, 4.5)\n",
       "2     (4.5, 6.5)\n",
       "3    (6.5, 49.0)\n",
       "4  (49.0, 120.0)\n",
       "5   (120.0, 500)"
      ]
     },
     "execution_count": 528,
     "metadata": {},
     "output_type": "execute_result"
    }
   ],
   "source": [
    "arrange(df,\"intervals\")"
   ]
  },
  {
   "cell_type": "code",
   "execution_count": 525,
   "id": "1e86494f-380a-42ca-87e9-9c869af8344a",
   "metadata": {
    "tags": []
   },
   "outputs": [],
   "source": [
    "# def arrange(df, col):\n",
    "#     points = []\n",
    "    \n",
    "#     # Original Intervals Collect Karo (Without Sorting)\n",
    "#     original_intervals = list(df[col])\n",
    "\n",
    "#     # Har interval ke points store karo\n",
    "#     for i in original_intervals:\n",
    "#         points.append(i[0])\n",
    "#         points.append(i[1])\n",
    "\n",
    "#     # Sorting ki jagah, pehle valid intervals identify karo\n",
    "#     new_intervals = []\n",
    "    \n",
    "#     for i in range(len(original_intervals)):\n",
    "#         p1, p2 = original_intervals[i]\n",
    "        \n",
    "#         # Agar next interval available hai toh midpoint lo\n",
    "#         if i < len(original_intervals) - 1:\n",
    "#             next_p1, next_p2 = original_intervals[i + 1]\n",
    "            \n",
    "#             # Agar gap zyada hai, toh midpoint logic apply mat karo\n",
    "#             if abs(next_p1 - p2) > 20:  # Threshold for discontinuity\n",
    "#                 new_intervals.append((p1, p2))\n",
    "#                 continue\n",
    "\n",
    "#             mid = (p1 + p2) / 2\n",
    "#             new_intervals.append((p1, mid))\n",
    "#             new_intervals.append((mid, p2))\n",
    "#         else:\n",
    "#             new_intervals.append((p1, p2))\n",
    "\n",
    "#     return pd.DataFrame({col: new_intervals})\n",
    "\n",
    "# # Example Data\n",
    "# df = pd.DataFrame({\n",
    "#     \"intervals\": [(1, 150), (300, 2), (5, 8), (4, 90), (200, 500)]\n",
    "# })\n",
    "\n",
    "# # Function Call\n",
    "# arrange(df, \"intervals\")\n"
   ]
  },
  {
   "cell_type": "code",
   "execution_count": 366,
   "id": "77d77e74-94b3-44be-9e04-582f8c62b452",
   "metadata": {
    "tags": []
   },
   "outputs": [],
   "source": [
    "# first = points.pop(0)\n",
    "# last = points.pop()"
   ]
  },
  {
   "cell_type": "code",
   "execution_count": 368,
   "id": "3c5fa19c-fbc3-4ebc-bc22-4faeb39624e6",
   "metadata": {
    "tags": []
   },
   "outputs": [
    {
     "data": {
      "text/plain": [
       "[10, 19, 20, 29, 40, 45]"
      ]
     },
     "execution_count": 368,
     "metadata": {},
     "output_type": "execute_result"
    }
   ],
   "source": [
    "points"
   ]
  },
  {
   "cell_type": "code",
   "execution_count": 511,
   "id": "65ca4305-f6c6-4f2c-bf5e-9a303525b5a6",
   "metadata": {
    "tags": []
   },
   "outputs": [],
   "source": [
    "# def arange(df,col):\n",
    "#     dt = []\n",
    "    \n",
    "#     x = [i[0] for i in df[col]]\n",
    "#     y = [i[1] for i in df[col]]\n",
    "    \n",
    "#     dt.append(x.pop(0))\n",
    "    \n",
    "\n",
    "#     for i in zip(x,y):\n",
    "#         p = (max(i)-min(i))/2\n",
    "\n",
    "#         dt.append(min(i)+p)\n",
    "#         dt.append(max(i)-p)\n",
    "\n",
    "#     dt.append(y.pop())\n",
    "    \n",
    "    \n",
    "#     print(dt)\n",
    "#     x1 = []\n",
    "#     y1 = []\n",
    "    \n",
    "#     for i in range(0,len(dt)):\n",
    "#         if i%2 == 1:\n",
    "#             x1.append(dt[i])\n",
    "#         else:\n",
    "#             y1.append(dt[i])\n",
    "    \n",
    "#     return pd.DataFrame({col:list(zip(y1,x1))})\n",
    "\n",
    "# arange(pd.DataFrame({\"intervals\":[(1,2),(300,4),(8,90)]}),\"intervals\")"
   ]
  },
  {
   "cell_type": "code",
   "execution_count": 269,
   "id": "9ed6d976-df2f-46d0-a55c-73f9c9ff3934",
   "metadata": {
    "tags": []
   },
   "outputs": [
    {
     "data": {
      "text/html": [
       "<div>\n",
       "<style scoped>\n",
       "    .dataframe tbody tr th:only-of-type {\n",
       "        vertical-align: middle;\n",
       "    }\n",
       "\n",
       "    .dataframe tbody tr th {\n",
       "        vertical-align: top;\n",
       "    }\n",
       "\n",
       "    .dataframe thead th {\n",
       "        text-align: right;\n",
       "    }\n",
       "</style>\n",
       "<table border=\"1\" class=\"dataframe\">\n",
       "  <thead>\n",
       "    <tr style=\"text-align: right;\">\n",
       "      <th></th>\n",
       "      <th>intervals</th>\n",
       "    </tr>\n",
       "  </thead>\n",
       "  <tbody>\n",
       "    <tr>\n",
       "      <th>0</th>\n",
       "      <td>(1, 2)</td>\n",
       "    </tr>\n",
       "    <tr>\n",
       "      <th>1</th>\n",
       "      <td>(300, 4)</td>\n",
       "    </tr>\n",
       "    <tr>\n",
       "      <th>2</th>\n",
       "      <td>(8, 90)</td>\n",
       "    </tr>\n",
       "  </tbody>\n",
       "</table>\n",
       "</div>"
      ],
      "text/plain": [
       "  intervals\n",
       "0    (1, 2)\n",
       "1  (300, 4)\n",
       "2   (8, 90)"
      ]
     },
     "execution_count": 269,
     "metadata": {},
     "output_type": "execute_result"
    }
   ],
   "source": [
    "pd.DataFrame({\"intervals\":[(1,2),(300,4),(8,90)]})"
   ]
  },
  {
   "cell_type": "code",
   "execution_count": 257,
   "id": "96373954-b7aa-4c78-8152-e1a8f4be1f58",
   "metadata": {
    "tags": []
   },
   "outputs": [
    {
     "data": {
      "text/html": [
       "<div>\n",
       "<style scoped>\n",
       "    .dataframe tbody tr th:only-of-type {\n",
       "        vertical-align: middle;\n",
       "    }\n",
       "\n",
       "    .dataframe tbody tr th {\n",
       "        vertical-align: top;\n",
       "    }\n",
       "\n",
       "    .dataframe thead th {\n",
       "        text-align: right;\n",
       "    }\n",
       "</style>\n",
       "<table border=\"1\" class=\"dataframe\">\n",
       "  <thead>\n",
       "    <tr style=\"text-align: right;\">\n",
       "      <th></th>\n",
       "      <th>intervals</th>\n",
       "    </tr>\n",
       "  </thead>\n",
       "  <tbody>\n",
       "    <tr>\n",
       "      <th>0</th>\n",
       "      <td>(1, 151.0)</td>\n",
       "    </tr>\n",
       "    <tr>\n",
       "      <th>1</th>\n",
       "      <td>(151.0, 6.0)</td>\n",
       "    </tr>\n",
       "    <tr>\n",
       "      <th>2</th>\n",
       "      <td>(6.0, 90)</td>\n",
       "    </tr>\n",
       "  </tbody>\n",
       "</table>\n",
       "</div>"
      ],
      "text/plain": [
       "      intervals\n",
       "0    (1, 151.0)\n",
       "1  (151.0, 6.0)\n",
       "2     (6.0, 90)"
      ]
     },
     "execution_count": 257,
     "metadata": {},
     "output_type": "execute_result"
    }
   ],
   "source": []
  },
  {
   "cell_type": "code",
   "execution_count": 229,
   "id": "00e8cb53-1192-47ed-8112-3853082b0316",
   "metadata": {
    "tags": []
   },
   "outputs": [
    {
     "data": {
      "text/html": [
       "<div>\n",
       "<style scoped>\n",
       "    .dataframe tbody tr th:only-of-type {\n",
       "        vertical-align: middle;\n",
       "    }\n",
       "\n",
       "    .dataframe tbody tr th {\n",
       "        vertical-align: top;\n",
       "    }\n",
       "\n",
       "    .dataframe thead th {\n",
       "        text-align: right;\n",
       "    }\n",
       "</style>\n",
       "<table border=\"1\" class=\"dataframe\">\n",
       "  <thead>\n",
       "    <tr style=\"text-align: right;\">\n",
       "      <th></th>\n",
       "      <th>Marks</th>\n",
       "    </tr>\n",
       "  </thead>\n",
       "  <tbody>\n",
       "    <tr>\n",
       "      <th>0</th>\n",
       "      <td>45</td>\n",
       "    </tr>\n",
       "    <tr>\n",
       "      <th>1</th>\n",
       "      <td>55</td>\n",
       "    </tr>\n",
       "    <tr>\n",
       "      <th>2</th>\n",
       "      <td>50</td>\n",
       "    </tr>\n",
       "    <tr>\n",
       "      <th>3</th>\n",
       "      <td>50</td>\n",
       "    </tr>\n",
       "    <tr>\n",
       "      <th>4</th>\n",
       "      <td>60</td>\n",
       "    </tr>\n",
       "    <tr>\n",
       "      <th>5</th>\n",
       "      <td>70</td>\n",
       "    </tr>\n",
       "    <tr>\n",
       "      <th>6</th>\n",
       "      <td>75</td>\n",
       "    </tr>\n",
       "    <tr>\n",
       "      <th>7</th>\n",
       "      <td>45</td>\n",
       "    </tr>\n",
       "    <tr>\n",
       "      <th>8</th>\n",
       "      <td>65</td>\n",
       "    </tr>\n",
       "  </tbody>\n",
       "</table>\n",
       "</div>"
      ],
      "text/plain": [
       "   Marks\n",
       "0     45\n",
       "1     55\n",
       "2     50\n",
       "3     50\n",
       "4     60\n",
       "5     70\n",
       "6     75\n",
       "7     45\n",
       "8     65"
      ]
     },
     "execution_count": 229,
     "metadata": {},
     "output_type": "execute_result"
    }
   ],
   "source": [
    "group_d"
   ]
  },
  {
   "cell_type": "markdown",
   "id": "69489311-0f05-4f58-bab5-288968042529",
   "metadata": {
    "tags": []
   },
   "source": [
    "<body style=\"font-family: Sans-serif;\">\n",
    "    <div style=\"color: black; font-size: 18px; font-style: oblique; text-shadow: 0 0 3px white, 0 0 1px black; padding: 20px;\">\n",
    "        <ul><li>Mid Point for Group Data</li>\n",
    "            Midpoint (jisay class mark bhi kehtay hain) kisi bhi class interval ka beech ka point hota hai.<br>Yeh average hota hai lower limit aur upper limit ka.<br>  <br>\n",
    "Midpoint Ka Formula\n",
    "\\[\\text{Midpoint} = \\frac{\\text{Lower Limit} + \\text{Upper Limit}}{2}\\]<br>\n",
    "            Example Calculation<br>Agar class interval 10 - 20 hai, toh midpoint: <br><br>\n",
    "\\[\\frac{10 + 20}{2} = \\frac{30}{2} = 15\\]<br>\n",
    "Agar class interval 21 - 30 hai, toh midpoint:<br><br>\n",
    "\\[\\frac{21 + 30}{2} = \\frac{51}{2} = 25.5\\]\n",
    "              </ul>\n",
    "</div>\n",
    "</body>"
   ]
  },
  {
   "cell_type": "code",
   "execution_count": 24,
   "id": "e5f86542-56f9-432f-8acf-ccc27c6d34ff",
   "metadata": {
    "tags": []
   },
   "outputs": [
    {
     "data": {
      "text/html": [
       "<div>\n",
       "<style scoped>\n",
       "    .dataframe tbody tr th:only-of-type {\n",
       "        vertical-align: middle;\n",
       "    }\n",
       "\n",
       "    .dataframe tbody tr th {\n",
       "        vertical-align: top;\n",
       "    }\n",
       "\n",
       "    .dataframe thead th {\n",
       "        text-align: right;\n",
       "    }\n",
       "</style>\n",
       "<table border=\"1\" class=\"dataframe\">\n",
       "  <thead>\n",
       "    <tr style=\"text-align: right;\">\n",
       "      <th></th>\n",
       "      <th>Intervals</th>\n",
       "      <th>frequencies</th>\n",
       "    </tr>\n",
       "  </thead>\n",
       "  <tbody>\n",
       "    <tr>\n",
       "      <th>0</th>\n",
       "      <td>45 - 53</td>\n",
       "      <td>4</td>\n",
       "    </tr>\n",
       "    <tr>\n",
       "      <th>1</th>\n",
       "      <td>53 - 61</td>\n",
       "      <td>2</td>\n",
       "    </tr>\n",
       "    <tr>\n",
       "      <th>2</th>\n",
       "      <td>61 - 69</td>\n",
       "      <td>1</td>\n",
       "    </tr>\n",
       "    <tr>\n",
       "      <th>3</th>\n",
       "      <td>69 - 77</td>\n",
       "      <td>2</td>\n",
       "    </tr>\n",
       "  </tbody>\n",
       "</table>\n",
       "</div>"
      ],
      "text/plain": [
       "  Intervals  frequencies\n",
       "0   45 - 53            4\n",
       "1   53 - 61            2\n",
       "2   61 - 69            1\n",
       "3   69 - 77            2"
      ]
     },
     "execution_count": 24,
     "metadata": {},
     "output_type": "execute_result"
    }
   ],
   "source": [
    "group_data = ungroup_to_group(ungroup_df,\"Marks\")\n",
    "group_data"
   ]
  },
  {
   "cell_type": "code",
   "execution_count": 25,
   "id": "f833281f-8034-4841-baba-8c779d2ad1a7",
   "metadata": {
    "tags": []
   },
   "outputs": [
    {
     "data": {
      "text/html": [
       "<div>\n",
       "<style scoped>\n",
       "    .dataframe tbody tr th:only-of-type {\n",
       "        vertical-align: middle;\n",
       "    }\n",
       "\n",
       "    .dataframe tbody tr th {\n",
       "        vertical-align: top;\n",
       "    }\n",
       "\n",
       "    .dataframe thead th {\n",
       "        text-align: right;\n",
       "    }\n",
       "</style>\n",
       "<table border=\"1\" class=\"dataframe\">\n",
       "  <thead>\n",
       "    <tr style=\"text-align: right;\">\n",
       "      <th></th>\n",
       "      <th>Intervals</th>\n",
       "      <th>frequencies</th>\n",
       "      <th>mid_point</th>\n",
       "    </tr>\n",
       "  </thead>\n",
       "  <tbody>\n",
       "    <tr>\n",
       "      <th>0</th>\n",
       "      <td>45 - 53</td>\n",
       "      <td>4</td>\n",
       "      <td>49.0</td>\n",
       "    </tr>\n",
       "    <tr>\n",
       "      <th>1</th>\n",
       "      <td>53 - 61</td>\n",
       "      <td>2</td>\n",
       "      <td>57.0</td>\n",
       "    </tr>\n",
       "    <tr>\n",
       "      <th>2</th>\n",
       "      <td>61 - 69</td>\n",
       "      <td>1</td>\n",
       "      <td>65.0</td>\n",
       "    </tr>\n",
       "    <tr>\n",
       "      <th>3</th>\n",
       "      <td>69 - 77</td>\n",
       "      <td>2</td>\n",
       "      <td>73.0</td>\n",
       "    </tr>\n",
       "  </tbody>\n",
       "</table>\n",
       "</div>"
      ],
      "text/plain": [
       "  Intervals  frequencies  mid_point\n",
       "0   45 - 53            4       49.0\n",
       "1   53 - 61            2       57.0\n",
       "2   61 - 69            1       65.0\n",
       "3   69 - 77            2       73.0"
      ]
     },
     "execution_count": 25,
     "metadata": {},
     "output_type": "execute_result"
    }
   ],
   "source": [
    "mid_points = [( int(i.split()[0]) + int(i.split()[-1]) ) / 2 for i in group_data['Intervals'].tolist()]\n",
    "group_data[\"mid_point\"] = mid_points\n",
    "group_data"
   ]
  },
  {
   "cell_type": "markdown",
   "id": "512e9230-192f-4482-80eb-cc2b8327dc33",
   "metadata": {},
   "source": [
    "<h1 style=\"text-align:center; color:#005bbd; font-size:20px; font-family:Sans-serif; font-style: oblique; text-shadow: 0 0 3px white, 0 0 1px Black;\">\n",
    "   Measures of Central Tendency\n",
    "</h1>"
   ]
  },
  {
   "cell_type": "markdown",
   "id": "5918a024-80f2-483f-a483-333afe211eba",
   "metadata": {},
   "source": [
    "34<body style=\"font-family: Sans-serif;\">\n",
    "    <div style=\"color: black; font-size: 18px; font-style: oblique; text-shadow: 0 0 3px white, 0 0 1px black; padding: 20px;\">\n",
    "       <ul><ul><li>1. Mean (Avarage)\n",
    "           <ul>Mean ka matlab hai sab numbers ka sum karke, total count se divide karna.<br>\n",
    "                Yeh normal situations me best hota hai, lekin agar koi bohot bara ya chhota number ho (outlier), to mean inaccurate ho sakta hai<br><br>\n",
    "           </ul>\n",
    "        </ul>\n",
    "</div>\n",
    "</body>"
   ]
  },
  {
   "cell_type": "markdown",
   "id": "c8b27f36-6d71-4787-add8-eacd51e40f9c",
   "metadata": {},
   "source": [
    "<body style=\"font-family: Sans-serif;\">\n",
    "    <div style=\"color: black; font-size: 18px; font-style: oblique; text-shadow: 0 0 3px white, 0 0 1px black; padding: 20px;\">\n",
    "       <ul><ul><ul>Mean Ungroup Data<nt>\n",
    "                   Formula:<br>\n",
    "               \\[Mean = \\frac{\\text{Sab values ka sum}}{\\text{Total numbers ka count}}\\]\n",
    "               <br>🔹 Example: <ul>\n",
    "               Agar students ke marks hain:  [50, 60, 70, 80, 90]<br><br>\n",
    "               \\[\n",
    "               \\begin{align} \n",
    "               Mean &= \\frac{(50+60+70+80+90)}{5} \\\\\\\\ Mean &= \\frac{350}{5} \\\\\\\\ Mean &= 70\n",
    "\\end{align}\n",
    "\\]\n",
    "           </ul>\n",
    "        </ul>\n",
    "</div>\n",
    "</body>"
   ]
  },
  {
   "cell_type": "code",
   "execution_count": 28,
   "id": "e3290b8f-945f-4e2a-b497-aa48ab74a965",
   "metadata": {
    "tags": []
   },
   "outputs": [
    {
     "data": {
      "text/plain": [
       "57.22222222222222"
      ]
     },
     "execution_count": 28,
     "metadata": {},
     "output_type": "execute_result"
    }
   ],
   "source": [
    "count = 0\n",
    "data = ungroup_df[\"Marks\"].tolist()\n",
    "for i in data:\n",
    "    count += i\n",
    "    \n",
    "mean = count / len(data)\n",
    "mean"
   ]
  },
  {
   "cell_type": "code",
   "execution_count": 27,
   "id": "6ed5f40a-60a0-40bd-8ac9-644e05828e53",
   "metadata": {
    "tags": []
   },
   "outputs": [
    {
     "data": {
      "text/html": [
       "<div>\n",
       "<style scoped>\n",
       "    .dataframe tbody tr th:only-of-type {\n",
       "        vertical-align: middle;\n",
       "    }\n",
       "\n",
       "    .dataframe tbody tr th {\n",
       "        vertical-align: top;\n",
       "    }\n",
       "\n",
       "    .dataframe thead th {\n",
       "        text-align: right;\n",
       "    }\n",
       "</style>\n",
       "<table border=\"1\" class=\"dataframe\">\n",
       "  <thead>\n",
       "    <tr style=\"text-align: right;\">\n",
       "      <th></th>\n",
       "      <th>Marks</th>\n",
       "    </tr>\n",
       "  </thead>\n",
       "  <tbody>\n",
       "    <tr>\n",
       "      <th>0</th>\n",
       "      <td>45</td>\n",
       "    </tr>\n",
       "    <tr>\n",
       "      <th>1</th>\n",
       "      <td>55</td>\n",
       "    </tr>\n",
       "    <tr>\n",
       "      <th>2</th>\n",
       "      <td>50</td>\n",
       "    </tr>\n",
       "    <tr>\n",
       "      <th>3</th>\n",
       "      <td>50</td>\n",
       "    </tr>\n",
       "    <tr>\n",
       "      <th>4</th>\n",
       "      <td>60</td>\n",
       "    </tr>\n",
       "    <tr>\n",
       "      <th>5</th>\n",
       "      <td>70</td>\n",
       "    </tr>\n",
       "    <tr>\n",
       "      <th>6</th>\n",
       "      <td>75</td>\n",
       "    </tr>\n",
       "    <tr>\n",
       "      <th>7</th>\n",
       "      <td>45</td>\n",
       "    </tr>\n",
       "    <tr>\n",
       "      <th>8</th>\n",
       "      <td>65</td>\n",
       "    </tr>\n",
       "  </tbody>\n",
       "</table>\n",
       "</div>"
      ],
      "text/plain": [
       "   Marks\n",
       "0     45\n",
       "1     55\n",
       "2     50\n",
       "3     50\n",
       "4     60\n",
       "5     70\n",
       "6     75\n",
       "7     45\n",
       "8     65"
      ]
     },
     "execution_count": 27,
     "metadata": {},
     "output_type": "execute_result"
    }
   ],
   "source": [
    "ungroup_df"
   ]
  },
  {
   "cell_type": "markdown",
   "id": "542b5e98-f735-49b2-b445-f784954533fc",
   "metadata": {},
   "source": [
    "<body style=\"font-family: Sans-serif;\">\n",
    "    <div style=\"color: black; font-size: 18px; font-style: oblique; text-shadow: 0 0 3px white, 0 0 1px black; padding: 20px;\">\n",
    "       <ul><ul><ul>Grouped Data ka Mean kaise Nikalein?<br>\n",
    "                   Grouped data ka mean ungrouped data se alag tarike se nikalta hai, kyunki hume frequencies bhi consider karni hoti hain. <br>\n",
    "                   Formula:<br>\n",
    "           \\[ \\text{Mean} = \\frac{\\sum f_i x_i}{\\sum f_i} \\] <br><br>\n",
    "           - \\( f_i \\) = Frequency (Har class interval me kitne numbers hain)<br>  \n",
    "           - \\( x_i \\) = Midpoint (Class interval ka center)<br>\n",
    "           - \\( \\sum f_i x_i \\) = Sab midpoint values ka frequency ke saath multiplication ka sum <br>\n",
    "           - \\( \\sum f_i \\) = Total frequency (jitne numbers hain)<br>\n",
    "           <br><br>\n",
    "Example<br>\n",
    "           \n",
    "| Intervals  | Frequency (\\( f_i \\)) | Midpoint (\\( x_i \\)) | \\( f_i x_i \\) |\n",
    "|------------|-----------------|------------|-----------|\n",
    "| 45 - 53  | 4 | **49** | \\( 4 \\times 49 = 196 \\) |\n",
    "| 53 - 61  | 2 | **57** | \\( 2 \\times 57 = 114 \\) |\n",
    "| 61 - 69  | 1 | **65** | \\( 1 \\times 65 = 65 \\) |\n",
    "| 69 - 77  | 2 | **73** | \\( 2 \\times 73 = 146 \\) |\n",
    "\n",
    "<hr>Step 1: Values ka Sum Calculate karo<br><br>\n",
    "    <p>\n",
    "        \\[\n",
    "        \\sum f_i = 4 + 2 + 1 + 2 = 9\n",
    "        \\]\n",
    "    </p>\n",
    "    <p>\n",
    "        \\[\n",
    "        \\sum f_i x_i = 196 + 114 + 65 + 146 = 521\n",
    "        \\]\n",
    "    </p>\n",
    "  <hr>Step 2: Mean Calculate karo<br><br>\n",
    "    <p>\n",
    "        \\[\n",
    "        \\text{Mean} = \\frac{521}{9} = 57.88\n",
    "        \\]\n",
    "    </p>\n",
    "           </ul>\n",
    "        </ul>\n",
    "</div>\n",
    "</body>"
   ]
  },
  {
   "cell_type": "code",
   "execution_count": 29,
   "id": "a878294a-5686-41d5-8b5f-331eb84ad286",
   "metadata": {
    "tags": []
   },
   "outputs": [
    {
     "data": {
      "text/html": [
       "<div>\n",
       "<style scoped>\n",
       "    .dataframe tbody tr th:only-of-type {\n",
       "        vertical-align: middle;\n",
       "    }\n",
       "\n",
       "    .dataframe tbody tr th {\n",
       "        vertical-align: top;\n",
       "    }\n",
       "\n",
       "    .dataframe thead th {\n",
       "        text-align: right;\n",
       "    }\n",
       "</style>\n",
       "<table border=\"1\" class=\"dataframe\">\n",
       "  <thead>\n",
       "    <tr style=\"text-align: right;\">\n",
       "      <th></th>\n",
       "      <th>Intervals</th>\n",
       "      <th>frequencies</th>\n",
       "      <th>mid_point</th>\n",
       "      <th>fx</th>\n",
       "    </tr>\n",
       "  </thead>\n",
       "  <tbody>\n",
       "    <tr>\n",
       "      <th>0</th>\n",
       "      <td>45 - 53</td>\n",
       "      <td>4</td>\n",
       "      <td>49.0</td>\n",
       "      <td>196.0</td>\n",
       "    </tr>\n",
       "    <tr>\n",
       "      <th>1</th>\n",
       "      <td>53 - 61</td>\n",
       "      <td>2</td>\n",
       "      <td>57.0</td>\n",
       "      <td>114.0</td>\n",
       "    </tr>\n",
       "    <tr>\n",
       "      <th>2</th>\n",
       "      <td>61 - 69</td>\n",
       "      <td>1</td>\n",
       "      <td>65.0</td>\n",
       "      <td>65.0</td>\n",
       "    </tr>\n",
       "    <tr>\n",
       "      <th>3</th>\n",
       "      <td>69 - 77</td>\n",
       "      <td>2</td>\n",
       "      <td>73.0</td>\n",
       "      <td>146.0</td>\n",
       "    </tr>\n",
       "  </tbody>\n",
       "</table>\n",
       "</div>"
      ],
      "text/plain": [
       "  Intervals  frequencies  mid_point     fx\n",
       "0   45 - 53            4       49.0  196.0\n",
       "1   53 - 61            2       57.0  114.0\n",
       "2   61 - 69            1       65.0   65.0\n",
       "3   69 - 77            2       73.0  146.0"
      ]
     },
     "execution_count": 29,
     "metadata": {},
     "output_type": "execute_result"
    }
   ],
   "source": [
    "group_data[\"fx\"] = group_data[\"frequencies\"] * group_data[\"mid_point\"]\n",
    "group_data"
   ]
  },
  {
   "cell_type": "code",
   "execution_count": 30,
   "id": "ee71ebda-8592-4993-af99-5801e098b9bc",
   "metadata": {
    "tags": []
   },
   "outputs": [
    {
     "data": {
      "text/plain": [
       "57.888888888888886"
      ]
     },
     "execution_count": 30,
     "metadata": {},
     "output_type": "execute_result"
    }
   ],
   "source": [
    "# mean of group data\n",
    "sum(group_data[\"fx\"].tolist()) / sum(group_data[\"frequencies\"].tolist()) "
   ]
  },
  {
   "cell_type": "markdown",
   "id": "26a25924-a2db-41d1-9958-9d3f61871678",
   "metadata": {},
   "source": [
    "\n",
    "<body style=\"font-family: Sans-serif;\">\n",
    "    <div style=\"color: black; font-size: 18px; font-style: oblique; text-shadow: 0 0 3px white, 0 0 1px black; padding: 20px;\">\n",
    "        <ul><ul><li>2. Median (Middle Value)\n",
    "            <ul>\n",
    "                Median ek aisi value hai jo data ko do equal parts me divide karti hai.<br>\n",
    "                Iska faida yeh hai ke yeh outliers se effect nahi hoti.<br><br>\n",
    "                🔹 Steps:\n",
    "                <ul>\n",
    "                    <li>Numbers ko ascending order me arrange karo.</li>\n",
    "                    <li>Agar total count odd hai → Middle value pick karo.</li>\n",
    "                    <li>Agar total count even hai → Dono middle values ka average lo.</li>\n",
    "                </ul>\n",
    "                🔹 Example: \n",
    "                <ul>\n",
    "                    Marks: [50, 60, 70, 80, 90] (Odd count = 5)<br>\n",
    "                    <b>Median = 70</b> (Kyunki yeh middle me hai)\n",
    "                </ul>\n",
    "                <ul><br>\n",
    "                    Marks: [50, 60, 70, 80] (Even count = 4)<br><br>\n",
    "                    \\[\n",
    "                    \\begin{align} \n",
    "                    Median &= \\frac{(60+70)}{2} \\\\\\\\ \n",
    "                    Median &= \\frac{130}{2} \\\\\\\\ \n",
    "                    Median &= 65\n",
    "                    \\end{align}\n",
    "                    \\]\n",
    "                </ul><hr><br> Formulae :<br>For Sorted Data\n",
    "                If \\( n \\) is Odd:<br>\n",
    "\\[\\text{Median} = X_{\\frac{n+1}{2}}\\]\n",
    "If \\( n \\) is Even: \n",
    "\\[\\text{Median} = \\frac{X_{\\frac{n}{2}} + X_{\\frac{n}{2} + 1}}{2}\\]\n",
    "            </ul><hr><br>\n",
    "        </ul></ul>\n",
    "    </div>\n",
    "</body>"
   ]
  },
  {
   "cell_type": "code",
   "execution_count": 31,
   "id": "f0e2d4bd-682b-46a8-83b4-6e8d07e42117",
   "metadata": {
    "tags": []
   },
   "outputs": [],
   "source": [
    "def median(x):\n",
    "    x = sorted(x)\n",
    "    \n",
    "    if len(x)%2 == 1:\n",
    "        return x[int((len(x)+1)/2) - 1]\n",
    "\n",
    "    else:    \n",
    "        index_1 = int(len(x)/2) -1\n",
    "        index_2 = int((len(x)/2) + 1) -1\n",
    "        return (x[index_1] + x[index_2]) / 2"
   ]
  },
  {
   "cell_type": "code",
   "execution_count": 32,
   "id": "4c8c744a-d5ee-4899-8963-2ceb879fd51c",
   "metadata": {
    "tags": []
   },
   "outputs": [
    {
     "data": {
      "text/plain": [
       "3"
      ]
     },
     "execution_count": 32,
     "metadata": {},
     "output_type": "execute_result"
    }
   ],
   "source": [
    "median([1,2,3,4,5]) # odd length"
   ]
  },
  {
   "cell_type": "code",
   "execution_count": 33,
   "id": "d0491eaf-d266-4f13-ad5a-553921d853b0",
   "metadata": {
    "tags": []
   },
   "outputs": [
    {
     "data": {
      "text/plain": [
       "3.5"
      ]
     },
     "execution_count": 33,
     "metadata": {},
     "output_type": "execute_result"
    }
   ],
   "source": [
    "median([1,2,3,4,5,6]) # even length"
   ]
  },
  {
   "cell_type": "code",
   "execution_count": 34,
   "id": "d564140d-c9ea-4f99-b072-f00cc5295eb9",
   "metadata": {
    "tags": []
   },
   "outputs": [
    {
     "data": {
      "text/html": [
       "<div>\n",
       "<style scoped>\n",
       "    .dataframe tbody tr th:only-of-type {\n",
       "        vertical-align: middle;\n",
       "    }\n",
       "\n",
       "    .dataframe tbody tr th {\n",
       "        vertical-align: top;\n",
       "    }\n",
       "\n",
       "    .dataframe thead th {\n",
       "        text-align: right;\n",
       "    }\n",
       "</style>\n",
       "<table border=\"1\" class=\"dataframe\">\n",
       "  <thead>\n",
       "    <tr style=\"text-align: right;\">\n",
       "      <th></th>\n",
       "      <th>Marks</th>\n",
       "    </tr>\n",
       "  </thead>\n",
       "  <tbody>\n",
       "    <tr>\n",
       "      <th>0</th>\n",
       "      <td>45</td>\n",
       "    </tr>\n",
       "    <tr>\n",
       "      <th>1</th>\n",
       "      <td>55</td>\n",
       "    </tr>\n",
       "    <tr>\n",
       "      <th>2</th>\n",
       "      <td>50</td>\n",
       "    </tr>\n",
       "    <tr>\n",
       "      <th>3</th>\n",
       "      <td>50</td>\n",
       "    </tr>\n",
       "    <tr>\n",
       "      <th>4</th>\n",
       "      <td>60</td>\n",
       "    </tr>\n",
       "    <tr>\n",
       "      <th>5</th>\n",
       "      <td>70</td>\n",
       "    </tr>\n",
       "    <tr>\n",
       "      <th>6</th>\n",
       "      <td>75</td>\n",
       "    </tr>\n",
       "    <tr>\n",
       "      <th>7</th>\n",
       "      <td>45</td>\n",
       "    </tr>\n",
       "    <tr>\n",
       "      <th>8</th>\n",
       "      <td>65</td>\n",
       "    </tr>\n",
       "  </tbody>\n",
       "</table>\n",
       "</div>"
      ],
      "text/plain": [
       "   Marks\n",
       "0     45\n",
       "1     55\n",
       "2     50\n",
       "3     50\n",
       "4     60\n",
       "5     70\n",
       "6     75\n",
       "7     45\n",
       "8     65"
      ]
     },
     "execution_count": 34,
     "metadata": {},
     "output_type": "execute_result"
    }
   ],
   "source": [
    "ungroup_df"
   ]
  },
  {
   "cell_type": "code",
   "execution_count": 35,
   "id": "c723755b-cffc-4df5-8d84-66b583f4e343",
   "metadata": {
    "tags": []
   },
   "outputs": [
    {
     "data": {
      "text/plain": [
       "55"
      ]
     },
     "execution_count": 35,
     "metadata": {},
     "output_type": "execute_result"
    }
   ],
   "source": [
    "median(ungroup_df[\"Marks\"])"
   ]
  },
  {
   "cell_type": "markdown",
   "id": "179339d8-64db-45c2-9d57-ed4488b9dae2",
   "metadata": {},
   "source": [
    "<body style=\"font-family: Sans-serif;\">\n",
    "    <div style=\"color: black; font-size: 18px; font-style: oblique; text-shadow: 0 0 3px white, 0 0 1px black; padding: 20px;\">\n",
    "        <h4>Median For Group Data</h4>\n",
    "\\[\n",
    "\\text{Median} = L + \\left( \\frac{\\frac{N}{2} - CF}{f} \\right) \\times h\n",
    "\\]\n",
    "\n",
    "**Jahan:**  \n",
    "- \\( L \\) = **Median class ki lower boundary**  \n",
    "- \\( N \\) = **Total frequency ka sum** sum(f)  \n",
    "- \\( CF \\) = **Cumulative frequency just before the median class**  \n",
    "- \\( f \\) = **Median class ki frequency**  \n",
    "- \\( h \\) = **Class width (interval difference)**  \n",
    "        \n",
    "<img src=\"../images/grp_m.png\" style=\"width: 100%; display: block; margin-left: auto; margin-right: auto;\">"
   ]
  },
  {
   "cell_type": "code",
   "execution_count": 37,
   "id": "d054a1c5-0866-43fd-b2c2-5dce94d9f47b",
   "metadata": {
    "tags": []
   },
   "outputs": [
    {
     "data": {
      "text/html": [
       "<div>\n",
       "<style scoped>\n",
       "    .dataframe tbody tr th:only-of-type {\n",
       "        vertical-align: middle;\n",
       "    }\n",
       "\n",
       "    .dataframe tbody tr th {\n",
       "        vertical-align: top;\n",
       "    }\n",
       "\n",
       "    .dataframe thead th {\n",
       "        text-align: right;\n",
       "    }\n",
       "</style>\n",
       "<table border=\"1\" class=\"dataframe\">\n",
       "  <thead>\n",
       "    <tr style=\"text-align: right;\">\n",
       "      <th></th>\n",
       "      <th>intervals</th>\n",
       "    </tr>\n",
       "  </thead>\n",
       "  <tbody>\n",
       "    <tr>\n",
       "      <th>0</th>\n",
       "      <td>(10, 19)</td>\n",
       "    </tr>\n",
       "    <tr>\n",
       "      <th>1</th>\n",
       "      <td>(20, 29)</td>\n",
       "    </tr>\n",
       "    <tr>\n",
       "      <th>2</th>\n",
       "      <td>(30, 39)</td>\n",
       "    </tr>\n",
       "  </tbody>\n",
       "</table>\n",
       "</div>"
      ],
      "text/plain": [
       "  intervals\n",
       "0  (10, 19)\n",
       "1  (20, 29)\n",
       "2  (30, 39)"
      ]
     },
     "execution_count": 37,
     "metadata": {},
     "output_type": "execute_result"
    }
   ],
   "source": []
  },
  {
   "cell_type": "code",
   "execution_count": 38,
   "id": "958e08e3-7678-49ca-bba0-4b305b309a94",
   "metadata": {
    "tags": []
   },
   "outputs": [
    {
     "data": {
      "text/plain": [
       "9"
      ]
     },
     "execution_count": 38,
     "metadata": {},
     "output_type": "execute_result"
    }
   ],
   "source": [
    "19-10"
   ]
  },
  {
   "cell_type": "code",
   "execution_count": 41,
   "id": "9ebf4bda-4e61-417b-8529-efde5454cf89",
   "metadata": {
    "tags": []
   },
   "outputs": [
    {
     "data": {
      "text/plain": [
       "9"
      ]
     },
     "execution_count": 41,
     "metadata": {},
     "output_type": "execute_result"
    }
   ],
   "source": [
    "39-30"
   ]
  },
  {
   "cell_type": "code",
   "execution_count": null,
   "id": "f9440548-fdc1-4d55-ab77-0c5b68bd2a2d",
   "metadata": {
    "tags": []
   },
   "outputs": [],
   "source": [
    "grp = ungroup_to_group(ungroup_df,\"Marks\")\n",
    "grp"
   ]
  },
  {
   "cell_type": "markdown",
   "id": "8419f009-34b7-4496-9129-437ceffbd2c7",
   "metadata": {},
   "source": [
    "<body style=\"font-family: Sans-serif;\">\n",
    "    <div style=\"color: black; font-size: 18px; font-style: oblique; text-shadow: 0 0 3px white, 0 0 1px black; padding: 20px;\">\n",
    "        <ul><li>Cumulative Frequency in Group Data</li>\n",
    "            Cumulative Frequency ek running sum hota hai jo har class interval tak ka total frequency show karta hai.<br>Yeh grouped data mein distribution ka pattern samajhnay aur percentiles, quartiles aur median nikalne ke liye use hota hai<br>\n",
    "<br><br>Formula (Cumulative Frequency Calculation)<br><br>\n",
    "\\[CF_i = CF_{i-1} + f_i\\]<br>\n",
    "<ul><ul><ul><ul>Yaha:<br>\n",
    "\\(CF_i\\) = Current Cumulative Frequency  <br>\n",
    "\\(CF_{i-1}\\) = Previous Cumulative Frequency <br> \n",
    "\\(f_i\\) = Current Class Ki Frequency  <br>\n",
    "    <br></ul></ul></ul></ul></ul>\n",
    "First class ka cumulative frequency hamesha us class ki original frequency ke barabar hota hai.<br><br> \n",
    "        \n",
    "| Class Interval | Frequency (f) | Cumulative Frequency (CF) |\n",
    "|---------------|-------------|------------------|\n",
    "| 10 - 20      | 4           | 4                |\n",
    "| 21 - 30      | 6           | 4 + 6 = 10       |\n",
    "| 31 - 40      | 8           | 10 + 8 = 18      |\n",
    "| 41 - 50      | 5           | 18 + 5 = 23      |\n",
    "<br><br>\n",
    "</div>\n",
    "</body>"
   ]
  },
  {
   "cell_type": "markdown",
   "id": "f8fc045d-c45c-49d8-9009-0e71acd8dec7",
   "metadata": {},
   "source": [
    "<body style=\"font-family: Sans-serif;\">\n",
    "    <div style=\"color: black; font-size: 18px; font-style: oblique; text-shadow: 0 0 3px white, 0 0 1px black; padding: 20px;\">\n",
    "    Find CF\n",
    "</div>\n",
    "</body>"
   ]
  },
  {
   "cell_type": "code",
   "execution_count": null,
   "id": "be7fc099-b0a2-40e7-a13a-2a3565ab8911",
   "metadata": {
    "tags": []
   },
   "outputs": [],
   "source": [
    "cumulative_frequency = []\n",
    "total_frequency = 0\n",
    "freq = group_data[\"frequencies\"].tolist()\n",
    "for i in freq:\n",
    "    total_frequency += i\n",
    "    cumulative_frequency.append(total_frequency)\n",
    "cumulative_frequency"
   ]
  },
  {
   "cell_type": "code",
   "execution_count": null,
   "id": "72359591-e245-4d3e-91b7-ce6493b8a02a",
   "metadata": {
    "tags": []
   },
   "outputs": [],
   "source": [
    "total_frequency"
   ]
  },
  {
   "cell_type": "code",
   "execution_count": null,
   "id": "39052a95-0af2-44eb-bdf9-4da3338dedc1",
   "metadata": {
    "tags": []
   },
   "outputs": [],
   "source": [
    "grp[\"cf\"] = cumulative_frequency\n",
    "grp"
   ]
  },
  {
   "cell_type": "markdown",
   "id": "21aef78f-f147-44f0-9cbb-3fff19a15895",
   "metadata": {},
   "source": [
    "<body style=\"font-family: Sans-serif;\">\n",
    "    <div style=\"color: black; font-size: 18px; font-style: oblique; text-shadow: 0 0 3px white, 0 0 1px black; padding: 20px;\">\n",
    "    Calcualte Median\n",
    "        \n",
    "</div>\n",
    "</body>"
   ]
  },
  {
   "cell_type": "code",
   "execution_count": null,
   "id": "03ed0bad-b9c1-45a5-afe9-11c7dc5e8674",
   "metadata": {
    "tags": []
   },
   "outputs": [],
   "source": [
    "total_f = grp[\"frequencies\"].sum()\n",
    "total_f"
   ]
  },
  {
   "cell_type": "code",
   "execution_count": null,
   "id": "c7eefebd-2896-4a98-8a4b-091fc7ad22ea",
   "metadata": {
    "tags": []
   },
   "outputs": [],
   "source": [
    "current_class = grp[grp[\"cf\"] > (total_f/2)].head(1)\n",
    "f = current_class[\"frequencies\"].to_list()[0]\n",
    "f"
   ]
  },
  {
   "cell_type": "code",
   "execution_count": null,
   "id": "dc058a3d-8781-450c-acb4-bf75ab6dd67e",
   "metadata": {
    "tags": []
   },
   "outputs": [],
   "source": [
    "x,_,y = current_class[\"Intervals\"].to_list()[0].split()\n",
    "L = min(int(x),int(y))\n",
    "L"
   ]
  },
  {
   "cell_type": "code",
   "execution_count": null,
   "id": "e836c16f-836c-4145-b8c4-88ad3dce6583",
   "metadata": {
    "tags": []
   },
   "outputs": [],
   "source": [
    "CF = grp[~(grp[\"cf\"] > (total_f/2))].head(1)[\"cf\"].to_list()[0]\n",
    "CF"
   ]
  },
  {
   "cell_type": "code",
   "execution_count": null,
   "id": "1a81e3be-0e1c-4301-8b0a-b8b3e785668b",
   "metadata": {
    "tags": []
   },
   "outputs": [],
   "source": [
    "x = set([max(k,v) - min(k,v) for k,v in [(int(i.split()[0]),int(i.split()[-1])) for i in grp[\"Intervals\"].to_list()]])\n",
    "if len(x) == 1:\n",
    "    h = list(x)[0]\n",
    "h"
   ]
  },
  {
   "cell_type": "code",
   "execution_count": null,
   "id": "22686168-235f-4192-8f30-c5aec50fc716",
   "metadata": {
    "tags": []
   },
   "outputs": [],
   "source": [
    "L + (total_f/2 - CF) / f * h"
   ]
  },
  {
   "cell_type": "code",
   "execution_count": null,
   "id": "0ecbd497-b27a-43c8-a7dc-d53c779c9d61",
   "metadata": {},
   "outputs": [],
   "source": []
  },
  {
   "cell_type": "markdown",
   "id": "aab41ca7-b1e0-4924-8060-a768979ee47b",
   "metadata": {},
   "source": [
    "<body style=\"font-family: Sans-serif;\">\n",
    "    <div style=\"color: black; font-size: 18px; font-style: oblique; text-shadow: 0 0 3px white, 0 0 1px black; padding: 20px;\">\n",
    "        <ul><li>Class Boundary in Group Data</li>\n",
    "           Class boundaries real limits hoti hain jo class intervals ke beech ke gaps ko remove karne ke liye use hoti hain.<br>Yeh continuous data ko represent karne mein madad deti hain.<br>  <br>Jab bhi grouped data diya jata hai, toh class intervals hoti hain jaise:<br>\n",
    "    10 - 20, 21 - 30, 31 - 40<br><br>\n",
    "Agar hum inhe graph par plot karein toh 20 se 21 ke beech ek gap aata hai.<br>Yeh gap continuous distribution ko tod deta hai.<br><br>\n",
    "Is gap ko hatane ke liye Lower Bound ko 0.5 kam aur Upper Bound ko 0.5 zyada kar dete hain.<br><br>  Formula:\n",
    "            \\[\\text{Lower Class Boundary} = \\text{Lower Limit} - 0.5\\]\n",
    "            \\[\\text{Upper Class Boundary} = \\text{Upper Limit} + 0.5\\]<br><br>\n",
    "    Example Calculation:<br><br>\n",
    "Agar class interval 10 - 20 diya ho:<br>\n",
    "            Lower Class Boundary = 10 - 0.5 = 9.5<br>\n",
    "            Upper Class Boundary = 20 + 0.5 = 20.5  \n",
    "      </ul></ul></ul></ul></ul></ul></ul></ul>\n",
    "</div>\n",
    "</body>"
   ]
  },
  {
   "cell_type": "code",
   "execution_count": null,
   "id": "7ba18ae5-5e5c-4f07-86ef-1768bc6090cb",
   "metadata": {
    "tags": []
   },
   "outputs": [],
   "source": [
    "df"
   ]
  },
  {
   "cell_type": "code",
   "execution_count": null,
   "id": "06591b7e-50b6-4888-9a9e-201c018d4e5e",
   "metadata": {
    "tags": []
   },
   "outputs": [],
   "source": [
    "class_boundary = [((i[0] - 0.5),i[1]+0.5) for  i in df['marks_intervals'].tolist()]\n",
    "\n",
    "df[\"cb\"] = class_boundary"
   ]
  },
  {
   "cell_type": "code",
   "execution_count": null,
   "id": "c0bbfb26-be22-454c-b955-fb16fb77915e",
   "metadata": {
    "tags": []
   },
   "outputs": [],
   "source": [
    "df"
   ]
  },
  {
   "cell_type": "markdown",
   "id": "6ef5b1b8-7df3-4e47-b574-8f8aa164576f",
   "metadata": {},
   "source": []
  },
  {
   "cell_type": "code",
   "execution_count": null,
   "id": "007efdf4-9c81-486f-866e-b66a0dd1677a",
   "metadata": {
    "tags": []
   },
   "outputs": [],
   "source": [
    "df"
   ]
  },
  {
   "cell_type": "code",
   "execution_count": null,
   "id": "4c440ea7-8cf7-4844-826f-58b8d157b320",
   "metadata": {
    "tags": []
   },
   "outputs": [],
   "source": [
    "cumulative_frequency = []\n",
    "first = 0\n",
    "freq = df[\"frequencies\"].tolist()\n",
    "for i in freq:\n",
    "    first += i\n",
    "    cumulative_frequency.append(first)\n",
    "cumulative_frequency"
   ]
  },
  {
   "cell_type": "code",
   "execution_count": null,
   "id": "622264b6-8299-45ec-8161-ad7fe3539b9b",
   "metadata": {
    "tags": []
   },
   "outputs": [],
   "source": [
    "df[\"cf\"] = cumulative_frequency"
   ]
  },
  {
   "cell_type": "code",
   "execution_count": null,
   "id": "4121c190-b2ed-425d-a526-361bb55da665",
   "metadata": {
    "tags": []
   },
   "outputs": [],
   "source": [
    "df"
   ]
  },
  {
   "cell_type": "markdown",
   "id": "c59c26d0-6f36-4655-bbe0-11009cb7af29",
   "metadata": {},
   "source": [
    "---"
   ]
  },
  {
   "cell_type": "code",
   "execution_count": null,
   "id": "17f604b9-e671-4cd8-baa8-9430adf0007a",
   "metadata": {
    "tags": []
   },
   "outputs": [],
   "source": [
    "import pandas as pd\n",
    "import numpy as np\n",
    "import matplotlib.pyplot as plt\n",
    "import seaborn as sns"
   ]
  },
  {
   "cell_type": "code",
   "execution_count": null,
   "id": "359206c2-3f5e-47cf-a15c-92884855fb82",
   "metadata": {
    "tags": []
   },
   "outputs": [],
   "source": [
    "data = {\n",
    "    \"Student\": [\"Ali\", \"Ayesha\", \"Bilal\", \"Fatima\", \"Hassan\", \"Imran\", \"Maria\", \"Omer\", \"Sara\", \"Usman\"],\n",
    "    \"Marks\": [85, 88, 90, 92, 87, 89, 84, 91, 10, 86]  # Note: \"10\" is an outlier\n",
    "}\n",
    "\n",
    "df = pd.DataFrame(data)\n",
    "df"
   ]
  },
  {
   "cell_type": "markdown",
   "id": "fc3ddcff-4001-4499-b92d-18ba3d376a42",
   "metadata": {},
   "source": [
    "<body style=\"font-family: Sans-serif;\">\n",
    "    <div style=\"color: black; font-size: 18px; font-style: oblique; text-shadow: 0 0 3px white, 0 0 1px black; padding: 20px;\">\n",
    "       Yahan Sara ky marks sirf 10 hai, jo ek outlier hair<br>\n",
    "        <ul>Outliers wo values hoti hain jo bohot zyada different hoti hain baqi data se.\n",
    "            <br>Jaise ek class ke sab students 85-90 le rahe hain, magar ek student 10 le raha hai.\n",
    "            <br>Iska effect Mean pe hota hai aur analysis inaccurate ho sakta hai!\n",
    "</div>\n",
    "</body>"
   ]
  },
  {
   "cell_type": "code",
   "execution_count": null,
   "id": "ea7a362f-f93a-4e3c-9d32-5aa83dad2837",
   "metadata": {
    "tags": []
   },
   "outputs": [],
   "source": [
    "count = 0\n",
    "data = df[\"Marks\"].tolist()\n",
    "for i in data:\n",
    "    count += i\n",
    "    \n",
    "mean = count / len(data)\n",
    "print(mean)"
   ]
  },
  {
   "cell_type": "code",
   "execution_count": null,
   "id": "ec3b5301-22af-4bb6-8200-268a4f1c0f54",
   "metadata": {
    "tags": []
   },
   "outputs": [],
   "source": [
    "# pandas mean function\n",
    "df[\"Marks\"].mean()"
   ]
  },
  {
   "cell_type": "code",
   "execution_count": null,
   "id": "e9ee24d5-81f2-4cdd-ae2b-d5dbb1d11204",
   "metadata": {
    "tags": []
   },
   "outputs": [],
   "source": [
    "plt.figure(figsize=(6,4))\n",
    "sns.boxplot(x=df[\"Marks\"], color=\"orange\")\n",
    "\n",
    "plt.title(\"Outliers Detection using Boxplot\")\n",
    "plt.xlabel(\"Marks\")\n",
    "plt.show()"
   ]
  },
  {
   "cell_type": "code",
   "execution_count": null,
   "id": "2a27b9a4-8f52-46bc-8ea9-7a44e45508b7",
   "metadata": {
    "tags": []
   },
   "outputs": [],
   "source": [
    "mean_with_outlier = df[\"Marks\"].mean() \n",
    "\n",
    "df_cleaned = df[df[\"Marks\"] > 20]\n",
    "mean_without_outlier = df_cleaned[\"Marks\"].mean()\n",
    "\n",
    "print(f\"Mean (With Outlier): {mean_with_outlier}\")\n",
    "print(f\"Mean (Without Outlier): {mean_without_outlier}\")"
   ]
  },
  {
   "cell_type": "markdown",
   "id": "a86b9e4d-71f8-4e16-b8a5-be8a4ce61d70",
   "metadata": {},
   "source": [
    "<body style=\"font-family: Sans-serif;\">\n",
    "    <div style=\"color: black; font-size: 18px; font-style: oblique; text-shadow: 0 0 3px white, 0 0 1px black; padding: 20px;\">\n",
    "       Yaha Outliers (20) Marks ko Remove karna ho ga\n",
    "</div>\n",
    "</body>"
   ]
  },
  {
   "cell_type": "code",
   "execution_count": null,
   "id": "79ef6fc7-4f29-426f-a547-efa3a0ea1246",
   "metadata": {
    "tags": []
   },
   "outputs": [],
   "source": [
    "df[df[\"Marks\"] > 20]"
   ]
  },
  {
   "cell_type": "markdown",
   "id": "03fb76a2-646c-4e98-b6aa-b5c735a3feed",
   "metadata": {},
   "source": [
    "<body style=\"font-family: Sans-serif;\">\n",
    "    <div style=\"color: black; font-size: 18px; font-style: oblique; text-shadow: 0 0 3px white, 0 0 1px black; padding: 20px;\">\n",
    "       Remove Outliers With IQR\n",
    "</div>\n",
    "</body>"
   ]
  },
  {
   "cell_type": "code",
   "execution_count": null,
   "id": "4a0725c3-8205-4a5a-97d2-5a51a486bd12",
   "metadata": {
    "tags": []
   },
   "outputs": [],
   "source": [
    "Q1 = df[\"Marks\"].quantile(0.25)\n",
    "Q3 = df[\"Marks\"].quantile(0.75)\n",
    "\n",
    "IQR = Q3 - Q1\n",
    "\n",
    "lower_bound = Q1 - 1.5 * IQR\n",
    "upper_bound = Q3 + 1.5 * IQR\n",
    "\n",
    "df_filtered = df[(df[\"Marks\"] >= lower_bound) & (df[\"Marks\"] <= upper_bound)]\n",
    "df_filtered"
   ]
  },
  {
   "cell_type": "code",
   "execution_count": null,
   "id": "28e1104e-6a90-4df9-9bfe-a86c8a8dd101",
   "metadata": {
    "tags": []
   },
   "outputs": [],
   "source": [
    "mean_with_outlier = df[\"Marks\"].mean()\n",
    "\n",
    "# Outlier remove karna (IQR Method)\n",
    "Q1 = df[\"Marks\"].quantile(0.25)\n",
    "Q3 = df[\"Marks\"].quantile(0.75)\n",
    "IQR = Q3 - Q1\n",
    "lower_bound = Q1 - 1.5 * IQR\n",
    "upper_bound = Q3 + 1.5 * IQR\n",
    "\n",
    "df_filtered = df[(df[\"Marks\"] >= lower_bound) & (df[\"Marks\"] <= upper_bound)]\n",
    "mean_without_outlier = df_filtered[\"Marks\"].mean()\n",
    "\n",
    "# Bar Chart Plot\n",
    "plt.figure(figsize=(5, 4))\n",
    "plt.bar([\"With Outliers\", \"Without Outliers\"], [mean_with_outlier, mean_without_outlier], color=[\"red\", \"green\"])\n",
    "\n",
    "plt.title(\"Effect of Outliers on Mean\")\n",
    "plt.ylabel(\"Mean Marks\")\n",
    "plt.ylim(0, 100)\n",
    "plt.show()\n"
   ]
  },
  {
   "cell_type": "markdown",
   "id": "cfd03e2f-1c64-4b19-9a24-d50eef0b9432",
   "metadata": {},
   "source": [
    "<body style=\"font-family: Sans-serif;\">\n",
    "    <div style=\"color: black; font-size: 18px; font-style: oblique; text-shadow: 0 0 3px white, 0 0 1px black; padding: 20px;\">\n",
    "        <h4 style=\"color: black;\">📊 Effect of Outliers on Mean (Bar Chart)</h4>\n",
    "        <p>Is graph me Mean (Avarage) per Outliers ka effect dikhaya gaya hai. Yeh simple <b>Bar Chart</b> hai jo do situations ko compare karta hai:</p>\n",
    "        <ul>\n",
    "            <li>🔴 <b>Red Bar (With Outliers)</b> → Jisme Sara ka <b>10</b> marks bhi shamil hai.</li>\n",
    "            <li>🟩 <b>Green Bar (Without Outliers)</b> → Jisme Outliers remove kar diye gaye hain.</li>\n",
    "        </ul>\n",
    "        <h4 style=\"color: black;\">📌 Explanation</h4>\n",
    "        <ul>\n",
    "            <li><b>Red Bar → Mean kam ho gaya hai</b> kyunki ek bohot chhota number (10) ne average ko distort kar diya.</li>\n",
    "            <li><b>Green Bar → Mean realistic ho gaya hai</b> kyunki Outlier remove kar diya gaya.</li>\n",
    "        </ul>\n",
    "        <h4 style=\"color: black;\">📌 Observations</h4>\n",
    "        <ul>\n",
    "            <li>Agar dataset me koi <b>chhota ya bara outlier</b> ho, to Mean kaafi change ho jata hai.</li>\n",
    "            <li>Outliers ko remove karne ke baad Mean <b>accurate analysis</b> ke liye better ho jata hai.</li>\n",
    "        </ul>\n",
    "        <h4 style=\"color: black;\">🔥 Conclusion</h4>\n",
    "        <p>Jab data me Outliers hote hain to <b>Mean unreliable ho sakta hai</b>. Is wajah se kabhi kabhi Median ya Trimmed Mean use karna better hota hai.</p>\n",
    "    </div><hr>\n",
    "</body>\n"
   ]
  },
  {
   "cell_type": "markdown",
   "id": "bd4c17d8-80f5-4b63-bab6-22a4cdbe2d3a",
   "metadata": {},
   "source": [
    "\n",
    "<body style=\"font-family: Sans-serif;\">\n",
    "    <div style=\"color: black; font-size: 18px; font-style: oblique; text-shadow: 0 0 3px white, 0 0 1px black; padding: 20px;\">\n",
    "        <ul><ul><li>2. Median (Middle Value)\n",
    "            <ul>\n",
    "                Median ek aisi value hai jo data ko do equal parts me divide karti hai.<br>\n",
    "                Iska faida yeh hai ke yeh outliers se effect nahi hoti.<br><br>\n",
    "                🔹 Steps:\n",
    "                <ul>\n",
    "                    <li>Numbers ko ascending order me arrange karo.</li>\n",
    "                    <li>Agar total count odd hai → Middle value pick karo.</li>\n",
    "                    <li>Agar total count even hai → Dono middle values ka average lo.</li>\n",
    "                </ul>\n",
    "                🔹 Example: \n",
    "                <ul>\n",
    "                    Marks: [50, 60, 70, 80, 90] (Odd count = 5)<br>\n",
    "                    <b>Median = 70</b> (Kyunki yeh middle me hai)\n",
    "                </ul>\n",
    "                <ul><br>\n",
    "                    Marks: [50, 60, 70, 80] (Even count = 4)<br><br>\n",
    "                    \\[\n",
    "                    \\begin{align} \n",
    "                    Median &= \\frac{(60+70)}{2} \\\\\\\\ \n",
    "                    Median &= \\frac{130}{2} \\\\\\\\ \n",
    "                    Median &= 65\n",
    "                    \\end{align}\n",
    "                    \\]\n",
    "                </ul><hr><br> Formulae :<br>For Sorted Data\n",
    "                If \\( n \\) is Odd:<br>\n",
    "\\[\\text{Median} = X_{\\frac{n+1}{2}}\\]\n",
    "If \\( n \\) is Even: \n",
    "\\[\\text{Median} = \\frac{X_{\\frac{n}{2}} + X_{\\frac{n}{2} + 1}}{2}\\]\n",
    "            </ul><hr><br>\n",
    "        </ul></ul>\n",
    "        <ul><ul><li>Mean vs Median (Difference)\n",
    "            <ul>\n",
    "                🔹 Agar data <b>normal</b> hai (without outliers), to Mean aur Median almost same hote hain.<br>\n",
    "                🔹 Agar data me <b>outliers</b> hain, to Mean shift ho jata hai, lekin Median same rehta hai.<br><br>\n",
    "                📌 <b>Example:</b><br>\n",
    "                <ul>\n",
    "                    Marks: [50, 60, 70, 80, 500] (500 ek outlier hai)<br><br>\n",
    "                    <b>Mean:</b> \n",
    "                    \\[\n",
    "                    \\begin{align} \n",
    "                    Mean &= \\frac{(50+60+70+80+500)}{5} \\\\\\\\ \n",
    "                    Mean &= \\frac{760}{5} \\\\\\\\ \n",
    "                    Mean &= 152\n",
    "                    \\end{align}\n",
    "                    \\]\n",
    "                    <b>Median:</b> 70 (Middle value same rehti hai)\n",
    "                </ul><br>\n",
    "                📌 <b>Conclusion:</b> \n",
    "                <ul>\n",
    "                    <li>Agar outliers hain to <b>Median zyada accurate</b> hota hai.</li>\n",
    "                    <li>Mean outliers ki wajah se <b>distort ho sakta hai</b>.</li>\n",
    "                    <li>Data analysis me kabhi kabhi Median use karna better hota hai, khas tor pe jab data skewed ho.</li>\n",
    "                </ul>\n",
    "            </ul>\n",
    "        </ul></ul>\n",
    "    </div><hr>\n",
    "</body>"
   ]
  },
  {
   "cell_type": "code",
   "execution_count": null,
   "id": "55c3d4a0-7816-4828-9b55-13f3257ac4be",
   "metadata": {
    "tags": []
   },
   "outputs": [],
   "source": []
  },
  {
   "cell_type": "code",
   "execution_count": null,
   "id": "10f87504-52ca-42f5-9304-e29b55d50a84",
   "metadata": {
    "tags": []
   },
   "outputs": [],
   "source": []
  },
  {
   "cell_type": "code",
   "execution_count": null,
   "id": "39e0532f-3ed9-438d-9798-024f618c66b2",
   "metadata": {
    "tags": []
   },
   "outputs": [],
   "source": [
    "np.median(x) # numpy median function"
   ]
  },
  {
   "cell_type": "code",
   "execution_count": null,
   "id": "90832ce6-2aab-4059-9f12-3dbb91448713",
   "metadata": {
    "tags": []
   },
   "outputs": [],
   "source": [
    "np.random.seed(42)\n",
    "data = np.random.randint(40, 100, 50).tolist()\n",
    "data.extend([10, 5, 150, 200])  # Outliers\n",
    "df = pd.DataFrame({\"Marks\": data})\n",
    "df"
   ]
  },
  {
   "cell_type": "code",
   "execution_count": null,
   "id": "659e0fcb-cccd-4e7d-ac87-786a6e6ce220",
   "metadata": {
    "tags": []
   },
   "outputs": [],
   "source": [
    "mean_with_outlier = df[\"Marks\"].mean()\n",
    "median_value = df[\"Marks\"].median()\n",
    "\n",
    "print(\"Mean\",mean_with_outlier)\n",
    "print(\"Median\",median_value)"
   ]
  },
  {
   "cell_type": "code",
   "execution_count": null,
   "id": "782253d3-a418-46d1-8f78-ba0be78e71f8",
   "metadata": {
    "tags": []
   },
   "outputs": [],
   "source": [
    "mean_value = df[\"Marks\"].mean()\n",
    "median_value = df[\"Marks\"].median()\n",
    "\n",
    "plt.figure(figsize=(6, 4))\n",
    "sns.boxplot(y=df[\"Marks\"], color=\"lightblue\", width=0.3)\n",
    "\n",
    "# Mean aur Median ko plot karo\n",
    "plt.axhline(mean_value, color='red', linestyle='dashed', linewidth=2, label=\"Mean\")\n",
    "plt.axhline(median_value, color='green', linestyle='dashed', linewidth=2, label=\"Median\")\n",
    "\n",
    "# Labels aur Title\n",
    "plt.legend()\n",
    "plt.title(\"Box Plot: Mean vs Median with Outliers\")\n",
    "plt.ylabel(\"Marks\")\n",
    "plt.show()"
   ]
  },
  {
   "cell_type": "markdown",
   "id": "f617e9db-30de-44c3-ab04-616995ba6a75",
   "metadata": {},
   "source": [
    "<body style=\"font-family: Sans-serif;\">\n",
    "    <div style=\"color: black; font-size: 18px; font-style: oblique; text-shadow: 0 0 3px white, 0 0 1px black; padding: 20px;\">\n",
    "        <ul>\n",
    "            <li><b>Box Plot: Mean vs Median with Outliers</b>\n",
    "                <ul>\n",
    "                    <li>Yeh box plot data ka distribution aur outliers ko dikhata hai.</li>\n",
    "                    <li>Is plot mein <b>Mean</b> aur <b>Median</b> ko compare kiya gaya hai aur outliers ko bhi highlight kiya gaya hai.</li>\n",
    "                    <li>Red Dashed Line: <b>Mean</b> ko represent karti hai aur Green Dashed Line: <b>Median</b> ko represent karti hai.</li>\n",
    "                    <li>Is plot mein extreme outliers (10, 5, 150, 200) dikh rahe hain jo box ke bahar hain.</li><br>\n",
    "                </ul>\n",
    "            </li>\n",
    "            <ul><b>🟥 Red Dashed Line (Mean)</b>\n",
    "                <ul>\n",
    "                    <li>Red dashed line dikhati hai ke <b>Mean</b> outliers ki wajah se shift ho gaya hai.</li>\n",
    "                    <li>Extreme values (5, 10, 150, 200) Mean ko upward shift kar rahi hain.</li>\n",
    "                </ul>\n",
    "            </ul><br>\n",
    "            <ul><b>🟩 Green Dashed Line (Median)</b>\n",
    "                <ul>\n",
    "                    <li>Green dashed line <b>Median</b> ko represent karti hai jo data ke center ke kareeb hota hai.</li>\n",
    "                    <li>Median outliers se zyada affect nahi hota aur stable rehta hai.</li>\n",
    "                </ul>\n",
    "            </ul><br>\n",
    "            <ul><b>📌 Observations:</b>\n",
    "                <ul>\n",
    "                    <li><b>Mean (Red Line)</b> outliers ki wajah se shift ho gaya hai.</li>\n",
    "                    <li><b>Median (Green Line)</b> stable hai aur outliers ka asar nahi hua.</li>\n",
    "                    <li>Outliers (10, 5, 150, 200) clearly box plot ke bahar dikhaye gaye hain.</li>\n",
    "                    <li>Agar outliers ko hata diya jaye, to Mean aur Median ek dusre ke kareeb aajayenge.</li>\n",
    "                </ul>\n",
    "            </ul>\n",
    "        </ul>\n",
    "    </div><hr>\n",
    "</body>"
   ]
  },
  {
   "cell_type": "code",
   "execution_count": null,
   "id": "a4d306de-e1d5-4da9-bf58-e79854bc6cd0",
   "metadata": {
    "tags": []
   },
   "outputs": [],
   "source": [
    "import matplotlib.patches as mpatches"
   ]
  },
  {
   "cell_type": "code",
   "execution_count": null,
   "id": "a5a29af9-3a58-4f8a-9921-ed0d2f8771b7",
   "metadata": {
    "tags": []
   },
   "outputs": [],
   "source": [
    "mean_with_outlier = df[\"Marks\"].mean()\n",
    "median_with_outlier = df[\"Marks\"].median()\n",
    "\n",
    "Q1 = df[\"Marks\"].quantile(0.25)\n",
    "Q3 = df[\"Marks\"].quantile(0.75)\n",
    "IQR = Q3 - Q1\n",
    "lower_bound = Q1 - 1.5 * IQR\n",
    "upper_bound = Q3 + 1.5 * IQR\n",
    "\n",
    "df_mean_filtered = df[(df[\"Marks\"] >= lower_bound) & (df[\"Marks\"] <= upper_bound)]\n",
    "\n",
    "mean_without_outlier = df_mean_filtered[\"Marks\"].mean()\n",
    "median_without_outlier_mean_filtered = df_mean_filtered[\"Marks\"].median()\n",
    "\n",
    "median = df[\"Marks\"].median()\n",
    "MAD = np.median(np.abs(df[\"Marks\"] - median))  # Median Absolute Deviation\n",
    "threshold = 3  # Common MAD threshold for outliers\n",
    "\n",
    "lower_bound_mad = median - (threshold * MAD)\n",
    "upper_bound_mad = median + (threshold * MAD)\n",
    "\n",
    "df_median_filtered = df[(df[\"Marks\"] >= lower_bound_mad) & (df[\"Marks\"] <= upper_bound_mad)]\n",
    "mean_without_outlier_median_filtered = df_median_filtered[\"Marks\"].mean()\n",
    "median_without_outlier = df_median_filtered[\"Marks\"].median()\n",
    "\n",
    "### 📊 Bar Chart for Comparison\n",
    "plt.figure(figsize=(10, 6))\n",
    "bar_width = 0.3\n",
    "\n",
    "# Bar Plot\n",
    "plt.bar([0, 1, 2], [mean_with_outlier, mean_without_outlier, mean_without_outlier_median_filtered], \n",
    "        width=bar_width, color=[\"red\", \"green\", \"purple\"], label=\"Mean\")\n",
    "\n",
    "plt.bar([0 + bar_width, 1 + bar_width, 2 + bar_width], \n",
    "        [median_with_outlier, median_without_outlier_mean_filtered, median_without_outlier], \n",
    "        width=bar_width, color=[\"blue\", \"orange\", \"brown\"], label=\"Median\")\n",
    "\n",
    "# Bars ke upar values likhne ke liye\n",
    "for i, v in enumerate([mean_with_outlier, mean_without_outlier, mean_without_outlier_median_filtered]):\n",
    "    plt.text(i, v + 1, f\"{v:.2f}\", ha=\"center\", fontsize=10, color=\"black\", fontweight=\"bold\")\n",
    "\n",
    "for i, v in enumerate([median_with_outlier, median_without_outlier_mean_filtered, median_without_outlier]):\n",
    "    plt.text(i + bar_width, v + 1, f\"{v:.2f}\", ha=\"center\", fontsize=10, color=\"black\", fontweight=\"bold\")\n",
    "\n",
    "# Labels aur Title\n",
    "plt.title(\"Comparison: Mean vs Median (Outlier Removal Techniques)\")\n",
    "plt.ylabel(\"Marks\")\n",
    "plt.xticks([0.25, 1.25, 2.25], [\"With Outliers\", \"IQR Filtered\", \"MAD Filtered\"])\n",
    "plt.ylim(min(df_median_filtered[\"Marks\"]) - 5, max(df[\"Marks\"]) + 10)  \n",
    "\n",
    "# Custom Legend\n",
    "red_patch = mpatches.Patch(color='red', label='Mean (With Outliers)')\n",
    "green_patch = mpatches.Patch(color='green', label='Mean (IQR Filtered)')\n",
    "purple_patch = mpatches.Patch(color='purple', label='Mean (MAD Filtered)')\n",
    "blue_patch = mpatches.Patch(color='blue', label='Median (With Outliers)')\n",
    "orange_patch = mpatches.Patch(color='orange', label='Median (IQR Filtered)')\n",
    "brown_patch = mpatches.Patch(color='brown', label='Median (MAD Filtered)')\n",
    "plt.legend(handles=[red_patch, green_patch, purple_patch, blue_patch, orange_patch, brown_patch])\n",
    "\n",
    "# Show Chart\n",
    "plt.show()\n"
   ]
  },
  {
   "cell_type": "markdown",
   "id": "d584d079-6e62-4176-b0fa-b7cc978c2d52",
   "metadata": {},
   "source": [
    "<html lang=\"en\">\n",
    "<body style=\"font-family: sans-serif; background-color: #f5f5f5; padding: 20px;\">\n",
    "    <div style=\"max-width: 800px; margin: auto; background: white; padding: 20px; border-radius: 10px; \n",
    "                box-shadow: 0 0 10px rgba(0, 0, 0, 0.1);\">\n",
    "        <h2 style=\"color: #333; text-align: center;\">📊 Mean vs Median: Outliers Ka Effect</h2>\n",
    "        <ul style=\"font-size: 18px; line-height: 1.6;\">\n",
    "            <li><b>1️⃣ Outliers Kya Hain?</b>\n",
    "                <ul>\n",
    "                    <li>Outliers wo extreme values hain jo data se bohot alag hoti hain.</li>\n",
    "                    <li>Ye Mean ko distort kar sakti hain aur data ka asli trend bigaad sakti hain.</li>\n",
    "                </ul>\n",
    "            </li><br>\n",
    "            <li><b>2️⃣ IQR Method: Outliers Hatane Ka Tareeqa</b>\n",
    "                <ul>\n",
    "                    <li>IQR ka full form hai <b>Interquartile Range</b>.</li>\n",
    "                    <li>Ye method lower aur upper bounds calculate karta hai aur jo values us range se bahar hoti hain, unko hata deta hai.</li>\n",
    "                    <li>⏳ <b>Pros:</b> Simple aur effective, small datasets ke liye best.</li>\n",
    "                    <li>⚠️ <b>Cons:</b> Agar data highly skewed ho, to ye bhi biased ho sakta hai.</li>\n",
    "                </ul>\n",
    "            </li><br>\n",
    "            <li><b>3️⃣ MAD Method: Outliers Ko Handle Karne Ka Dusra Tareeqa</b>\n",
    "                <ul>\n",
    "                    <li>MAD ka full form hai <b>Median Absolute Deviation</b>.</li>\n",
    "                    <li>Ye method Median ka use karta hai, jo outliers se kam effect hota hai.</li>\n",
    "                    <li>⏳ <b>Pros:</b> Large datasets aur skewed data ke liye zyada reliable hai.</li>\n",
    "                    <li>⚠️ <b>Cons:</b> Computation zyada hoti hai, chhoti datasets me zaroori nahi best ho.</li>\n",
    "                </ul>\n",
    "            </li><br>\n",
    "            <li><b>📌 Conclusion:</b>\n",
    "                <ul>\n",
    "                    <li>Agar dataset normal hai, to <b>IQR method</b> sahi hai.</li>\n",
    "                    <li>Agar dataset skewed hai ya outliers bohot zyada hain, to <b>MAD method</b> better perform karega.</li>\n",
    "                    <li>📊 Charts aur graphs se outliers ko pehle visualize karna zaroori hai.</li>\n",
    "                </ul>\n",
    "            </li>\n",
    "        </ul>\n",
    "    </div><hr>\n",
    "</body>\n",
    "</html>"
   ]
  },
  {
   "cell_type": "markdown",
   "id": "67f3e46a-1ca8-4e02-9a4e-5d49c6907972",
   "metadata": {},
   "source": [
    "<body style=\"font-family: Sans-serif;\">\n",
    "    <div style=\"color: black; font-size: 18px; font-style: oblique; text-shadow: 0 0 3px white, 0 0 1px black; padding: 20px;\">\n",
    "       Median ko kyu use kiya jaye jab hamare paas mean hai?\n",
    "<ul>Agar data normal distribution follow kar raha ho, to mean aur median ka result same hota hai.\n",
    "</div>\n",
    "</body>"
   ]
  },
  {
   "cell_type": "code",
   "execution_count": null,
   "id": "ba7b703c-2fbc-4e1a-a0a5-7372aa4737d3",
   "metadata": {
    "tags": []
   },
   "outputs": [],
   "source": [
    "x = [1,2,3,4]\n",
    "sns.histplot(x, kde=True, bins=len(x), color='red')  # Histogram + KDE\n",
    "plt.show()"
   ]
  },
  {
   "cell_type": "code",
   "execution_count": null,
   "id": "a61f4ae5-7879-45fe-858a-95e7bcdf3395",
   "metadata": {
    "tags": []
   },
   "outputs": [],
   "source": [
    "np.mean(x)"
   ]
  },
  {
   "cell_type": "code",
   "execution_count": null,
   "id": "0d194623-3276-4757-817f-caa7333a4bfa",
   "metadata": {
    "tags": []
   },
   "outputs": [],
   "source": [
    "np.median(x)"
   ]
  },
  {
   "cell_type": "markdown",
   "id": "99552b3a-7cf0-4e2d-9a5a-fec424c915b1",
   "metadata": {},
   "source": [
    "<body style=\"font-family: Sans-serif;\">\n",
    "    <div style=\"color: black; font-size: 18px; font-style: oblique; text-shadow: 0 0 3px white, 0 0 1px black; padding: 20px;\">\n",
    "    Lekin agar data normal distribution follow nahi kar raha, yani skewed hai, to agar mean lein to galat result aa sakta hai.\n",
    "\n",
    "</div>\n",
    "</body>"
   ]
  },
  {
   "cell_type": "code",
   "execution_count": null,
   "id": "19797e17-0e8b-4f12-8f95-63466fbc80ff",
   "metadata": {
    "tags": []
   },
   "outputs": [],
   "source": [
    "x = [6,1,2,3]\n",
    "sns.histplot(x, kde=True, bins=len(x), color='red')  # Histogram + KDE\n",
    "plt.show()"
   ]
  },
  {
   "cell_type": "markdown",
   "id": "e8477de7-ef24-4483-b3ec-837317d2d273",
   "metadata": {},
   "source": [
    "<body style=\"font-family: Sans-serif;\">\n",
    "    <div style=\"color: black; font-size: 18px; font-style: oblique; text-shadow: 0 0 3px white, 0 0 1px black; padding: 20px;\">\n",
    "    Is situation mein median lena best hota hai, kyunki median extreme values (outliers) se affect nahi hota.<br>\n",
    "</div>\n",
    "</body>"
   ]
  },
  {
   "cell_type": "code",
   "execution_count": null,
   "id": "801eea29-438d-4d6b-95e3-c55de7621611",
   "metadata": {
    "tags": []
   },
   "outputs": [],
   "source": [
    "np.mean(x)"
   ]
  },
  {
   "cell_type": "code",
   "execution_count": null,
   "id": "dadfe383-5a6a-4d00-b973-d5c095369731",
   "metadata": {
    "tags": []
   },
   "outputs": [],
   "source": [
    "np.median(x)"
   ]
  },
  {
   "cell_type": "markdown",
   "id": "4340091a-412f-481b-b5f9-79ad084b1d6d",
   "metadata": {},
   "source": [
    "<body style=\"font-family: Sans-serif;\">\n",
    "    <div style=\"color: black; font-size: 18px; font-style: oblique; text-shadow: 0 0 3px white, 0 0 1px black; padding: 20px;\">\n",
    "        <ul><ul><li>3. Mode (Most Frequent Value)\n",
    "            <ul>\n",
    "                Mode wo value hai jo <b>sabse zyada baar repeat hoti hai</b>.<br>\n",
    "                Yeh data ka <b>most common</b> element hota hai.<br><br>\n",
    "                🔹 Steps:\n",
    "                <ul>\n",
    "                    <li>Data ko check karo ke kaunsi value <b>sabse zyada</b> baar aayi hai.</li>\n",
    "                    <li>Agar multiple values barabar repeat ho rahi hain, to multiple modes ho sakte hain.</li>\n",
    "                    <li>Agar koi value repeat nahi ho rahi, to \"No Mode\" hota hai.</li>\n",
    "                </ul>\n",
    "                🔹 Example: \n",
    "                <ul>\n",
    "                    Marks: [10, 20, 20, 30, 40, 40, 40, 50]<br>\n",
    "                    <b>Mode = 40</b> (Kyunki yeh sabse zyada baar aaya hai)\n",
    "                </ul>\n",
    "                <ul><br>\n",
    "                    Marks: [5, 10, 10, 15, 15, 20, 25]<br>\n",
    "                    <b>Modes = 10, 15</b> (Dono barabar repeat hue hain, so it's bimodal)\n",
    "                </ul>\n",
    "                <ul><br>\n",
    "                    Marks: [5, 8, 11, 14, 17]<br>\n",
    "                    <b>No Mode</b> (Koi bhi value repeat nahi ho rahi)\n",
    "                </ul>\n",
    "            </ul>\n",
    "        </ul></ul>\n",
    "    </div>\n",
    "</body>\n"
   ]
  },
  {
   "cell_type": "markdown",
   "id": "59fa00ee-0070-4d8a-b295-e402bd21f5d3",
   "metadata": {},
   "source": [
    "<body style=\"font-family: Sans-serif;\">\n",
    "    <div style=\"color: black; font-size: 18px; font-style: oblique; text-shadow: 0 0 3px white, 0 0 1px black; padding: 20px;\">Single Mode Example\n",
    "    </div>\n",
    "</body>\n"
   ]
  },
  {
   "cell_type": "code",
   "execution_count": null,
   "id": "95bf88ea-0b38-46b7-8b14-b446946e2b8b",
   "metadata": {
    "tags": []
   },
   "outputs": [],
   "source": [
    "data = pd.Series([10, 20, 20, 30, 40, 40, 40, 50])\n",
    "data"
   ]
  },
  {
   "cell_type": "code",
   "execution_count": null,
   "id": "c04dbe69-8cf2-4691-92d9-b200b6de440c",
   "metadata": {
    "tags": []
   },
   "outputs": [],
   "source": [
    "mode_value = data.mode()\n",
    "print(\"Mode:\", mode_value.tolist())"
   ]
  },
  {
   "cell_type": "markdown",
   "id": "e8705fd2-fbbd-49b5-9d9b-0c9d67b5b9af",
   "metadata": {},
   "source": [
    "<body style=\"font-family: Sans-serif;\">\n",
    "    <div style=\"color: black; font-size: 18px; font-style: oblique; text-shadow: 0 0 3px white, 0 0 1px black; padding: 20px;\">Multiple Modes (Bimodal Data)\n",
    "    </div>\n",
    "</body>\n"
   ]
  },
  {
   "cell_type": "code",
   "execution_count": null,
   "id": "cfbbeb64-e110-40a5-bff8-de96d027f6c5",
   "metadata": {
    "tags": []
   },
   "outputs": [],
   "source": [
    "data = pd.Series([5, 10, 10, 15, 15, 20, 25])\n",
    "data"
   ]
  },
  {
   "cell_type": "code",
   "execution_count": null,
   "id": "f0651394-2b48-4365-9975-dd85ee381b88",
   "metadata": {
    "tags": []
   },
   "outputs": [],
   "source": [
    "mode_value = data.mode()\n",
    "print(\"Modes:\", mode_value.tolist())  # Output: [10, 15]"
   ]
  },
  {
   "cell_type": "markdown",
   "id": "9beb1c63-63ef-40c5-9d82-bcb2983de5f3",
   "metadata": {},
   "source": [
    "<body style=\"font-family: Sans-serif;\">\n",
    "    <div style=\"color: black; font-size: 18px; font-style: oblique; text-shadow: 0 0 3px white, 0 0 1px black; padding: 20px;\"> No Mode\n",
    "    </div>\n",
    "</body>\n"
   ]
  },
  {
   "cell_type": "code",
   "execution_count": null,
   "id": "dc150b05-0ffe-42b9-ac2c-03bd3df1772f",
   "metadata": {
    "tags": []
   },
   "outputs": [],
   "source": [
    "data = pd.Series([5, 8, 11, 14, 17])\n",
    "data"
   ]
  },
  {
   "cell_type": "code",
   "execution_count": null,
   "id": "8466f176-a8eb-47a6-8456-4391ecdb1fe7",
   "metadata": {
    "tags": []
   },
   "outputs": [],
   "source": [
    "mode_value = data.mode()\n",
    "print(\"Mode:\", mode_value.tolist())"
   ]
  },
  {
   "cell_type": "markdown",
   "id": "afaf95be-bc56-43df-865c-68bff68e4c15",
   "metadata": {},
   "source": [
    "<body style=\"font-family: Sans-serif;\">\n",
    "    <div style=\"color: black; font-size: 18px; font-style: oblique; text-shadow: 0 0 3px white, 0 0 1px black; padding: 20px;\"> Mode in a DataFrame\n",
    "    </div>\n",
    "</body>"
   ]
  },
  {
   "cell_type": "code",
   "execution_count": null,
   "id": "ec9146b9-78ed-4607-8a98-734459625523",
   "metadata": {
    "tags": []
   },
   "outputs": [],
   "source": [
    "df = pd.DataFrame({\n",
    "    'Student': ['Ali', 'Sara', 'Ali', 'Fatima', 'Usman', 'Ayesha'],\n",
    "    'Marks': [85, 90, 85, 92, 90, 85]  # 85 sabse zyada repeat ho raha hai\n",
    "})\n",
    "\n",
    "df"
   ]
  },
  {
   "cell_type": "code",
   "execution_count": null,
   "id": "6de44931-c82d-4980-ac12-86d2903cacd1",
   "metadata": {
    "tags": []
   },
   "outputs": [],
   "source": [
    "mode_value = df[['Marks','Student']].mode()\n",
    "print(\"Most Frequent Marks:\", mode_value)"
   ]
  },
  {
   "cell_type": "markdown",
   "id": "aac959e2-a9de-4a33-814a-e7de0648739a",
   "metadata": {
    "tags": []
   },
   "source": [
    "<body style=\"font-family: Arial, sans-serif; background-color: #f4f4f4; text-align: center; padding: 20px;\">\n",
    "    <h1 style=\"color: #333; font-size: 30px; text-align:center;\">📊 Mean vs Median vs Mode</h1>\n",
    "    <table style=\"width: 80%; margin: 20px auto; border-collapse: collapse; background: white; box-shadow: 0 0 15px rgba(0, 0, 0, 0.2); font-size: 20px;\">\n",
    "        <tr>\n",
    "            <th style=\"padding: 20px; border: 2px solid #ddd; background: black; color: white;\">Feature</th>\n",
    "            <th style=\"padding: 20px; border: 2px solid #ddd; background: black; color: white;\">Mean (Average)</th>\n",
    "            <th style=\"padding: 20px; border: 2px solid #ddd; background: black; color: white;\">Median (Middle Value)</th>\n",
    "            <th style=\"padding: 20px; border: 2px solid #ddd; background: black; color: white;\">Mode (Most Frequent)</th>\n",
    "        </tr>\n",
    "        <tr style=\"background: #f9f9f9;\">\n",
    "            <td style=\"padding: 20px; border: 2px solid #ddd;\"><b>Definition</b></td>\n",
    "            <td style=\"padding: 20px; border: 2px solid #ddd;\">Sab numbers ka sum aur total numbers ka division.</td>\n",
    "            <td style=\"padding: 20px; border: 2px solid #ddd;\">Sorted list ka exact middle number.</td>\n",
    "            <td style=\"padding: 20px; border: 2px solid #ddd;\">Sabse zyada baar repeat hone wala number.</td>\n",
    "        </tr>\n",
    "        <tr>\n",
    "            <td style=\"padding: 20px; border: 2px solid #ddd;\"><b>Formula</b></td>\n",
    "            <td style=\"padding: 20px; border: 2px solid #ddd;\">\n",
    "                \\[\n",
    "                \\text{Mean} = \\frac{\\sum X}{N}\n",
    "                \\]\n",
    "                <br> (Sum of all values ÷ Total count)\n",
    "            </td>\n",
    "            <td style=\"padding: 20px; border: 2px solid #ddd;\">\n",
    "                🔹 Odd Count: Median = Middle Value <br><br>\n",
    "                🔹 Even Count:<br><br>\n",
    "                \\[\n",
    "                \\frac{X_{n/2} + X_{(n/2)+1}}{2}\n",
    "                \\]\n",
    "            </td>\n",
    "            <td style=\"padding: 20px; border: 2px solid #ddd;\">\n",
    "                Mode = Most frequently occurring value(s)\n",
    "            </td>\n",
    "        </tr>\n",
    "        <tr style=\"background: #f9f9f9;\">\n",
    "            <td style=\"padding: 20px; border: 2px solid #ddd;\"><b>Example</b></td>\n",
    "            <td style=\"padding: 20px; border: 2px solid #ddd;\">\n",
    "                Data: [10, 20, 30, 40, 50] <br><br>\n",
    "                \\[\n",
    "                \\text{Mean} = \\frac{10+20+30+40+50}{5} = 30\n",
    "                \\]\n",
    "            </td>\n",
    "            <td style=\"padding: 20px; border: 2px solid #ddd;\">\n",
    "                Data: [10, 20, 30, 40, 50] <br>\n",
    "                Middle Value = 30 <br><br>\n",
    "                Data: [10, 20, 30, 40] <br>\n",
    "                \\[\n",
    "                \\text{Median} = \\frac{20 + 30}{2} = 25\n",
    "                \\]\n",
    "            </td>\n",
    "            <td style=\"padding: 20px; border: 2px solid #ddd;\">\n",
    "                Data: [10, 20, 20, 30, 40] <br>\n",
    "                Mode = 20 (kyunki ye sabse zyada repeat hua)\n",
    "            </td>\n",
    "        </tr>\n",
    "        <tr>\n",
    "            <td style=\"padding: 20px; border: 2px solid #ddd;\"><b>Use Cases</b></td>\n",
    "            <td style=\"padding: 20px; border: 2px solid #ddd;\">Financial data, Machine Learning, Temperature analysis.</td>\n",
    "            <td style=\"padding: 20px; border: 2px solid #ddd;\">Real Estate pricing, Income distribution analysis.</td>\n",
    "            <td style=\"padding: 20px; border: 2px solid #ddd;\">Market Research, NLP (Text Analysis), Most common diagnosis.</td>\n",
    "        </tr>\n",
    "        <tr style=\"background: #f9f9f9;\">\n",
    "            <td style=\"padding: 20px; border: 2px solid #ddd;\"><b>When to Use?</b></td>\n",
    "            <td style=\"padding: 20px; border: 2px solid #ddd;\">Jab outliers ka effect na ho ya continuous data ho.</td>\n",
    "            <td style=\"padding: 20px; border: 2px solid #ddd;\">Jab data skewed ho aur extreme values ka effect na ho.</td>\n",
    "            <td style=\"padding: 20px; border: 2px solid #ddd;\">Jab most common value ko identify karna ho.</td>\n",
    "        </tr>\n",
    "        <tr>\n",
    "            <td style=\"padding: 20px; border: 2px solid #ddd;\"><b>Effect of Outliers</b></td>\n",
    "            <td style=\"padding: 20px; border: 2px solid #ddd;\">Outliers Mean ko effect karte hain (ek extreme value mean change kar sakti hai).</td>\n",
    "            <td style=\"padding: 20px; border: 2px solid #ddd;\">Median outliers se affect nahi hota.</td>\n",
    "            <td style=\"padding: 20px; border: 2px solid #ddd;\">Mode sirf data ke most frequent values ko count karta hai.</td>\n",
    "        </tr>\n",
    "    </table>\n",
    "</body><hr>\n",
    "</html>"
   ]
  },
  {
   "cell_type": "markdown",
   "id": "6bc79019-e021-4d01-af8e-404a601f7131",
   "metadata": {},
   "source": [
    "<body style=\"font-family: Sans-serif;\">\n",
    "    <div style=\"color: black; font-size: 18px; font-style: oblique; text-shadow: 0 0 3px white, 0 0 1px black; padding: 20px;\">\n",
    "        Manualy Create a Function\n",
    "    </div>\n",
    "</body>"
   ]
  },
  {
   "cell_type": "code",
   "execution_count": null,
   "id": "1b279f0a-9f76-43ca-94e0-3973d3040e07",
   "metadata": {
    "tags": []
   },
   "outputs": [],
   "source": [
    "def P_numpy_like(data, p):\n",
    "    sorted_data = sorted(data)\n",
    "    n = len(sorted_data)  # N+1 ki jagah sirf N lenge\n",
    "    index = (p / 100) * (n - 1)  # Change N+1 to N-1 (like NumPy)\n",
    "\n",
    "    lower_index = int(index)\n",
    "    upper_index = lower_index + 1\n",
    "\n",
    "    if upper_index >= n:  # If index is out of range, return last value\n",
    "        return sorted_data[lower_index]\n",
    "\n",
    "    lower_value = sorted_data[lower_index]\n",
    "    upper_value = sorted_data[upper_index]\n",
    "\n",
    "    return lower_value + (index - lower_index) * (upper_value - lower_value)\n",
    "\n",
    "data = [10, 20, 30, 40, 50, 60, 70, 80, 90, 100]\n",
    "\n",
    "print(P_numpy_like(data, 25))  # 32.5 (Same as NumPy)\n",
    "print(P_numpy_like(data, 50))  # 55.0\n",
    "print(P_numpy_like(data, 75))  # 77.5\n"
   ]
  },
  {
   "cell_type": "code",
   "execution_count": null,
   "id": "c0f6b534-b246-416b-b72b-ca06c4dc47db",
   "metadata": {
    "tags": []
   },
   "outputs": [],
   "source": [
    "def P(data,p):\n",
    "    \n",
    "    sorted_data = sorted(data)\n",
    "\n",
    "    n = len(sorted_data)\n",
    "    index = (p/100) * n\n",
    "\n",
    "    if index.is_integer():\n",
    "        return sorted_data[int(index) - 1]\n",
    "\n",
    "    else:\n",
    "        lower_index = int(index)\n",
    "        upper_index = lower_index + 1\n",
    "\n",
    "        lower_value = sorted_data[lower_index]\n",
    "        upper_value = sorted_data[upper_index]\n",
    "\n",
    "        return lower_value + (index - (lower_index+1)) * (upper_value - lower_value)\n",
    "    "
   ]
  },
  {
   "cell_type": "code",
   "execution_count": null,
   "id": "ae03b15c-1570-493b-918d-0b043ec94fbe",
   "metadata": {
    "tags": []
   },
   "outputs": [],
   "source": [
    "print(P(data,25))\n",
    "print(P(data,50))\n",
    "print(P(data,75))"
   ]
  },
  {
   "cell_type": "markdown",
   "id": "08cc5d88-ade2-4fc4-8997-d7cc95038abe",
   "metadata": {},
   "source": [
    "<body style=\"font-family: Sans-serif;\">\n",
    "    <div style=\"color: black; font-size: 18px; font-style: oblique; text-shadow: 0 0 3px white, 0 0 1px black; padding: 20px;\">\n",
    "        numpy Function\n",
    "    </div>\n",
    "</body>"
   ]
  },
  {
   "cell_type": "code",
   "execution_count": null,
   "id": "dbf451dc-36ac-4fdc-95f6-e6951314f491",
   "metadata": {
    "tags": []
   },
   "outputs": [],
   "source": [
    "p25 = np.percentile(data, 25)\n",
    "p50 = np.percentile(data, 50)\n",
    "p75 = np.percentile(data, 75)\n",
    "\n",
    "print(\"25th Percentile (Q1)    :\", p25)\n",
    "print(\"50th Percentile (Median):\", p50)\n",
    "print(\"75th Percentile (Q3)    :\", p75)\n"
   ]
  },
  {
   "cell_type": "markdown",
   "id": "3455cf6a-ef45-440d-be66-d96238571dfe",
   "metadata": {},
   "source": [
    "<body style=\"font-family: Sans-serif;\">\n",
    "    <div style=\"color: black; font-size: 15px; font-style: oblique; text-shadow: 0 0 3px white, 0 0 1px black; padding: 20px;\">\n",
    "        <h3>3 IQR (Interquartile Range) Calculation</h3>\n",
    "        <p><b>IQR ko calculate karne ka formula:</b></p>\n",
    "        <pre style=\"background-color: #f4f4f4; padding: 10px; border-radius: 5px;\">\n",
    "            IQR = Q₃ - Q₁\n",
    "        </pre>\n",
    "        <h4>Q₃ aur Q₁ ki Definitions:</h4>\n",
    "        <p><b>Q₁ (First Quartile):</b> Ye data ke first 25% ko represent karta hai. Matlab, ye wo value hai jo data ko 25% tak divide karti hai. Ye median of the lower half data hoti hai.</p>\n",
    "        <p><b>Q₃ (Third Quartile):</b> Ye data ke 75% ko represent karta hai. Matlab, ye wo value hai jo data ko 75% tak divide karti hai. Ye median of the upper half data hoti hai.</p>\n",
    "<img src=\"./images/iqr.png\" style=\"width: 70%; display: block; margin-left: auto; margin-right: auto;\">\n",
    "        <h4>IQR ka use AI mein:</h4>\n",
    "        <ul>\n",
    "            <li><b>1. Outlier Detection:</b> IQR ka sabse common use outliers ko identify karna hota hai. Agar kisi data point ki value Q₁ se 1.5 times IQR kam ho ya Q₃ se 1.5 times IQR zyada ho, to usay outlier mana jata hai.\n",
    "                <ul>\n",
    "                    <li>Example: Agar IQR 10 hai, to outliers wo points hain jo Q₁ - 1.5 * 10 ya Q₃ + 1.5 * 10 ke bahar hon.</li>\n",
    "                </ul>\n",
    "            </li>\n",
    "            <li><b>2. Data Preprocessing:</b> Outliers ko detect karke remove karna ya handle karna machine learning models ko better bana sakta hai. Agar outliers ko ignore kiya jaye to models overfitting ya underfitting ka shikar ho sakte hain.</li>\n",
    "            <li><b>3. Feature Scaling:</b> Agar aap kisi machine learning model mein features ko scale kar rahe hain, to IQR ko use kar ke data ko normalize ya standardize kiya ja sakta hai.</li>\n",
    "        </ul>\n",
    "        <h4>Example AI Use Case:</h4>\n",
    "        <ul>\n",
    "            <li>Agar aap customer purchase data analyze kar rahe hain aur IQR se outliers find kar rahe hain, to aap un unusual purchases ko identify kar sakte hain jo kisi specific campaign ya promotional activity ki wajah se hue ho.</li>\n",
    "        </ul>\n",
    "        <h4>IQR ka Importance:</h4>\n",
    "        <p>IQR se aap data ki spread aur distribution ko samajh sakte hain aur outliers ko identify kar ke model ki accuracy improve kar sakte hain.</p>\n",
    "    </div>\n",
    "</body>\n"
   ]
  },
  {
   "cell_type": "code",
   "execution_count": null,
   "id": "18b2f9fe-9c4e-4df9-aef3-4505ca583800",
   "metadata": {
    "tags": []
   },
   "outputs": [],
   "source": [
    "np.random.seed(42)\n",
    "data = np.random.randint(40, 100, 50).tolist()\n",
    "data.extend([10, 5, 150, 200])  # Outliers\n",
    "df = pd.DataFrame({\"Marks\": data})\n",
    "df"
   ]
  },
  {
   "cell_type": "markdown",
   "id": "a09b82c9-95d3-4c37-b961-504d862b578f",
   "metadata": {
    "tags": []
   },
   "source": [
    "<img src=\"./images/iqr.png\" style=\"width: 80%; display: block; margin-left: auto; margin-right: auto;\">"
   ]
  },
  {
   "cell_type": "code",
   "execution_count": null,
   "id": "fc82b048-9079-4ab2-8c86-96a4d93433fa",
   "metadata": {
    "tags": []
   },
   "outputs": [],
   "source": [
    "Q1 = df[\"Marks\"].quantile(0.25)\n",
    "Q1"
   ]
  },
  {
   "cell_type": "code",
   "execution_count": null,
   "id": "7d8da8bf-134e-41ae-b44b-008f70dba6f6",
   "metadata": {
    "tags": []
   },
   "outputs": [],
   "source": [
    "Q3 = df[\"Marks\"].quantile(0.75)\n",
    "Q3"
   ]
  },
  {
   "cell_type": "code",
   "execution_count": null,
   "id": "ac4d16ae-0703-4213-95ca-48be6fc2d643",
   "metadata": {
    "tags": []
   },
   "outputs": [],
   "source": [
    "IQR = Q3 - Q1\n",
    "IQR"
   ]
  },
  {
   "cell_type": "code",
   "execution_count": null,
   "id": "4fab294f-f40c-4d0d-9ca6-1380d1b240d7",
   "metadata": {
    "tags": []
   },
   "outputs": [],
   "source": [
    "lower_bound = Q1 - 1.5 * IQR\n",
    "upper_bound = Q3 + 1.5 * IQR\n",
    "\n",
    "print(\"Minimum Outlier\",lower_bound)\n",
    "print(\"Maximum Outlier\",upper_bound)"
   ]
  },
  {
   "cell_type": "code",
   "execution_count": null,
   "id": "9e2cd2bd-96d6-4764-9890-e756ccce5b64",
   "metadata": {
    "tags": []
   },
   "outputs": [],
   "source": [
    "plt.figure(figsize=(8, 6))\n",
    "sns.boxplot(x=df[\"Marks\"])\n",
    "\n",
    "plt.title('Boxplot of Marks with Outliers')\n",
    "plt.show()"
   ]
  },
  {
   "cell_type": "code",
   "execution_count": null,
   "id": "bd6a151f-61f0-494c-969b-da207954bd62",
   "metadata": {},
   "outputs": [],
   "source": []
  }
 ],
 "metadata": {
  "kernelspec": {
   "display_name": "Python 3 (ipykernel)",
   "language": "python",
   "name": "python3"
  },
  "language_info": {
   "codemirror_mode": {
    "name": "ipython",
    "version": 3
   },
   "file_extension": ".py",
   "mimetype": "text/x-python",
   "name": "python",
   "nbconvert_exporter": "python",
   "pygments_lexer": "ipython3",
   "version": "3.10.12"
  }
 },
 "nbformat": 4,
 "nbformat_minor": 5
}
