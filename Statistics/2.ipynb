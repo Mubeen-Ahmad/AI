{
 "cells": [
  {
   "cell_type": "markdown",
   "id": "0dea34cb-c830-4b06-85ef-f21f356076bb",
   "metadata": {},
   "source": [
    "<h1 style=\"text-align:center; color:#005bbd; font-size:20px; font-family:Sans-serif; font-style: oblique; text-shadow: 0 0 3px white, 0 0 1px Black;\">\n",
    "   Measures of Dispersion \n",
    "</h1>"
   ]
  },
  {
   "cell_type": "markdown",
   "id": "9226c50e-51ae-41ac-b93d-0aa74ad9aeb8",
   "metadata": {},
   "source": [
    "<body style=\"font-family: Sans-serif;\">\n",
    "    <div style=\"color: black; font-size: 18px; font-style: oblique; text-shadow: 0 0 3px white, 0 0 1px black; padding: 20px;\">\n",
    "       <ul>\n",
    "           <ul>Measures of Dispersion ka matlab hai data ki variability ya spread ko measure karna. \n",
    "               <br>Yeh batata hai ke ek dataset ke values kis had tak average se dur hain.\n",
    "               <br>Yeh cheez statistics aur data analysis mein bohot zaroori hoti hai, kyunki sirf mean, median, aur mode se humein data ki variability ka pata nahi chalta.\n",
    "               <br><br>Major Measures of Dispersion<br><br>\n",
    "               <ol>\n",
    "                   <li>Range \\[\\text{Range} = \\text{Max}(X) - \\text{Min}(X)\\]</li>\n",
    "                   <li>Percentage \\[\n",
    "\\text{Percentage} = \\left( \\frac{\\text{Obtained Marks}}{\\text{Total Marks}} \\right) \\times 100 \\]</li>\n",
    "                   <li>Percentile (Sabse zyada baar repeat hone wali value)</li>\n",
    "               </ul>\n",
    "           </ul>\n",
    "        </ul>\n",
    "</div>\n",
    "</body>"
   ]
  },
  {
   "cell_type": "markdown",
   "id": "4ab2286b-945f-4ce7-b5a9-686615f268f4",
   "metadata": {},
   "source": [
    "<body style=\"font-family: Sans-serif;\">\n",
    "    <div style=\"color: black; font-size: 18px; font-style: oblique; text-shadow: 0 0 3px white, 0 0 1px black; padding: 20px;\">1 Range\n",
    "        <ul>Range Data ka max aur min difference batata hai.<br>\n",
    "            Feature scaling aur anomaly detection mein bhot helpful hy</ul>\n",
    "        \\[\\text{Range} = \\text{Max}(X) - \\text{Min}(X)\\]\n",
    "        \\(\\text{Max}(X)\\) data set \\(X\\) ka maximum value hai.<br>\n",
    "        \\(\\text{Min}(X)\\) data set \\(X\\) ka minimum value hai.\n",
    "    </div>\n",
    "</body>\n"
   ]
  },
  {
   "cell_type": "code",
   "execution_count": 58,
   "id": "6a4b3247-60e0-40ea-a5db-b92ed3ffa67f",
   "metadata": {
    "tags": []
   },
   "outputs": [],
   "source": [
    "import pandas as pd\n",
    "import numpy as np\n",
    "import matplotlib.pyplot as plt\n",
    "import matplotlib.patches as mpatches\n",
    "import seaborn as sns"
   ]
  },
  {
   "cell_type": "code",
   "execution_count": 4,
   "id": "fc281688-5389-4aa2-aca1-fa99b1e8f707",
   "metadata": {
    "tags": []
   },
   "outputs": [
    {
     "data": {
      "text/html": [
       "<div>\n",
       "<style scoped>\n",
       "    .dataframe tbody tr th:only-of-type {\n",
       "        vertical-align: middle;\n",
       "    }\n",
       "\n",
       "    .dataframe tbody tr th {\n",
       "        vertical-align: top;\n",
       "    }\n",
       "\n",
       "    .dataframe thead th {\n",
       "        text-align: right;\n",
       "    }\n",
       "</style>\n",
       "<table border=\"1\" class=\"dataframe\">\n",
       "  <thead>\n",
       "    <tr style=\"text-align: right;\">\n",
       "      <th></th>\n",
       "      <th>Feature</th>\n",
       "    </tr>\n",
       "  </thead>\n",
       "  <tbody>\n",
       "    <tr>\n",
       "      <th>0</th>\n",
       "      <td>37.454012</td>\n",
       "    </tr>\n",
       "    <tr>\n",
       "      <th>1</th>\n",
       "      <td>95.071431</td>\n",
       "    </tr>\n",
       "    <tr>\n",
       "      <th>2</th>\n",
       "      <td>73.199394</td>\n",
       "    </tr>\n",
       "    <tr>\n",
       "      <th>3</th>\n",
       "      <td>59.865848</td>\n",
       "    </tr>\n",
       "    <tr>\n",
       "      <th>4</th>\n",
       "      <td>15.601864</td>\n",
       "    </tr>\n",
       "    <tr>\n",
       "      <th>...</th>\n",
       "      <td>...</td>\n",
       "    </tr>\n",
       "    <tr>\n",
       "      <th>95</th>\n",
       "      <td>49.379560</td>\n",
       "    </tr>\n",
       "    <tr>\n",
       "      <th>96</th>\n",
       "      <td>52.273283</td>\n",
       "    </tr>\n",
       "    <tr>\n",
       "      <th>97</th>\n",
       "      <td>42.754102</td>\n",
       "    </tr>\n",
       "    <tr>\n",
       "      <th>98</th>\n",
       "      <td>2.541913</td>\n",
       "    </tr>\n",
       "    <tr>\n",
       "      <th>99</th>\n",
       "      <td>10.789143</td>\n",
       "    </tr>\n",
       "  </tbody>\n",
       "</table>\n",
       "<p>100 rows × 1 columns</p>\n",
       "</div>"
      ],
      "text/plain": [
       "      Feature\n",
       "0   37.454012\n",
       "1   95.071431\n",
       "2   73.199394\n",
       "3   59.865848\n",
       "4   15.601864\n",
       "..        ...\n",
       "95  49.379560\n",
       "96  52.273283\n",
       "97  42.754102\n",
       "98   2.541913\n",
       "99  10.789143\n",
       "\n",
       "[100 rows x 1 columns]"
      ]
     },
     "execution_count": 4,
     "metadata": {},
     "output_type": "execute_result"
    }
   ],
   "source": [
    "np.random.seed(42)\n",
    "data = np.random.rand(100) * 100  # Random data between 0 and 100\n",
    "\n",
    "# 2. Creating a pandas DataFrame\n",
    "df = pd.DataFrame(data, columns=['Feature'])\n",
    "df"
   ]
  },
  {
   "cell_type": "code",
   "execution_count": 5,
   "id": "985fa1f2-b2bf-47dd-a5ab-346f94d60910",
   "metadata": {
    "tags": []
   },
   "outputs": [
    {
     "data": {
      "text/plain": [
       "98.1364819476915"
      ]
     },
     "execution_count": 5,
     "metadata": {},
     "output_type": "execute_result"
    }
   ],
   "source": [
    "data_range = df['Feature'].max() - df['Feature'].min()\n",
    "data_range"
   ]
  },
  {
   "cell_type": "code",
   "execution_count": 6,
   "id": "b3427c9e-f784-44b4-b5fa-14870e98d3db",
   "metadata": {
    "tags": []
   },
   "outputs": [
    {
     "data": {
      "text/html": [
       "<div>\n",
       "<style scoped>\n",
       "    .dataframe tbody tr th:only-of-type {\n",
       "        vertical-align: middle;\n",
       "    }\n",
       "\n",
       "    .dataframe tbody tr th {\n",
       "        vertical-align: top;\n",
       "    }\n",
       "\n",
       "    .dataframe thead th {\n",
       "        text-align: right;\n",
       "    }\n",
       "</style>\n",
       "<table border=\"1\" class=\"dataframe\">\n",
       "  <thead>\n",
       "    <tr style=\"text-align: right;\">\n",
       "      <th></th>\n",
       "      <th>Feature</th>\n",
       "    </tr>\n",
       "  </thead>\n",
       "  <tbody>\n",
       "    <tr>\n",
       "      <th>0</th>\n",
       "      <td>0.376025</td>\n",
       "    </tr>\n",
       "    <tr>\n",
       "      <th>1</th>\n",
       "      <td>0.963140</td>\n",
       "    </tr>\n",
       "    <tr>\n",
       "      <th>2</th>\n",
       "      <td>0.740267</td>\n",
       "    </tr>\n",
       "    <tr>\n",
       "      <th>3</th>\n",
       "      <td>0.604399</td>\n",
       "    </tr>\n",
       "    <tr>\n",
       "      <th>4</th>\n",
       "      <td>0.153354</td>\n",
       "    </tr>\n",
       "    <tr>\n",
       "      <th>...</th>\n",
       "      <td>...</td>\n",
       "    </tr>\n",
       "    <tr>\n",
       "      <th>95</th>\n",
       "      <td>0.497545</td>\n",
       "    </tr>\n",
       "    <tr>\n",
       "      <th>96</th>\n",
       "      <td>0.527032</td>\n",
       "    </tr>\n",
       "    <tr>\n",
       "      <th>97</th>\n",
       "      <td>0.430033</td>\n",
       "    </tr>\n",
       "    <tr>\n",
       "      <th>98</th>\n",
       "      <td>0.020275</td>\n",
       "    </tr>\n",
       "    <tr>\n",
       "      <th>99</th>\n",
       "      <td>0.104313</td>\n",
       "    </tr>\n",
       "  </tbody>\n",
       "</table>\n",
       "<p>100 rows × 1 columns</p>\n",
       "</div>"
      ],
      "text/plain": [
       "     Feature\n",
       "0   0.376025\n",
       "1   0.963140\n",
       "2   0.740267\n",
       "3   0.604399\n",
       "4   0.153354\n",
       "..       ...\n",
       "95  0.497545\n",
       "96  0.527032\n",
       "97  0.430033\n",
       "98  0.020275\n",
       "99  0.104313\n",
       "\n",
       "[100 rows x 1 columns]"
      ]
     },
     "execution_count": 6,
     "metadata": {},
     "output_type": "execute_result"
    }
   ],
   "source": [
    "# 4. Scaling the Data (Feature Scaling)\n",
    "df_scaled = (df - df.min()) / (df.max() - df.min())\n",
    "df_scaled"
   ]
  },
  {
   "cell_type": "code",
   "execution_count": 7,
   "id": "2c475073-53dd-4b48-b9c8-b565810625df",
   "metadata": {
    "tags": []
   },
   "outputs": [
    {
     "name": "stdout",
     "output_type": "stream",
     "text": [
      "Original Data Range: 98.1364819476915\n",
      "Scaled Data Range: 1.0\n"
     ]
    }
   ],
   "source": [
    "original_range = df['Feature'].max() - df['Feature'].min()\n",
    "scaled_range = df_scaled['Feature'].max() - df_scaled['Feature'].min()\n",
    "\n",
    "print(f\"Original Data Range: {original_range}\")\n",
    "print(f\"Scaled Data Range: {scaled_range}\")"
   ]
  },
  {
   "cell_type": "code",
   "execution_count": 9,
   "id": "be534ff8-fdef-4aca-a469-1ed7935b4e7b",
   "metadata": {
    "tags": []
   },
   "outputs": [
    {
     "data": {
      "image/png": "[encoded data removed]",
      "text/plain": [
       "<Figure size 1400x600 with 2 Axes>"
      ]
     },
     "metadata": {},
     "output_type": "display_data"
    }
   ],
   "source": [
    "fig, ax = plt.subplots(1, 2, figsize=(14, 6))\n",
    "\n",
    "# Before Scaling (Raw data)\n",
    "ax[0].hist(df['Feature'], bins=20, color='skyblue', edgecolor='black')\n",
    "ax[0].set_title('Before Feature Scaling')\n",
    "ax[0].set_xlabel('Feature Values')\n",
    "ax[0].set_ylabel('Frequency')\n",
    "\n",
    "# After Scaling (Scaled data)\n",
    "ax[1].hist(df_scaled['Feature'], bins=20, color='salmon', edgecolor='black')\n",
    "ax[1].set_title('After Feature Scaling (0 to 1 Range)')\n",
    "ax[1].set_xlabel('Scaled Feature Values')\n",
    "ax[1].set_ylabel('Frequency')\n",
    "\n",
    "# Adding grids to see distribution more clearly\n",
    "ax[0].grid(True, axis='y', linestyle='--', alpha=1)\n",
    "ax[1].grid(True, axis='y', linestyle='--', alpha=1)\n",
    "\n",
    "plt.tight_layout()\n",
    "plt.show()"
   ]
  },
  {
   "cell_type": "markdown",
   "id": "a1a8c464-2750-4925-8cc3-1627c7b1ce4a",
   "metadata": {},
   "source": [
    "<body style=\"font-family: Sans-serif;\">\n",
    "    <div style=\"color: black; font-size: 15px; font-style: oblique; text-shadow: 0 0 3px white, 0 0 1px black; padding: 20px;\">\n",
    "        <div style=\"margin-bottom: 20px;\">\n",
    "            <p style=\"color: #555; font-size: 20px;\">\n",
    "                Is case mein hum <strong>Min-Max Scaling</strong> ka use kar rahe hain data ko normalize karne ke liye.\n",
    "            </p>\n",
    "        </div>\n",
    "        <div style=\"margin-bottom: 10px;\">\n",
    "            <h2 style=\"color: #444;\">Before aur After Feature Scaling</h2>\n",
    "            <p style=\"color: #555; font-size: 20px;\">\n",
    "                Pehla plot raw data ko dikhata hai, jisme values wide range mein scattered hain.\n",
    "                <br>Dosra plot wo data dikhata hai jo Min-Max Scaling ke baad normalize ho gaya hai, jisme sab values 0 aur 1 ke beech hoti hain.\n",
    "            </p>\n",
    "        </div>\n",
    "    </div>\n",
    "</body><hr>\n",
    "</html>\n"
   ]
  },
  {
   "cell_type": "markdown",
   "id": "4088f43b-103f-46f4-9ff5-951f02ca262c",
   "metadata": {},
   "source": [
    "<body style=\"font-family: Sans-serif;\">\n",
    "    <div style=\"color: black; font-size: 18px; font-style: oblique; text-shadow: 0 0 3px white, 0 0 1px black; padding: 20px;\">Percentage\n",
    "        <ul>2 Percentage ka matlab hota hai koi value total ka kitna % hai.\n",
    "            <br>Agar total marks 100 hain aur kisi student ke 60 marks hain, to:<br><br>  \\[\n",
    "\\text{Percentage} = \\left( \\frac{\\text{Obtained Marks}}{\\text{Total Marks}} \\right) \\times 100 \\]<br> \\[ = \\left( \\frac{60}{100} \\right) \\times 100 = 60\\% \\] <br>\n",
    "            Matlab yeh student 60% marks le kar aya hai.  \n",
    "    </div>\n",
    "</body>\n"
   ]
  },
  {
   "cell_type": "code",
   "execution_count": 84,
   "id": "88ee4ac4-d004-4b1e-a352-7269256d8887",
   "metadata": {
    "tags": []
   },
   "outputs": [
    {
     "data": {
      "text/html": [
       "<div>\n",
       "<style scoped>\n",
       "    .dataframe tbody tr th:only-of-type {\n",
       "        vertical-align: middle;\n",
       "    }\n",
       "\n",
       "    .dataframe tbody tr th {\n",
       "        vertical-align: top;\n",
       "    }\n",
       "\n",
       "    .dataframe thead th {\n",
       "        text-align: right;\n",
       "    }\n",
       "</style>\n",
       "<table border=\"1\" class=\"dataframe\">\n",
       "  <thead>\n",
       "    <tr style=\"text-align: right;\">\n",
       "      <th></th>\n",
       "      <th>Student</th>\n",
       "      <th>Marks</th>\n",
       "    </tr>\n",
       "  </thead>\n",
       "  <tbody>\n",
       "    <tr>\n",
       "      <th>0</th>\n",
       "      <td>Ali</td>\n",
       "      <td>284</td>\n",
       "    </tr>\n",
       "    <tr>\n",
       "      <th>1</th>\n",
       "      <td>Ayesha</td>\n",
       "      <td>485</td>\n",
       "    </tr>\n",
       "    <tr>\n",
       "      <th>2</th>\n",
       "      <td>Bilal</td>\n",
       "      <td>425</td>\n",
       "    </tr>\n",
       "    <tr>\n",
       "      <th>3</th>\n",
       "      <td>Fatima</td>\n",
       "      <td>420</td>\n",
       "    </tr>\n",
       "    <tr>\n",
       "      <th>4</th>\n",
       "      <td>Hassan</td>\n",
       "      <td>480</td>\n",
       "    </tr>\n",
       "    <tr>\n",
       "      <th>5</th>\n",
       "      <td>Imran</td>\n",
       "      <td>403</td>\n",
       "    </tr>\n",
       "    <tr>\n",
       "      <th>6</th>\n",
       "      <td>Maria</td>\n",
       "      <td>389</td>\n",
       "    </tr>\n",
       "    <tr>\n",
       "      <th>7</th>\n",
       "      <td>Omer</td>\n",
       "      <td>365</td>\n",
       "    </tr>\n",
       "    <tr>\n",
       "      <th>8</th>\n",
       "      <td>Sara</td>\n",
       "      <td>302</td>\n",
       "    </tr>\n",
       "    <tr>\n",
       "      <th>9</th>\n",
       "      <td>Usman</td>\n",
       "      <td>273</td>\n",
       "    </tr>\n",
       "  </tbody>\n",
       "</table>\n",
       "</div>"
      ],
      "text/plain": [
       "  Student  Marks\n",
       "0     Ali    284\n",
       "1  Ayesha    485\n",
       "2   Bilal    425\n",
       "3  Fatima    420\n",
       "4  Hassan    480\n",
       "5   Imran    403\n",
       "6   Maria    389\n",
       "7    Omer    365\n",
       "8    Sara    302\n",
       "9   Usman    273"
      ]
     },
     "execution_count": 84,
     "metadata": {},
     "output_type": "execute_result"
    }
   ],
   "source": [
    "# Data\n",
    "data = {\n",
    "    \"Student\": [\"Ali\", \"Ayesha\", \"Bilal\", \"Fatima\", \"Hassan\", \"Imran\", \"Maria\", \"Omer\", \"Sara\", \"Usman\"],\n",
    "    \"Marks\": [284, 485, 425, 420, 480, 403, 389, 365, 302, 273]  # Marks out of 500\n",
    "}\n",
    "\n",
    "df = pd.DataFrame(data)\n",
    "\n",
    "df"
   ]
  },
  {
   "cell_type": "code",
   "execution_count": 85,
   "id": "060718b8-08e8-4dc6-8cb8-53a0c9272e9f",
   "metadata": {
    "tags": []
   },
   "outputs": [
    {
     "data": {
      "text/html": [
       "<div>\n",
       "<style scoped>\n",
       "    .dataframe tbody tr th:only-of-type {\n",
       "        vertical-align: middle;\n",
       "    }\n",
       "\n",
       "    .dataframe tbody tr th {\n",
       "        vertical-align: top;\n",
       "    }\n",
       "\n",
       "    .dataframe thead th {\n",
       "        text-align: right;\n",
       "    }\n",
       "</style>\n",
       "<table border=\"1\" class=\"dataframe\">\n",
       "  <thead>\n",
       "    <tr style=\"text-align: right;\">\n",
       "      <th></th>\n",
       "      <th>Student</th>\n",
       "      <th>Marks</th>\n",
       "      <th>Percentage</th>\n",
       "    </tr>\n",
       "  </thead>\n",
       "  <tbody>\n",
       "    <tr>\n",
       "      <th>0</th>\n",
       "      <td>Ali</td>\n",
       "      <td>284</td>\n",
       "      <td>56.8</td>\n",
       "    </tr>\n",
       "    <tr>\n",
       "      <th>1</th>\n",
       "      <td>Ayesha</td>\n",
       "      <td>485</td>\n",
       "      <td>97.0</td>\n",
       "    </tr>\n",
       "    <tr>\n",
       "      <th>2</th>\n",
       "      <td>Bilal</td>\n",
       "      <td>425</td>\n",
       "      <td>85.0</td>\n",
       "    </tr>\n",
       "    <tr>\n",
       "      <th>3</th>\n",
       "      <td>Fatima</td>\n",
       "      <td>420</td>\n",
       "      <td>84.0</td>\n",
       "    </tr>\n",
       "    <tr>\n",
       "      <th>4</th>\n",
       "      <td>Hassan</td>\n",
       "      <td>480</td>\n",
       "      <td>96.0</td>\n",
       "    </tr>\n",
       "    <tr>\n",
       "      <th>5</th>\n",
       "      <td>Imran</td>\n",
       "      <td>403</td>\n",
       "      <td>80.6</td>\n",
       "    </tr>\n",
       "    <tr>\n",
       "      <th>6</th>\n",
       "      <td>Maria</td>\n",
       "      <td>389</td>\n",
       "      <td>77.8</td>\n",
       "    </tr>\n",
       "    <tr>\n",
       "      <th>7</th>\n",
       "      <td>Omer</td>\n",
       "      <td>365</td>\n",
       "      <td>73.0</td>\n",
       "    </tr>\n",
       "    <tr>\n",
       "      <th>8</th>\n",
       "      <td>Sara</td>\n",
       "      <td>302</td>\n",
       "      <td>60.4</td>\n",
       "    </tr>\n",
       "    <tr>\n",
       "      <th>9</th>\n",
       "      <td>Usman</td>\n",
       "      <td>273</td>\n",
       "      <td>54.6</td>\n",
       "    </tr>\n",
       "  </tbody>\n",
       "</table>\n",
       "</div>"
      ],
      "text/plain": [
       "  Student  Marks  Percentage\n",
       "0     Ali    284        56.8\n",
       "1  Ayesha    485        97.0\n",
       "2   Bilal    425        85.0\n",
       "3  Fatima    420        84.0\n",
       "4  Hassan    480        96.0\n",
       "5   Imran    403        80.6\n",
       "6   Maria    389        77.8\n",
       "7    Omer    365        73.0\n",
       "8    Sara    302        60.4\n",
       "9   Usman    273        54.6"
      ]
     },
     "execution_count": 85,
     "metadata": {},
     "output_type": "execute_result"
    }
   ],
   "source": [
    "df[\"Percentage\"] = (df[\"Marks\"] / 500) * 100\n",
    "df"
   ]
  },
  {
   "cell_type": "code",
   "execution_count": 86,
   "id": "bd46745a-05d3-4f17-8e09-080db8aa5b31",
   "metadata": {
    "tags": []
   },
   "outputs": [
    {
     "data": {
      "image/png": "[encoded data removed]",
      "text/plain": [
       "<Figure size 1000x500 with 1 Axes>"
      ]
     },
     "metadata": {},
     "output_type": "display_data"
    }
   ],
   "source": [
    "plt.figure(figsize=(10, 5))\n",
    "plt.bar(df[\"Student\"], df[\"Percentage\"], color='skyblue', edgecolor='black')\n",
    "\n",
    "# Labels & Title\n",
    "plt.xlabel(\"Students\")\n",
    "plt.ylabel(\"Percentage (%)\")\n",
    "plt.title(\"Students' Marks Percentage\")\n",
    "plt.ylim(0, 100)  # Percentage ka range 0 se 100 tak rakha\n",
    "\n",
    "# Show values on bars\n",
    "for i, perc in enumerate(df[\"Percentage\"]):\n",
    "    plt.text(i, perc + 1, f\"{perc:.1f}%\", ha='center', fontsize=10, color='black')\n",
    "\n",
    "# Show plot\n",
    "plt.xticks(rotation=45)\n",
    "plt.show()"
   ]
  },
  {
   "cell_type": "code",
   "execution_count": 158,
   "id": "d1066093-d6c9-47ca-8020-ed321ed94b84",
   "metadata": {
    "tags": []
   },
   "outputs": [
    {
     "data": {
      "text/html": [
       "<div>\n",
       "<style scoped>\n",
       "    .dataframe tbody tr th:only-of-type {\n",
       "        vertical-align: middle;\n",
       "    }\n",
       "\n",
       "    .dataframe tbody tr th {\n",
       "        vertical-align: top;\n",
       "    }\n",
       "\n",
       "    .dataframe thead th {\n",
       "        text-align: right;\n",
       "    }\n",
       "</style>\n",
       "<table border=\"1\" class=\"dataframe\">\n",
       "  <thead>\n",
       "    <tr style=\"text-align: right;\">\n",
       "      <th></th>\n",
       "      <th>Student</th>\n",
       "      <th>Marks</th>\n",
       "      <th>Percentage</th>\n",
       "    </tr>\n",
       "  </thead>\n",
       "  <tbody>\n",
       "    <tr>\n",
       "      <th>0</th>\n",
       "      <td>Ali</td>\n",
       "      <td>284</td>\n",
       "      <td>56.8</td>\n",
       "    </tr>\n",
       "    <tr>\n",
       "      <th>1</th>\n",
       "      <td>Ayesha</td>\n",
       "      <td>485</td>\n",
       "      <td>97.0</td>\n",
       "    </tr>\n",
       "    <tr>\n",
       "      <th>2</th>\n",
       "      <td>Bilal</td>\n",
       "      <td>425</td>\n",
       "      <td>85.0</td>\n",
       "    </tr>\n",
       "    <tr>\n",
       "      <th>3</th>\n",
       "      <td>Fatima</td>\n",
       "      <td>420</td>\n",
       "      <td>84.0</td>\n",
       "    </tr>\n",
       "    <tr>\n",
       "      <th>4</th>\n",
       "      <td>Hassan</td>\n",
       "      <td>480</td>\n",
       "      <td>96.0</td>\n",
       "    </tr>\n",
       "    <tr>\n",
       "      <th>5</th>\n",
       "      <td>Imran</td>\n",
       "      <td>403</td>\n",
       "      <td>80.6</td>\n",
       "    </tr>\n",
       "    <tr>\n",
       "      <th>6</th>\n",
       "      <td>Maria</td>\n",
       "      <td>389</td>\n",
       "      <td>77.8</td>\n",
       "    </tr>\n",
       "    <tr>\n",
       "      <th>7</th>\n",
       "      <td>Omer</td>\n",
       "      <td>365</td>\n",
       "      <td>73.0</td>\n",
       "    </tr>\n",
       "    <tr>\n",
       "      <th>8</th>\n",
       "      <td>Sara</td>\n",
       "      <td>302</td>\n",
       "      <td>60.4</td>\n",
       "    </tr>\n",
       "    <tr>\n",
       "      <th>9</th>\n",
       "      <td>Usman</td>\n",
       "      <td>273</td>\n",
       "      <td>54.6</td>\n",
       "    </tr>\n",
       "  </tbody>\n",
       "</table>\n",
       "</div>"
      ],
      "text/plain": [
       "  Student  Marks  Percentage\n",
       "0     Ali    284        56.8\n",
       "1  Ayesha    485        97.0\n",
       "2   Bilal    425        85.0\n",
       "3  Fatima    420        84.0\n",
       "4  Hassan    480        96.0\n",
       "5   Imran    403        80.6\n",
       "6   Maria    389        77.8\n",
       "7    Omer    365        73.0\n",
       "8    Sara    302        60.4\n",
       "9   Usman    273        54.6"
      ]
     },
     "execution_count": 158,
     "metadata": {},
     "output_type": "execute_result"
    }
   ],
   "source": [
    "df"
   ]
  },
  {
   "cell_type": "markdown",
   "id": "59c7a8d6-f9e5-4dac-b6fc-25cfc5f7d0fe",
   "metadata": {
    "tags": []
   },
   "source": [
    "<body style=\"font-family: Sans-serif;\">\n",
    "    <div style=\"color: black; font-size: 18px; font-style: oblique; text-shadow: 0 0 3px white, 0 0 1px black; padding: 20px;\">3 Percentile\n",
    "        <ul>\n",
    "        Percentile ek statistical measure hai jo ek dataset mein kisi value ki position ko define karta hai.<br>Yeh batata hai ke ek specific value dataset ke kitne % values se chhoti ya barabar hai.<br><br>\n",
    "            Agar hum Hassan ka Percentage Niklaty hy to\n",
    "\\[\\text{Percentage} = \\left(\\frac{\\text{Marks}}{\\text{Total Marks}}\\right) \\times 100\\]<br>\n",
    "\\[= \\left(\\frac{480}{500}\\right) \\times 100 = 96\\%\\]\n",
    "<br><hr>\n",
    "Abb Hassan ka Percentile Nikalty hn To First Data Sort kia jai ga\n",
    "<br>Percentile Formula:<br><br> \\[\\text{Percentile} = \\left(\\frac{\\text{Number of students with lower marks}}{\\text{Total students} - 1} \\right) \\times 100 \\]\n",
    "<br><br>\n",
    "Kitny students Hassan se kam marks wale hain: <br>\n",
    "            <ol>\n",
    "                <li>Imran (403)</li>\n",
    "                <li>Maria (389)</li>\n",
    "                <li>Omer (365)</li>\n",
    "                <li>Sara (302)</li>\n",
    "                <li>Usman (273)</li>\n",
    "                <li>Bilal (425)</li>\n",
    "                <li>Fatima (420)</li>\n",
    "                <li>Ali (284) </li>\n",
    "                → (8 students) Hn <br>\n",
    "\\[ = \\left(\\frac{8}{10}\\right) \\times 100 = 80^{th} \\text{ Percentile} \\]<br><br>\n",
    "Matlab: Hassan 80th percentile par hai, yaani 80% students ka score usse kam hai.            \n",
    "        </ul>\n",
    "    </div>\n",
    "</body>\n"
   ]
  },
  {
   "cell_type": "code",
   "execution_count": 223,
   "id": "6b8a90f5-29ac-480e-be6e-6d7d9f9a065a",
   "metadata": {
    "tags": []
   },
   "outputs": [
    {
     "name": "stdout",
     "output_type": "stream",
     "text": [
      "Marks: 284, Percentile: 20.00%\n",
      "Marks: 485, Percentile: 100.00%\n",
      "Marks: 425, Percentile: 80.00%\n",
      "Marks: 420, Percentile: 70.00%\n",
      "Marks: 480, Percentile: 90.00%\n",
      "Marks: 403, Percentile: 60.00%\n",
      "Marks: 389, Percentile: 50.00%\n",
      "Marks: 365, Percentile: 40.00%\n",
      "Marks: 302, Percentile: 30.00%\n",
      "Marks: 273, Percentile: 10.00%\n"
     ]
    }
   ],
   "source": [
    "def calculate_student_percentile(marks_list, student_marks):\n",
    "    sorted_marks = sorted(marks_list)\n",
    "    total_students = len(sorted_marks)\n",
    "\n",
    "    rank = sorted_marks.index(student_marks) + 1  # 1-based rank\n",
    "    percentile = (rank / total_students) * 100  # Adjusted formula\n",
    "\n",
    "    return percentile\n",
    "\n",
    "# Example Data\n",
    "marks_list = [284, 485, 425, 420, 480, 403, 389, 365, 302, 273]\n",
    "\n",
    "# Test for different students\n",
    "for marks in marks_list:\n",
    "    percentile = calculate_student_percentile(marks_list, marks)\n",
    "    print(f\"Marks: {marks}, Percentile: {percentile:.2f}%\")\n"
   ]
  },
  {
   "cell_type": "code",
   "execution_count": 159,
   "id": "615df1c4-a2b2-4d39-b8e4-e8ac975bc4eb",
   "metadata": {
    "tags": []
   },
   "outputs": [
    {
     "name": "stdout",
     "output_type": "stream",
     "text": [
      "[273, 284, 302, 365, 389, 403, 420, 425, 480, 485]\n"
     ]
    }
   ],
   "source": [
    "sorted_marks = sorted(df[\"Marks\"])\n",
    "print(sorted_marks)"
   ]
  },
  {
   "cell_type": "code",
   "execution_count": 172,
   "id": "0072325e-7c2c-4a1d-b787-d43a834c340f",
   "metadata": {
    "tags": []
   },
   "outputs": [
    {
     "data": {
      "text/plain": [
       "[]"
      ]
     },
     "execution_count": 172,
     "metadata": {},
     "output_type": "execute_result"
    }
   ],
   "source": [
    "lower_marks_with_hassan = [i for i in sorted_marks if i < 273]\n",
    "lower_marks_with_hassan"
   ]
  },
  {
   "cell_type": "code",
   "execution_count": 161,
   "id": "ea0590d2-fff7-483e-acea-8b8520b1438c",
   "metadata": {
    "tags": []
   },
   "outputs": [
    {
     "data": {
      "text/plain": [
       "8"
      ]
     },
     "execution_count": 161,
     "metadata": {},
     "output_type": "execute_result"
    }
   ],
   "source": [
    "len(lower_marks_with_hassan)"
   ]
  },
  {
   "cell_type": "code",
   "execution_count": 162,
   "id": "f2e042df-7b6c-4595-9b0c-ec38439726ff",
   "metadata": {
    "tags": []
   },
   "outputs": [
    {
     "data": {
      "text/plain": [
       "88.88888888888889"
      ]
     },
     "execution_count": 162,
     "metadata": {},
     "output_type": "execute_result"
    }
   ],
   "source": [
    "len(lower_marks_with_hassan) / (len(sorted(df[\"Marks\"])) -1) * 100"
   ]
  },
  {
   "cell_type": "code",
   "execution_count": 164,
   "id": "ea43807c-3bc2-417e-b9f6-83ed47a641d5",
   "metadata": {
    "tags": []
   },
   "outputs": [],
   "source": [
    "data = df.to_dict()\n",
    "data.pop(\"Percentage\")\n",
    "\n",
    "sorted_indices = sorted(data['Marks'], key=lambda i: data['Marks'][i], reverse=True)\n",
    "sorted_data = {\n",
    "    'Student': {i: data['Student'][idx] for i, idx in enumerate(sorted_indices)},\n",
    "    'Marks': {i: data['Marks'][idx] for i, idx in enumerate(sorted_indices)}}"
   ]
  },
  {
   "cell_type": "code",
   "execution_count": null,
   "id": "3f537385-71e9-4d67-8702-415d0cc19d40",
   "metadata": {},
   "outputs": [],
   "source": [
    "Percentile=(Number of students with lower marksTotal students)×100"
   ]
  },
  {
   "cell_type": "code",
   "execution_count": 171,
   "id": "91adf39f-37a2-42ad-8770-3f93ee72419b",
   "metadata": {
    "tags": []
   },
   "outputs": [
    {
     "name": "stdout",
     "output_type": "stream",
     "text": [
      "9 100.0\n",
      "8 88.88888888888889\n",
      "7 77.77777777777779\n",
      "6 66.66666666666666\n",
      "5 55.55555555555556\n",
      "4 44.44444444444444\n",
      "3 33.33333333333333\n",
      "2 22.22222222222222\n",
      "1 11.11111111111111\n",
      "0 0.0\n"
     ]
    }
   ],
   "source": [
    "total_students = len(sorted_data[\"Marks\"].values())\n",
    "for k,v in sorted_data[\"Marks\"].items():\n",
    "    lower_marks = [j for i,j, in sorted_data[\"Marks\"].items() if j < v]\n",
    "    lower_count = len(lower_marks)\n",
    "    \n",
    "    percentile = (lower_count / total_students) * 100\n",
    "    \n",
    "    print(lower_count,percentile)\n",
    "    "
   ]
  },
  {
   "cell_type": "code",
   "execution_count": 143,
   "id": "ba4d880a-98c3-4d67-b32f-e82f3092d0be",
   "metadata": {
    "tags": []
   },
   "outputs": [
    {
     "data": {
      "text/plain": [
       "0     20.0\n",
       "1    100.0\n",
       "2     80.0\n",
       "3     70.0\n",
       "4     90.0\n",
       "5     60.0\n",
       "6     50.0\n",
       "7     40.0\n",
       "8     30.0\n",
       "9     10.0\n",
       "Name: Marks, dtype: float64"
      ]
     },
     "execution_count": 143,
     "metadata": {},
     "output_type": "execute_result"
    }
   ],
   "source": [
    "df['Marks'].rank(pct=True) * 100"
   ]
  },
  {
   "cell_type": "code",
   "execution_count": 92,
   "id": "22cf8e14-6d4a-4361-8151-e57ecdd78ed2",
   "metadata": {
    "tags": []
   },
   "outputs": [
    {
     "data": {
      "text/plain": [
       "0    10.0\n",
       "1    90.0\n",
       "2    70.0\n",
       "3    60.0\n",
       "4    80.0\n",
       "5    50.0\n",
       "6    40.0\n",
       "7    30.0\n",
       "8    20.0\n",
       "9     0.0\n",
       "Name: Marks, dtype: float64"
      ]
     },
     "execution_count": 92,
     "metadata": {},
     "output_type": "execute_result"
    }
   ],
   "source": [
    "def calculate_percentile(marks):\n",
    "    lower_count = sum(1 for x in sorted_marks if x < marks)\n",
    "    percentile = (lower_count / len(sorted_marks)) * 100  \n",
    "    return percentile\n",
    "# df[\"Percentile\"] = df[\"Marks\"].apply(calculate_percentile)\n",
    "df[\"Marks\"].apply(calculate_percentile)"
   ]
  },
  {
   "cell_type": "code",
   "execution_count": 26,
   "id": "a14dacd6-667b-4a58-ba46-b0056ba1f041",
   "metadata": {
    "tags": []
   },
   "outputs": [
    {
     "data": {
      "image/png": "[encoded data removed]",
      "text/plain": [
       "<Figure size 1000x500 with 2 Axes>"
      ]
     },
     "metadata": {},
     "output_type": "display_data"
    }
   ],
   "source": [
    "fig, ax1 = plt.subplots(figsize=(10, 5))\n",
    "\n",
    "# Bar Chart (Percentage)\n",
    "ax1.bar(df[\"Student\"], df[\"Percentage\"], color='skyblue', edgecolor='black', label=\"Percentage\")\n",
    "ax1.set_xlabel(\"Students\")\n",
    "ax1.set_ylabel(\"Percentage\", color='blue')\n",
    "ax1.set_ylim(0, 100)  # Ensure the range is 0-100\n",
    "\n",
    "# Show values on bars (Percentage)\n",
    "for i, perc in enumerate(df[\"Percentage\"]):\n",
    "    ax1.text(i, perc + 1, f\"{perc:.1f}%\", ha='center', fontsize=10, color='black')\n",
    "\n",
    "# Second Y-Axis for Percentile\n",
    "ax2 = ax1.twinx()\n",
    "ax2.plot(df[\"Student\"], df[\"Percentile\"], marker='o', color='red', linestyle='dashed', label=\"Percentile\")\n",
    "ax2.set_ylabel(\"Percentile\", color='red')\n",
    "ax2.set_ylim(0, 100)\n",
    "\n",
    "# Show values on line chart (Percentile)\n",
    "for i, perc in enumerate(df[\"Percentile\"]):\n",
    "    ax2.text(i, perc - 3, f\"{perc:.1f}%\", ha='center', fontsize=10, color='red')\n",
    "\n",
    "# Title & Layout\n",
    "plt.title(\"Students' Percentage & Percentile Comparison\")\n",
    "plt.xticks(rotation=45)\n",
    "\n",
    "# Legends\n",
    "ax1.legend(loc='upper left')\n",
    "ax2.legend(loc='upper right')\n",
    "\n",
    "# Show Plot\n",
    "plt.show()"
   ]
  },
  {
   "cell_type": "markdown",
   "id": "832baf21-fbd4-412d-a9f9-52ddac7b7df4",
   "metadata": {},
   "source": [
    "<body style=\"font-family: Sans-serif;\">\n",
    "    <div style=\"color: black; font-size: 18px; font-style: oblique; text-shadow: 0 0 3px white, 0 0 1px black; padding: 20px;\">Percentile Types\n",
    "        <ul>Type 1 Percentile (PERCENTILE-1 or Linear Interpolation)<ul>\n",
    "            Is percentile type mein interpolation ka use hota hai jahan values ko rank order ke basis par calculate kiya jata hai.<br><br>\n",
    "            Yeh data distribution ko samajhna ky lye, outliers ko identify karte hain, aur data normalization (scaling) karny ky lye Use kia jata hn<br><br>\n",
    "            First Data Ko Sort Karna hy<br><br>\n",
    "1. Rank Calculation:\n",
    "\\[R = \\frac{P}{100} \\times (n + 1)\\]<br>\n",
    "Yahan:<br>\n",
    "            \\( R \\) = Percentile ka rank (position) hai.\n",
    "            <br>\\( P \\) = Desired percentile (for example, agar aapko 40th percentile chahiye to \\( P = 40 \\))<br>\n",
    "            \\( n \\) = Total data points ki number hai.<br><br>\n",
    "            \\[\\text{If } R \\text{ is an integer, then: } P = \\text{Sorted Data}[R]\\]\n",
    "            \\[\\text{(Index starts at 1)}\\]<br><br>\n",
    "2. Interpolation (Agar \\( R \\) integer nahi hai):<br><br>\n",
    "           \\[\\text{Percentile Value} = \\text{Lower Value} + (\\text{Upper Value} - \\text{Lower Value}) \\times (\\text{Index} - \\text{Lower Index})\\] \n",
    "\n",
    "Asaan Alfaaz Mein Samjhayein:<br><br>\n",
    "1. Rank Calculate Karna:<br> Sabse pehle aapko jo percentile chahiye uski position (rank) find karni hoti hai, jo data ko sort karke nikalti hai.<br><br>\n",
    "2. Agar Rank Integer Nahi Hai:<br>Agar rank integer nahi aata, to aap linear interpolation ka use karte hain jisme aap closest data points ka average lete ho percentile value ke liye.\n",
    "<br><br>\n",
    "3. Agar Rank Integer Hai:<br>Agar rank integer hai, to aap directly sorted data mein us rank ka value lete ho.\n",
    "<br><br><br>\n",
    "Yeh formula isliye use hota hai taake aap data ke percentile ko accurately calculate kar sako, especially jab data set ka size bara ho ya exact match na ho.\n",
    "    </div>\n",
    "</body>\n"
   ]
  },
  {
   "cell_type": "code",
   "execution_count": 72,
   "id": "cb77878a-a2c1-4e52-bb6f-02db222845c9",
   "metadata": {
    "tags": []
   },
   "outputs": [
    {
     "data": {
      "text/html": [
       "<div>\n",
       "<style scoped>\n",
       "    .dataframe tbody tr th:only-of-type {\n",
       "        vertical-align: middle;\n",
       "    }\n",
       "\n",
       "    .dataframe tbody tr th {\n",
       "        vertical-align: top;\n",
       "    }\n",
       "\n",
       "    .dataframe thead th {\n",
       "        text-align: right;\n",
       "    }\n",
       "</style>\n",
       "<table border=\"1\" class=\"dataframe\">\n",
       "  <thead>\n",
       "    <tr style=\"text-align: right;\">\n",
       "      <th></th>\n",
       "      <th>Student</th>\n",
       "      <th>Marks</th>\n",
       "    </tr>\n",
       "  </thead>\n",
       "  <tbody>\n",
       "    <tr>\n",
       "      <th>0</th>\n",
       "      <td>Ali</td>\n",
       "      <td>284</td>\n",
       "    </tr>\n",
       "    <tr>\n",
       "      <th>1</th>\n",
       "      <td>Ayesha</td>\n",
       "      <td>485</td>\n",
       "    </tr>\n",
       "    <tr>\n",
       "      <th>2</th>\n",
       "      <td>Bilal</td>\n",
       "      <td>425</td>\n",
       "    </tr>\n",
       "    <tr>\n",
       "      <th>3</th>\n",
       "      <td>Fatima</td>\n",
       "      <td>420</td>\n",
       "    </tr>\n",
       "    <tr>\n",
       "      <th>4</th>\n",
       "      <td>Hassan</td>\n",
       "      <td>480</td>\n",
       "    </tr>\n",
       "    <tr>\n",
       "      <th>5</th>\n",
       "      <td>Imran</td>\n",
       "      <td>403</td>\n",
       "    </tr>\n",
       "    <tr>\n",
       "      <th>6</th>\n",
       "      <td>Maria</td>\n",
       "      <td>389</td>\n",
       "    </tr>\n",
       "    <tr>\n",
       "      <th>7</th>\n",
       "      <td>Omer</td>\n",
       "      <td>365</td>\n",
       "    </tr>\n",
       "    <tr>\n",
       "      <th>8</th>\n",
       "      <td>Sara</td>\n",
       "      <td>302</td>\n",
       "    </tr>\n",
       "    <tr>\n",
       "      <th>9</th>\n",
       "      <td>Usman</td>\n",
       "      <td>273</td>\n",
       "    </tr>\n",
       "  </tbody>\n",
       "</table>\n",
       "</div>"
      ],
      "text/plain": [
       "  Student  Marks\n",
       "0     Ali    284\n",
       "1  Ayesha    485\n",
       "2   Bilal    425\n",
       "3  Fatima    420\n",
       "4  Hassan    480\n",
       "5   Imran    403\n",
       "6   Maria    389\n",
       "7    Omer    365\n",
       "8    Sara    302\n",
       "9   Usman    273"
      ]
     },
     "execution_count": 72,
     "metadata": {},
     "output_type": "execute_result"
    }
   ],
   "source": [
    "data = {\n",
    "    \"Student\": [\"Ali\", \"Ayesha\", \"Bilal\", \"Fatima\", \"Hassan\", \"Imran\", \"Maria\", \"Omer\", \"Sara\", \"Usman\"],\n",
    "    \"Marks\": [284, 485, 425, 420, 480, 403, 389, 365, 302, 273]  # Marks out of 500\n",
    "}\n",
    "\n",
    "df = pd.DataFrame(data)\n",
    "\n",
    "df"
   ]
  },
  {
   "cell_type": "code",
   "execution_count": 78,
   "id": "44b2dbbe-820f-4470-8831-874fc37b2c62",
   "metadata": {
    "tags": []
   },
   "outputs": [],
   "source": [
    "def percentile_type1(df, column, P):\n",
    "   \n",
    "    x = df[column].sort_values().to_numpy()\n",
    "    \n",
    "    R = (P / 100) * (len(x) - 1) + 1  \n",
    "\n",
    "    if type(R) == int:\n",
    "        return x[int(R) - 1]\n",
    "    \n",
    "    lower_index = int(R)\n",
    "    upper_index = lower_index + 1\n",
    "\n",
    "    lower_value = x[lower_index - 1]\n",
    "    upper_value = x[upper_index - 1]\n",
    "\n",
    "    result = lower_value + (upper_value - lower_value) * (R - lower_index)\n",
    "    \n",
    "    return result\n"
   ]
  },
  {
   "cell_type": "code",
   "execution_count": 80,
   "id": "5ed87a30-0920-42da-a5ba-f0738267810b",
   "metadata": {
    "tags": []
   },
   "outputs": [
    {
     "data": {
      "text/plain": [
       "379.4"
      ]
     },
     "execution_count": 80,
     "metadata": {},
     "output_type": "execute_result"
    }
   ],
   "source": [
    "percentile_type1(df,\"Marks\",40)"
   ]
  },
  {
   "cell_type": "code",
   "execution_count": 82,
   "id": "165bf283-2ebb-406c-995a-4527ac660ae3",
   "metadata": {
    "tags": []
   },
   "outputs": [
    {
     "data": {
      "text/plain": [
       "7.6"
      ]
     },
     "execution_count": 82,
     "metadata": {},
     "output_type": "execute_result"
    }
   ],
   "source": [
    "x = [17,20,18,1,7,12,13,8,3,5]\n",
    "x = sorted(x)\n",
    "\n",
    "P = 40\n",
    "R =  (P/100) * (len(x)-1) + 1\n",
    "\n",
    "\n",
    "if type(R) == int:\n",
    "    result = x[R-1]\n",
    "    print(result)\n",
    "\n",
    "else:\n",
    "    lower_index = int(R)\n",
    "    upper_index = lower_index+1\n",
    "    \n",
    "    lower_value = x[lower_index -1]\n",
    "    upper_value = x[upper_index - 1]\n",
    "    result = lower_value + (upper_value - lower_value) * (R - lower_index)\n",
    "result "
   ]
  },
  {
   "cell_type": "code",
   "execution_count": 146,
   "id": "ff5a6ed7-73cc-4eed-ac23-66dca58f9945",
   "metadata": {
    "tags": []
   },
   "outputs": [
    {
     "data": {
      "text/html": [
       "<div>\n",
       "<style scoped>\n",
       "    .dataframe tbody tr th:only-of-type {\n",
       "        vertical-align: middle;\n",
       "    }\n",
       "\n",
       "    .dataframe tbody tr th {\n",
       "        vertical-align: top;\n",
       "    }\n",
       "\n",
       "    .dataframe thead th {\n",
       "        text-align: right;\n",
       "    }\n",
       "</style>\n",
       "<table border=\"1\" class=\"dataframe\">\n",
       "  <thead>\n",
       "    <tr style=\"text-align: right;\">\n",
       "      <th></th>\n",
       "      <th>Student</th>\n",
       "      <th>Marks</th>\n",
       "      <th>Percentage</th>\n",
       "    </tr>\n",
       "  </thead>\n",
       "  <tbody>\n",
       "    <tr>\n",
       "      <th>0</th>\n",
       "      <td>Ali</td>\n",
       "      <td>284</td>\n",
       "      <td>56.8</td>\n",
       "    </tr>\n",
       "    <tr>\n",
       "      <th>1</th>\n",
       "      <td>Ayesha</td>\n",
       "      <td>485</td>\n",
       "      <td>97.0</td>\n",
       "    </tr>\n",
       "    <tr>\n",
       "      <th>2</th>\n",
       "      <td>Bilal</td>\n",
       "      <td>425</td>\n",
       "      <td>85.0</td>\n",
       "    </tr>\n",
       "    <tr>\n",
       "      <th>3</th>\n",
       "      <td>Fatima</td>\n",
       "      <td>420</td>\n",
       "      <td>84.0</td>\n",
       "    </tr>\n",
       "    <tr>\n",
       "      <th>4</th>\n",
       "      <td>Hassan</td>\n",
       "      <td>480</td>\n",
       "      <td>96.0</td>\n",
       "    </tr>\n",
       "    <tr>\n",
       "      <th>5</th>\n",
       "      <td>Imran</td>\n",
       "      <td>403</td>\n",
       "      <td>80.6</td>\n",
       "    </tr>\n",
       "    <tr>\n",
       "      <th>6</th>\n",
       "      <td>Maria</td>\n",
       "      <td>389</td>\n",
       "      <td>77.8</td>\n",
       "    </tr>\n",
       "    <tr>\n",
       "      <th>7</th>\n",
       "      <td>Omer</td>\n",
       "      <td>365</td>\n",
       "      <td>73.0</td>\n",
       "    </tr>\n",
       "    <tr>\n",
       "      <th>8</th>\n",
       "      <td>Sara</td>\n",
       "      <td>302</td>\n",
       "      <td>60.4</td>\n",
       "    </tr>\n",
       "    <tr>\n",
       "      <th>9</th>\n",
       "      <td>Usman</td>\n",
       "      <td>273</td>\n",
       "      <td>54.6</td>\n",
       "    </tr>\n",
       "  </tbody>\n",
       "</table>\n",
       "</div>"
      ],
      "text/plain": [
       "  Student  Marks  Percentage\n",
       "0     Ali    284        56.8\n",
       "1  Ayesha    485        97.0\n",
       "2   Bilal    425        85.0\n",
       "3  Fatima    420        84.0\n",
       "4  Hassan    480        96.0\n",
       "5   Imran    403        80.6\n",
       "6   Maria    389        77.8\n",
       "7    Omer    365        73.0\n",
       "8    Sara    302        60.4\n",
       "9   Usman    273        54.6"
      ]
     },
     "execution_count": 146,
     "metadata": {},
     "output_type": "execute_result"
    }
   ],
   "source": [
    "df"
   ]
  },
  {
   "cell_type": "code",
   "execution_count": 156,
   "id": "1517cdcb-bc6d-4faa-b646-dee20aee35df",
   "metadata": {
    "tags": []
   },
   "outputs": [
    {
     "data": {
      "text/plain": [
       "273"
      ]
     },
     "execution_count": 156,
     "metadata": {},
     "output_type": "execute_result"
    }
   ],
   "source": [
    "np.quantile(df[\"Marks\"], 0)"
   ]
  }
 ],
 "metadata": {
  "kernelspec": {
   "display_name": "Python 3 (ipykernel)",
   "language": "python",
   "name": "python3"
  },
  "language_info": {
   "codemirror_mode": {
    "name": "ipython",
    "version": 3
   },
   "file_extension": ".py",
   "mimetype": "text/x-python",
   "name": "python",
   "nbconvert_exporter": "python",
   "pygments_lexer": "ipython3",
   "version": "3.10.12"
  }
 },
 "nbformat": 4,
 "nbformat_minor": 5
}
