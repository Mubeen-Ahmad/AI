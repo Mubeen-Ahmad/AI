{
 "cells": [
  {
   "cell_type": "markdown",
   "id": "dfa4f56b-e673-4fcc-9d0a-1afe81401552",
   "metadata": {},
   "source": [
    "<h1 style=\"text-align:center; color:#005bbd; font-size:20px; font-family:Sans-serif; font-style: oblique; text-shadow: 0 0 3px white, 0 0 1px Black;\">\n",
    "   Un Group Data\n",
    "</h1>"
   ]
  },
  {
   "cell_type": "markdown",
   "id": "bbc17092-502f-48d3-8866-f20961bed61d",
   "metadata": {},
   "source": [
    "<body style=\"font-family: Sans-serif;\">\n",
    "    <div style=\"color: black; font-size: 18px; font-style: oblique; text-shadow: 0 0 3px white, 0 0 1px black; padding: 20px;\">\n",
    "<p>Ungrouped data woh hota hai jisme har individual value alag alag hoti hai, bina kisi group ya class ke.</p>\n",
    "\n",
    "```\n",
    "Marks of 6 students = [56, 72, 64, 64, 90, 72]\n",
    "```\n",
    "</div>\n",
    "</body>"
   ]
  },
  {
   "cell_type": "code",
   "execution_count": 1,
   "id": "3bc3e2de-75ad-4a8c-aa41-0f6ac503a06d",
   "metadata": {},
   "outputs": [],
   "source": [
    "import pandas as pd"
   ]
  },
  {
   "cell_type": "code",
   "execution_count": 10,
   "id": "669e1f57-24a6-4345-9eb7-e79247263d72",
   "metadata": {},
   "outputs": [
    {
     "data": {
      "text/html": [
       "<div>\n",
       "<style scoped>\n",
       "    .dataframe tbody tr th:only-of-type {\n",
       "        vertical-align: middle;\n",
       "    }\n",
       "\n",
       "    .dataframe tbody tr th {\n",
       "        vertical-align: top;\n",
       "    }\n",
       "\n",
       "    .dataframe thead th {\n",
       "        text-align: right;\n",
       "    }\n",
       "</style>\n",
       "<table border=\"1\" class=\"dataframe\">\n",
       "  <thead>\n",
       "    <tr style=\"text-align: right;\">\n",
       "      <th></th>\n",
       "      <th>Students</th>\n",
       "    </tr>\n",
       "  </thead>\n",
       "  <tbody>\n",
       "    <tr>\n",
       "      <th>0</th>\n",
       "      <td>56</td>\n",
       "    </tr>\n",
       "    <tr>\n",
       "      <th>1</th>\n",
       "      <td>72</td>\n",
       "    </tr>\n",
       "    <tr>\n",
       "      <th>2</th>\n",
       "      <td>64</td>\n",
       "    </tr>\n",
       "    <tr>\n",
       "      <th>3</th>\n",
       "      <td>64</td>\n",
       "    </tr>\n",
       "    <tr>\n",
       "      <th>4</th>\n",
       "      <td>90</td>\n",
       "    </tr>\n",
       "    <tr>\n",
       "      <th>5</th>\n",
       "      <td>72</td>\n",
       "    </tr>\n",
       "  </tbody>\n",
       "</table>\n",
       "</div>"
      ],
      "text/plain": [
       "   Students\n",
       "0        56\n",
       "1        72\n",
       "2        64\n",
       "3        64\n",
       "4        90\n",
       "5        72"
      ]
     },
     "execution_count": 10,
     "metadata": {},
     "output_type": "execute_result"
    }
   ],
   "source": [
    "pd.DataFrame({\"Students\": [56, 72, 64, 64, 90, 72]})"
   ]
  },
  {
   "cell_type": "markdown",
   "id": "73310cf7-0538-4487-ad30-db0b65923a17",
   "metadata": {},
   "source": [
    "<h1 style=\"text-align:center; color:#005bbd; font-size:20px; font-family:Sans-serif; font-style: oblique; text-shadow: 0 0 3px white, 0 0 1px Black;\">\n",
    "   Group Data\n",
    "</h1>"
   ]
  },
  {
   "cell_type": "markdown",
   "id": "64aef878-9795-41f6-8f7a-57f4d536dd1d",
   "metadata": {},
   "source": [
    "<body style=\"font-family: Sans-serif;\">\n",
    "    <div style=\"color: black; font-size: 18px; font-style: oblique; text-shadow: 0 0 3px white, 0 0 1px black; padding: 20px;\">\n",
    "\n",
    "- #### Grouped data woh hota hai jahan raw data ko classes ya intervals mein group kiya jata hai.\n",
    "- Har class ke sath frequency hoti hai (kitni dafa value ayi)\n",
    "\n",
    "</div>\n",
    "</body>"
   ]
  },
  {
   "cell_type": "code",
   "execution_count": 7,
   "id": "1210be04-0a0a-4948-afcc-fec0af8c22b9",
   "metadata": {},
   "outputs": [
    {
     "data": {
      "text/html": [
       "<div>\n",
       "<style scoped>\n",
       "    .dataframe tbody tr th:only-of-type {\n",
       "        vertical-align: middle;\n",
       "    }\n",
       "\n",
       "    .dataframe tbody tr th {\n",
       "        vertical-align: top;\n",
       "    }\n",
       "\n",
       "    .dataframe thead th {\n",
       "        text-align: right;\n",
       "    }\n",
       "</style>\n",
       "<table border=\"1\" class=\"dataframe\">\n",
       "  <thead>\n",
       "    <tr style=\"text-align: right;\">\n",
       "      <th></th>\n",
       "      <th>Marks</th>\n",
       "      <th>Frequency</th>\n",
       "    </tr>\n",
       "  </thead>\n",
       "  <tbody>\n",
       "    <tr>\n",
       "      <th>0</th>\n",
       "      <td>0 - 10</td>\n",
       "      <td>2</td>\n",
       "    </tr>\n",
       "    <tr>\n",
       "      <th>1</th>\n",
       "      <td>10 - 20</td>\n",
       "      <td>3</td>\n",
       "    </tr>\n",
       "    <tr>\n",
       "      <th>2</th>\n",
       "      <td>20 - 30</td>\n",
       "      <td>5</td>\n",
       "    </tr>\n",
       "    <tr>\n",
       "      <th>3</th>\n",
       "      <td>30 - 40</td>\n",
       "      <td>4</td>\n",
       "    </tr>\n",
       "  </tbody>\n",
       "</table>\n",
       "</div>"
      ],
      "text/plain": [
       "     Marks  Frequency\n",
       "0   0 - 10          2\n",
       "1  10 - 20          3\n",
       "2  20 - 30          5\n",
       "3  30 - 40          4"
      ]
     },
     "execution_count": 7,
     "metadata": {},
     "output_type": "execute_result"
    }
   ],
   "source": [
    "data = {\n",
    "    \"Marks\": [\n",
    "        \"0 - 10\",\n",
    "        \"10 - 20\",\n",
    "        \"20 - 30\",\n",
    "        \"30 - 40\"\n",
    "    ],\n",
    "    \"Frequency\":[2,3,5,4]\n",
    "}\n",
    "pd.DataFrame(data)"
   ]
  },
  {
   "cell_type": "markdown",
   "id": "cac45244-910c-4618-8d4c-a09c98fedc80",
   "metadata": {},
   "source": [
    "<body style=\"font-family: Sans-serif;\">\n",
    "    <div style=\"color: black; font-size: 18px; font-style: oblique; text-shadow: 0 0 3px white, 0 0 1px black; padding: 20px;\">\n",
    "<p>Yahan 0-10, 10-20 etc groups hain, aur har group mein kitni values hain (frequency).</p>\n",
    "</div>\n",
    "</body>\n"
   ]
  },
  {
   "cell_type": "markdown",
   "id": "aea673d6-4ab2-4e29-ad6d-63be8ed8abaa",
   "metadata": {},
   "source": [
    "<body style=\"font-family: Sans-serif;\">\n",
    "    <div style=\"color: black; font-size: 18px; font-style: oblique; text-shadow: 0 0 3px white, 0 0 1px black; padding: 20px;\">\n",
    "        \n",
    "| # | Advantages                                                                                                                                                  |\n",
    "| ------ | ---------------------------------------------------------------------------------------------------------------------------------------------------------- |\n",
    "| 1    | **Data ko summarize karna asaan ho jata hai** – bohat saari values ko few classes mein divide kar k analysis simple hota hai.                              |\n",
    "| 2    | **Large datasets ko handle karna easy hota hai** – jab data bohat zyada ho (1000s of records), grouping se readability aur visualization improve hoti hai. |\n",
    "| 3️    | **Visual representation possible hota hai** – histograms, ogives, frequency polygons waghera sirf grouped data pe banaye jate hain.                        |\n",
    "| 4    | **Trends easily dikhai dete hain** – jese kis range mein zyada values aa rahi hain, kis interval mein kam.                                                 |\n",
    "| 5    | **Statistical analysis scalable hota hai** – grouped data se efficient algorithms bana sakte hain (e.g., decision trees, binning in ML).                   |\n",
    "</div>"
   ]
  },
  {
   "cell_type": "markdown",
   "id": "d851ce13-03de-4e47-ad39-760121d1762a",
   "metadata": {},
   "source": [
    "<body style=\"font-family: Sans-serif;\">\n",
    "    <div style=\"color: black; font-size: 18px; font-style: oblique; text-shadow: 0 0 3px white, 0 0 1px black; padding: 20px;\">\n",
    "        \n",
    "\n",
    "\n",
    "| # | Disadvantages                                                                                                              |\n",
    "| ------ | --------------------------------------------------------------------------------------------------------------------- |\n",
    "|1    | **Data loss hota hai (accuracy loose hoti hai)** – actual values chhup jati hain, sirf intervals bachte hain.         |\n",
    "|2    | **Har class mein exact value ka pata nahi hota** – sirf midpoint assume karte hain, jo approximation hota hai.        |\n",
    "|3    | **Wrong grouping misleading ho sakti hai** – agar class width sahi select na ho to patterns galat lag sakte hain.     |\n",
    "|4    | **Manual grouping time-consuming ho sakta hai** – agar automatic binning use na ho to grouping mein effort lagta hai. |\n"
   ]
  },
  {
   "cell_type": "markdown",
   "id": "b654898c-dcfe-4fcb-9686-38a6d7dbedfa",
   "metadata": {},
   "source": [
    "<body style=\"font-family: Sans-serif;\">\n",
    "    <div style=\"color: black; font-size: 18px; font-style: oblique; text-shadow: 0 0 3px white, 0 0 1px black; padding: 20px;\">\n",
    "        \n",
    "Example :\n",
    "- Suppose aap ek ML model train kar rahe ho jo bataye ga:\n",
    "- Kis age group ke log zyada shopping karte hain?"
   ]
  },
  {
   "cell_type": "code",
   "execution_count": 15,
   "id": "de44e7d7-ecb5-44d4-9bf2-d6a9349510b0",
   "metadata": {},
   "outputs": [
    {
     "data": {
      "text/html": [
       "<div>\n",
       "<style scoped>\n",
       "    .dataframe tbody tr th:only-of-type {\n",
       "        vertical-align: middle;\n",
       "    }\n",
       "\n",
       "    .dataframe tbody tr th {\n",
       "        vertical-align: top;\n",
       "    }\n",
       "\n",
       "    .dataframe thead th {\n",
       "        text-align: right;\n",
       "    }\n",
       "</style>\n",
       "<table border=\"1\" class=\"dataframe\">\n",
       "  <thead>\n",
       "    <tr style=\"text-align: right;\">\n",
       "      <th></th>\n",
       "      <th>Customer Ages</th>\n",
       "    </tr>\n",
       "  </thead>\n",
       "  <tbody>\n",
       "    <tr>\n",
       "      <th>0</th>\n",
       "      <td>18</td>\n",
       "    </tr>\n",
       "    <tr>\n",
       "      <th>1</th>\n",
       "      <td>22</td>\n",
       "    </tr>\n",
       "    <tr>\n",
       "      <th>2</th>\n",
       "      <td>25</td>\n",
       "    </tr>\n",
       "    <tr>\n",
       "      <th>3</th>\n",
       "      <td>30</td>\n",
       "    </tr>\n",
       "    <tr>\n",
       "      <th>4</th>\n",
       "      <td>34</td>\n",
       "    </tr>\n",
       "    <tr>\n",
       "      <th>5</th>\n",
       "      <td>36</td>\n",
       "    </tr>\n",
       "    <tr>\n",
       "      <th>6</th>\n",
       "      <td>37</td>\n",
       "    </tr>\n",
       "    <tr>\n",
       "      <th>7</th>\n",
       "      <td>40</td>\n",
       "    </tr>\n",
       "    <tr>\n",
       "      <th>8</th>\n",
       "      <td>43</td>\n",
       "    </tr>\n",
       "    <tr>\n",
       "      <th>9</th>\n",
       "      <td>50</td>\n",
       "    </tr>\n",
       "    <tr>\n",
       "      <th>10</th>\n",
       "      <td>52</td>\n",
       "    </tr>\n",
       "    <tr>\n",
       "      <th>11</th>\n",
       "      <td>55</td>\n",
       "    </tr>\n",
       "  </tbody>\n",
       "</table>\n",
       "</div>"
      ],
      "text/plain": [
       "    Customer Ages\n",
       "0              18\n",
       "1              22\n",
       "2              25\n",
       "3              30\n",
       "4              34\n",
       "5              36\n",
       "6              37\n",
       "7              40\n",
       "8              43\n",
       "9              50\n",
       "10             52\n",
       "11             55"
      ]
     },
     "execution_count": 15,
     "metadata": {},
     "output_type": "execute_result"
    }
   ],
   "source": [
    "ungroup_data = [18, 22, 25, 30, 34, 36, 37, 40, 43, 50, 52, 55]\n",
    "df = pd.DataFrame(ungroup_data,columns=[\"Customer Ages\"])\n",
    "df"
   ]
  },
  {
   "cell_type": "markdown",
   "id": "d229e301-4274-44ac-8be0-e69a3eb3550d",
   "metadata": {},
   "source": [
    "<body style=\"font-family: Sans-serif;\">\n",
    "    <div style=\"color: black; font-size: 18px; font-style: oblique; text-shadow: 0 0 3px white, 0 0 1px black; padding: 20px;\">\n",
    "\n",
    "Grouped data ko feature engineering mein use karte hain like (binning):"
   ]
  },
  {
   "cell_type": "code",
   "execution_count": 18,
   "id": "8cd1c69d-c635-4013-ab28-8a5a8c4bb206",
   "metadata": {},
   "outputs": [
    {
     "data": {
      "text/html": [
       "<div>\n",
       "<style scoped>\n",
       "    .dataframe tbody tr th:only-of-type {\n",
       "        vertical-align: middle;\n",
       "    }\n",
       "\n",
       "    .dataframe tbody tr th {\n",
       "        vertical-align: top;\n",
       "    }\n",
       "\n",
       "    .dataframe thead th {\n",
       "        text-align: right;\n",
       "    }\n",
       "</style>\n",
       "<table border=\"1\" class=\"dataframe\">\n",
       "  <thead>\n",
       "    <tr style=\"text-align: right;\">\n",
       "      <th></th>\n",
       "      <th>Customer Ages</th>\n",
       "      <th>AgeGroup</th>\n",
       "    </tr>\n",
       "  </thead>\n",
       "  <tbody>\n",
       "    <tr>\n",
       "      <th>0</th>\n",
       "      <td>18</td>\n",
       "      <td>18-25</td>\n",
       "    </tr>\n",
       "    <tr>\n",
       "      <th>1</th>\n",
       "      <td>22</td>\n",
       "      <td>18-25</td>\n",
       "    </tr>\n",
       "    <tr>\n",
       "      <th>2</th>\n",
       "      <td>25</td>\n",
       "      <td>18-25</td>\n",
       "    </tr>\n",
       "    <tr>\n",
       "      <th>3</th>\n",
       "      <td>30</td>\n",
       "      <td>26-35</td>\n",
       "    </tr>\n",
       "    <tr>\n",
       "      <th>4</th>\n",
       "      <td>34</td>\n",
       "      <td>26-35</td>\n",
       "    </tr>\n",
       "    <tr>\n",
       "      <th>5</th>\n",
       "      <td>36</td>\n",
       "      <td>36-45</td>\n",
       "    </tr>\n",
       "    <tr>\n",
       "      <th>6</th>\n",
       "      <td>37</td>\n",
       "      <td>36-45</td>\n",
       "    </tr>\n",
       "    <tr>\n",
       "      <th>7</th>\n",
       "      <td>40</td>\n",
       "      <td>36-45</td>\n",
       "    </tr>\n",
       "    <tr>\n",
       "      <th>8</th>\n",
       "      <td>43</td>\n",
       "      <td>36-45</td>\n",
       "    </tr>\n",
       "    <tr>\n",
       "      <th>9</th>\n",
       "      <td>50</td>\n",
       "      <td>46-60</td>\n",
       "    </tr>\n",
       "    <tr>\n",
       "      <th>10</th>\n",
       "      <td>52</td>\n",
       "      <td>46-60</td>\n",
       "    </tr>\n",
       "    <tr>\n",
       "      <th>11</th>\n",
       "      <td>55</td>\n",
       "      <td>46-60</td>\n",
       "    </tr>\n",
       "  </tbody>\n",
       "</table>\n",
       "</div>"
      ],
      "text/plain": [
       "    Customer Ages AgeGroup\n",
       "0              18    18-25\n",
       "1              22    18-25\n",
       "2              25    18-25\n",
       "3              30    26-35\n",
       "4              34    26-35\n",
       "5              36    36-45\n",
       "6              37    36-45\n",
       "7              40    36-45\n",
       "8              43    36-45\n",
       "9              50    46-60\n",
       "10             52    46-60\n",
       "11             55    46-60"
      ]
     },
     "execution_count": 18,
     "metadata": {},
     "output_type": "execute_result"
    }
   ],
   "source": [
    "bins = [17, 25, 35, 45, 60]\n",
    "labels = ['18-25', '26-35', '36-45', '46-60']\n",
    "df['AgeGroup'] = pd.cut(df['Customer Ages'], bins=bins, labels=labels)\n",
    "df"
   ]
  },
  {
   "cell_type": "markdown",
   "id": "4578e3cc-3d9a-453d-9091-e9a121234855",
   "metadata": {},
   "source": [
    "<body style=\"font-family: Sans-serif;\">\n",
    "    <div style=\"color: black; font-size: 18px; font-style: oblique; text-shadow: 0 0 3px white, 0 0 1px black; padding: 20px;\">\n",
    "\n",
    "| **Use Case**                          | **Grouped Data**                                                                                                                                                        | **Ungrouped Data**                                                                                                                                               |\n",
    "| ------------------------------------- | ----------------------------------------------------------------------------------------------------------------------------------------------------------------------- | ---------------------------------------------------------------------------------------------------------------------------------------------------------------- |\n",
    "| **1. Data Size**                      | **Large Datasets**<br>Jab data bohot zyada ho aur individual values ko track karna mushkil ho.                                                                          | **Small Datasets**<br>Jab data ka size chhota ho, har individual value ko track kiya ja sakta hai.                                                               |\n",
    "| **2. Trend Analysis**                 | **Trend Identification**<br>Jab aapko data ka **general trend** ya pattern dekhna ho (e.g., sales, temperature).                                                        | **Exact Pattern**<br>Agar aapko kisi specific pattern ka **exact analysis** chahiye ho, jaise fraud detection ya anomaly detection.                              |\n",
    "| **3. Data Visualization**             | **Visualization**<br>Jab aapko **histograms, bar charts, frequency polygons** banani ho.                                                                                | **Raw Data Visualizations**<br>Individual values ki **scatter plots** ya time series graphs banani ho.                                                           |\n",
    "| **4. Noise Reduction**                | **Noise Reduction**<br>Grouped data se **random fluctuations** ya noise ko reduce kiya jata hai (e.g., averaging over bins).                                            | **High Variability**<br>Jab data mein **high variability** ho aur har value ka impact samajhna ho.                                                               |\n",
    "| **5. Model Training**                 | **Feature Engineering**<br>Jab aapko **classification** ya **regression models** ke liye features binning (e.g., age groups, salary ranges) create karni ho.            | **Detailed Learning**<br>Jab aap **deep learning models** train kar rahe ho, jisme har data point ka individual importance ho (e.g., image classification, NLP). |\n",
    "| **6. Time-Series or Sequential Data** | **Aggregated Time Data**<br>Jab aapko time intervals mein data ko **bin** karna ho (e.g., daily average temperature, weekly sales).                                     | **High-Resolution Time-Series**<br>Agar aapko **exact timestamps** track karne ho (e.g., stock market prices, IoT sensor readings).                              |\n",
    "| **7. Anomaly or Fraud Detection**     | **Not Ideal**<br>Grouped data may miss anomalies due to grouping (approximation).                                                                                       | **Ideal for Anomalies**<br>Individual points (e.g., transaction amount, time of occurrence) are crucial to detect outliers in fraud detection.                   |\n",
    "| **8. Regression Models**              | **Binning for Regression**<br>Grouped data ko use karke **predictive models** mein class intervals ka use kiya jata hai (e.g., logistic regression with age intervals). | **Precise Predictions**<br>Jab aapko **precise predictions** chahiye ho based on exact data points (e.g., house price prediction based on exact square footage). |\n",
    "| **9. Machine Learning Algorithms**    | **Decision Trees / Random Forest**<br>**Binned Features** use hoti hain grouped data mein, jese \"age group\" ko ek feature ke tor pe treat kiya jata hai.                | **Deep Learning**<br>**Neural Networks** mein exact data points ka analysis hota hai, jese **image pixel data** ya **text embeddings**.                          |\n",
    "| **10. Feature Extraction in AI**      | **Feature Binning**<br>Group data ko **features** ke tor pe use kiya jata hai (e.g., grouping income into categories).                                                  | **Fine-grained Features**<br>Jab **fine-grained** features chahiye ho, jese **individual sentence embedding** for NLP tasks.                                     |\n"
   ]
  },
  {
   "cell_type": "code",
   "execution_count": null,
   "id": "937af24b-2aac-4d63-89b4-9bf4adb7de01",
   "metadata": {},
   "outputs": [],
   "source": []
  },
  {
   "cell_type": "code",
   "execution_count": null,
   "id": "242c0c16-dc13-43d6-a1fa-12f2395f2ca2",
   "metadata": {},
   "outputs": [],
   "source": []
  },
  {
   "cell_type": "code",
   "execution_count": null,
   "id": "41be3ba2-79c1-4fff-93be-7078d2fb5967",
   "metadata": {},
   "outputs": [],
   "source": []
  },
  {
   "cell_type": "code",
   "execution_count": null,
   "id": "8b63ee83-ac58-467f-b674-2f0e0a2d868a",
   "metadata": {},
   "outputs": [],
   "source": []
  },
  {
   "cell_type": "markdown",
   "id": "c890bc01-1bb8-466b-91a6-3fd5f622bcca",
   "metadata": {},
   "source": []
  },
  {
   "cell_type": "markdown",
   "id": "a8d4f192-9300-4a6f-9fa2-d015e656db8e",
   "metadata": {},
   "source": []
  },
  {
   "cell_type": "markdown",
   "id": "0279a75d-c2b9-44d7-a892-98fc726cec0f",
   "metadata": {},
   "source": []
  },
  {
   "cell_type": "code",
   "execution_count": 36,
   "id": "d696043c-d350-43b5-9abf-1c6e4be26849",
   "metadata": {},
   "outputs": [
    {
     "data": {
      "text/html": [
       "<div>\n",
       "<style scoped>\n",
       "    .dataframe tbody tr th:only-of-type {\n",
       "        vertical-align: middle;\n",
       "    }\n",
       "\n",
       "    .dataframe tbody tr th {\n",
       "        vertical-align: top;\n",
       "    }\n",
       "\n",
       "    .dataframe thead th {\n",
       "        text-align: right;\n",
       "    }\n",
       "</style>\n",
       "<table border=\"1\" class=\"dataframe\">\n",
       "  <thead>\n",
       "    <tr style=\"text-align: right;\">\n",
       "      <th></th>\n",
       "      <th>Value</th>\n",
       "    </tr>\n",
       "  </thead>\n",
       "  <tbody>\n",
       "    <tr>\n",
       "      <th>0</th>\n",
       "      <td>4</td>\n",
       "    </tr>\n",
       "    <tr>\n",
       "      <th>1</th>\n",
       "      <td>7</td>\n",
       "    </tr>\n",
       "    <tr>\n",
       "      <th>2</th>\n",
       "      <td>2</td>\n",
       "    </tr>\n",
       "    <tr>\n",
       "      <th>3</th>\n",
       "      <td>9</td>\n",
       "    </tr>\n",
       "    <tr>\n",
       "      <th>4</th>\n",
       "      <td>12</td>\n",
       "    </tr>\n",
       "  </tbody>\n",
       "</table>\n",
       "</div>"
      ],
      "text/plain": [
       "   Value\n",
       "0      4\n",
       "1      7\n",
       "2      2\n",
       "3      9\n",
       "4     12"
      ]
     },
     "execution_count": 36,
     "metadata": {},
     "output_type": "execute_result"
    }
   ],
   "source": [
    "data = [4, 7, 2, 9, 12]\n",
    "df = pd.DataFrame(data, columns=[\"Value\"])\n",
    "df"
   ]
  },
  {
   "cell_type": "code",
   "execution_count": 40,
   "id": "37b61b9f-cffd-4c77-a8c7-f3a5c979edd4",
   "metadata": {},
   "outputs": [
    {
     "name": "stdout",
     "output_type": "stream",
     "text": [
      "6.8\n"
     ]
    }
   ],
   "source": [
    "c_sum = 0\n",
    "for i in data:\n",
    "    c_sum += i\n",
    "\n",
    "print(c_sum/len(data))"
   ]
  },
  {
   "cell_type": "code",
   "execution_count": 3,
   "id": "5401b6b2-f892-4a33-a64d-337e3e5c81ab",
   "metadata": {},
   "outputs": [
    {
     "data": {
      "text/plain": [
       "Value    6.8\n",
       "dtype: float64"
      ]
     },
     "execution_count": 3,
     "metadata": {},
     "output_type": "execute_result"
    }
   ],
   "source": [
    "df.mean()"
   ]
  },
  {
   "cell_type": "markdown",
   "id": "3fab67c8-f1a7-4796-bab6-dbd8ddddab9c",
   "metadata": {},
   "source": [
    "<body style=\"font-family: Sans-serif;\">\n",
    "    <div style=\"color: black; font-size: 18px; font-style: oblique; text-shadow: 0 0 3px white, 0 0 1px black; padding: 20px;\">\n",
    "\n",
    "Mean of Grouped Data :\n",
    "\n",
    "- Grouped data ko samajhne ke liye pehle hum *`class intervals`* ka use karte hain.\n",
    "- Har class ka ek midpoint hota hai, aur hum un midpoints ko frequency ke saath multiply karte hain.\n",
    "\n",
    "---\n",
    "\n",
    "``` \n",
    "Example Data (Grouped):\n",
    "    Classes: 0-5, 5-10, 10-15\n",
    "    Frequencies: 3, 4, 2\n",
    "```\n",
    "---\n",
    "```\n",
    "Step 1: Har class ke liye midpoints nikaalo:\n",
    "\n",
    "    0-5 → Midpoint = 2.5\n",
    "\n",
    "    5-10 → Midpoint = 7.5\n",
    "\n",
    "    10-15 → Midpoint = 12.5\n",
    "```\n",
    "---\n",
    "<br>\n",
    "\n",
    "```\n",
    "Step 2: Midpoint ko frequency se multiply karo:\n",
    "\n",
    "                2.5 × 3 = 7.5\n",
    "                7.5 × 4 = 30\n",
    "                12.5 × 2 = 25\n",
    "```\n",
    "---\n",
    "```\n",
    "Step 3: Sab values ko add karo:\n",
    "            7.5 + 30 + 25 = 62.5\n",
    "\n",
    "```\n",
    "---\n",
    "```\n",
    "Step 4: Frequency ka sum karo:\n",
    "            3 + 4 + 2 = 9\n",
    "```\n",
    "---\n",
    "```\n",
    "Step 5: Total sum ko total frequency se divide karo:\n",
    "        Mean = 62.5 / 9 = 6.94\n",
    "\n",
    "        \n",
    "Mean = 6.94\n",
    "```\n",
    "\n",
    "<img src=\"./images/14.jpg\" style=\"width: 60%; display: block; margin-left: auto; margin-right: auto;\">"
   ]
  },
  {
   "cell_type": "code",
   "execution_count": 52,
   "id": "b1834785-2277-4f4b-b73c-82d1f789ba9c",
   "metadata": {},
   "outputs": [
    {
     "data": {
      "text/html": [
       "<div>\n",
       "<style scoped>\n",
       "    .dataframe tbody tr th:only-of-type {\n",
       "        vertical-align: middle;\n",
       "    }\n",
       "\n",
       "    .dataframe tbody tr th {\n",
       "        vertical-align: top;\n",
       "    }\n",
       "\n",
       "    .dataframe thead th {\n",
       "        text-align: right;\n",
       "    }\n",
       "</style>\n",
       "<table border=\"1\" class=\"dataframe\">\n",
       "  <thead>\n",
       "    <tr style=\"text-align: right;\">\n",
       "      <th></th>\n",
       "      <th>f</th>\n",
       "      <th>Class</th>\n",
       "    </tr>\n",
       "  </thead>\n",
       "  <tbody>\n",
       "    <tr>\n",
       "      <th>0</th>\n",
       "      <td>3</td>\n",
       "      <td>0-5</td>\n",
       "    </tr>\n",
       "    <tr>\n",
       "      <th>1</th>\n",
       "      <td>4</td>\n",
       "      <td>5-10</td>\n",
       "    </tr>\n",
       "    <tr>\n",
       "      <th>2</th>\n",
       "      <td>2</td>\n",
       "      <td>10-15</td>\n",
       "    </tr>\n",
       "  </tbody>\n",
       "</table>\n",
       "</div>"
      ],
      "text/plain": [
       "   f  Class\n",
       "0  3    0-5\n",
       "1  4   5-10\n",
       "2  2  10-15"
      ]
     },
     "execution_count": 52,
     "metadata": {},
     "output_type": "execute_result"
    }
   ],
   "source": [
    "data = {\n",
    "    'f': [3, 4, 2],\n",
    "    'Class': ['0-5', '5-10', '10-15']\n",
    "}\n",
    "\n",
    "df_grouped = pd.DataFrame(data)\n",
    "df_grouped"
   ]
  },
  {
   "cell_type": "code",
   "execution_count": 54,
   "id": "ed5dc62c-a25d-4fe2-88a0-92eed6405df4",
   "metadata": {},
   "outputs": [
    {
     "data": {
      "text/html": [
       "<div>\n",
       "<style scoped>\n",
       "    .dataframe tbody tr th:only-of-type {\n",
       "        vertical-align: middle;\n",
       "    }\n",
       "\n",
       "    .dataframe tbody tr th {\n",
       "        vertical-align: top;\n",
       "    }\n",
       "\n",
       "    .dataframe thead th {\n",
       "        text-align: right;\n",
       "    }\n",
       "</style>\n",
       "<table border=\"1\" class=\"dataframe\">\n",
       "  <thead>\n",
       "    <tr style=\"text-align: right;\">\n",
       "      <th></th>\n",
       "      <th>f</th>\n",
       "      <th>Class</th>\n",
       "      <th>M</th>\n",
       "    </tr>\n",
       "  </thead>\n",
       "  <tbody>\n",
       "    <tr>\n",
       "      <th>0</th>\n",
       "      <td>3</td>\n",
       "      <td>0-5</td>\n",
       "      <td>2.5</td>\n",
       "    </tr>\n",
       "    <tr>\n",
       "      <th>1</th>\n",
       "      <td>4</td>\n",
       "      <td>5-10</td>\n",
       "      <td>7.5</td>\n",
       "    </tr>\n",
       "    <tr>\n",
       "      <th>2</th>\n",
       "      <td>2</td>\n",
       "      <td>10-15</td>\n",
       "      <td>12.5</td>\n",
       "    </tr>\n",
       "  </tbody>\n",
       "</table>\n",
       "</div>"
      ],
      "text/plain": [
       "   f  Class     M\n",
       "0  3    0-5   2.5\n",
       "1  4   5-10   7.5\n",
       "2  2  10-15  12.5"
      ]
     },
     "execution_count": 54,
     "metadata": {},
     "output_type": "execute_result"
    }
   ],
   "source": [
    "df_grouped['M'] = df_grouped['Class'].str.split('-').apply(lambda i:(int(i[0]) + int(i[-1]))/2)\n",
    "df_grouped"
   ]
  },
  {
   "cell_type": "code",
   "execution_count": 55,
   "id": "72016d67-ca2f-4d0c-ad27-63fba5558f03",
   "metadata": {},
   "outputs": [
    {
     "data": {
      "text/html": [
       "<div>\n",
       "<style scoped>\n",
       "    .dataframe tbody tr th:only-of-type {\n",
       "        vertical-align: middle;\n",
       "    }\n",
       "\n",
       "    .dataframe tbody tr th {\n",
       "        vertical-align: top;\n",
       "    }\n",
       "\n",
       "    .dataframe thead th {\n",
       "        text-align: right;\n",
       "    }\n",
       "</style>\n",
       "<table border=\"1\" class=\"dataframe\">\n",
       "  <thead>\n",
       "    <tr style=\"text-align: right;\">\n",
       "      <th></th>\n",
       "      <th>f</th>\n",
       "      <th>Class</th>\n",
       "      <th>M</th>\n",
       "      <th>F*M</th>\n",
       "    </tr>\n",
       "  </thead>\n",
       "  <tbody>\n",
       "    <tr>\n",
       "      <th>0</th>\n",
       "      <td>3</td>\n",
       "      <td>0-5</td>\n",
       "      <td>2.5</td>\n",
       "      <td>7.5</td>\n",
       "    </tr>\n",
       "    <tr>\n",
       "      <th>1</th>\n",
       "      <td>4</td>\n",
       "      <td>5-10</td>\n",
       "      <td>7.5</td>\n",
       "      <td>30.0</td>\n",
       "    </tr>\n",
       "    <tr>\n",
       "      <th>2</th>\n",
       "      <td>2</td>\n",
       "      <td>10-15</td>\n",
       "      <td>12.5</td>\n",
       "      <td>25.0</td>\n",
       "    </tr>\n",
       "  </tbody>\n",
       "</table>\n",
       "</div>"
      ],
      "text/plain": [
       "   f  Class     M   F*M\n",
       "0  3    0-5   2.5   7.5\n",
       "1  4   5-10   7.5  30.0\n",
       "2  2  10-15  12.5  25.0"
      ]
     },
     "execution_count": 55,
     "metadata": {},
     "output_type": "execute_result"
    }
   ],
   "source": [
    "df_grouped['F*M'] = df_grouped['f'] * df_grouped['M']\n",
    "df_grouped"
   ]
  },
  {
   "cell_type": "code",
   "execution_count": 56,
   "id": "37072ed8-4377-4894-a5cd-0f211929f869",
   "metadata": {},
   "outputs": [
    {
     "data": {
      "text/plain": [
       "np.int64(9)"
      ]
     },
     "execution_count": 56,
     "metadata": {},
     "output_type": "execute_result"
    }
   ],
   "source": [
    "df_grouped['f'].sum()"
   ]
  },
  {
   "cell_type": "code",
   "execution_count": 57,
   "id": "3fd7f9bd-6511-4105-a606-da857bb4f151",
   "metadata": {},
   "outputs": [
    {
     "data": {
      "text/plain": [
       "np.float64(62.5)"
      ]
     },
     "execution_count": 57,
     "metadata": {},
     "output_type": "execute_result"
    }
   ],
   "source": [
    "df_grouped['F*M'].sum()"
   ]
  },
  {
   "cell_type": "code",
   "execution_count": 59,
   "id": "60af1aa7-dd08-4306-aaf2-82243b9c4d67",
   "metadata": {},
   "outputs": [
    {
     "name": "stdout",
     "output_type": "stream",
     "text": [
      "6.944444444444445\n"
     ]
    }
   ],
   "source": [
    "m = df_grouped['F*M'].sum() / df_grouped['f'].sum()\n",
    "print(m)"
   ]
  },
  {
   "cell_type": "markdown",
   "id": "339b8612-8ed6-4ce4-9675-32e3c3fcc5cb",
   "metadata": {},
   "source": [
    "<body style=\"font-family: Sans-serif;\">\n",
    "    <div style=\"color: black; font-size: 18px; font-style: oblique; text-shadow: 0 0 3px white, 0 0 1px black; padding: 20px;\">\n",
    "\n",
    "## -> Mean Examples "
   ]
  },
  {
   "cell_type": "markdown",
   "id": "57b15b12-2048-4607-a544-92b2f337a93a",
   "metadata": {},
   "source": [
    "<body style=\"font-family: Sans-serif;\">\n",
    "    <div style=\"color: black; font-size: 18px; font-style: oblique; text-shadow: 0 0 3px white, 0 0 1px black; padding: 20px;\">\n",
    "\n",
    "- Ek company mein 7 log kaam kar rahe hain, humein dekhna hai:\n",
    "    - “Company mein salary level fair hai ya nahi?”"
   ]
  },
  {
   "cell_type": "code",
   "execution_count": 4,
   "id": "854b7933-1d5f-4b5c-acaf-fc4ce05748a7",
   "metadata": {},
   "outputs": [
    {
     "data": {
      "text/plain": [
       "[40000, 42000, 45000, 47000, 50000, 52000, 55000]"
      ]
     },
     "execution_count": 4,
     "metadata": {},
     "output_type": "execute_result"
    }
   ],
   "source": [
    "salaries_balanced = [40000, 42000, 45000, 47000, 50000, 52000, 55000]\n",
    "salaries_balanced"
   ]
  },
  {
   "cell_type": "markdown",
   "id": "eae2ed0a-cb36-49ad-96d7-28b471ec170e",
   "metadata": {},
   "source": [
    "<body style=\"font-family: Sans-serif;\">\n",
    "    <div style=\"color: black; font-size: 18px; font-style: oblique; text-shadow: 0 0 3px white, 0 0 1px black; padding: 20px;\">\n",
    "        \n",
    "- Yahan mean kya karega?\n",
    "    - Har employee ki salary average ke kareeb hai\n",
    "    - Company fair lagti hai"
   ]
  },
  {
   "cell_type": "code",
   "execution_count": 5,
   "id": "d269e816-965c-4d1c-98c8-acd11d8c3e3b",
   "metadata": {},
   "outputs": [
    {
     "data": {
      "text/plain": [
       "[30000, 32000, 35000, 38000, 40000, 42000, 300000]"
      ]
     },
     "execution_count": 5,
     "metadata": {},
     "output_type": "execute_result"
    }
   ],
   "source": [
    "salaries_biased = [30000, 32000, 35000, 38000, 40000, 42000, 300000]\n",
    "salaries_biased"
   ]
  },
  {
   "cell_type": "markdown",
   "id": "3d0f1c1d-88ca-4892-a44d-0f132d7fe89f",
   "metadata": {},
   "source": [
    "<body style=\"font-family: Sans-serif;\">\n",
    "    <div style=\"color: black; font-size: 18px; font-style: oblique; text-shadow: 0 0 3px white, 0 0 1px black; padding: 20px;\">\n",
    "\n",
    "- Yahan mean kya karega?\n",
    "    - CEO ki salary bohot zyada hai\n",
    "    - Mean salary high show karega\n",
    "    - Real employees ki salaries actually kam hain!"
   ]
  },
  {
   "cell_type": "code",
   "execution_count": 6,
   "id": "aeecb2aa-c435-47df-b8ec-8a4a30c5b995",
   "metadata": {},
   "outputs": [],
   "source": [
    "import numpy as np\n",
    "import matplotlib.pyplot as plt"
   ]
  },
  {
   "cell_type": "code",
   "execution_count": 7,
   "id": "14707366-c98d-4f1b-b0c7-edd060735c7d",
   "metadata": {},
   "outputs": [],
   "source": [
    "salaries_balanced = [40000, 42000, 45000, 47000, 50000, 52000, 55000]\n",
    "salaries_biased = [30000, 32000, 35000, 38000, 40000, 42000, 300000]"
   ]
  },
  {
   "cell_type": "code",
   "execution_count": 8,
   "id": "6b77be8d-bf30-4d00-9895-d38c05c04979",
   "metadata": {},
   "outputs": [
    {
     "name": "stdout",
     "output_type": "stream",
     "text": [
      "47285.71428571428 73857.14285714286\n"
     ]
    }
   ],
   "source": [
    "# Mean calculate\n",
    "mean_bal = np.mean(salaries_balanced)\n",
    "mean_bias = np.mean(salaries_biased)\n",
    "\n",
    "print(mean_bal,mean_bias)"
   ]
  },
  {
   "cell_type": "code",
   "execution_count": 9,
   "id": "bf708e47-9aba-47ab-88f4-5010e399dcc7",
   "metadata": {},
   "outputs": [
    {
     "data": {
      "image/png": "[encoded data removed]",
      "text/plain": [
       "<Figure size 1400x500 with 2 Axes>"
      ]
     },
     "metadata": {},
     "output_type": "display_data"
    }
   ],
   "source": [
    "# Plot\n",
    "fig, axs = plt.subplots(1, 2, figsize=(14, 5))\n",
    "\n",
    "# Balanced salaries\n",
    "axs[0].bar(range(len(salaries_balanced)), salaries_balanced, color='skyblue')\n",
    "axs[0].axhline(mean_bal, color='red', linestyle='--', label=f'Mean = {mean_bal:,.0f}')\n",
    "axs[0].set_title(\"Balanced Salaries\")\n",
    "axs[0].set_xlabel(\"Employee\")\n",
    "axs[0].set_ylabel(\"Salary\")\n",
    "axs[0].legend()\n",
    "axs[0].grid(True)\n",
    "\n",
    "# Biased salaries\n",
    "axs[1].bar(range(len(salaries_biased)), salaries_biased, color='orange')\n",
    "axs[1].axhline(mean_bias, color='red', linestyle='--', label=f'Mean = {mean_bias:,.0f}')\n",
    "axs[1].set_title(\"Biased Salaries (CEO = 300K)\")\n",
    "axs[1].set_xlabel(\"Employee\")\n",
    "axs[1].set_ylabel(\"Salary\")\n",
    "axs[1].legend()\n",
    "axs[1].grid(True)\n",
    "\n",
    "plt.suptitle(\"Mean Salary Comparison: Balanced vs Biased\", fontsize=15)\n",
    "plt.tight_layout()\n",
    "plt.show()"
   ]
  },
  {
   "cell_type": "markdown",
   "id": "eb2bb450-9472-488e-ae01-b869ed63293e",
   "metadata": {},
   "source": [
    "<body style=\"font-family: Sans-serif;\">\n",
    "    <div style=\"color: black; font-size: 18px; font-style: oblique; text-shadow: 0 0 3px white, 0 0 1px black; padding: 20px;\">\n",
    "\n",
    "- 2 Median\n",
    "    - Median wo value hoti hai jo data ko half mein divide karti hai.\n",
    "    - Agar data sorted hai toh:\n",
    "        - Odd number of data points: Median = Middle element          \n",
    "        - Even number of data points: Median = Average of two middle elements\n"
   ]
  },
  {
   "cell_type": "markdown",
   "id": "9a80694d-7a5e-43e0-997a-69f9161e72b6",
   "metadata": {},
   "source": [
    "<body style=\"font-family: Sans-serif;\">\n",
    "    <div style=\"color: black; font-size: 18px; font-style: oblique; text-shadow: 0 0 3px white, 0 0 1px black; padding: 20px;\">\n",
    "        \n",
    "- Odd Number Example\n",
    "<img src=\"./images/15.jpg\" style=\"width: 60%; display: block; margin-left: auto; margin-right: auto;\">"
   ]
  },
  {
   "cell_type": "code",
   "execution_count": 26,
   "id": "b749da67-fdd7-4d82-aa77-0a847b249abe",
   "metadata": {},
   "outputs": [
    {
     "data": {
      "text/html": [
       "<div>\n",
       "<style scoped>\n",
       "    .dataframe tbody tr th:only-of-type {\n",
       "        vertical-align: middle;\n",
       "    }\n",
       "\n",
       "    .dataframe tbody tr th {\n",
       "        vertical-align: top;\n",
       "    }\n",
       "\n",
       "    .dataframe thead th {\n",
       "        text-align: right;\n",
       "    }\n",
       "</style>\n",
       "<table border=\"1\" class=\"dataframe\">\n",
       "  <thead>\n",
       "    <tr style=\"text-align: right;\">\n",
       "      <th></th>\n",
       "      <th>Value</th>\n",
       "    </tr>\n",
       "  </thead>\n",
       "  <tbody>\n",
       "    <tr>\n",
       "      <th>0</th>\n",
       "      <td>4</td>\n",
       "    </tr>\n",
       "    <tr>\n",
       "      <th>1</th>\n",
       "      <td>7</td>\n",
       "    </tr>\n",
       "    <tr>\n",
       "      <th>2</th>\n",
       "      <td>2</td>\n",
       "    </tr>\n",
       "    <tr>\n",
       "      <th>3</th>\n",
       "      <td>9</td>\n",
       "    </tr>\n",
       "    <tr>\n",
       "      <th>4</th>\n",
       "      <td>12</td>\n",
       "    </tr>\n",
       "  </tbody>\n",
       "</table>\n",
       "</div>"
      ],
      "text/plain": [
       "   Value\n",
       "0      4\n",
       "1      7\n",
       "2      2\n",
       "3      9\n",
       "4     12"
      ]
     },
     "execution_count": 26,
     "metadata": {},
     "output_type": "execute_result"
    }
   ],
   "source": [
    "data = [4, 7, 2, 9, 12]\n",
    "df = pd.DataFrame(data, columns=[\"Value\"])\n",
    "df"
   ]
  },
  {
   "cell_type": "code",
   "execution_count": 27,
   "id": "45309124-3b25-4048-b229-32db23804eab",
   "metadata": {},
   "outputs": [
    {
     "data": {
      "text/plain": [
       "[2, 4, 7, 9, 12]"
      ]
     },
     "execution_count": 27,
     "metadata": {},
     "output_type": "execute_result"
    }
   ],
   "source": [
    "data = sorted(data)\n",
    "data"
   ]
  },
  {
   "cell_type": "code",
   "execution_count": 28,
   "id": "356fcd05-6b0b-41f0-962a-7f87e2c85a68",
   "metadata": {},
   "outputs": [
    {
     "data": {
      "text/plain": [
       "2"
      ]
     },
     "execution_count": 28,
     "metadata": {},
     "output_type": "execute_result"
    }
   ],
   "source": [
    "int(len(data) / 2)"
   ]
  },
  {
   "cell_type": "code",
   "execution_count": 29,
   "id": "562fe835-35a0-4cb1-8c09-aba60e662a7e",
   "metadata": {},
   "outputs": [
    {
     "data": {
      "text/plain": [
       "7"
      ]
     },
     "execution_count": 29,
     "metadata": {},
     "output_type": "execute_result"
    }
   ],
   "source": [
    "data[int(len(data) / 2)]"
   ]
  },
  {
   "cell_type": "code",
   "execution_count": 35,
   "id": "1c65cadd-30ab-4b8a-b226-0fc5bc893279",
   "metadata": {},
   "outputs": [
    {
     "data": {
      "text/plain": [
       "Value    7.0\n",
       "dtype: float64"
      ]
     },
     "execution_count": 35,
     "metadata": {},
     "output_type": "execute_result"
    }
   ],
   "source": [
    "# with direct pandas\n",
    "df.median()"
   ]
  },
  {
   "attachments": {},
   "cell_type": "markdown",
   "id": "fedb1ba0-3ed0-4787-a5dd-1bab20753820",
   "metadata": {},
   "source": [
    "<body style=\"font-family: Sans-serif;\">\n",
    "    <div style=\"color: black; font-size: 18px; font-style: oblique; text-shadow: 0 0 3px white, 0 0 1px black; padding: 20px;\">\n",
    "        \n",
    "- Even Number Example\n",
    "<img src=\"./images/16.jpg\" style=\"width: 60%; display: block; margin-left: auto; margin-right: auto;\">"
   ]
  },
  {
   "cell_type": "code",
   "execution_count": 6,
   "id": "d45f9e8c-39a0-49e1-97ed-78cc8f6a4288",
   "metadata": {},
   "outputs": [
    {
     "data": {
      "text/html": [
       "<div>\n",
       "<style scoped>\n",
       "    .dataframe tbody tr th:only-of-type {\n",
       "        vertical-align: middle;\n",
       "    }\n",
       "\n",
       "    .dataframe tbody tr th {\n",
       "        vertical-align: top;\n",
       "    }\n",
       "\n",
       "    .dataframe thead th {\n",
       "        text-align: right;\n",
       "    }\n",
       "</style>\n",
       "<table border=\"1\" class=\"dataframe\">\n",
       "  <thead>\n",
       "    <tr style=\"text-align: right;\">\n",
       "      <th></th>\n",
       "      <th>Value</th>\n",
       "    </tr>\n",
       "  </thead>\n",
       "  <tbody>\n",
       "    <tr>\n",
       "      <th>0</th>\n",
       "      <td>4</td>\n",
       "    </tr>\n",
       "    <tr>\n",
       "      <th>1</th>\n",
       "      <td>7</td>\n",
       "    </tr>\n",
       "    <tr>\n",
       "      <th>2</th>\n",
       "      <td>2</td>\n",
       "    </tr>\n",
       "    <tr>\n",
       "      <th>3</th>\n",
       "      <td>12</td>\n",
       "    </tr>\n",
       "    <tr>\n",
       "      <th>4</th>\n",
       "      <td>6</td>\n",
       "    </tr>\n",
       "    <tr>\n",
       "      <th>5</th>\n",
       "      <td>10</td>\n",
       "    </tr>\n",
       "  </tbody>\n",
       "</table>\n",
       "</div>"
      ],
      "text/plain": [
       "   Value\n",
       "0      4\n",
       "1      7\n",
       "2      2\n",
       "3     12\n",
       "4      6\n",
       "5     10"
      ]
     },
     "execution_count": 6,
     "metadata": {},
     "output_type": "execute_result"
    }
   ],
   "source": [
    "data = [4,7,2,12,6,10]\n",
    "df = pd.DataFrame(data,columns=[\"Value\"])\n",
    "df"
   ]
  },
  {
   "cell_type": "code",
   "execution_count": 10,
   "id": "cfeccf56-c93d-420d-8d00-4b4166a69ce3",
   "metadata": {},
   "outputs": [
    {
     "data": {
      "text/plain": [
       "[2, 4, 6, 7, 10, 12]"
      ]
     },
     "execution_count": 10,
     "metadata": {},
     "output_type": "execute_result"
    }
   ],
   "source": [
    "data = sorted(data)\n",
    "data"
   ]
  },
  {
   "cell_type": "code",
   "execution_count": 11,
   "id": "6c9c4bfa-7830-41c2-88b6-6d91954ba6e3",
   "metadata": {},
   "outputs": [
    {
     "data": {
      "text/plain": [
       "6"
      ]
     },
     "execution_count": 11,
     "metadata": {},
     "output_type": "execute_result"
    }
   ],
   "source": [
    "len(data)"
   ]
  },
  {
   "cell_type": "code",
   "execution_count": 23,
   "id": "0fdaf318-7043-4175-bad6-5d8770c560d8",
   "metadata": {},
   "outputs": [
    {
     "name": "stdout",
     "output_type": "stream",
     "text": [
      "Index 2 3\n",
      "Value 6 7\n",
      "Median 6.5\n"
     ]
    }
   ],
   "source": [
    "if len(data) % 2 == 0:\n",
    "    #index\n",
    "    upper = int(len(data)/2) -1\n",
    "    lower = int(len(data)/2)\n",
    "    print('Index',upper,lower)\n",
    "    print('Value',data[upper],data[lower])\n",
    "    print(\"Median\",(data[upper] + data[lower]) / 2)"
   ]
  },
  {
   "cell_type": "code",
   "execution_count": 25,
   "id": "0a822966-a979-4f4c-b9d0-f14fc33d74a5",
   "metadata": {},
   "outputs": [
    {
     "data": {
      "text/plain": [
       "Value    6.5\n",
       "dtype: float64"
      ]
     },
     "execution_count": 25,
     "metadata": {},
     "output_type": "execute_result"
    }
   ],
   "source": [
    "# with direct pandas\n",
    "df.median()"
   ]
  },
  {
   "attachments": {},
   "cell_type": "markdown",
   "id": "99efc4b1-6d9c-48a8-9a0b-1f48581a7409",
   "metadata": {},
   "source": [
    "<body style=\"font-family: Sans-serif;\">\n",
    "    <div style=\"color: black; font-size: 18px; font-style: oblique; text-shadow: 0 0 3px white, 0 0 1px black; padding: 20px;\">\n",
    "\n",
    "- Median for Group Data (if Data Points Sum (N) are Even)\n",
    "\n",
    "<img src=\"./images/17.jpg\" style=\"width: 60%; display: block; margin-left: auto; margin-right: auto;\">"
   ]
  },
  {
   "cell_type": "code",
   "execution_count": 136,
   "id": "9a00d8fe-4759-40b0-aa24-0bed3f7b8e50",
   "metadata": {},
   "outputs": [
    {
     "data": {
      "text/html": [
       "<div>\n",
       "<style scoped>\n",
       "    .dataframe tbody tr th:only-of-type {\n",
       "        vertical-align: middle;\n",
       "    }\n",
       "\n",
       "    .dataframe tbody tr th {\n",
       "        vertical-align: top;\n",
       "    }\n",
       "\n",
       "    .dataframe thead th {\n",
       "        text-align: right;\n",
       "    }\n",
       "</style>\n",
       "<table border=\"1\" class=\"dataframe\">\n",
       "  <thead>\n",
       "    <tr style=\"text-align: right;\">\n",
       "      <th></th>\n",
       "      <th>class</th>\n",
       "      <th>f</th>\n",
       "    </tr>\n",
       "  </thead>\n",
       "  <tbody>\n",
       "    <tr>\n",
       "      <th>0</th>\n",
       "      <td>0-5</td>\n",
       "      <td>3</td>\n",
       "    </tr>\n",
       "    <tr>\n",
       "      <th>1</th>\n",
       "      <td>5-10</td>\n",
       "      <td>4</td>\n",
       "    </tr>\n",
       "    <tr>\n",
       "      <th>2</th>\n",
       "      <td>10-15</td>\n",
       "      <td>3</td>\n",
       "    </tr>\n",
       "  </tbody>\n",
       "</table>\n",
       "</div>"
      ],
      "text/plain": [
       "   class  f\n",
       "0    0-5  3\n",
       "1   5-10  4\n",
       "2  10-15  3"
      ]
     },
     "execution_count": 136,
     "metadata": {},
     "output_type": "execute_result"
    }
   ],
   "source": [
    "class_ = [\"0-5\",\"5-10\",\"10-15\"]\n",
    "f = [3,4,3]\n",
    "df = pd.DataFrame({\"class\":class_,\"f\":f})\n",
    "df"
   ]
  },
  {
   "cell_type": "code",
   "execution_count": 137,
   "id": "139299b3-4a94-4e4a-a3f7-47a73c94254f",
   "metadata": {},
   "outputs": [
    {
     "data": {
      "text/plain": [
       "[3, 7, 10]"
      ]
     },
     "execution_count": 137,
     "metadata": {},
     "output_type": "execute_result"
    }
   ],
   "source": [
    "cm = [f[0]]\n",
    "for i in f[1:]:\n",
    "    cm.append(cm[-1]+i)\n",
    "cm"
   ]
  },
  {
   "cell_type": "code",
   "execution_count": 138,
   "id": "b3fdbe54-58ff-4f62-8529-cdb29f2b6ace",
   "metadata": {},
   "outputs": [
    {
     "data": {
      "text/html": [
       "<div>\n",
       "<style scoped>\n",
       "    .dataframe tbody tr th:only-of-type {\n",
       "        vertical-align: middle;\n",
       "    }\n",
       "\n",
       "    .dataframe tbody tr th {\n",
       "        vertical-align: top;\n",
       "    }\n",
       "\n",
       "    .dataframe thead th {\n",
       "        text-align: right;\n",
       "    }\n",
       "</style>\n",
       "<table border=\"1\" class=\"dataframe\">\n",
       "  <thead>\n",
       "    <tr style=\"text-align: right;\">\n",
       "      <th></th>\n",
       "      <th>class</th>\n",
       "      <th>f</th>\n",
       "      <th>cm</th>\n",
       "    </tr>\n",
       "  </thead>\n",
       "  <tbody>\n",
       "    <tr>\n",
       "      <th>0</th>\n",
       "      <td>0-5</td>\n",
       "      <td>3</td>\n",
       "      <td>3</td>\n",
       "    </tr>\n",
       "    <tr>\n",
       "      <th>1</th>\n",
       "      <td>5-10</td>\n",
       "      <td>4</td>\n",
       "      <td>7</td>\n",
       "    </tr>\n",
       "    <tr>\n",
       "      <th>2</th>\n",
       "      <td>10-15</td>\n",
       "      <td>3</td>\n",
       "      <td>10</td>\n",
       "    </tr>\n",
       "  </tbody>\n",
       "</table>\n",
       "</div>"
      ],
      "text/plain": [
       "   class  f  cm\n",
       "0    0-5  3   3\n",
       "1   5-10  4   7\n",
       "2  10-15  3  10"
      ]
     },
     "execution_count": 138,
     "metadata": {},
     "output_type": "execute_result"
    }
   ],
   "source": [
    "df['cm'] = cm\n",
    "df"
   ]
  },
  {
   "cell_type": "code",
   "execution_count": 139,
   "id": "0c892bd0-3a94-4735-a4da-ba3dc76c0585",
   "metadata": {},
   "outputs": [
    {
     "data": {
      "text/plain": [
       "0     3\n",
       "1     7\n",
       "2    10\n",
       "Name: f, dtype: int64"
      ]
     },
     "execution_count": 139,
     "metadata": {},
     "output_type": "execute_result"
    }
   ],
   "source": [
    "# direct in pandas\n",
    "df[\"f\"].cumsum()"
   ]
  },
  {
   "cell_type": "code",
   "execution_count": 140,
   "id": "188d8950-25e1-4f9d-ad13-355a647961e2",
   "metadata": {},
   "outputs": [
    {
     "name": "stdout",
     "output_type": "stream",
     "text": [
      "10\n"
     ]
    }
   ],
   "source": [
    "# find n\n",
    "\n",
    "c_sum = 0\n",
    "for i in f:\n",
    "    c_sum += i\n",
    "N = c_sum\n",
    "print(N)"
   ]
  },
  {
   "cell_type": "code",
   "execution_count": 141,
   "id": "224dfaa2-eb8f-4331-8f88-6ed11b149ef2",
   "metadata": {},
   "outputs": [
    {
     "data": {
      "text/html": [
       "<div>\n",
       "<style scoped>\n",
       "    .dataframe tbody tr th:only-of-type {\n",
       "        vertical-align: middle;\n",
       "    }\n",
       "\n",
       "    .dataframe tbody tr th {\n",
       "        vertical-align: top;\n",
       "    }\n",
       "\n",
       "    .dataframe thead th {\n",
       "        text-align: right;\n",
       "    }\n",
       "</style>\n",
       "<table border=\"1\" class=\"dataframe\">\n",
       "  <thead>\n",
       "    <tr style=\"text-align: right;\">\n",
       "      <th></th>\n",
       "      <th>class</th>\n",
       "      <th>f</th>\n",
       "      <th>cm</th>\n",
       "    </tr>\n",
       "  </thead>\n",
       "  <tbody>\n",
       "    <tr>\n",
       "      <th>0</th>\n",
       "      <td>0-5</td>\n",
       "      <td>3</td>\n",
       "      <td>3</td>\n",
       "    </tr>\n",
       "    <tr>\n",
       "      <th>1</th>\n",
       "      <td>5-10</td>\n",
       "      <td>4</td>\n",
       "      <td>7</td>\n",
       "    </tr>\n",
       "    <tr>\n",
       "      <th>2</th>\n",
       "      <td>10-15</td>\n",
       "      <td>3</td>\n",
       "      <td>10</td>\n",
       "    </tr>\n",
       "  </tbody>\n",
       "</table>\n",
       "</div>"
      ],
      "text/plain": [
       "   class  f  cm\n",
       "0    0-5  3   3\n",
       "1   5-10  4   7\n",
       "2  10-15  3  10"
      ]
     },
     "execution_count": 141,
     "metadata": {},
     "output_type": "execute_result"
    }
   ],
   "source": [
    "df"
   ]
  },
  {
   "cell_type": "code",
   "execution_count": 142,
   "id": "5c1ff8d3-9f4f-47cc-9030-721b11f5e234",
   "metadata": {},
   "outputs": [
    {
     "data": {
      "text/plain": [
       "[3, 7, 10]"
      ]
     },
     "execution_count": 142,
     "metadata": {},
     "output_type": "execute_result"
    }
   ],
   "source": [
    "cm"
   ]
  },
  {
   "cell_type": "code",
   "execution_count": 143,
   "id": "b0c35f68-1ee5-4179-91e2-aa12ee0ac87b",
   "metadata": {},
   "outputs": [
    {
     "data": {
      "text/plain": [
       "3"
      ]
     },
     "execution_count": 143,
     "metadata": {},
     "output_type": "execute_result"
    }
   ],
   "source": [
    "# find F \n",
    "F = cm[int(len(cm) / 2) - 1]\n",
    "F"
   ]
  },
  {
   "cell_type": "code",
   "execution_count": 144,
   "id": "061a3b56-6c0f-4946-8ca1-48b572007bc1",
   "metadata": {},
   "outputs": [
    {
     "data": {
      "text/plain": [
       "4"
      ]
     },
     "execution_count": 144,
     "metadata": {},
     "output_type": "execute_result"
    }
   ],
   "source": [
    "# find f\n",
    "f = f[int(len(f) / 2)]\n",
    "f"
   ]
  },
  {
   "cell_type": "code",
   "execution_count": 145,
   "id": "04a26f70-13cd-45fc-8c80-244ad3801e51",
   "metadata": {},
   "outputs": [
    {
     "data": {
      "text/plain": [
       "'5-10'"
      ]
     },
     "execution_count": 145,
     "metadata": {},
     "output_type": "execute_result"
    }
   ],
   "source": [
    "# class width\n",
    "class_[int(len(class_) / 2)]"
   ]
  },
  {
   "cell_type": "code",
   "execution_count": 146,
   "id": "21aa0108-f40b-4610-8a56-6d3a2f661605",
   "metadata": {},
   "outputs": [
    {
     "data": {
      "text/plain": [
       "['5', '10']"
      ]
     },
     "execution_count": 146,
     "metadata": {},
     "output_type": "execute_result"
    }
   ],
   "source": [
    "class_[int(len(class_) / 2)].split('-')"
   ]
  },
  {
   "cell_type": "code",
   "execution_count": 147,
   "id": "54992268-d073-4841-972f-a75e606c42d0",
   "metadata": {},
   "outputs": [
    {
     "data": {
      "text/plain": [
       "[5, 10]"
      ]
     },
     "execution_count": 147,
     "metadata": {},
     "output_type": "execute_result"
    }
   ],
   "source": [
    "# change to int\n",
    "[int(i) for i in class_[int(len(class_) / 2)].split('-')]"
   ]
  },
  {
   "cell_type": "code",
   "execution_count": 148,
   "id": "cf0a00b5-b298-49f7-a23e-b9b1fab6a22c",
   "metadata": {},
   "outputs": [
    {
     "name": "stdout",
     "output_type": "stream",
     "text": [
      "10 5\n"
     ]
    }
   ],
   "source": [
    "lower = min([int(i) for i in class_[int(len(class_) / 2)].split('-')])\n",
    "upper = max([int(i) for i in class_[int(len(class_) / 2)].split('-')])\n",
    "print(upper,lower)"
   ]
  },
  {
   "cell_type": "code",
   "execution_count": 149,
   "id": "b8deb8e3-f25c-4dcf-af68-826e9289d5a6",
   "metadata": {},
   "outputs": [
    {
     "data": {
      "text/plain": [
       "5"
      ]
     },
     "execution_count": 149,
     "metadata": {},
     "output_type": "execute_result"
    }
   ],
   "source": [
    "# find h\n",
    "h = upper - lower\n",
    "h"
   ]
  },
  {
   "cell_type": "code",
   "execution_count": 151,
   "id": "e6f5d9e5-eae2-4178-8313-59a4ebe70312",
   "metadata": {},
   "outputs": [
    {
     "data": {
      "text/plain": [
       "5"
      ]
     },
     "execution_count": 151,
     "metadata": {},
     "output_type": "execute_result"
    }
   ],
   "source": [
    "# find L\n",
    "L = lower\n",
    "L"
   ]
  },
  {
   "cell_type": "code",
   "execution_count": 152,
   "id": "9170f133-ab0a-4c30-8bd4-4cb870615f79",
   "metadata": {},
   "outputs": [
    {
     "data": {
      "text/plain": [
       "7.5"
      ]
     },
     "execution_count": 152,
     "metadata": {},
     "output_type": "execute_result"
    }
   ],
   "source": [
    "# formulae\n",
    "Median = L + ((N/2 - F) / f) * h\n",
    "Median"
   ]
  },
  {
   "cell_type": "markdown",
   "id": "264fbe5b-ae34-43df-b81f-2dacf529a099",
   "metadata": {},
   "source": [
    "<body style=\"font-family: Sans-serif;\">\n",
    "    <div style=\"color: black; font-size: 18px; font-style: oblique; text-shadow: 0 0 3px white, 0 0 1px black; padding: 20px;\">\n",
    "\n",
    "- Median for Group Data (if Data Points Sum (N) are Odd)\n",
    "\n",
    "<img src=\"./images/18.jpg\" style=\"width: 60%; display: block; margin-left: auto; margin-right: auto;\">"
   ]
  },
  {
   "cell_type": "code",
   "execution_count": 3,
   "id": "6eddedf1-caec-4f18-af13-e0ae6acf4e2e",
   "metadata": {},
   "outputs": [
    {
     "data": {
      "text/html": [
       "<div>\n",
       "<style scoped>\n",
       "    .dataframe tbody tr th:only-of-type {\n",
       "        vertical-align: middle;\n",
       "    }\n",
       "\n",
       "    .dataframe tbody tr th {\n",
       "        vertical-align: top;\n",
       "    }\n",
       "\n",
       "    .dataframe thead th {\n",
       "        text-align: right;\n",
       "    }\n",
       "</style>\n",
       "<table border=\"1\" class=\"dataframe\">\n",
       "  <thead>\n",
       "    <tr style=\"text-align: right;\">\n",
       "      <th></th>\n",
       "      <th>class</th>\n",
       "      <th>f</th>\n",
       "    </tr>\n",
       "  </thead>\n",
       "  <tbody>\n",
       "    <tr>\n",
       "      <th>0</th>\n",
       "      <td>0-10</td>\n",
       "      <td>2</td>\n",
       "    </tr>\n",
       "    <tr>\n",
       "      <th>1</th>\n",
       "      <td>10-20</td>\n",
       "      <td>3</td>\n",
       "    </tr>\n",
       "    <tr>\n",
       "      <th>2</th>\n",
       "      <td>20-30</td>\n",
       "      <td>3</td>\n",
       "    </tr>\n",
       "    <tr>\n",
       "      <th>3</th>\n",
       "      <td>30-40</td>\n",
       "      <td>1</td>\n",
       "    </tr>\n",
       "  </tbody>\n",
       "</table>\n",
       "</div>"
      ],
      "text/plain": [
       "   class  f\n",
       "0   0-10  2\n",
       "1  10-20  3\n",
       "2  20-30  3\n",
       "3  30-40  1"
      ]
     },
     "execution_count": 3,
     "metadata": {},
     "output_type": "execute_result"
    }
   ],
   "source": [
    "class_ = [\"0-10\",\"10-20\",\"20-30\",\"30-40\"]\n",
    "f = [2,3,3,1]\n",
    "df = pd.DataFrame({\"class\":class_,\"f\":f})\n",
    "df"
   ]
  },
  {
   "cell_type": "code",
   "execution_count": 9,
   "id": "1b49874d-5202-4c13-b7d7-a2b3bd46b9c3",
   "metadata": {},
   "outputs": [
    {
     "data": {
      "text/plain": [
       "[2, 5, 8, 9]"
      ]
     },
     "execution_count": 9,
     "metadata": {},
     "output_type": "execute_result"
    }
   ],
   "source": [
    "cm = [f[0]]\n",
    "for i in f[1:]:\n",
    "    cm.append(cm[-1]+i)\n",
    "cm"
   ]
  },
  {
   "cell_type": "code",
   "execution_count": 10,
   "id": "b2585096-d4cb-4e31-b3fc-5a849fc4e4b1",
   "metadata": {},
   "outputs": [
    {
     "data": {
      "text/html": [
       "<div>\n",
       "<style scoped>\n",
       "    .dataframe tbody tr th:only-of-type {\n",
       "        vertical-align: middle;\n",
       "    }\n",
       "\n",
       "    .dataframe tbody tr th {\n",
       "        vertical-align: top;\n",
       "    }\n",
       "\n",
       "    .dataframe thead th {\n",
       "        text-align: right;\n",
       "    }\n",
       "</style>\n",
       "<table border=\"1\" class=\"dataframe\">\n",
       "  <thead>\n",
       "    <tr style=\"text-align: right;\">\n",
       "      <th></th>\n",
       "      <th>class</th>\n",
       "      <th>f</th>\n",
       "      <th>cm</th>\n",
       "    </tr>\n",
       "  </thead>\n",
       "  <tbody>\n",
       "    <tr>\n",
       "      <th>0</th>\n",
       "      <td>0-10</td>\n",
       "      <td>2</td>\n",
       "      <td>2</td>\n",
       "    </tr>\n",
       "    <tr>\n",
       "      <th>1</th>\n",
       "      <td>10-20</td>\n",
       "      <td>3</td>\n",
       "      <td>5</td>\n",
       "    </tr>\n",
       "    <tr>\n",
       "      <th>2</th>\n",
       "      <td>20-30</td>\n",
       "      <td>3</td>\n",
       "      <td>8</td>\n",
       "    </tr>\n",
       "    <tr>\n",
       "      <th>3</th>\n",
       "      <td>30-40</td>\n",
       "      <td>1</td>\n",
       "      <td>9</td>\n",
       "    </tr>\n",
       "  </tbody>\n",
       "</table>\n",
       "</div>"
      ],
      "text/plain": [
       "   class  f  cm\n",
       "0   0-10  2   2\n",
       "1  10-20  3   5\n",
       "2  20-30  3   8\n",
       "3  30-40  1   9"
      ]
     },
     "execution_count": 10,
     "metadata": {},
     "output_type": "execute_result"
    }
   ],
   "source": [
    "df['cm'] = cm\n",
    "df"
   ]
  },
  {
   "cell_type": "code",
   "execution_count": 11,
   "id": "2baf24fb-8b12-4646-9ef3-41abf728f60f",
   "metadata": {},
   "outputs": [
    {
     "data": {
      "text/plain": [
       "0    2\n",
       "1    5\n",
       "2    8\n",
       "3    9\n",
       "Name: f, dtype: int64"
      ]
     },
     "execution_count": 11,
     "metadata": {},
     "output_type": "execute_result"
    }
   ],
   "source": [
    "# with pandas\n",
    "df['f'].cumsum()"
   ]
  },
  {
   "cell_type": "code",
   "execution_count": 15,
   "id": "c005619d-bc84-4515-b1e0-5acb392ae196",
   "metadata": {},
   "outputs": [
    {
     "data": {
      "text/plain": [
       "9"
      ]
     },
     "execution_count": 15,
     "metadata": {},
     "output_type": "execute_result"
    }
   ],
   "source": [
    "# find median class\n",
    "N = 0\n",
    "for i in f:\n",
    "    N += i\n",
    "N"
   ]
  },
  {
   "cell_type": "code",
   "execution_count": 67,
   "id": "d08c39af-a942-47e4-9065-3330e874ac59",
   "metadata": {},
   "outputs": [
    {
     "name": "stdout",
     "output_type": "stream",
     "text": [
      "4.5\n",
      "5 1\n"
     ]
    }
   ],
   "source": [
    "if N %2 == 1:\n",
    "    print(N/2)\n",
    "\n",
    "    # find middle class\n",
    "    for index,i in enumerate(cm):\n",
    "        if i >= N/2:\n",
    "            print(i,index)\n",
    "            break"
   ]
  },
  {
   "cell_type": "code",
   "execution_count": 68,
   "id": "e8a4f519-cab6-45ff-b88c-c2dcdd38b441",
   "metadata": {},
   "outputs": [
    {
     "data": {
      "text/plain": [
       "1"
      ]
     },
     "execution_count": 68,
     "metadata": {},
     "output_type": "execute_result"
    }
   ],
   "source": [
    "index"
   ]
  },
  {
   "cell_type": "code",
   "execution_count": 70,
   "id": "7ecc9d15-b2ae-4c67-a622-134b9a2a4280",
   "metadata": {},
   "outputs": [
    {
     "data": {
      "text/plain": [
       "3"
      ]
     },
     "execution_count": 70,
     "metadata": {},
     "output_type": "execute_result"
    }
   ],
   "source": [
    "# find f\n",
    "f = f[index]\n",
    "f"
   ]
  },
  {
   "cell_type": "code",
   "execution_count": 72,
   "id": "4d20d4a3-0396-49bc-89d9-c92379662001",
   "metadata": {},
   "outputs": [
    {
     "data": {
      "text/plain": [
       "2"
      ]
     },
     "execution_count": 72,
     "metadata": {},
     "output_type": "execute_result"
    }
   ],
   "source": [
    "# find F\n",
    "F = cm[index-1]\n",
    "F"
   ]
  },
  {
   "cell_type": "code",
   "execution_count": 75,
   "id": "420b1bfe-f566-4b20-a714-6f8eb5fc37c8",
   "metadata": {},
   "outputs": [
    {
     "data": {
      "text/plain": [
       "'10-20'"
      ]
     },
     "execution_count": 75,
     "metadata": {},
     "output_type": "execute_result"
    }
   ],
   "source": [
    "# find upper and lower class\n",
    "class_[index]"
   ]
  },
  {
   "cell_type": "code",
   "execution_count": 78,
   "id": "d32fb4bf-b57b-46dc-8d2f-8e8cefe55e0a",
   "metadata": {},
   "outputs": [
    {
     "data": {
      "text/plain": [
       "[10, 20]"
      ]
     },
     "execution_count": 78,
     "metadata": {},
     "output_type": "execute_result"
    }
   ],
   "source": [
    "# convert into int\n",
    "mid_class = [int(i) for i in class_[index].split(\"-\")]\n",
    "mid_class"
   ]
  },
  {
   "cell_type": "code",
   "execution_count": 79,
   "id": "76fa779c-1722-4b1c-a46e-5ca848a35ece",
   "metadata": {},
   "outputs": [],
   "source": [
    "lower = min(mid_class)\n",
    "upper = max(mid_class)"
   ]
  },
  {
   "cell_type": "code",
   "execution_count": 80,
   "id": "a55d0cf7-9a95-46ab-b579-e2b8fce6c9c7",
   "metadata": {},
   "outputs": [
    {
     "data": {
      "text/plain": [
       "10"
      ]
     },
     "execution_count": 80,
     "metadata": {},
     "output_type": "execute_result"
    }
   ],
   "source": [
    "# find h\n",
    "h = upper - lower\n",
    "h"
   ]
  },
  {
   "cell_type": "code",
   "execution_count": 81,
   "id": "d7817e40-7838-48af-863b-952d95b84f24",
   "metadata": {},
   "outputs": [
    {
     "data": {
      "text/plain": [
       "10"
      ]
     },
     "execution_count": 81,
     "metadata": {},
     "output_type": "execute_result"
    }
   ],
   "source": [
    "L = lower\n",
    "L"
   ]
  },
  {
   "cell_type": "code",
   "execution_count": 82,
   "id": "ab4f7540-0e61-4758-aca3-d21cffc4bf27",
   "metadata": {},
   "outputs": [
    {
     "data": {
      "text/plain": [
       "18.333333333333336"
      ]
     },
     "execution_count": 82,
     "metadata": {},
     "output_type": "execute_result"
    }
   ],
   "source": [
    "# find median\n",
    "L + (N/2 - F)/f * h"
   ]
  },
  {
   "cell_type": "markdown",
   "id": "0bc69e7c-c725-4225-b9bc-17a406ecfb7a",
   "metadata": {},
   "source": [
    "<body style=\"font-family: Sans-serif;\">\n",
    "    <div style=\"color: black; font-size: 18px; font-style: oblique; text-shadow: 0 0 3px white, 0 0 1px black; padding: 20px;\">\n",
    "\n",
    "## -> Median Examples "
   ]
  },
  {
   "cell_type": "markdown",
   "id": "bddc7562-fa91-4f36-b4cd-5bdc1d7194fc",
   "metadata": {},
   "source": [
    "<body style=\"font-family: Sans-serif;\">\n",
    "    <div style=\"color: black; font-size: 18px; font-style: oblique; text-shadow: 0 0 3px white, 0 0 1px black; padding: 20px;\">\n",
    "\n",
    "- Use of Median\n",
    "    - Median sahi salary level dikhata hai ya nahi jab data balanced ho ya biased (CEO outlier ho).\n",
    " \n",
    "    <br>\n",
    "\n",
    "    - Median = middle value (jab data ko sort kar do)\n",
    "    - Odd count: beech wali value\n",
    "    - Even count: 2 beech wali ka average"
   ]
  },
  {
   "cell_type": "code",
   "execution_count": 15,
   "id": "3d42ba4f-9e97-4e84-9da4-5e41f1d1ff3f",
   "metadata": {},
   "outputs": [],
   "source": [
    "# Balanced salaries: sab qareeb qareeb\n",
    "salaries_balanced = [40000, 42000, 45000, 47000, 50000, 52000, 55000]\n",
    "\n",
    "# Biased salaries: CEO ki salary outlier hai\n",
    "salaries_biased = [30000, 32000, 35000, 38000, 40000, 42000, 300000]"
   ]
  },
  {
   "cell_type": "code",
   "execution_count": 16,
   "id": "e91a7193-0169-454c-9d47-bcc9f4a0258f",
   "metadata": {},
   "outputs": [
    {
     "name": "stdout",
     "output_type": "stream",
     "text": [
      "47000.0 38000.0\n"
     ]
    }
   ],
   "source": [
    "# Median calculate karo\n",
    "median_bal = np.median(salaries_balanced)\n",
    "median_bias = np.median(salaries_biased)\n",
    "\n",
    "print(median_bal,median_bias)"
   ]
  },
  {
   "cell_type": "code",
   "execution_count": 17,
   "id": "90d8be7f-2a4f-426d-b320-c05de184303b",
   "metadata": {},
   "outputs": [
    {
     "data": {
      "image/png": "[encoded data removed]",
      "text/plain": [
       "<Figure size 1400x500 with 2 Axes>"
      ]
     },
     "metadata": {},
     "output_type": "display_data"
    }
   ],
   "source": [
    "# Plotting\n",
    "fig, axs = plt.subplots(1, 2, figsize=(14, 5))\n",
    "\n",
    "# Balanced\n",
    "axs[0].bar(range(len(salaries_balanced)), salaries_balanced, color='skyblue')\n",
    "axs[0].axhline(median_bal, color='red', linestyle='--', label=f'Median = {median_bal:,.0f}')\n",
    "axs[0].set_title(\"Balanced Salaries\")\n",
    "axs[0].set_xlabel(\"Employee\")\n",
    "axs[0].set_ylabel(\"Salary\")\n",
    "axs[0].legend()\n",
    "axs[0].grid(True)\n",
    "\n",
    "# Biased\n",
    "axs[1].bar(range(len(salaries_biased)), salaries_biased, color='orange')\n",
    "axs[1].axhline(median_bias, color='red', linestyle='--', label=f'Median = {median_bias:,.0f}')\n",
    "axs[1].set_title(\"Biased Salaries (CEO = 300K)\")\n",
    "axs[1].set_xlabel(\"Employee\")\n",
    "axs[1].set_ylabel(\"Salary\")\n",
    "axs[1].legend()\n",
    "axs[1].grid(True)\n",
    "\n",
    "plt.suptitle(\"Median Salary Comparison: Balanced vs Biased\", fontsize=15)\n",
    "plt.tight_layout()\n",
    "plt.show()"
   ]
  },
  {
   "cell_type": "markdown",
   "id": "a97b9c96-ad70-4f1b-bd8c-81bbee6b8d7e",
   "metadata": {},
   "source": [
    "<body style=\"font-family: Sans-serif;\">\n",
    "    <div style=\"color: black; font-size: 18px; font-style: oblique; text-shadow: 0 0 3px white, 0 0 1px black; padding: 20px;\">\n",
    "\n",
    "<p style=\"text-align:center;\">Compare</p>\n",
    "\n",
    "| Feature                      | Balanced Data                         | Biased Data (CEO = 300K)                  |\n",
    "| ---------------------------- | ------------------------------------- | ----------------------------------------- |\n",
    "| **Salary Data**              | `[40K, 42K, 45K, 47K, 50K, 52K, 55K]` | `[30K, 32K, 35K, 38K, 40K, 42K, 300K]`    |\n",
    "| **Mean Salary**              | `47,000`                              | `73,571` ⚠ *(misleading due to CEO)*      |\n",
    "| **Median Salary**            | `47,000` ✅ *(true center)*            | `38,000` ✅ *(true center)*                |\n",
    "| **Extreme Value**            | ❌ Nahi                                | ✅ `300K (CEO)`                            |\n",
    "| **Mean Ka Reaction**         | ✅ Fair average                        | ❌ Biased → Overestimates average          |\n",
    "| **Median Ka Reaction**       | ✅ Center value                        | ✅ Center safe from outlier                |\n",
    "| **Result for Analysis**      | Mean & Median both valid              | **Median more reliable** than Mean        |\n",
    "| **ML Model Training**        | ✅ Mean use OK                         | ❌ Mean skew karega, ✅ Median best         |\n",
    "| **Real-life Interpretation** | Mean = company pays \\~47K avg         | Mean = \\~73K (false), Median = 38K (true) |\n"
   ]
  },
  {
   "cell_type": "markdown",
   "id": "711b4339-ff40-4a61-8504-2d62a06c9690",
   "metadata": {},
   "source": [
    "<body style=\"font-family: Sans-serif;\">\n",
    "    <div style=\"color: black; font-size: 18px; font-style: oblique; text-shadow: 0 0 3px white, 0 0 1px black; padding: 20px;\">\n",
    "\n",
    "| Comparison Point           | Mean                                      | Median                                     |\n",
    "| -------------------------- | ----------------------------------------- | ------------------------------------------ |\n",
    "| **Outlier se effect**      | ⚠️ Zyada hota hai                         | ✅ Safe rehta hai                           |\n",
    "| **Skewed data mein kaam?** | ❌ Mislead karta hai                       | ✅ Real picture deta hai                    |\n",
    "| **Balanced data mein?**    | ✅ Accurate center                         | ✅ Accurate center                          |\n",
    "| **Kya batata hai?**        | Total ka average (influenced by extremes) | Central position (independent of extremes) |\n"
   ]
  },
  {
   "cell_type": "markdown",
   "id": "2489a6c8-ef84-4246-805b-ebf61a5b5509",
   "metadata": {},
   "source": [
    "<body style=\"font-family: Sans-serif;\">\n",
    "    <div style=\"color: black; font-size: 18px; font-style: oblique; text-shadow: 0 0 3px white, 0 0 1px black; padding: 20px;\">\n",
    "\n",
    "<p style=\"text-align:center;\">Kab Mean aur Median Use Karna Chahiye?</p>\n",
    "\n",
    "| Situation / Condition                                       | Use **Mean** ✅     | Use **Median** ✅ | Reason / Explanation                                                    |\n",
    "| ----------------------------------------------------------- | ------------------ | ---------------- | ----------------------------------------------------------------------- |\n",
    "| ✅ Data **balanced ho** (no outliers)                        | ✅ Haan             | ✅ Haan           | Dono sahi kaam karte hain kyunki data fair hai                          |\n",
    "| ❌ Data mein **outliers ho** (extreme values)                | ❌ Nahi             | ✅ Median Best    | Mean outlier ki wajah se mislead karega, median safe hoti hai           |\n",
    "| ❌ Data **skewed** ho (uneven distribution)                  | ❌ Nahi             | ✅ Haan           | Median original center dikhata hai, mean distort ho jata hai            |\n",
    "| ✅ Normal Distribution (Bell curve)                          | ✅ Best             | ✅ Workable       | Mean aur median close hotay hain                                        |\n",
    "| ✅ Data ka **total ya average** important ho                 | ✅ Mean             | ❌ Nahi           | Jaise total salary / marks ka average chahiye                           |\n",
    "| ✅ Income, house price, age jaise **real-world biased data** | ❌ Nahi             | ✅ Haan           | Real-world data mein outliers hote hain, median zyada reliable hoti hai |\n",
    "| ✅ Machine Learning model ke liye **standardization**        | ✅ Mean + Std       | ❌ Nahi           | Mean zaroori hota hai (x - mean) standardization ke liye                |\n",
    "| ✅ Missing value fill karna ho                               | ❌ Nahi (if skewed) | ✅ Haan           | Median reliable hoti hai jab data skewed ya incomplete ho               |\n",
    "| ✅ Categorical ya ordinal data (e.g., survey ranks)          | ❌ Nahi             | ✅ Median         | Mean meaningful nahi hota, median middle rank dikhata hai               |\n"
   ]
  },
  {
   "cell_type": "markdown",
   "id": "05abf83e-fd31-414d-bcb4-4ec7718b315a",
   "metadata": {},
   "source": [
    "<body style=\"font-family: Sans-serif;\">\n",
    "    <div style=\"color: black; font-size: 18px; font-style: oblique; text-shadow: 0 0 3px white, 0 0 1px black; padding: 20px;\">\n",
    "\n",
    "- 3 Mode\n",
    "    - Mode wo value hoti hai jo sabse zyada baar repeat hoti hai data mein."
   ]
  },
  {
   "cell_type": "markdown",
   "id": "cf4832ff-c9e5-4a0f-9ed6-e3a73a81fc69",
   "metadata": {},
   "source": [
    "<body style=\"font-family: Sans-serif;\"><div style=\"color: black; font-size: 18px; font-style: oblique; text-shadow: 0 0 3px white, 0 0 1px black; padding: 20px;\">\n",
    "\n",
    "- Example 1: (Ungroup)"
   ]
  },
  {
   "cell_type": "code",
   "execution_count": 85,
   "id": "30635b8e-9906-4bac-93af-b39533c240a4",
   "metadata": {},
   "outputs": [
    {
     "data": {
      "text/plain": [
       "[4, 7, 7, 2, 9]"
      ]
     },
     "execution_count": 85,
     "metadata": {},
     "output_type": "execute_result"
    }
   ],
   "source": [
    "data = [4, 7, 7, 2, 9]\n",
    "data"
   ]
  },
  {
   "cell_type": "markdown",
   "id": "f2be1096-7143-46ef-8aa9-afb6184a8b06",
   "metadata": {},
   "source": [
    "<body style=\"font-family: Sans-serif;\"><div style=\"color: black; font-size: 18px; font-style: oblique; text-shadow: 0 0 3px white, 0 0 1px black; padding: 20px;\">\n",
    "\n",
    "    ➡️ Total values = 5 → Odd"
   ]
  },
  {
   "cell_type": "code",
   "execution_count": 92,
   "id": "c04a9009-aafe-4d4f-871d-ffead179527a",
   "metadata": {},
   "outputs": [
    {
     "name": "stdout",
     "output_type": "stream",
     "text": [
      "4 -> 1\n",
      "7 -> 2\n",
      "2 -> 1\n",
      "9 -> 1\n"
     ]
    }
   ],
   "source": [
    "tmp = []\n",
    "for i in data:\n",
    "    if i not in tmp:\n",
    "        tmp.append(i)\n",
    "        print(i,\"->\",data.count(i))"
   ]
  },
  {
   "cell_type": "markdown",
   "id": "8da1b9d9-cdfc-4a9c-ba84-616ca3e6dcf4",
   "metadata": {},
   "source": [
    "<body style=\"font-family: Sans-serif;\"><div style=\"color: black; font-size: 18px; font-style: oblique; text-shadow: 0 0 3px white, 0 0 1px black; padding: 20px;\">\n",
    "\n",
    "    ➡️ Mode = 7"
   ]
  },
  {
   "cell_type": "markdown",
   "id": "2147e6f1-5785-49c6-b738-6e8dd4c08db6",
   "metadata": {},
   "source": [
    "<body style=\"font-family: Sans-serif;\"><div style=\"color: black; font-size: 18px; font-style: oblique; text-shadow: 0 0 3px white, 0 0 1px black; padding: 20px;\">\n",
    "\n",
    "- Example 2: (Ungroup)"
   ]
  },
  {
   "cell_type": "code",
   "execution_count": 94,
   "id": "ce802636-d1e4-40d2-bb6e-37f036671754",
   "metadata": {},
   "outputs": [
    {
     "name": "stdout",
     "output_type": "stream",
     "text": [
      "3 -> 2\n",
      "5 -> 1\n",
      "2 -> 2\n",
      "8 -> 1\n"
     ]
    }
   ],
   "source": [
    "data = [3, 5, 2, 3, 8, 2]\n",
    "tmp = []\n",
    "for i in data:\n",
    "    if i not in tmp:\n",
    "        tmp.append(i)\n",
    "        print(i,\"->\",data.count(i))"
   ]
  },
  {
   "cell_type": "markdown",
   "id": "8ca61a06-0178-4403-ade3-45b483db997f",
   "metadata": {},
   "source": [
    "<body style=\"font-family: Sans-serif;\"><div style=\"color: black; font-size: 18px; font-style: oblique; text-shadow: 0 0 3px white, 0 0 1px black; padding: 20px;\">\n",
    "\n",
    "    ➡️ Mode = 3 and 2 \n",
    "    Type (Bimodal)"
   ]
  },
  {
   "cell_type": "markdown",
   "id": "de0c375a-0a5b-4359-9bba-19e2fa5bed5b",
   "metadata": {},
   "source": [
    "<body style=\"font-family: Sans-serif;\"><div style=\"color: black; font-size: 18px; font-style: oblique; text-shadow: 0 0 3px white, 0 0 1px black; padding: 20px;\">\n",
    "\n",
    "- Example 3: (Ungroup)"
   ]
  },
  {
   "cell_type": "code",
   "execution_count": 96,
   "id": "c5877146-5540-4cf2-b994-fb50f7ab5060",
   "metadata": {},
   "outputs": [
    {
     "name": "stdout",
     "output_type": "stream",
     "text": [
      "1 -> 1\n",
      "2 -> 1\n",
      "3 -> 1\n",
      "4 -> 1\n",
      "5 -> 1\n"
     ]
    }
   ],
   "source": [
    "data = [1, 2, 3, 4, 5]\n",
    "tmp = []\n",
    "for i in data:\n",
    "    if i not in tmp:\n",
    "        tmp.append(i)\n",
    "        print(i,\"->\",data.count(i))"
   ]
  },
  {
   "cell_type": "markdown",
   "id": "86737baa-842a-4eca-933a-f3b98e954df3",
   "metadata": {},
   "source": [
    "<body style=\"font-family: Sans-serif;\"><div style=\"color: black; font-size: 18px; font-style: oblique; text-shadow: 0 0 3px white, 0 0 1px black; padding: 20px;\">\n",
    "\n",
    "    ➡️ No Mode"
   ]
  },
  {
   "cell_type": "code",
   "execution_count": 98,
   "id": "92a70877-8aa8-4e4a-b9fa-e04f46e7586e",
   "metadata": {},
   "outputs": [
    {
     "name": "stdout",
     "output_type": "stream",
     "text": [
      "1 -> 2\n",
      "2 -> 2\n",
      "3 -> 2\n"
     ]
    }
   ],
   "source": [
    "data = [1, 1, 2, 2, 3, 3]\n",
    "tmp = []\n",
    "for i in data:\n",
    "    if i not in tmp:\n",
    "        tmp.append(i)\n",
    "        print(i,\"->\",data.count(i))"
   ]
  },
  {
   "cell_type": "markdown",
   "id": "208a2045-93a1-49f7-8b68-0ae04deb9b25",
   "metadata": {},
   "source": [
    "<body style=\"font-family: Sans-serif;\"><div style=\"color: black; font-size: 18px; font-style: oblique; text-shadow: 0 0 3px white, 0 0 1px black; padding: 20px;\">\n",
    "\n",
    "    ➡️ Mode = 1,2,3\n",
    "    Type (Multimodal)"
   ]
  },
  {
   "cell_type": "markdown",
   "id": "4625449c-fed5-487d-9df2-1719333489f8",
   "metadata": {},
   "source": [
    "<body style=\"font-family: Sans-serif;\">\n",
    "    <div style=\"color: black; font-size: 18px; font-style: oblique; text-shadow: 0 0 3px white, 0 0 1px black; padding: 20px;\">\n",
    "\n",
    "- Mode For Group Data\n",
    "<img src=\"./images/19.jpg\" style=\"width: 60%; display: block; margin-left: auto; margin-right: auto;\">"
   ]
  },
  {
   "cell_type": "code",
   "execution_count": 100,
   "id": "b8f1b38a-4fe4-4939-8767-c6b4d68cccd1",
   "metadata": {},
   "outputs": [
    {
     "data": {
      "text/html": [
       "<div>\n",
       "<style scoped>\n",
       "    .dataframe tbody tr th:only-of-type {\n",
       "        vertical-align: middle;\n",
       "    }\n",
       "\n",
       "    .dataframe tbody tr th {\n",
       "        vertical-align: top;\n",
       "    }\n",
       "\n",
       "    .dataframe thead th {\n",
       "        text-align: right;\n",
       "    }\n",
       "</style>\n",
       "<table border=\"1\" class=\"dataframe\">\n",
       "  <thead>\n",
       "    <tr style=\"text-align: right;\">\n",
       "      <th></th>\n",
       "      <th>class</th>\n",
       "      <th>f</th>\n",
       "    </tr>\n",
       "  </thead>\n",
       "  <tbody>\n",
       "    <tr>\n",
       "      <th>0</th>\n",
       "      <td>0-10</td>\n",
       "      <td>4</td>\n",
       "    </tr>\n",
       "    <tr>\n",
       "      <th>1</th>\n",
       "      <td>10-20</td>\n",
       "      <td>7</td>\n",
       "    </tr>\n",
       "    <tr>\n",
       "      <th>2</th>\n",
       "      <td>20-30</td>\n",
       "      <td>12</td>\n",
       "    </tr>\n",
       "    <tr>\n",
       "      <th>3</th>\n",
       "      <td>30-40</td>\n",
       "      <td>5</td>\n",
       "    </tr>\n",
       "    <tr>\n",
       "      <th>4</th>\n",
       "      <td>40-50</td>\n",
       "      <td>2</td>\n",
       "    </tr>\n",
       "  </tbody>\n",
       "</table>\n",
       "</div>"
      ],
      "text/plain": [
       "   class   f\n",
       "0   0-10   4\n",
       "1  10-20   7\n",
       "2  20-30  12\n",
       "3  30-40   5\n",
       "4  40-50   2"
      ]
     },
     "execution_count": 100,
     "metadata": {},
     "output_type": "execute_result"
    }
   ],
   "source": [
    "class_ = [\"0-10\",\"10-20\",\"20-30\",\"30-40\",\"40-50\"]\n",
    "f = [4,7,12,5,2]\n",
    "df = pd.DataFrame({\"class\":class_,\"f\":f})\n",
    "df"
   ]
  },
  {
   "cell_type": "code",
   "execution_count": 110,
   "id": "59a1e7b8-6a24-4ed3-b9a0-241a3cb0c9cd",
   "metadata": {},
   "outputs": [
    {
     "name": "stdout",
     "output_type": "stream",
     "text": [
      "4\n",
      "7\n",
      "12\n"
     ]
    }
   ],
   "source": [
    "# find high frequency class\n",
    "tmp = 0\n",
    "INDEX = 0\n",
    "for index,i in enumerate(f):\n",
    "    if i > tmp:\n",
    "        tmp = i\n",
    "        INDEX = index\n",
    "        print(i)"
   ]
  },
  {
   "cell_type": "code",
   "execution_count": 111,
   "id": "97eb64e7-046f-43b8-8c8c-523e0a182291",
   "metadata": {},
   "outputs": [
    {
     "name": "stdout",
     "output_type": "stream",
     "text": [
      "2 12\n"
     ]
    }
   ],
   "source": [
    "print(INDEX,tmp)"
   ]
  },
  {
   "cell_type": "code",
   "execution_count": 112,
   "id": "d2bfe397-463b-40a5-bfe4-1b15c08986b0",
   "metadata": {},
   "outputs": [
    {
     "data": {
      "text/plain": [
       "12"
      ]
     },
     "execution_count": 112,
     "metadata": {},
     "output_type": "execute_result"
    }
   ],
   "source": [
    "f[INDEX]"
   ]
  },
  {
   "cell_type": "code",
   "execution_count": 113,
   "id": "44e137e1-fd2f-482a-abe3-33f7d5bbbd49",
   "metadata": {},
   "outputs": [
    {
     "data": {
      "text/plain": [
       "'20-30'"
      ]
     },
     "execution_count": 113,
     "metadata": {},
     "output_type": "execute_result"
    }
   ],
   "source": [
    "class_[INDEX]"
   ]
  },
  {
   "cell_type": "code",
   "execution_count": 118,
   "id": "e99935e4-2fd6-40f8-985f-8c3634ff0308",
   "metadata": {},
   "outputs": [],
   "source": [
    "mid_class = [int(i) for i in class_[INDEX].split('-')]\n",
    "lower = min(mid_class)\n",
    "upper = max(mid_class)"
   ]
  },
  {
   "cell_type": "code",
   "execution_count": 122,
   "id": "05d93e27-24f1-468f-9652-80413f7d1100",
   "metadata": {},
   "outputs": [],
   "source": [
    "L = lower\n",
    "f1 = f[INDEX]\n",
    "f0 = f[INDEX-1]\n",
    "f2 = f[INDEX+1]\n",
    "h = upper - lower"
   ]
  },
  {
   "cell_type": "code",
   "execution_count": 123,
   "id": "f2aa8655-a958-4242-93bf-7f7930b8b343",
   "metadata": {},
   "outputs": [
    {
     "data": {
      "text/plain": [
       "24.166666666666668"
      ]
     },
     "execution_count": 123,
     "metadata": {},
     "output_type": "execute_result"
    }
   ],
   "source": [
    "Mode = L + ( (f1 - f0) / (2 * f1 - f0 - f2) ) * h\n",
    "Mode"
   ]
  },
  {
   "cell_type": "markdown",
   "id": "e42fa5d9-04de-420a-b1ec-6924c0d51850",
   "metadata": {},
   "source": [
    "<body style=\"font-family: Sans-serif;\">\n",
    "    <div style=\"color: black; font-size: 18px; font-style: oblique; text-shadow: 0 0 3px white, 0 0 1px black; padding: 20px;\">\n",
    "\n",
    "<table border=\"1\" cellspacing=\"0\" cellpadding=\"8\">\n",
    "  <thead>\n",
    "    <tr>\n",
    "      <th><b>Measure</b></th>\n",
    "      <th><b>Ungrouped Equation</b></th>\n",
    "      <th><b>Grouped Equation</b></th>\n",
    "      <th><b>Odd/Even Note</b></th>\n",
    "      <th><b>Sort Required?</b></th>\n",
    "      <th><b>Cumulative Frequency?</b></th>\n",
    "    </tr>\n",
    "  </thead>\n",
    "  <tbody>\n",
    "    <tr>\n",
    "      <td><b>Mean</b></td>\n",
    "      <td>Mean = (Σx) / n</td>\n",
    "      <td>Mean = (Σf·x) / Σf</td>\n",
    "      <td>No effect</td>\n",
    "      <td>❌ Nahi</td>\n",
    "      <td>❌ Nahi</td>\n",
    "    </tr>\n",
    "    <tr>\n",
    "      <td><b>Median</b></td>\n",
    "      <td>\n",
    "        Odd: x<sub>(n+1)/2</sub><br>\n",
    "        Even: (x<sub>n/2</sub> + x<sub>(n/2)+1</sub>) / 2\n",
    "      </td>\n",
    "      <td>Median = L + ((N/2 - F) / f) × h</td>\n",
    "      <td>N/2 se class locate karni hoti hai</td>\n",
    "      <td>✅ Haan</td>\n",
    "      <td>✅ Haan (Grouped only)</td>\n",
    "    </tr>\n",
    "    <tr>\n",
    "      <td><b>Mode</b></td>\n",
    "      <td>Most repeated value</td>\n",
    "      <td>Mode = L + ((f₁ - f₀) / (2f₁ - f₀ - f₂)) × h</td>\n",
    "      <td>No effect</td>\n",
    "      <td>❌ Nahi</td>\n",
    "      <td>❌ Nahi</td>\n",
    "    </tr>\n",
    "  </tbody>\n",
    "</table>\n"
   ]
  },
  {
   "cell_type": "markdown",
   "id": "3198c1f9-7a81-4de3-a028-5d2e3d90cd28",
   "metadata": {},
   "source": [
    "<body style=\"font-family: Sans-serif;\">\n",
    "    <div style=\"color: black; font-size: 18px; font-style: oblique; text-shadow: 0 0 3px white, 0 0 1px black; padding: 20px;\">\n",
    "\n",
    "## -> Mode Examples "
   ]
  },
  {
   "cell_type": "markdown",
   "id": "3e5ee24c-182e-409b-bb01-6205766b5f45",
   "metadata": {},
   "source": [
    "<body style=\"font-family: Sans-serif;\">\n",
    "    <div style=\"color: black; font-size: 18px; font-style: oblique; text-shadow: 0 0 3px white, 0 0 1px black; padding: 20px;\">\n",
    "\n",
    "- Mode wo value hoti hai jo sabse zyada baar repeat hoti hai data mein.\n",
    "    - Ek dataset mein 1 mode ho sakta hai (unimodal)\n",
    "    - Ya zyada (bimodal, multimodal)\n",
    "    - Ya kabhi koi bhi repeat na ho to no mode"
   ]
  },
  {
   "cell_type": "code",
   "execution_count": 18,
   "id": "4c93508d-4b44-4e32-b682-bc05e9f2f6eb",
   "metadata": {},
   "outputs": [
    {
     "data": {
      "text/plain": [
       "['B', 'A', 'C', 'B', 'B', 'A', 'C', 'B']"
      ]
     },
     "execution_count": 18,
     "metadata": {},
     "output_type": "execute_result"
    }
   ],
   "source": [
    "grades = ['B', 'A', 'C', 'B', 'B', 'A', 'C', 'B']\n",
    "grades"
   ]
  },
  {
   "cell_type": "markdown",
   "id": "28c390cd-f011-45cb-a292-35d49a40b1a5",
   "metadata": {},
   "source": [
    "<body style=\"font-family: Sans-serif;\">\n",
    "    <div style=\"color: black; font-size: 18px; font-style: oblique; text-shadow: 0 0 3px white, 0 0 1px black; padding: 20px;\">\n",
    "\n",
    "- Mode = 'B' (kyunki 4 baar aayi)"
   ]
  },
  {
   "cell_type": "code",
   "execution_count": 19,
   "id": "92ac4cd4-182d-4112-9713-d8641c458a74",
   "metadata": {},
   "outputs": [
    {
     "data": {
      "text/plain": [
       "[7, 8, 8, 9, 7, 8, 10, 9, 8]"
      ]
     },
     "execution_count": 19,
     "metadata": {},
     "output_type": "execute_result"
    }
   ],
   "source": [
    "shoe_sizes = [7, 8, 8, 9, 7, 8, 10, 9, 8]\n",
    "shoe_sizes"
   ]
  },
  {
   "cell_type": "markdown",
   "id": "817f1a0b-9541-4a7e-bf68-8fee7f058c20",
   "metadata": {},
   "source": [
    "<body style=\"font-family: Sans-serif;\">\n",
    "    <div style=\"color: black; font-size: 18px; font-style: oblique; text-shadow: 0 0 3px white, 0 0 1px black; padding: 20px;\">\n",
    "\n",
    "- Mode = 8 (sabse zyada logon ka same size)"
   ]
  },
  {
   "cell_type": "code",
   "execution_count": 20,
   "id": "0e2f0733-b4f9-4722-95cb-58565c78dfac",
   "metadata": {},
   "outputs": [],
   "source": [
    "import matplotlib.pyplot as plt\n",
    "from collections import Counter\n",
    "import statistics\n"
   ]
  },
  {
   "cell_type": "code",
   "execution_count": 21,
   "id": "29acb60a-f468-499e-b298-98a57c801a3b",
   "metadata": {},
   "outputs": [
    {
     "data": {
      "image/png": "[encoded data removed]",
      "text/plain": [
       "<Figure size 640x480 with 1 Axes>"
      ]
     },
     "metadata": {},
     "output_type": "display_data"
    }
   ],
   "source": [
    "# Example dataset\n",
    "grades = ['B', 'A', 'C', 'B', 'B', 'A', 'C', 'B']\n",
    "\n",
    "# Count frequency\n",
    "count = Counter(grades)\n",
    "labels, values = zip(*count.items())\n",
    "\n",
    "# Mode calculate\n",
    "mode_val = statistics.mode(grades)\n",
    "\n",
    "# Plot\n",
    "plt.bar(labels, values, color='lightgreen')\n",
    "plt.axhline(y=values[labels.index(mode_val)], color='red', linestyle='--', label=f\"Mode = '{mode_val}'\")\n",
    "plt.title(\"Mode Example: Student Grades\")\n",
    "plt.xlabel(\"Grade\")\n",
    "plt.ylabel(\"Frequency\")\n",
    "plt.legend()\n",
    "plt.grid()\n",
    "plt.show()"
   ]
  },
  {
   "cell_type": "markdown",
   "id": "4f3fc4e8-a58a-480a-9c5d-1348368ae6ea",
   "metadata": {},
   "source": [
    "<body style=\"font-family: Sans-serif;\">\n",
    "    <div style=\"color: black; font-size: 18px; font-style: oblique; text-shadow: 0 0 3px white, 0 0 1px black; padding: 20px;\">\n",
    "\n",
    "\n",
    "| Feature              | Mean          | Median       | Mode                |\n",
    "| -------------------- | ------------- | ------------ | ------------------- |\n",
    "| Kya batata hai?      | Average value | Middle value | Most frequent value |\n",
    "| Outlier sensitive?   | ✅ Yes         | ❌ No         | ❌ No                |\n",
    "| Categorical pe kaam? | ❌ Nahi        | ❌ Limited    | ✅ Perfect           |\n",
    "| Numerical data?      | ✅ Yes         | ✅ Yes        | ✅ Yes               |\n"
   ]
  },
  {
   "cell_type": "markdown",
   "id": "8a789e54-8019-4324-a877-5a8587844fd0",
   "metadata": {},
   "source": [
    "<body style=\"font-family: Sans-serif;\">\n",
    "    <div style=\"color: black; font-size: 18px; font-style: oblique; text-shadow: 0 0 3px white, 0 0 1px black; padding: 20px;\">\n",
    "\n",
    "\n",
    "| Condition / Situation                            | ✅ Use Mean | ✅ Use Median | ✅ Use Mode | 🔎 Explanation                                            |\n",
    "| ------------------------------------------------ | ---------- | ------------ | ---------- | --------------------------------------------------------- |\n",
    "| 📈 **Balanced numerical data**                   | ✅ Yes      | ✅ Yes        | ❌ Rarely   | Mean aur Median dono accurate center dikhate hain         |\n",
    "| ⚠️ **Data mein outliers hon (e.g. CEO salary)**  | ❌ No       | ✅ Yes        | ❌ Maybe    | Median zyada reliable hoti hai                            |\n",
    "| 🔀 **Skewed (uneven) data**                      | ❌ No       | ✅ Yes        | ❌ No       | Median real center show karta hai                         |\n",
    "| 📉 **Normal (bell-shaped) distribution**         | ✅ Yes      | ✅ Yes        | ✅ Maybe    | Sab close hotay hain — koi bhi kaam kar sakta hai         |\n",
    "| 🔡 **Categorical data (e.g. Shirt, Pant)**       | ❌ No       | ❌ No         | ✅ Yes      | Mode hi kaam karta hai — most frequent value              |\n",
    "| 🧩 **Ordinal data (e.g. Poor, Good, Excellent)** | ❌ No       | ✅ Yes        | ✅ Yes      | Median + Mode dono useful — average rank ya most frequent |\n",
    "| 🧼 **Missing value fill — numerical balanced**   | ✅ Yes      | ✅ Yes        | ❌ No       | Mean ya Median use hoti hain                              |\n",
    "| 🧼 **Missing value fill — skewed/outlier data**  | ❌ No       | ✅ Yes        | ❌ No       | Median safe hoti hai from distortion                      |\n",
    "| 🧼 **Missing value fill — categorical**          | ❌ No       | ❌ No         | ✅ Yes      | Mode sabse zyada common value fill karta hai              |\n",
    "| 🧮 **Data center chahiye (center of tendency)**  | ✅ Yes      | ✅ Yes        | ❌ No       | Center ke liye mean/median better hotay hain              |\n",
    "| 📊 **Data summary (quick idea)**                 | ✅ Yes      | ✅ Yes        | ✅ Yes      | Teeno ka use ek sath bhi hota hai                         |\n",
    "| 🤖 **ML: Standardization (x - mean / std)**      | ✅ Required | ❌ No         | ❌ No       | Mean required hota hai Standard Scaler ke liye            |\n",
    "| 🤖 **ML: Robust Scaler / Skewed Data**           | ❌ No       | ✅ Yes        | ❌ No       | Median based scaling zyada stable hoti hai                |\n",
    "| 🧠 **User behavior ya product trend analysis**   | ❌ No       | ❌ No         | ✅ Yes      | Mode se most common item find hota hai                    |\n"
   ]
  }
 ],
 "metadata": {
  "kernelspec": {
   "display_name": "Python 3 (ipykernel)",
   "language": "python",
   "name": "python3"
  },
  "language_info": {
   "codemirror_mode": {
    "name": "ipython",
    "version": 3
   },
   "file_extension": ".py",
   "mimetype": "text/x-python",
   "name": "python",
   "nbconvert_exporter": "python",
   "pygments_lexer": "ipython3",
   "version": "3.12.11"
  },
  "widgets": {
   "application/vnd.jupyter.widget-state+json": {
    "state": {},
    "version_major": 2,
    "version_minor": 0
   }
  }
 },
 "nbformat": 4,
 "nbformat_minor": 5
}
